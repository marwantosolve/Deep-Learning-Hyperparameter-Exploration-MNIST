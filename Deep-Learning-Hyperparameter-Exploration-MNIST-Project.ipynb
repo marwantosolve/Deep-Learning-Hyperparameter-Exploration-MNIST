{
  "cells": [
    {
      "cell_type": "markdown",
      "metadata": {
        "id": "view-in-github",
        "colab_type": "text"
      },
      "source": [
        "<a href=\"https://colab.research.google.com/github/marwantosolve/Deep-Learning-Hyperparameter-Exploration-MNIST/blob/main/Deep-Learning-Hyperparameter-Exploration-MNIST-Project.ipynb\" target=\"_parent\"><img src=\"https://colab.research.google.com/assets/colab-badge.svg\" alt=\"Open In Colab\"/></a>"
      ]
    },
    {
      "cell_type": "markdown",
      "id": "6409ebc7",
      "metadata": {
        "id": "6409ebc7"
      },
      "source": [
        "# Deep-Learning-Hyperparameter-Exploration-MNIST Project"
      ]
    },
    {
      "cell_type": "markdown",
      "id": "4d8d58f4",
      "metadata": {
        "lines_to_next_cell": 2,
        "id": "4d8d58f4"
      },
      "source": [
        "## Step 1: Setup & Baseline Models\n",
        "- Set up shared Google Colab notebook\n",
        "- Load MNIST dataset (shape 28x28)\n",
        "- Shuffle dataset\n",
        "- Implement basic ANN\n",
        "- Implement SVM\n",
        "- Document accuracy, layers, params, train/test time for both"
      ]
    },
    {
      "cell_type": "markdown",
      "source": [
        "### load the dataset"
      ],
      "metadata": {
        "id": "BIsUgZn8VKig"
      },
      "id": "BIsUgZn8VKig"
    },
    {
      "cell_type": "code",
      "execution_count": 1,
      "id": "8ed3c757",
      "metadata": {
        "id": "8ed3c757"
      },
      "outputs": [],
      "source": [
        "# Import necessary libraries\n",
        "import tensorflow as tf\n",
        "from tensorflow.keras.datasets import mnist\n",
        "from tensorflow.keras.models import Sequential\n",
        "from tensorflow.keras.layers import Dense, Flatten, Conv2D, MaxPooling2D\n",
        "from tensorflow.keras.utils import to_categorical\n",
        "from sklearn.svm import SVC\n",
        "from sklearn.metrics import accuracy_score\n",
        "import numpy as np\n",
        "import time\n",
        "from tensorflow.keras.optimizers import SGD\n",
        "from tensorflow.keras.layers import Dropout\n",
        "from tensorflow.keras.optimizers import Adam, RMSprop\n",
        "import matplotlib.pyplot as plt\n",
        "from sklearn.model_selection import train_test_split\n"
      ]
    },
    {
      "cell_type": "code",
      "execution_count": 2,
      "id": "3cd4e591",
      "metadata": {
        "id": "3cd4e591",
        "colab": {
          "base_uri": "https://localhost:8080/"
        },
        "outputId": "add9d6b0-2342-43dd-96a6-186326779e97"
      },
      "outputs": [
        {
          "output_type": "stream",
          "name": "stdout",
          "text": [
            "Downloading data from https://storage.googleapis.com/tensorflow/tf-keras-datasets/mnist.npz\n",
            "\u001b[1m11490434/11490434\u001b[0m \u001b[32m━━━━━━━━━━━━━━━━━━━━\u001b[0m\u001b[37m\u001b[0m \u001b[1m0s\u001b[0m 0us/step\n"
          ]
        }
      ],
      "source": [
        "# Load MNIST dataset\n",
        "(x_train, y_train), (x_test, y_test) = mnist.load_data()"
      ]
    },
    {
      "cell_type": "markdown",
      "source": [
        "### basic exploratory insights about the data"
      ],
      "metadata": {
        "id": "C2yv3O4DVWOd"
      },
      "id": "C2yv3O4DVWOd"
    },
    {
      "cell_type": "code",
      "source": [
        "print(\"x_train shape:\", x_train.shape)\n",
        "print(\"y_train shape:\", y_train.shape)\n",
        "print(\"x_test shape:\", x_test.shape)\n",
        "print(\"y_test shape:\", y_test.shape)\n"
      ],
      "metadata": {
        "colab": {
          "base_uri": "https://localhost:8080/"
        },
        "id": "4Sniio4rU3BL",
        "outputId": "bf2955f0-4204-44fe-d1d7-9cf4dc14e7da"
      },
      "id": "4Sniio4rU3BL",
      "execution_count": 4,
      "outputs": [
        {
          "output_type": "stream",
          "name": "stdout",
          "text": [
            "x_train shape: (60000, 28, 28)\n",
            "y_train shape: (60000,)\n",
            "x_test shape: (10000, 28, 28)\n",
            "y_test shape: (10000,)\n"
          ]
        }
      ]
    },
    {
      "cell_type": "code",
      "source": [
        "plt.imshow(x_train[0], cmap='gray')\n",
        "plt.title(f\"Label: {y_train[0]}\")\n",
        "plt.show()\n"
      ],
      "metadata": {
        "colab": {
          "base_uri": "https://localhost:8080/",
          "height": 452
        },
        "id": "qtEZLwNfVgHb",
        "outputId": "2f6f6065-0e6b-4268-9501-c6bdef861981"
      },
      "id": "qtEZLwNfVgHb",
      "execution_count": 7,
      "outputs": [
        {
          "output_type": "display_data",
          "data": {
            "text/plain": [
              "<Figure size 640x480 with 1 Axes>"
            ],
            "image/png": "[encoded data removed]"
          },
          "metadata": {}
        }
      ]
    },
    {
      "cell_type": "code",
      "source": [
        "print(\"Data type:\", x_train.dtype)\n",
        "print(\"Pixel range: min =\", x_train.min(), \", max =\", x_train.max())\n"
      ],
      "metadata": {
        "colab": {
          "base_uri": "https://localhost:8080/"
        },
        "id": "pEZdlUcoWDuH",
        "outputId": "61383fd9-56c0-48c2-c1cd-49eeb7e176a6"
      },
      "id": "pEZdlUcoWDuH",
      "execution_count": 9,
      "outputs": [
        {
          "output_type": "stream",
          "name": "stdout",
          "text": [
            "Data type: uint8\n",
            "Pixel range: min = 0 , max = 255\n"
          ]
        }
      ]
    },
    {
      "cell_type": "code",
      "source": [
        "import numpy as np\n",
        "unique, counts = np.unique(y_train, return_counts=True)\n",
        "print(\"Label distribution in training set:\")\n",
        "for label, count in zip(unique, counts):\n",
        "    print(f\"Digit {label}: {count} samples\")\n"
      ],
      "metadata": {
        "colab": {
          "base_uri": "https://localhost:8080/"
        },
        "id": "8tJrGXUpWIOC",
        "outputId": "97c176b9-3f79-4b0b-9e93-7b782f232114"
      },
      "id": "8tJrGXUpWIOC",
      "execution_count": 10,
      "outputs": [
        {
          "output_type": "stream",
          "name": "stdout",
          "text": [
            "Label distribution in training set:\n",
            "Digit 0: 5923 samples\n",
            "Digit 1: 6742 samples\n",
            "Digit 2: 5958 samples\n",
            "Digit 3: 6131 samples\n",
            "Digit 4: 5842 samples\n",
            "Digit 5: 5421 samples\n",
            "Digit 6: 5918 samples\n",
            "Digit 7: 6265 samples\n",
            "Digit 8: 5851 samples\n",
            "Digit 9: 5949 samples\n"
          ]
        }
      ]
    },
    {
      "cell_type": "markdown",
      "source": [
        "### ANN"
      ],
      "metadata": {
        "id": "o6z8zjiQXroV"
      },
      "id": "o6z8zjiQXroV"
    },
    {
      "cell_type": "code",
      "execution_count": 3,
      "id": "c9926f05",
      "metadata": {
        "id": "c9926f05",
        "colab": {
          "base_uri": "https://localhost:8080/",
          "height": 557
        },
        "outputId": "2feac0e1-f373-4446-c784-b0b897df855a"
      },
      "outputs": [
        {
          "output_type": "stream",
          "name": "stdout",
          "text": [
            "--- Step 1: A) Basic ANN ---\n"
          ]
        },
        {
          "output_type": "stream",
          "name": "stderr",
          "text": [
            "/usr/local/lib/python3.11/dist-packages/keras/src/layers/reshaping/flatten.py:37: UserWarning: Do not pass an `input_shape`/`input_dim` argument to a layer. When using Sequential models, prefer using an `Input(shape)` object as the first layer in the model instead.\n",
            "  super().__init__(**kwargs)\n"
          ]
        },
        {
          "output_type": "display_data",
          "data": {
            "text/plain": [
              "\u001b[1mModel: \"sequential\"\u001b[0m\n"
            ],
            "text/html": [
              "<pre style=\"white-space:pre;overflow-x:auto;line-height:normal;font-family:Menlo,'DejaVu Sans Mono',consolas,'Courier New',monospace\"><span style=\"font-weight: bold\">Model: \"sequential\"</span>\n",
              "</pre>\n"
            ]
          },
          "metadata": {}
        },
        {
          "output_type": "display_data",
          "data": {
            "text/plain": [
              "┏━━━━━━━━━━━━━━━━━━━━━━━━━━━━━━━━━┳━━━━━━━━━━━━━━━━━━━━━━━━┳━━━━━━━━━━━━━━━┓\n",
              "┃\u001b[1m \u001b[0m\u001b[1mLayer (type)                   \u001b[0m\u001b[1m \u001b[0m┃\u001b[1m \u001b[0m\u001b[1mOutput Shape          \u001b[0m\u001b[1m \u001b[0m┃\u001b[1m \u001b[0m\u001b[1m      Param #\u001b[0m\u001b[1m \u001b[0m┃\n",
              "┡━━━━━━━━━━━━━━━━━━━━━━━━━━━━━━━━━╇━━━━━━━━━━━━━━━━━━━━━━━━╇━━━━━━━━━━━━━━━┩\n",
              "│ flatten (\u001b[38;5;33mFlatten\u001b[0m)               │ (\u001b[38;5;45mNone\u001b[0m, \u001b[38;5;34m784\u001b[0m)            │             \u001b[38;5;34m0\u001b[0m │\n",
              "├─────────────────────────────────┼────────────────────────┼───────────────┤\n",
              "│ dense (\u001b[38;5;33mDense\u001b[0m)                   │ (\u001b[38;5;45mNone\u001b[0m, \u001b[38;5;34m128\u001b[0m)            │       \u001b[38;5;34m100,480\u001b[0m │\n",
              "├─────────────────────────────────┼────────────────────────┼───────────────┤\n",
              "│ dense_1 (\u001b[38;5;33mDense\u001b[0m)                 │ (\u001b[38;5;45mNone\u001b[0m, \u001b[38;5;34m10\u001b[0m)             │         \u001b[38;5;34m1,290\u001b[0m │\n",
              "└─────────────────────────────────┴────────────────────────┴───────────────┘\n"
            ],
            "text/html": [
              "<pre style=\"white-space:pre;overflow-x:auto;line-height:normal;font-family:Menlo,'DejaVu Sans Mono',consolas,'Courier New',monospace\">┏━━━━━━━━━━━━━━━━━━━━━━━━━━━━━━━━━┳━━━━━━━━━━━━━━━━━━━━━━━━┳━━━━━━━━━━━━━━━┓\n",
              "┃<span style=\"font-weight: bold\"> Layer (type)                    </span>┃<span style=\"font-weight: bold\"> Output Shape           </span>┃<span style=\"font-weight: bold\">       Param # </span>┃\n",
              "┡━━━━━━━━━━━━━━━━━━━━━━━━━━━━━━━━━╇━━━━━━━━━━━━━━━━━━━━━━━━╇━━━━━━━━━━━━━━━┩\n",
              "│ flatten (<span style=\"color: #0087ff; text-decoration-color: #0087ff\">Flatten</span>)               │ (<span style=\"color: #00d7ff; text-decoration-color: #00d7ff\">None</span>, <span style=\"color: #00af00; text-decoration-color: #00af00\">784</span>)            │             <span style=\"color: #00af00; text-decoration-color: #00af00\">0</span> │\n",
              "├─────────────────────────────────┼────────────────────────┼───────────────┤\n",
              "│ dense (<span style=\"color: #0087ff; text-decoration-color: #0087ff\">Dense</span>)                   │ (<span style=\"color: #00d7ff; text-decoration-color: #00d7ff\">None</span>, <span style=\"color: #00af00; text-decoration-color: #00af00\">128</span>)            │       <span style=\"color: #00af00; text-decoration-color: #00af00\">100,480</span> │\n",
              "├─────────────────────────────────┼────────────────────────┼───────────────┤\n",
              "│ dense_1 (<span style=\"color: #0087ff; text-decoration-color: #0087ff\">Dense</span>)                 │ (<span style=\"color: #00d7ff; text-decoration-color: #00d7ff\">None</span>, <span style=\"color: #00af00; text-decoration-color: #00af00\">10</span>)             │         <span style=\"color: #00af00; text-decoration-color: #00af00\">1,290</span> │\n",
              "└─────────────────────────────────┴────────────────────────┴───────────────┘\n",
              "</pre>\n"
            ]
          },
          "metadata": {}
        },
        {
          "output_type": "display_data",
          "data": {
            "text/plain": [
              "\u001b[1m Total params: \u001b[0m\u001b[38;5;34m101,770\u001b[0m (397.54 KB)\n"
            ],
            "text/html": [
              "<pre style=\"white-space:pre;overflow-x:auto;line-height:normal;font-family:Menlo,'DejaVu Sans Mono',consolas,'Courier New',monospace\"><span style=\"font-weight: bold\"> Total params: </span><span style=\"color: #00af00; text-decoration-color: #00af00\">101,770</span> (397.54 KB)\n",
              "</pre>\n"
            ]
          },
          "metadata": {}
        },
        {
          "output_type": "display_data",
          "data": {
            "text/plain": [
              "\u001b[1m Trainable params: \u001b[0m\u001b[38;5;34m101,770\u001b[0m (397.54 KB)\n"
            ],
            "text/html": [
              "<pre style=\"white-space:pre;overflow-x:auto;line-height:normal;font-family:Menlo,'DejaVu Sans Mono',consolas,'Courier New',monospace\"><span style=\"font-weight: bold\"> Trainable params: </span><span style=\"color: #00af00; text-decoration-color: #00af00\">101,770</span> (397.54 KB)\n",
              "</pre>\n"
            ]
          },
          "metadata": {}
        },
        {
          "output_type": "display_data",
          "data": {
            "text/plain": [
              "\u001b[1m Non-trainable params: \u001b[0m\u001b[38;5;34m0\u001b[0m (0.00 B)\n"
            ],
            "text/html": [
              "<pre style=\"white-space:pre;overflow-x:auto;line-height:normal;font-family:Menlo,'DejaVu Sans Mono',consolas,'Courier New',monospace\"><span style=\"font-weight: bold\"> Non-trainable params: </span><span style=\"color: #00af00; text-decoration-color: #00af00\">0</span> (0.00 B)\n",
              "</pre>\n"
            ]
          },
          "metadata": {}
        },
        {
          "output_type": "stream",
          "name": "stdout",
          "text": [
            "Epoch 1/5\n",
            "\u001b[1m3375/3375\u001b[0m \u001b[32m━━━━━━━━━━━━━━━━━━━━\u001b[0m\u001b[37m\u001b[0m \u001b[1m19s\u001b[0m 5ms/step - accuracy: 0.8851 - loss: 0.3924 - val_accuracy: 0.9692 - val_loss: 0.1083\n",
            "Epoch 2/5\n",
            "\u001b[1m3375/3375\u001b[0m \u001b[32m━━━━━━━━━━━━━━━━━━━━\u001b[0m\u001b[37m\u001b[0m \u001b[1m12s\u001b[0m 4ms/step - accuracy: 0.9654 - loss: 0.1108 - val_accuracy: 0.9747 - val_loss: 0.0879\n",
            "Epoch 3/5\n",
            "\u001b[1m3375/3375\u001b[0m \u001b[32m━━━━━━━━━━━━━━━━━━━━\u001b[0m\u001b[37m\u001b[0m \u001b[1m12s\u001b[0m 4ms/step - accuracy: 0.9793 - loss: 0.0691 - val_accuracy: 0.9783 - val_loss: 0.0747\n",
            "Epoch 4/5\n",
            "\u001b[1m3375/3375\u001b[0m \u001b[32m━━━━━━━━━━━━━━━━━━━━\u001b[0m\u001b[37m\u001b[0m \u001b[1m18s\u001b[0m 5ms/step - accuracy: 0.9839 - loss: 0.0511 - val_accuracy: 0.9772 - val_loss: 0.0790\n",
            "Epoch 5/5\n",
            "\u001b[1m3375/3375\u001b[0m \u001b[32m━━━━━━━━━━━━━━━━━━━━\u001b[0m\u001b[37m\u001b[0m \u001b[1m12s\u001b[0m 4ms/step - accuracy: 0.9883 - loss: 0.0392 - val_accuracy: 0.9800 - val_loss: 0.0747\n",
            "ANN - Accuracy: 97.73%\n",
            "ANN - Layers: 3\n",
            "ANN - Parameters: 101770\n",
            "ANN - Training Time: 73.78 seconds\n",
            "ANN - Test Time: 0.84 seconds\n"
          ]
        }
      ],
      "source": [
        "# Preprocess data for ANN\n",
        "\n",
        "# Normalize pixel values to be between 0 and 1\n",
        "x_train_ann = x_train.astype('float32') / 255.0\n",
        "x_test_ann = x_test.astype('float32') / 255.0\n",
        "\n",
        "# One-hot encode the labels\n",
        "y_train_ann = to_categorical(y_train, num_classes=10)\n",
        "y_test_ann = to_categorical(y_test, num_classes=10)\n",
        "\n",
        "\"\"\"\n",
        "NOte Important Fsh5:\n",
        "Shuffle dataset (Keras does this by default during training if shuffle=True)\n",
        "For SVM, we'll use the original shapes and shuffle manually if needed,\n",
        "but scikit-learn's train_test_split or model's shuffle usually handles this.\n",
        "For simplicity here, we'll use the already split data\n",
        "\"\"\"\n",
        "\n",
        "print(\"--- Step 1: A) Basic ANN ---\")\n",
        "# Implement basic ANN\n",
        "ann_model = Sequential([\n",
        "    Flatten(input_shape=(28, 28)),  # Flatten the 28x28 images\n",
        "    Dense(128, activation='relu'),   # A hidden layer with 128 neurons\n",
        "    # Output layer with 10 neurons for 10 classes\n",
        "    Dense(10, activation='softmax') #softmax beacuse it is multiclass\n",
        "\n",
        "])\n",
        "\n",
        "ann_model.compile(optimizer='adam',\n",
        "                  loss='categorical_crossentropy',\n",
        "                  metrics=['accuracy'])\n",
        "\n",
        "ann_model.summary()\n",
        "\n",
        "# Train ANN\n",
        "start_time_ann_train = time.time()\n",
        "history_ann = ann_model.fit(\n",
        "    x_train_ann, y_train_ann, epochs=5, batch_size=16, verbose=1, validation_split=0.1)\n",
        "\n",
        "end_time_ann_train = time.time()\n",
        "ann_train_time = end_time_ann_train - start_time_ann_train\n",
        "\n",
        "\n",
        "# Evaluate ANN\n",
        "start_time_ann_test = time.time()\n",
        "\n",
        "loss_ann, accuracy_ann = ann_model.evaluate(x_test_ann, y_test_ann, verbose=0)\n",
        "\n",
        "end_time_ann_test = time.time()\n",
        "ann_test_time = end_time_ann_test - start_time_ann_test\n",
        "\n",
        "print(f\"ANN - Accuracy: {accuracy_ann*100:.2f}%\")\n",
        "print(f\"ANN - Layers: {len(ann_model.layers)}\")\n",
        "print(f\"ANN - Parameters: {ann_model.count_params()}\")\n",
        "print(f\"ANN - Training Time: {ann_train_time:.2f} seconds\")\n",
        "print(f\"ANN - Test Time: {ann_test_time:.2f} seconds\")"
      ]
    },
    {
      "cell_type": "markdown",
      "source": [
        "### SVM"
      ],
      "metadata": {
        "id": "n4hb2-JqXuwp"
      },
      "id": "n4hb2-JqXuwp"
    },
    {
      "cell_type": "code",
      "execution_count": 22,
      "id": "8b560f9a",
      "metadata": {
        "id": "8b560f9a",
        "colab": {
          "base_uri": "https://localhost:8080/"
        },
        "outputId": "8e6d9188-301b-4820-8511-5aedf28932b1"
      },
      "outputs": [
        {
          "output_type": "stream",
          "name": "stdout",
          "text": [
            "\n",
            "--- Step 1: B) SVM ---\n",
            "SVM - Accuracy (on subset): 94.45%\n",
            "SVM - Model Type: SVC with RBF kernel\n",
            "SVM - Number of support vectors: 3744\n",
            "SVM - Training Time (on subset): 8.25 seconds\n",
            "SVM - Test Time (on subset): 4.42 seconds\n"
          ]
        }
      ],
      "source": [
        "# Preprocess data for SVM\n",
        "\n",
        "# Flatten images\n",
        "x_train_svm = x_train.reshape(x_train.shape[0], -1).astype('float32') / 255.0\n",
        "x_test_svm = x_test.reshape(x_test.shape[0], -1).astype('float32') / 255.0\n",
        "# For SVM, we use original y_train, y_test (not one-hot encoded)\n",
        "\n",
        "# Due to SVM's computational complexity, let's use a subset of data for faster training\n",
        "subset_size = 10000  # Using 10k samples for training, 2k for testing\n",
        "x_train_svm_subset = x_train_svm[:subset_size]\n",
        "y_train_svm_subset = y_train[:subset_size]\n",
        "x_test_svm_subset = x_test_svm[:subset_size // 5]\n",
        "y_test_svm_subset = y_test[:subset_size // 5]\n",
        "\n",
        "print(\"\\n--- Step 1: B) SVM ---\")\n",
        "# Implement SVM\n",
        "svm_model = SVC(kernel='rbf', C=1.0, gamma='scale',\n",
        "                random_state=42)  # Common defaults\n",
        "\n",
        "# Train SVM\n",
        "start_time_svm_train = time.time()\n",
        "svm_model.fit(x_train_svm_subset, y_train_svm_subset)\n",
        "end_time_svm_train = time.time()\n",
        "svm_train_time = end_time_svm_train - start_time_svm_train\n",
        "\n",
        "# Evaluate SVM\n",
        "start_time_svm_test = time.time()\n",
        "y_pred_svm = svm_model.predict(x_test_svm_subset)\n",
        "accuracy_svm = accuracy_score(y_test_svm_subset, y_pred_svm)\n",
        "end_time_svm_test = time.time()\n",
        "svm_test_time = end_time_svm_test - start_time_svm_test\n",
        "\n",
        "print(f\"SVM - Accuracy (on subset): {accuracy_svm*100:.2f}%\")\n",
        "# SVM layers are not typically counted like NNs. We can note the kernel and type.\n",
        "print(f\"SVM - Model Type: SVC with RBF kernel\")\n",
        "# SVM parameters are not directly comparable to NN params in the same way.\n",
        "# n_support_ is the number of support vectors.\n",
        "print(f\"SVM - Number of support vectors: {np.sum(svm_model.n_support_)}\")\n",
        "print(f\"SVM - Training Time (on subset): {svm_train_time:.2f} seconds\")\n",
        "print(f\"SVM - Test Time (on subset): {svm_test_time:.2f} seconds\")"
      ]
    },
    {
      "cell_type": "markdown",
      "id": "eed53291",
      "metadata": {
        "id": "eed53291"
      },
      "source": [
        "## Step 2: Base CNN + Epoch Tuning\n",
        "- Implement CNN with 3 layers (include Conv2D + MaxPooling2D)\n",
        "- Use ReLU, SGD, no dropout\n",
        "- Test different epoch values (10–25)\n",
        "- Log results: accuracy, params, time, layers\n",
        "- Choose best epoch count"
      ]
    },
    {
      "cell_type": "code",
      "execution_count": 25,
      "id": "21e69194",
      "metadata": {
        "id": "21e69194",
        "colab": {
          "base_uri": "https://localhost:8080/"
        },
        "outputId": "656256f3-f943-4cb5-d1c0-c5532073758f"
      },
      "outputs": [
        {
          "output_type": "stream",
          "name": "stdout",
          "text": [
            "\n",
            "--- Step 2: A) Base CNN ---\n"
          ]
        }
      ],
      "source": [
        "# Preprocess data for CNN (needs channel dimension)\n",
        "x_train_cnn = x_train_ann.reshape(x_train_ann.shape[0], 28, 28, 1)\n",
        "x_test_cnn = x_test_ann.reshape(x_test_ann.shape[0], 28, 28, 1)\n",
        "\n",
        "print(\"\\n--- Step 2: A) Base CNN ---\")\n",
        "\n",
        "# 3 Conv + 2 MaxPooling\n",
        "def create_base_cnn_model():\n",
        "    model = Sequential([\n",
        "        Conv2D(32, (3, 3), activation='relu', input_shape=(28, 28, 1)),\n",
        "        MaxPooling2D((2, 2)),\n",
        "\n",
        "        Conv2D(64, (3, 3), activation='relu'),\n",
        "        MaxPooling2D((2, 2)),\n",
        "\n",
        "        Conv2D(64, (3, 3), activation='relu'),\n",
        "        Flatten(),\n",
        "        Dense(10, activation='softmax')\n",
        "    ])\n",
        "    # Using SGD as specified\n",
        "    optimizer = SGD(learning_rate=0.01, momentum=0.9)  # A common default LR for SGD\n",
        "    model.compile(optimizer=optimizer,\n",
        "                 loss='categorical_crossentropy',\n",
        "                 metrics=['accuracy'])\n",
        "    return model  # Added missing return statement"
      ]
    },
    {
      "cell_type": "code",
      "execution_count": 26,
      "id": "679b5aab",
      "metadata": {
        "id": "679b5aab",
        "colab": {
          "base_uri": "https://localhost:8080/",
          "height": 1000
        },
        "outputId": "d7eb31c9-ca6c-46a3-b4f8-20c2d540d1a3"
      },
      "outputs": [
        {
          "output_type": "stream",
          "name": "stdout",
          "text": [
            "\n",
            "--- Step 2: B) + Epoch Tuning ---\n",
            "\n",
            "Testing different epoch values for Base CNN:\n",
            "\n",
            "Training Base CNN with 10 epochs...\n",
            "\n",
            "CNN Model Summary:\n"
          ]
        },
        {
          "output_type": "stream",
          "name": "stderr",
          "text": [
            "/usr/local/lib/python3.11/dist-packages/keras/src/layers/convolutional/base_conv.py:107: UserWarning: Do not pass an `input_shape`/`input_dim` argument to a layer. When using Sequential models, prefer using an `Input(shape)` object as the first layer in the model instead.\n",
            "  super().__init__(activity_regularizer=activity_regularizer, **kwargs)\n"
          ]
        },
        {
          "output_type": "display_data",
          "data": {
            "text/plain": [
              "\u001b[1mModel: \"sequential_2\"\u001b[0m\n"
            ],
            "text/html": [
              "<pre style=\"white-space:pre;overflow-x:auto;line-height:normal;font-family:Menlo,'DejaVu Sans Mono',consolas,'Courier New',monospace\"><span style=\"font-weight: bold\">Model: \"sequential_2\"</span>\n",
              "</pre>\n"
            ]
          },
          "metadata": {}
        },
        {
          "output_type": "display_data",
          "data": {
            "text/plain": [
              "┏━━━━━━━━━━━━━━━━━━━━━━━━━━━━━━━━━┳━━━━━━━━━━━━━━━━━━━━━━━━┳━━━━━━━━━━━━━━━┓\n",
              "┃\u001b[1m \u001b[0m\u001b[1mLayer (type)                   \u001b[0m\u001b[1m \u001b[0m┃\u001b[1m \u001b[0m\u001b[1mOutput Shape          \u001b[0m\u001b[1m \u001b[0m┃\u001b[1m \u001b[0m\u001b[1m      Param #\u001b[0m\u001b[1m \u001b[0m┃\n",
              "┡━━━━━━━━━━━━━━━━━━━━━━━━━━━━━━━━━╇━━━━━━━━━━━━━━━━━━━━━━━━╇━━━━━━━━━━━━━━━┩\n",
              "│ conv2d (\u001b[38;5;33mConv2D\u001b[0m)                 │ (\u001b[38;5;45mNone\u001b[0m, \u001b[38;5;34m26\u001b[0m, \u001b[38;5;34m26\u001b[0m, \u001b[38;5;34m32\u001b[0m)     │           \u001b[38;5;34m320\u001b[0m │\n",
              "├─────────────────────────────────┼────────────────────────┼───────────────┤\n",
              "│ max_pooling2d (\u001b[38;5;33mMaxPooling2D\u001b[0m)    │ (\u001b[38;5;45mNone\u001b[0m, \u001b[38;5;34m13\u001b[0m, \u001b[38;5;34m13\u001b[0m, \u001b[38;5;34m32\u001b[0m)     │             \u001b[38;5;34m0\u001b[0m │\n",
              "├─────────────────────────────────┼────────────────────────┼───────────────┤\n",
              "│ conv2d_1 (\u001b[38;5;33mConv2D\u001b[0m)               │ (\u001b[38;5;45mNone\u001b[0m, \u001b[38;5;34m11\u001b[0m, \u001b[38;5;34m11\u001b[0m, \u001b[38;5;34m64\u001b[0m)     │        \u001b[38;5;34m18,496\u001b[0m │\n",
              "├─────────────────────────────────┼────────────────────────┼───────────────┤\n",
              "│ max_pooling2d_1 (\u001b[38;5;33mMaxPooling2D\u001b[0m)  │ (\u001b[38;5;45mNone\u001b[0m, \u001b[38;5;34m5\u001b[0m, \u001b[38;5;34m5\u001b[0m, \u001b[38;5;34m64\u001b[0m)       │             \u001b[38;5;34m0\u001b[0m │\n",
              "├─────────────────────────────────┼────────────────────────┼───────────────┤\n",
              "│ conv2d_2 (\u001b[38;5;33mConv2D\u001b[0m)               │ (\u001b[38;5;45mNone\u001b[0m, \u001b[38;5;34m3\u001b[0m, \u001b[38;5;34m3\u001b[0m, \u001b[38;5;34m64\u001b[0m)       │        \u001b[38;5;34m36,928\u001b[0m │\n",
              "├─────────────────────────────────┼────────────────────────┼───────────────┤\n",
              "│ flatten_2 (\u001b[38;5;33mFlatten\u001b[0m)             │ (\u001b[38;5;45mNone\u001b[0m, \u001b[38;5;34m576\u001b[0m)            │             \u001b[38;5;34m0\u001b[0m │\n",
              "├─────────────────────────────────┼────────────────────────┼───────────────┤\n",
              "│ dense_4 (\u001b[38;5;33mDense\u001b[0m)                 │ (\u001b[38;5;45mNone\u001b[0m, \u001b[38;5;34m10\u001b[0m)             │         \u001b[38;5;34m5,770\u001b[0m │\n",
              "└─────────────────────────────────┴────────────────────────┴───────────────┘\n"
            ],
            "text/html": [
              "<pre style=\"white-space:pre;overflow-x:auto;line-height:normal;font-family:Menlo,'DejaVu Sans Mono',consolas,'Courier New',monospace\">┏━━━━━━━━━━━━━━━━━━━━━━━━━━━━━━━━━┳━━━━━━━━━━━━━━━━━━━━━━━━┳━━━━━━━━━━━━━━━┓\n",
              "┃<span style=\"font-weight: bold\"> Layer (type)                    </span>┃<span style=\"font-weight: bold\"> Output Shape           </span>┃<span style=\"font-weight: bold\">       Param # </span>┃\n",
              "┡━━━━━━━━━━━━━━━━━━━━━━━━━━━━━━━━━╇━━━━━━━━━━━━━━━━━━━━━━━━╇━━━━━━━━━━━━━━━┩\n",
              "│ conv2d (<span style=\"color: #0087ff; text-decoration-color: #0087ff\">Conv2D</span>)                 │ (<span style=\"color: #00d7ff; text-decoration-color: #00d7ff\">None</span>, <span style=\"color: #00af00; text-decoration-color: #00af00\">26</span>, <span style=\"color: #00af00; text-decoration-color: #00af00\">26</span>, <span style=\"color: #00af00; text-decoration-color: #00af00\">32</span>)     │           <span style=\"color: #00af00; text-decoration-color: #00af00\">320</span> │\n",
              "├─────────────────────────────────┼────────────────────────┼───────────────┤\n",
              "│ max_pooling2d (<span style=\"color: #0087ff; text-decoration-color: #0087ff\">MaxPooling2D</span>)    │ (<span style=\"color: #00d7ff; text-decoration-color: #00d7ff\">None</span>, <span style=\"color: #00af00; text-decoration-color: #00af00\">13</span>, <span style=\"color: #00af00; text-decoration-color: #00af00\">13</span>, <span style=\"color: #00af00; text-decoration-color: #00af00\">32</span>)     │             <span style=\"color: #00af00; text-decoration-color: #00af00\">0</span> │\n",
              "├─────────────────────────────────┼────────────────────────┼───────────────┤\n",
              "│ conv2d_1 (<span style=\"color: #0087ff; text-decoration-color: #0087ff\">Conv2D</span>)               │ (<span style=\"color: #00d7ff; text-decoration-color: #00d7ff\">None</span>, <span style=\"color: #00af00; text-decoration-color: #00af00\">11</span>, <span style=\"color: #00af00; text-decoration-color: #00af00\">11</span>, <span style=\"color: #00af00; text-decoration-color: #00af00\">64</span>)     │        <span style=\"color: #00af00; text-decoration-color: #00af00\">18,496</span> │\n",
              "├─────────────────────────────────┼────────────────────────┼───────────────┤\n",
              "│ max_pooling2d_1 (<span style=\"color: #0087ff; text-decoration-color: #0087ff\">MaxPooling2D</span>)  │ (<span style=\"color: #00d7ff; text-decoration-color: #00d7ff\">None</span>, <span style=\"color: #00af00; text-decoration-color: #00af00\">5</span>, <span style=\"color: #00af00; text-decoration-color: #00af00\">5</span>, <span style=\"color: #00af00; text-decoration-color: #00af00\">64</span>)       │             <span style=\"color: #00af00; text-decoration-color: #00af00\">0</span> │\n",
              "├─────────────────────────────────┼────────────────────────┼───────────────┤\n",
              "│ conv2d_2 (<span style=\"color: #0087ff; text-decoration-color: #0087ff\">Conv2D</span>)               │ (<span style=\"color: #00d7ff; text-decoration-color: #00d7ff\">None</span>, <span style=\"color: #00af00; text-decoration-color: #00af00\">3</span>, <span style=\"color: #00af00; text-decoration-color: #00af00\">3</span>, <span style=\"color: #00af00; text-decoration-color: #00af00\">64</span>)       │        <span style=\"color: #00af00; text-decoration-color: #00af00\">36,928</span> │\n",
              "├─────────────────────────────────┼────────────────────────┼───────────────┤\n",
              "│ flatten_2 (<span style=\"color: #0087ff; text-decoration-color: #0087ff\">Flatten</span>)             │ (<span style=\"color: #00d7ff; text-decoration-color: #00d7ff\">None</span>, <span style=\"color: #00af00; text-decoration-color: #00af00\">576</span>)            │             <span style=\"color: #00af00; text-decoration-color: #00af00\">0</span> │\n",
              "├─────────────────────────────────┼────────────────────────┼───────────────┤\n",
              "│ dense_4 (<span style=\"color: #0087ff; text-decoration-color: #0087ff\">Dense</span>)                 │ (<span style=\"color: #00d7ff; text-decoration-color: #00d7ff\">None</span>, <span style=\"color: #00af00; text-decoration-color: #00af00\">10</span>)             │         <span style=\"color: #00af00; text-decoration-color: #00af00\">5,770</span> │\n",
              "└─────────────────────────────────┴────────────────────────┴───────────────┘\n",
              "</pre>\n"
            ]
          },
          "metadata": {}
        },
        {
          "output_type": "display_data",
          "data": {
            "text/plain": [
              "\u001b[1m Total params: \u001b[0m\u001b[38;5;34m61,514\u001b[0m (240.29 KB)\n"
            ],
            "text/html": [
              "<pre style=\"white-space:pre;overflow-x:auto;line-height:normal;font-family:Menlo,'DejaVu Sans Mono',consolas,'Courier New',monospace\"><span style=\"font-weight: bold\"> Total params: </span><span style=\"color: #00af00; text-decoration-color: #00af00\">61,514</span> (240.29 KB)\n",
              "</pre>\n"
            ]
          },
          "metadata": {}
        },
        {
          "output_type": "display_data",
          "data": {
            "text/plain": [
              "\u001b[1m Trainable params: \u001b[0m\u001b[38;5;34m61,514\u001b[0m (240.29 KB)\n"
            ],
            "text/html": [
              "<pre style=\"white-space:pre;overflow-x:auto;line-height:normal;font-family:Menlo,'DejaVu Sans Mono',consolas,'Courier New',monospace\"><span style=\"font-weight: bold\"> Trainable params: </span><span style=\"color: #00af00; text-decoration-color: #00af00\">61,514</span> (240.29 KB)\n",
              "</pre>\n"
            ]
          },
          "metadata": {}
        },
        {
          "output_type": "display_data",
          "data": {
            "text/plain": [
              "\u001b[1m Non-trainable params: \u001b[0m\u001b[38;5;34m0\u001b[0m (0.00 B)\n"
            ],
            "text/html": [
              "<pre style=\"white-space:pre;overflow-x:auto;line-height:normal;font-family:Menlo,'DejaVu Sans Mono',consolas,'Courier New',monospace\"><span style=\"font-weight: bold\"> Non-trainable params: </span><span style=\"color: #00af00; text-decoration-color: #00af00\">0</span> (0.00 B)\n",
              "</pre>\n"
            ]
          },
          "metadata": {}
        },
        {
          "output_type": "stream",
          "name": "stdout",
          "text": [
            "Epoch 1/10\n",
            "\u001b[1m1875/1875\u001b[0m \u001b[32m━━━━━━━━━━━━━━━━━━━━\u001b[0m\u001b[37m\u001b[0m \u001b[1m10s\u001b[0m 4ms/step - accuracy: 0.8545 - loss: 0.4709 - val_accuracy: 0.9827 - val_loss: 0.0533\n",
            "Epoch 2/10\n",
            "\u001b[1m1875/1875\u001b[0m \u001b[32m━━━━━━━━━━━━━━━━━━━━\u001b[0m\u001b[37m\u001b[0m \u001b[1m7s\u001b[0m 3ms/step - accuracy: 0.9820 - loss: 0.0588 - val_accuracy: 0.9867 - val_loss: 0.0393\n",
            "Epoch 3/10\n",
            "\u001b[1m1875/1875\u001b[0m \u001b[32m━━━━━━━━━━━━━━━━━━━━\u001b[0m\u001b[37m\u001b[0m \u001b[1m6s\u001b[0m 3ms/step - accuracy: 0.9858 - loss: 0.0427 - val_accuracy: 0.9892 - val_loss: 0.0323\n",
            "Epoch 4/10\n",
            "\u001b[1m1875/1875\u001b[0m \u001b[32m━━━━━━━━━━━━━━━━━━━━\u001b[0m\u001b[37m\u001b[0m \u001b[1m6s\u001b[0m 3ms/step - accuracy: 0.9895 - loss: 0.0326 - val_accuracy: 0.9887 - val_loss: 0.0370\n",
            "Epoch 5/10\n",
            "\u001b[1m1875/1875\u001b[0m \u001b[32m━━━━━━━━━━━━━━━━━━━━\u001b[0m\u001b[37m\u001b[0m \u001b[1m10s\u001b[0m 3ms/step - accuracy: 0.9919 - loss: 0.0258 - val_accuracy: 0.9891 - val_loss: 0.0342\n",
            "Epoch 6/10\n",
            "\u001b[1m1875/1875\u001b[0m \u001b[32m━━━━━━━━━━━━━━━━━━━━\u001b[0m\u001b[37m\u001b[0m \u001b[1m10s\u001b[0m 3ms/step - accuracy: 0.9934 - loss: 0.0209 - val_accuracy: 0.9886 - val_loss: 0.0365\n",
            "Epoch 7/10\n",
            "\u001b[1m1875/1875\u001b[0m \u001b[32m━━━━━━━━━━━━━━━━━━━━\u001b[0m\u001b[37m\u001b[0m \u001b[1m6s\u001b[0m 3ms/step - accuracy: 0.9947 - loss: 0.0161 - val_accuracy: 0.9908 - val_loss: 0.0311\n",
            "Epoch 8/10\n",
            "\u001b[1m1875/1875\u001b[0m \u001b[32m━━━━━━━━━━━━━━━━━━━━\u001b[0m\u001b[37m\u001b[0m \u001b[1m7s\u001b[0m 3ms/step - accuracy: 0.9949 - loss: 0.0142 - val_accuracy: 0.9916 - val_loss: 0.0282\n",
            "Epoch 9/10\n",
            "\u001b[1m1875/1875\u001b[0m \u001b[32m━━━━━━━━━━━━━━━━━━━━\u001b[0m\u001b[37m\u001b[0m \u001b[1m6s\u001b[0m 3ms/step - accuracy: 0.9965 - loss: 0.0116 - val_accuracy: 0.9911 - val_loss: 0.0322\n",
            "Epoch 10/10\n",
            "\u001b[1m1875/1875\u001b[0m \u001b[32m━━━━━━━━━━━━━━━━━━━━\u001b[0m\u001b[37m\u001b[0m \u001b[1m6s\u001b[0m 3ms/step - accuracy: 0.9966 - loss: 0.0114 - val_accuracy: 0.9916 - val_loss: 0.0307\n",
            "CNN (10 epochs) - Test Accuracy: 99.16%\n",
            "CNN (10 epochs) - Layers: 7\n",
            "CNN (10 epochs) - Parameters: 61514\n",
            "CNN (10 epochs) - Training Time: 75.21 seconds\n",
            "CNN (10 epochs) - Test Time: 1.36 seconds\n",
            "\n",
            "Training Base CNN with 15 epochs...\n",
            "Epoch 1/15\n",
            "\u001b[1m1875/1875\u001b[0m \u001b[32m━━━━━━━━━━━━━━━━━━━━\u001b[0m\u001b[37m\u001b[0m \u001b[1m8s\u001b[0m 4ms/step - accuracy: 0.8546 - loss: 0.4484 - val_accuracy: 0.9809 - val_loss: 0.0603\n",
            "Epoch 2/15\n",
            "\u001b[1m1875/1875\u001b[0m \u001b[32m━━━━━━━━━━━━━━━━━━━━\u001b[0m\u001b[37m\u001b[0m \u001b[1m6s\u001b[0m 3ms/step - accuracy: 0.9821 - loss: 0.0578 - val_accuracy: 0.9863 - val_loss: 0.0380\n",
            "Epoch 3/15\n",
            "\u001b[1m1875/1875\u001b[0m \u001b[32m━━━━━━━━━━━━━━━━━━━━\u001b[0m\u001b[37m\u001b[0m \u001b[1m10s\u001b[0m 3ms/step - accuracy: 0.9879 - loss: 0.0396 - val_accuracy: 0.9888 - val_loss: 0.0336\n",
            "Epoch 4/15\n",
            "\u001b[1m1875/1875\u001b[0m \u001b[32m━━━━━━━━━━━━━━━━━━━━\u001b[0m\u001b[37m\u001b[0m \u001b[1m10s\u001b[0m 3ms/step - accuracy: 0.9902 - loss: 0.0297 - val_accuracy: 0.9876 - val_loss: 0.0342\n",
            "Epoch 5/15\n",
            "\u001b[1m1875/1875\u001b[0m \u001b[32m━━━━━━━━━━━━━━━━━━━━\u001b[0m\u001b[37m\u001b[0m \u001b[1m7s\u001b[0m 4ms/step - accuracy: 0.9912 - loss: 0.0267 - val_accuracy: 0.9897 - val_loss: 0.0326\n",
            "Epoch 6/15\n",
            "\u001b[1m1875/1875\u001b[0m \u001b[32m━━━━━━━━━━━━━━━━━━━━\u001b[0m\u001b[37m\u001b[0m \u001b[1m7s\u001b[0m 4ms/step - accuracy: 0.9932 - loss: 0.0204 - val_accuracy: 0.9905 - val_loss: 0.0314\n",
            "Epoch 7/15\n",
            "\u001b[1m1875/1875\u001b[0m \u001b[32m━━━━━━━━━━━━━━━━━━━━\u001b[0m\u001b[37m\u001b[0m \u001b[1m6s\u001b[0m 3ms/step - accuracy: 0.9944 - loss: 0.0173 - val_accuracy: 0.9907 - val_loss: 0.0336\n",
            "Epoch 8/15\n",
            "\u001b[1m1875/1875\u001b[0m \u001b[32m━━━━━━━━━━━━━━━━━━━━\u001b[0m\u001b[37m\u001b[0m \u001b[1m7s\u001b[0m 4ms/step - accuracy: 0.9954 - loss: 0.0141 - val_accuracy: 0.9901 - val_loss: 0.0327\n",
            "Epoch 9/15\n",
            "\u001b[1m1875/1875\u001b[0m \u001b[32m━━━━━━━━━━━━━━━━━━━━\u001b[0m\u001b[37m\u001b[0m \u001b[1m6s\u001b[0m 3ms/step - accuracy: 0.9964 - loss: 0.0115 - val_accuracy: 0.9914 - val_loss: 0.0300\n",
            "Epoch 10/15\n",
            "\u001b[1m1875/1875\u001b[0m \u001b[32m━━━━━━━━━━━━━━━━━━━━\u001b[0m\u001b[37m\u001b[0m \u001b[1m6s\u001b[0m 3ms/step - accuracy: 0.9970 - loss: 0.0095 - val_accuracy: 0.9915 - val_loss: 0.0320\n",
            "Epoch 11/15\n",
            "\u001b[1m1875/1875\u001b[0m \u001b[32m━━━━━━━━━━━━━━━━━━━━\u001b[0m\u001b[37m\u001b[0m \u001b[1m12s\u001b[0m 6ms/step - accuracy: 0.9979 - loss: 0.0066 - val_accuracy: 0.9915 - val_loss: 0.0321\n",
            "Epoch 12/15\n",
            "\u001b[1m1875/1875\u001b[0m \u001b[32m━━━━━━━━━━━━━━━━━━━━\u001b[0m\u001b[37m\u001b[0m \u001b[1m17s\u001b[0m 4ms/step - accuracy: 0.9974 - loss: 0.0071 - val_accuracy: 0.9921 - val_loss: 0.0328\n",
            "Epoch 13/15\n",
            "\u001b[1m1875/1875\u001b[0m \u001b[32m━━━━━━━━━━━━━━━━━━━━\u001b[0m\u001b[37m\u001b[0m \u001b[1m8s\u001b[0m 3ms/step - accuracy: 0.9985 - loss: 0.0050 - val_accuracy: 0.9920 - val_loss: 0.0312\n",
            "Epoch 14/15\n",
            "\u001b[1m1875/1875\u001b[0m \u001b[32m━━━━━━━━━━━━━━━━━━━━\u001b[0m\u001b[37m\u001b[0m \u001b[1m11s\u001b[0m 4ms/step - accuracy: 0.9985 - loss: 0.0053 - val_accuracy: 0.9915 - val_loss: 0.0368\n",
            "Epoch 15/15\n",
            "\u001b[1m1875/1875\u001b[0m \u001b[32m━━━━━━━━━━━━━━━━━━━━\u001b[0m\u001b[37m\u001b[0m \u001b[1m6s\u001b[0m 3ms/step - accuracy: 0.9985 - loss: 0.0049 - val_accuracy: 0.9888 - val_loss: 0.0403\n",
            "CNN (15 epochs) - Test Accuracy: 98.88%\n",
            "CNN (15 epochs) - Layers: 7\n",
            "CNN (15 epochs) - Parameters: 61514\n",
            "CNN (15 epochs) - Training Time: 128.30 seconds\n",
            "CNN (15 epochs) - Test Time: 1.35 seconds\n",
            "\n",
            "Training Base CNN with 20 epochs...\n",
            "Epoch 1/20\n",
            "\u001b[1m1875/1875\u001b[0m \u001b[32m━━━━━━━━━━━━━━━━━━━━\u001b[0m\u001b[37m\u001b[0m \u001b[1m8s\u001b[0m 4ms/step - accuracy: 0.8538 - loss: 0.4507 - val_accuracy: 0.9812 - val_loss: 0.0556\n",
            "Epoch 2/20\n",
            "\u001b[1m1875/1875\u001b[0m \u001b[32m━━━━━━━━━━━━━━━━━━━━\u001b[0m\u001b[37m\u001b[0m \u001b[1m11s\u001b[0m 5ms/step - accuracy: 0.9822 - loss: 0.0556 - val_accuracy: 0.9870 - val_loss: 0.0415\n",
            "Epoch 3/20\n",
            "\u001b[1m1875/1875\u001b[0m \u001b[32m━━━━━━━━━━━━━━━━━━━━\u001b[0m\u001b[37m\u001b[0m \u001b[1m9s\u001b[0m 4ms/step - accuracy: 0.9876 - loss: 0.0397 - val_accuracy: 0.9867 - val_loss: 0.0414\n",
            "Epoch 4/20\n",
            "\u001b[1m1875/1875\u001b[0m \u001b[32m━━━━━━━━━━━━━━━━━━━━\u001b[0m\u001b[37m\u001b[0m \u001b[1m9s\u001b[0m 4ms/step - accuracy: 0.9899 - loss: 0.0316 - val_accuracy: 0.9895 - val_loss: 0.0317\n",
            "Epoch 5/20\n",
            "\u001b[1m1875/1875\u001b[0m \u001b[32m━━━━━━━━━━━━━━━━━━━━\u001b[0m\u001b[37m\u001b[0m \u001b[1m9s\u001b[0m 5ms/step - accuracy: 0.9926 - loss: 0.0237 - val_accuracy: 0.9915 - val_loss: 0.0285\n",
            "Epoch 6/20\n",
            "\u001b[1m1875/1875\u001b[0m \u001b[32m━━━━━━━━━━━━━━━━━━━━\u001b[0m\u001b[37m\u001b[0m \u001b[1m8s\u001b[0m 4ms/step - accuracy: 0.9932 - loss: 0.0211 - val_accuracy: 0.9896 - val_loss: 0.0325\n",
            "Epoch 7/20\n",
            "\u001b[1m1875/1875\u001b[0m \u001b[32m━━━━━━━━━━━━━━━━━━━━\u001b[0m\u001b[37m\u001b[0m \u001b[1m10s\u001b[0m 4ms/step - accuracy: 0.9946 - loss: 0.0169 - val_accuracy: 0.9895 - val_loss: 0.0354\n",
            "Epoch 8/20\n",
            "\u001b[1m1875/1875\u001b[0m \u001b[32m━━━━━━━━━━━━━━━━━━━━\u001b[0m\u001b[37m\u001b[0m \u001b[1m6s\u001b[0m 3ms/step - accuracy: 0.9953 - loss: 0.0148 - val_accuracy: 0.9904 - val_loss: 0.0311\n",
            "Epoch 9/20\n",
            "\u001b[1m1875/1875\u001b[0m \u001b[32m━━━━━━━━━━━━━━━━━━━━\u001b[0m\u001b[37m\u001b[0m \u001b[1m10s\u001b[0m 3ms/step - accuracy: 0.9964 - loss: 0.0116 - val_accuracy: 0.9908 - val_loss: 0.0343\n",
            "Epoch 10/20\n",
            "\u001b[1m1875/1875\u001b[0m \u001b[32m━━━━━━━━━━━━━━━━━━━━\u001b[0m\u001b[37m\u001b[0m \u001b[1m11s\u001b[0m 4ms/step - accuracy: 0.9972 - loss: 0.0090 - val_accuracy: 0.9915 - val_loss: 0.0293\n",
            "Epoch 11/20\n",
            "\u001b[1m1875/1875\u001b[0m \u001b[32m━━━━━━━━━━━━━━━━━━━━\u001b[0m\u001b[37m\u001b[0m \u001b[1m10s\u001b[0m 4ms/step - accuracy: 0.9974 - loss: 0.0077 - val_accuracy: 0.9909 - val_loss: 0.0327\n",
            "Epoch 12/20\n",
            "\u001b[1m1875/1875\u001b[0m \u001b[32m━━━━━━━━━━━━━━━━━━━━\u001b[0m\u001b[37m\u001b[0m \u001b[1m7s\u001b[0m 3ms/step - accuracy: 0.9978 - loss: 0.0063 - val_accuracy: 0.9916 - val_loss: 0.0324\n",
            "Epoch 13/20\n",
            "\u001b[1m1875/1875\u001b[0m \u001b[32m━━━━━━━━━━━━━━━━━━━━\u001b[0m\u001b[37m\u001b[0m \u001b[1m10s\u001b[0m 3ms/step - accuracy: 0.9983 - loss: 0.0054 - val_accuracy: 0.9916 - val_loss: 0.0363\n",
            "Epoch 14/20\n",
            "\u001b[1m1875/1875\u001b[0m \u001b[32m━━━━━━━━━━━━━━━━━━━━\u001b[0m\u001b[37m\u001b[0m \u001b[1m10s\u001b[0m 3ms/step - accuracy: 0.9986 - loss: 0.0049 - val_accuracy: 0.9913 - val_loss: 0.0355\n",
            "Epoch 15/20\n",
            "\u001b[1m1875/1875\u001b[0m \u001b[32m━━━━━━━━━━━━━━━━━━━━\u001b[0m\u001b[37m\u001b[0m \u001b[1m10s\u001b[0m 3ms/step - accuracy: 0.9991 - loss: 0.0035 - val_accuracy: 0.9926 - val_loss: 0.0337\n",
            "Epoch 16/20\n",
            "\u001b[1m1875/1875\u001b[0m \u001b[32m━━━━━━━━━━━━━━━━━━━━\u001b[0m\u001b[37m\u001b[0m \u001b[1m11s\u001b[0m 4ms/step - accuracy: 0.9991 - loss: 0.0035 - val_accuracy: 0.9911 - val_loss: 0.0332\n",
            "Epoch 17/20\n",
            "\u001b[1m1875/1875\u001b[0m \u001b[32m━━━━━━━━━━━━━━━━━━━━\u001b[0m\u001b[37m\u001b[0m \u001b[1m9s\u001b[0m 3ms/step - accuracy: 0.9993 - loss: 0.0025 - val_accuracy: 0.9920 - val_loss: 0.0355\n",
            "Epoch 18/20\n",
            "\u001b[1m1875/1875\u001b[0m \u001b[32m━━━━━━━━━━━━━━━━━━━━\u001b[0m\u001b[37m\u001b[0m \u001b[1m6s\u001b[0m 3ms/step - accuracy: 0.9984 - loss: 0.0046 - val_accuracy: 0.9917 - val_loss: 0.0358\n",
            "Epoch 19/20\n",
            "\u001b[1m1875/1875\u001b[0m \u001b[32m━━━━━━━━━━━━━━━━━━━━\u001b[0m\u001b[37m\u001b[0m \u001b[1m10s\u001b[0m 3ms/step - accuracy: 0.9997 - loss: 0.0012 - val_accuracy: 0.9919 - val_loss: 0.0363\n",
            "Epoch 20/20\n",
            "\u001b[1m1875/1875\u001b[0m \u001b[32m━━━━━━━━━━━━━━━━━━━━\u001b[0m\u001b[37m\u001b[0m \u001b[1m10s\u001b[0m 3ms/step - accuracy: 0.9998 - loss: 0.0010 - val_accuracy: 0.9925 - val_loss: 0.0354\n",
            "CNN (20 epochs) - Test Accuracy: 99.25%\n",
            "CNN (20 epochs) - Layers: 7\n",
            "CNN (20 epochs) - Parameters: 61514\n",
            "CNN (20 epochs) - Training Time: 186.57 seconds\n",
            "CNN (20 epochs) - Test Time: 1.35 seconds\n",
            "\n",
            "Training Base CNN with 25 epochs...\n",
            "Epoch 1/25\n",
            "\u001b[1m1875/1875\u001b[0m \u001b[32m━━━━━━━━━━━━━━━━━━━━\u001b[0m\u001b[37m\u001b[0m \u001b[1m8s\u001b[0m 3ms/step - accuracy: 0.8593 - loss: 0.4531 - val_accuracy: 0.9793 - val_loss: 0.0637\n",
            "Epoch 2/25\n",
            "\u001b[1m1875/1875\u001b[0m \u001b[32m━━━━━━━━━━━━━━━━━━━━\u001b[0m\u001b[37m\u001b[0m \u001b[1m9s\u001b[0m 3ms/step - accuracy: 0.9802 - loss: 0.0627 - val_accuracy: 0.9848 - val_loss: 0.0470\n",
            "Epoch 3/25\n",
            "\u001b[1m1875/1875\u001b[0m \u001b[32m━━━━━━━━━━━━━━━━━━━━\u001b[0m\u001b[37m\u001b[0m \u001b[1m10s\u001b[0m 3ms/step - accuracy: 0.9878 - loss: 0.0395 - val_accuracy: 0.9879 - val_loss: 0.0371\n",
            "Epoch 4/25\n",
            "\u001b[1m1875/1875\u001b[0m \u001b[32m━━━━━━━━━━━━━━━━━━━━\u001b[0m\u001b[37m\u001b[0m \u001b[1m10s\u001b[0m 3ms/step - accuracy: 0.9901 - loss: 0.0324 - val_accuracy: 0.9886 - val_loss: 0.0327\n",
            "Epoch 5/25\n",
            "\u001b[1m1875/1875\u001b[0m \u001b[32m━━━━━━━━━━━━━━━━━━━━\u001b[0m\u001b[37m\u001b[0m \u001b[1m6s\u001b[0m 3ms/step - accuracy: 0.9928 - loss: 0.0243 - val_accuracy: 0.9896 - val_loss: 0.0314\n",
            "Epoch 6/25\n",
            "\u001b[1m1875/1875\u001b[0m \u001b[32m━━━━━━━━━━━━━━━━━━━━\u001b[0m\u001b[37m\u001b[0m \u001b[1m10s\u001b[0m 3ms/step - accuracy: 0.9937 - loss: 0.0203 - val_accuracy: 0.9914 - val_loss: 0.0311\n",
            "Epoch 7/25\n",
            "\u001b[1m1875/1875\u001b[0m \u001b[32m━━━━━━━━━━━━━━━━━━━━\u001b[0m\u001b[37m\u001b[0m \u001b[1m10s\u001b[0m 3ms/step - accuracy: 0.9935 - loss: 0.0192 - val_accuracy: 0.9898 - val_loss: 0.0326\n",
            "Epoch 8/25\n",
            "\u001b[1m1875/1875\u001b[0m \u001b[32m━━━━━━━━━━━━━━━━━━━━\u001b[0m\u001b[37m\u001b[0m \u001b[1m11s\u001b[0m 3ms/step - accuracy: 0.9954 - loss: 0.0142 - val_accuracy: 0.9898 - val_loss: 0.0280\n",
            "Epoch 9/25\n",
            "\u001b[1m1875/1875\u001b[0m \u001b[32m━━━━━━━━━━━━━━━━━━━━\u001b[0m\u001b[37m\u001b[0m \u001b[1m10s\u001b[0m 3ms/step - accuracy: 0.9965 - loss: 0.0130 - val_accuracy: 0.9908 - val_loss: 0.0308\n",
            "Epoch 10/25\n",
            "\u001b[1m1875/1875\u001b[0m \u001b[32m━━━━━━━━━━━━━━━━━━━━\u001b[0m\u001b[37m\u001b[0m \u001b[1m11s\u001b[0m 4ms/step - accuracy: 0.9972 - loss: 0.0087 - val_accuracy: 0.9893 - val_loss: 0.0396\n",
            "Epoch 11/25\n",
            "\u001b[1m1875/1875\u001b[0m \u001b[32m━━━━━━━━━━━━━━━━━━━━\u001b[0m\u001b[37m\u001b[0m \u001b[1m10s\u001b[0m 3ms/step - accuracy: 0.9980 - loss: 0.0078 - val_accuracy: 0.9917 - val_loss: 0.0282\n",
            "Epoch 12/25\n",
            "\u001b[1m1875/1875\u001b[0m \u001b[32m━━━━━━━━━━━━━━━━━━━━\u001b[0m\u001b[37m\u001b[0m \u001b[1m6s\u001b[0m 3ms/step - accuracy: 0.9982 - loss: 0.0055 - val_accuracy: 0.9906 - val_loss: 0.0329\n",
            "Epoch 13/25\n",
            "\u001b[1m1875/1875\u001b[0m \u001b[32m━━━━━━━━━━━━━━━━━━━━\u001b[0m\u001b[37m\u001b[0m \u001b[1m7s\u001b[0m 4ms/step - accuracy: 0.9982 - loss: 0.0059 - val_accuracy: 0.9916 - val_loss: 0.0314\n",
            "Epoch 14/25\n",
            "\u001b[1m1875/1875\u001b[0m \u001b[32m━━━━━━━━━━━━━━━━━━━━\u001b[0m\u001b[37m\u001b[0m \u001b[1m6s\u001b[0m 3ms/step - accuracy: 0.9984 - loss: 0.0058 - val_accuracy: 0.9924 - val_loss: 0.0301\n",
            "Epoch 15/25\n",
            "\u001b[1m1875/1875\u001b[0m \u001b[32m━━━━━━━━━━━━━━━━━━━━\u001b[0m\u001b[37m\u001b[0m \u001b[1m7s\u001b[0m 4ms/step - accuracy: 0.9982 - loss: 0.0053 - val_accuracy: 0.9913 - val_loss: 0.0338\n",
            "Epoch 16/25\n",
            "\u001b[1m1875/1875\u001b[0m \u001b[32m━━━━━━━━━━━━━━━━━━━━\u001b[0m\u001b[37m\u001b[0m \u001b[1m7s\u001b[0m 4ms/step - accuracy: 0.9990 - loss: 0.0037 - val_accuracy: 0.9918 - val_loss: 0.0306\n",
            "Epoch 17/25\n",
            "\u001b[1m1875/1875\u001b[0m \u001b[32m━━━━━━━━━━━━━━━━━━━━\u001b[0m\u001b[37m\u001b[0m \u001b[1m9s\u001b[0m 3ms/step - accuracy: 0.9996 - loss: 0.0020 - val_accuracy: 0.9896 - val_loss: 0.0409\n",
            "Epoch 18/25\n",
            "\u001b[1m1875/1875\u001b[0m \u001b[32m━━━━━━━━━━━━━━━━━━━━\u001b[0m\u001b[37m\u001b[0m \u001b[1m7s\u001b[0m 4ms/step - accuracy: 0.9988 - loss: 0.0041 - val_accuracy: 0.9928 - val_loss: 0.0299\n",
            "Epoch 19/25\n",
            "\u001b[1m1875/1875\u001b[0m \u001b[32m━━━━━━━━━━━━━━━━━━━━\u001b[0m\u001b[37m\u001b[0m \u001b[1m6s\u001b[0m 3ms/step - accuracy: 0.9997 - loss: 0.0012 - val_accuracy: 0.9921 - val_loss: 0.0321\n",
            "Epoch 20/25\n",
            "\u001b[1m1875/1875\u001b[0m \u001b[32m━━━━━━━━━━━━━━━━━━━━\u001b[0m\u001b[37m\u001b[0m \u001b[1m6s\u001b[0m 3ms/step - accuracy: 0.9996 - loss: 0.0013 - val_accuracy: 0.9926 - val_loss: 0.0324\n",
            "Epoch 21/25\n",
            "\u001b[1m1875/1875\u001b[0m \u001b[32m━━━━━━━━━━━━━━━━━━━━\u001b[0m\u001b[37m\u001b[0m \u001b[1m10s\u001b[0m 4ms/step - accuracy: 0.9999 - loss: 5.5790e-04 - val_accuracy: 0.9932 - val_loss: 0.0303\n",
            "Epoch 22/25\n",
            "\u001b[1m1875/1875\u001b[0m \u001b[32m━━━━━━━━━━━━━━━━━━━━\u001b[0m\u001b[37m\u001b[0m \u001b[1m6s\u001b[0m 3ms/step - accuracy: 0.9999 - loss: 3.8267e-04 - val_accuracy: 0.9921 - val_loss: 0.0323\n",
            "Epoch 23/25\n",
            "\u001b[1m1875/1875\u001b[0m \u001b[32m━━━━━━━━━━━━━━━━━━━━\u001b[0m\u001b[37m\u001b[0m \u001b[1m6s\u001b[0m 3ms/step - accuracy: 1.0000 - loss: 2.7286e-04 - val_accuracy: 0.9926 - val_loss: 0.0358\n",
            "Epoch 24/25\n",
            "\u001b[1m1875/1875\u001b[0m \u001b[32m━━━━━━━━━━━━━━━━━━━━\u001b[0m\u001b[37m\u001b[0m \u001b[1m10s\u001b[0m 3ms/step - accuracy: 0.9999 - loss: 4.3928e-04 - val_accuracy: 0.9926 - val_loss: 0.0329\n",
            "Epoch 25/25\n",
            "\u001b[1m1875/1875\u001b[0m \u001b[32m━━━━━━━━━━━━━━━━━━━━\u001b[0m\u001b[37m\u001b[0m \u001b[1m10s\u001b[0m 3ms/step - accuracy: 0.9999 - loss: 3.4337e-04 - val_accuracy: 0.9926 - val_loss: 0.0339\n",
            "CNN (25 epochs) - Test Accuracy: 99.26%\n",
            "CNN (25 epochs) - Layers: 7\n",
            "CNN (25 epochs) - Parameters: 61514\n",
            "CNN (25 epochs) - Training Time: 211.05 seconds\n",
            "CNN (25 epochs) - Test Time: 0.74 seconds\n",
            "\n",
            "Best epoch count for Base CNN: 25 with accuracy: 99.26%\n"
          ]
        }
      ],
      "source": [
        "print(\"\\n--- Step 2: B) + Epoch Tuning ---\")\n",
        "\n",
        "epoch_options = [10, 15, 20, 25]\n",
        "best_epoch_cnn = -1\n",
        "best_accuracy_cnn = 0\n",
        "best_history_cnn = None\n",
        "results_cnn_epoch_tuning = []\n",
        "\n",
        "print(\"\\nTesting different epoch values for Base CNN:\")\n",
        "for epochs in epoch_options:\n",
        "    print(f\"\\nTraining Base CNN with {epochs} epochs...\")\n",
        "    cnn_model = create_base_cnn_model()\n",
        "    if epochs == epoch_options[0]:  # Print summary only once\n",
        "        print(\"\\nCNN Model Summary:\")\n",
        "        cnn_model.summary()  # Ensure summary is printed\n",
        "\n",
        "    start_time_cnn_train = time.time()\n",
        "    history = cnn_model.fit(\n",
        "        x_train_cnn, y_train_ann,\n",
        "        epochs=epochs,\n",
        "        batch_size=32,\n",
        "        verbose=1,\n",
        "        validation_data=(x_test_cnn, y_test_ann)  # Evaluate on test set for simplicity here\n",
        "    )\n",
        "    end_time_cnn_train = time.time()\n",
        "    cnn_train_time = end_time_cnn_train - start_time_cnn_train\n",
        "\n",
        "    start_time_cnn_test = time.time()\n",
        "    loss_cnn, accuracy_cnn = cnn_model.evaluate(x_test_cnn, y_test_ann, verbose=0)\n",
        "    end_time_cnn_test = time.time()\n",
        "    cnn_test_time = end_time_cnn_test - start_time_cnn_test\n",
        "\n",
        "    print(f\"CNN ({epochs} epochs) - Test Accuracy: {accuracy_cnn*100:.2f}%\")\n",
        "    print(f\"CNN ({epochs} epochs) - Layers: {len(cnn_model.layers)}\")\n",
        "    print(f\"CNN ({epochs} epochs) - Parameters: {cnn_model.count_params()}\")\n",
        "    print(f\"CNN ({epochs} epochs) - Training Time: {cnn_train_time:.2f} seconds\")\n",
        "    print(f\"CNN ({epochs} epochs) - Test Time: {cnn_test_time:.2f} seconds\")\n",
        "\n",
        "    results_cnn_epoch_tuning.append({\n",
        "        'epochs': epochs,\n",
        "        'accuracy': accuracy_cnn,\n",
        "        'params': cnn_model.count_params(),\n",
        "        'layers': len(cnn_model.layers),\n",
        "        'train_time': cnn_train_time,\n",
        "        'test_time': cnn_test_time\n",
        "    })\n",
        "\n",
        "    if accuracy_cnn > best_accuracy_cnn:\n",
        "        best_accuracy_cnn = accuracy_cnn\n",
        "        best_epoch_cnn = epochs\n",
        "        best_history_cnn = history  # Store training history\n",
        "\n",
        "print(f\"\\nBest epoch count for Base CNN: {best_epoch_cnn} with accuracy: {best_accuracy_cnn*100:.2f}%\")"
      ]
    },
    {
      "cell_type": "code",
      "source": [
        "# Accuracy plot\n",
        "plt.figure(figsize=(12, 5))\n",
        "plt.subplot(1, 2, 1)\n",
        "plt.plot(best_history_cnn.history['accuracy'], label='Training Accuracy')\n",
        "plt.plot(best_history_cnn.history['val_accuracy'], label='Validation Accuracy')\n",
        "plt.title(f\"Accuracy Over Epochs (Best Epochs = {best_epoch_cnn})\")\n",
        "plt.xlabel('Epoch')\n",
        "plt.ylabel('Accuracy')\n",
        "plt.legend()\n",
        "plt.grid(True)\n",
        "\n",
        "# Loss plot\n",
        "plt.subplot(1, 2, 2)\n",
        "plt.plot(best_history_cnn.history['loss'], label='Training Loss')\n",
        "plt.plot(best_history_cnn.history['val_loss'], label='Validation Loss')\n",
        "plt.title(\"Loss Over Epochs\")\n",
        "plt.xlabel('Epoch')\n",
        "plt.ylabel('Loss')\n",
        "plt.legend()\n",
        "plt.grid(True)\n",
        "\n",
        "plt.tight_layout()\n",
        "plt.show()\n"
      ],
      "metadata": {
        "colab": {
          "base_uri": "https://localhost:8080/",
          "height": 507
        },
        "id": "KqZv0j1MkISW",
        "outputId": "02c68981-2e72-4282-a36d-14e4d43f9a9b"
      },
      "id": "KqZv0j1MkISW",
      "execution_count": 27,
      "outputs": [
        {
          "output_type": "display_data",
          "data": {
            "text/plain": [
              "<Figure size 1200x500 with 2 Axes>"
            ],
            "image/png": "[encoded data removed]"
          },
          "metadata": {}
        }
      ]
    },
    {
      "cell_type": "markdown",
      "id": "d17a9344",
      "metadata": {
        "id": "d17a9344"
      },
      "source": [
        "## Step 3: Learning Rate Testing\n",
        "- Fix best epoch from Step 2\n",
        "- Test learning rates (e.g., 0.01, 0.001, 0.0001)\n",
        "- Document impact on performance\n",
        "- Select optimal LR"
      ]
    },
    {
      "cell_type": "code",
      "execution_count": 28,
      "id": "ce002f73",
      "metadata": {
        "id": "ce002f73",
        "colab": {
          "base_uri": "https://localhost:8080/"
        },
        "outputId": "737e2709-bf7a-4969-8ed9-b54316a4f08c"
      },
      "outputs": [
        {
          "output_type": "stream",
          "name": "stdout",
          "text": [
            "\n",
            "--- Step 3: Learning Rate Testing ---\n",
            "Using fixed epoch count: 25\n",
            "\n",
            "Testing different learning rates for Base CNN:\n",
            "\n",
            "Training Base CNN with LR=0.01 for 25 epochs...\n",
            "Epoch 1/25\n",
            "\u001b[1m1875/1875\u001b[0m \u001b[32m━━━━━━━━━━━━━━━━━━━━\u001b[0m\u001b[37m\u001b[0m \u001b[1m8s\u001b[0m 3ms/step - accuracy: 0.6953 - loss: 1.0320 - val_accuracy: 0.9537 - val_loss: 0.1519\n",
            "Epoch 2/25\n",
            "\u001b[1m1875/1875\u001b[0m \u001b[32m━━━━━━━━━━━━━━━━━━━━\u001b[0m\u001b[37m\u001b[0m \u001b[1m9s\u001b[0m 3ms/step - accuracy: 0.9542 - loss: 0.1518 - val_accuracy: 0.9699 - val_loss: 0.1011\n",
            "Epoch 3/25\n",
            "\u001b[1m1875/1875\u001b[0m \u001b[32m━━━━━━━━━━━━━━━━━━━━\u001b[0m\u001b[37m\u001b[0m \u001b[1m10s\u001b[0m 3ms/step - accuracy: 0.9705 - loss: 0.0979 - val_accuracy: 0.9776 - val_loss: 0.0718\n",
            "Epoch 4/25\n",
            "\u001b[1m1875/1875\u001b[0m \u001b[32m━━━━━━━━━━━━━━━━━━━━\u001b[0m\u001b[37m\u001b[0m \u001b[1m10s\u001b[0m 3ms/step - accuracy: 0.9745 - loss: 0.0838 - val_accuracy: 0.9780 - val_loss: 0.0703\n",
            "Epoch 5/25\n",
            "\u001b[1m1875/1875\u001b[0m \u001b[32m━━━━━━━━━━━━━━━━━━━━\u001b[0m\u001b[37m\u001b[0m \u001b[1m6s\u001b[0m 3ms/step - accuracy: 0.9799 - loss: 0.0670 - val_accuracy: 0.9809 - val_loss: 0.0599\n",
            "Epoch 6/25\n",
            "\u001b[1m1875/1875\u001b[0m \u001b[32m━━━━━━━━━━━━━━━━━━━━\u001b[0m\u001b[37m\u001b[0m \u001b[1m7s\u001b[0m 4ms/step - accuracy: 0.9815 - loss: 0.0598 - val_accuracy: 0.9809 - val_loss: 0.0573\n",
            "Epoch 7/25\n",
            "\u001b[1m1875/1875\u001b[0m \u001b[32m━━━━━━━━━━━━━━━━━━━━\u001b[0m\u001b[37m\u001b[0m \u001b[1m7s\u001b[0m 4ms/step - accuracy: 0.9845 - loss: 0.0503 - val_accuracy: 0.9830 - val_loss: 0.0483\n",
            "Epoch 8/25\n",
            "\u001b[1m1875/1875\u001b[0m \u001b[32m━━━━━━━━━━━━━━━━━━━━\u001b[0m\u001b[37m\u001b[0m \u001b[1m7s\u001b[0m 4ms/step - accuracy: 0.9857 - loss: 0.0463 - val_accuracy: 0.9823 - val_loss: 0.0499\n",
            "Epoch 9/25\n",
            "\u001b[1m1875/1875\u001b[0m \u001b[32m━━━━━━━━━━━━━━━━━━━━\u001b[0m\u001b[37m\u001b[0m \u001b[1m6s\u001b[0m 3ms/step - accuracy: 0.9855 - loss: 0.0462 - val_accuracy: 0.9851 - val_loss: 0.0438\n",
            "Epoch 10/25\n",
            "\u001b[1m1875/1875\u001b[0m \u001b[32m━━━━━━━━━━━━━━━━━━━━\u001b[0m\u001b[37m\u001b[0m \u001b[1m11s\u001b[0m 3ms/step - accuracy: 0.9881 - loss: 0.0401 - val_accuracy: 0.9862 - val_loss: 0.0424\n",
            "Epoch 11/25\n",
            "\u001b[1m1875/1875\u001b[0m \u001b[32m━━━━━━━━━━━━━━━━━━━━\u001b[0m\u001b[37m\u001b[0m \u001b[1m6s\u001b[0m 3ms/step - accuracy: 0.9887 - loss: 0.0373 - val_accuracy: 0.9841 - val_loss: 0.0470\n",
            "Epoch 12/25\n",
            "\u001b[1m1875/1875\u001b[0m \u001b[32m━━━━━━━━━━━━━━━━━━━━\u001b[0m\u001b[37m\u001b[0m \u001b[1m11s\u001b[0m 3ms/step - accuracy: 0.9892 - loss: 0.0352 - val_accuracy: 0.9864 - val_loss: 0.0403\n",
            "Epoch 13/25\n",
            "\u001b[1m1875/1875\u001b[0m \u001b[32m━━━━━━━━━━━━━━━━━━━━\u001b[0m\u001b[37m\u001b[0m \u001b[1m10s\u001b[0m 3ms/step - accuracy: 0.9903 - loss: 0.0312 - val_accuracy: 0.9857 - val_loss: 0.0433\n",
            "Epoch 14/25\n",
            "\u001b[1m1875/1875\u001b[0m \u001b[32m━━━━━━━━━━━━━━━━━━━━\u001b[0m\u001b[37m\u001b[0m \u001b[1m6s\u001b[0m 3ms/step - accuracy: 0.9903 - loss: 0.0319 - val_accuracy: 0.9864 - val_loss: 0.0387\n",
            "Epoch 15/25\n",
            "\u001b[1m1875/1875\u001b[0m \u001b[32m━━━━━━━━━━━━━━━━━━━━\u001b[0m\u001b[37m\u001b[0m \u001b[1m6s\u001b[0m 3ms/step - accuracy: 0.9910 - loss: 0.0291 - val_accuracy: 0.9860 - val_loss: 0.0407\n",
            "Epoch 16/25\n",
            "\u001b[1m1875/1875\u001b[0m \u001b[32m━━━━━━━━━━━━━━━━━━━━\u001b[0m\u001b[37m\u001b[0m \u001b[1m11s\u001b[0m 3ms/step - accuracy: 0.9910 - loss: 0.0286 - val_accuracy: 0.9864 - val_loss: 0.0392\n",
            "Epoch 17/25\n",
            "\u001b[1m1875/1875\u001b[0m \u001b[32m━━━━━━━━━━━━━━━━━━━━\u001b[0m\u001b[37m\u001b[0m \u001b[1m10s\u001b[0m 3ms/step - accuracy: 0.9916 - loss: 0.0272 - val_accuracy: 0.9876 - val_loss: 0.0353\n",
            "Epoch 18/25\n",
            "\u001b[1m1875/1875\u001b[0m \u001b[32m━━━━━━━━━━━━━━━━━━━━\u001b[0m\u001b[37m\u001b[0m \u001b[1m7s\u001b[0m 4ms/step - accuracy: 0.9928 - loss: 0.0243 - val_accuracy: 0.9881 - val_loss: 0.0354\n",
            "Epoch 19/25\n",
            "\u001b[1m1875/1875\u001b[0m \u001b[32m━━━━━━━━━━━━━━━━━━━━\u001b[0m\u001b[37m\u001b[0m \u001b[1m10s\u001b[0m 3ms/step - accuracy: 0.9932 - loss: 0.0222 - val_accuracy: 0.9875 - val_loss: 0.0363\n",
            "Epoch 20/25\n",
            "\u001b[1m1875/1875\u001b[0m \u001b[32m━━━━━━━━━━━━━━━━━━━━\u001b[0m\u001b[37m\u001b[0m \u001b[1m6s\u001b[0m 3ms/step - accuracy: 0.9928 - loss: 0.0226 - val_accuracy: 0.9893 - val_loss: 0.0324\n",
            "Epoch 21/25\n",
            "\u001b[1m1875/1875\u001b[0m \u001b[32m━━━━━━━━━━━━━━━━━━━━\u001b[0m\u001b[37m\u001b[0m \u001b[1m10s\u001b[0m 3ms/step - accuracy: 0.9940 - loss: 0.0204 - val_accuracy: 0.9889 - val_loss: 0.0325\n",
            "Epoch 22/25\n",
            "\u001b[1m1875/1875\u001b[0m \u001b[32m━━━━━━━━━━━━━━━━━━━━\u001b[0m\u001b[37m\u001b[0m \u001b[1m7s\u001b[0m 4ms/step - accuracy: 0.9940 - loss: 0.0199 - val_accuracy: 0.9899 - val_loss: 0.0327\n",
            "Epoch 23/25\n",
            "\u001b[1m1875/1875\u001b[0m \u001b[32m━━━━━━━━━━━━━━━━━━━━\u001b[0m\u001b[37m\u001b[0m \u001b[1m6s\u001b[0m 3ms/step - accuracy: 0.9948 - loss: 0.0188 - val_accuracy: 0.9889 - val_loss: 0.0338\n",
            "Epoch 24/25\n",
            "\u001b[1m1875/1875\u001b[0m \u001b[32m━━━━━━━━━━━━━━━━━━━━\u001b[0m\u001b[37m\u001b[0m \u001b[1m6s\u001b[0m 3ms/step - accuracy: 0.9945 - loss: 0.0172 - val_accuracy: 0.9869 - val_loss: 0.0391\n",
            "Epoch 25/25\n",
            "\u001b[1m1875/1875\u001b[0m \u001b[32m━━━━━━━━━━━━━━━━━━━━\u001b[0m\u001b[37m\u001b[0m \u001b[1m6s\u001b[0m 3ms/step - accuracy: 0.9954 - loss: 0.0165 - val_accuracy: 0.9889 - val_loss: 0.0363\n",
            "CNN (LR=0.01) - Test Accuracy: 98.89%\n",
            "CNN (LR=0.01) - Training Time: 203.15 seconds\n",
            "\n",
            "Training Base CNN with LR=0.001 for 25 epochs...\n",
            "Epoch 1/25\n",
            "\u001b[1m1875/1875\u001b[0m \u001b[32m━━━━━━━━━━━━━━━━━━━━\u001b[0m\u001b[37m\u001b[0m \u001b[1m7s\u001b[0m 4ms/step - accuracy: 0.2185 - loss: 2.2728 - val_accuracy: 0.6257 - val_loss: 1.9453\n",
            "Epoch 2/25\n",
            "\u001b[1m1875/1875\u001b[0m \u001b[32m━━━━━━━━━━━━━━━━━━━━\u001b[0m\u001b[37m\u001b[0m \u001b[1m10s\u001b[0m 3ms/step - accuracy: 0.6827 - loss: 1.5071 - val_accuracy: 0.8462 - val_loss: 0.5640\n",
            "Epoch 3/25\n",
            "\u001b[1m1875/1875\u001b[0m \u001b[32m━━━━━━━━━━━━━━━━━━━━\u001b[0m\u001b[37m\u001b[0m \u001b[1m6s\u001b[0m 3ms/step - accuracy: 0.8533 - loss: 0.5246 - val_accuracy: 0.8816 - val_loss: 0.3934\n",
            "Epoch 4/25\n",
            "\u001b[1m1875/1875\u001b[0m \u001b[32m━━━━━━━━━━━━━━━━━━━━\u001b[0m\u001b[37m\u001b[0m \u001b[1m10s\u001b[0m 3ms/step - accuracy: 0.8837 - loss: 0.3948 - val_accuracy: 0.9054 - val_loss: 0.3218\n",
            "Epoch 5/25\n",
            "\u001b[1m1875/1875\u001b[0m \u001b[32m━━━━━━━━━━━━━━━━━━━━\u001b[0m\u001b[37m\u001b[0m \u001b[1m10s\u001b[0m 3ms/step - accuracy: 0.9026 - loss: 0.3288 - val_accuracy: 0.9204 - val_loss: 0.2761\n",
            "Epoch 6/25\n",
            "\u001b[1m1875/1875\u001b[0m \u001b[32m━━━━━━━━━━━━━━━━━━━━\u001b[0m\u001b[37m\u001b[0m \u001b[1m10s\u001b[0m 3ms/step - accuracy: 0.9127 - loss: 0.2920 - val_accuracy: 0.9286 - val_loss: 0.2451\n",
            "Epoch 7/25\n",
            "\u001b[1m1875/1875\u001b[0m \u001b[32m━━━━━━━━━━━━━━━━━━━━\u001b[0m\u001b[37m\u001b[0m \u001b[1m10s\u001b[0m 3ms/step - accuracy: 0.9251 - loss: 0.2550 - val_accuracy: 0.9359 - val_loss: 0.2161\n",
            "Epoch 8/25\n",
            "\u001b[1m1875/1875\u001b[0m \u001b[32m━━━━━━━━━━━━━━━━━━━━\u001b[0m\u001b[37m\u001b[0m \u001b[1m7s\u001b[0m 4ms/step - accuracy: 0.9324 - loss: 0.2243 - val_accuracy: 0.9420 - val_loss: 0.1987\n",
            "Epoch 9/25\n",
            "\u001b[1m1875/1875\u001b[0m \u001b[32m━━━━━━━━━━━━━━━━━━━━\u001b[0m\u001b[37m\u001b[0m \u001b[1m10s\u001b[0m 4ms/step - accuracy: 0.9390 - loss: 0.2023 - val_accuracy: 0.9492 - val_loss: 0.1749\n",
            "Epoch 10/25\n",
            "\u001b[1m1875/1875\u001b[0m \u001b[32m━━━━━━━━━━━━━━━━━━━━\u001b[0m\u001b[37m\u001b[0m \u001b[1m6s\u001b[0m 3ms/step - accuracy: 0.9457 - loss: 0.1825 - val_accuracy: 0.9552 - val_loss: 0.1564\n",
            "Epoch 11/25\n",
            "\u001b[1m1875/1875\u001b[0m \u001b[32m━━━━━━━━━━━━━━━━━━━━\u001b[0m\u001b[37m\u001b[0m \u001b[1m7s\u001b[0m 4ms/step - accuracy: 0.9507 - loss: 0.1682 - val_accuracy: 0.9594 - val_loss: 0.1437\n",
            "Epoch 12/25\n",
            "\u001b[1m1875/1875\u001b[0m \u001b[32m━━━━━━━━━━━━━━━━━━━━\u001b[0m\u001b[37m\u001b[0m \u001b[1m8s\u001b[0m 4ms/step - accuracy: 0.9543 - loss: 0.1566 - val_accuracy: 0.9610 - val_loss: 0.1349\n",
            "Epoch 13/25\n",
            "\u001b[1m1875/1875\u001b[0m \u001b[32m━━━━━━━━━━━━━━━━━━━━\u001b[0m\u001b[37m\u001b[0m \u001b[1m12s\u001b[0m 5ms/step - accuracy: 0.9582 - loss: 0.1455 - val_accuracy: 0.9616 - val_loss: 0.1287\n",
            "Epoch 14/25\n",
            "\u001b[1m1875/1875\u001b[0m \u001b[32m━━━━━━━━━━━━━━━━━━━━\u001b[0m\u001b[37m\u001b[0m \u001b[1m7s\u001b[0m 4ms/step - accuracy: 0.9608 - loss: 0.1342 - val_accuracy: 0.9668 - val_loss: 0.1164\n",
            "Epoch 15/25\n",
            "\u001b[1m1875/1875\u001b[0m \u001b[32m━━━━━━━━━━━━━━━━━━━━\u001b[0m\u001b[37m\u001b[0m \u001b[1m6s\u001b[0m 3ms/step - accuracy: 0.9631 - loss: 0.1282 - val_accuracy: 0.9678 - val_loss: 0.1108\n",
            "Epoch 16/25\n",
            "\u001b[1m1875/1875\u001b[0m \u001b[32m━━━━━━━━━━━━━━━━━━━━\u001b[0m\u001b[37m\u001b[0m \u001b[1m10s\u001b[0m 3ms/step - accuracy: 0.9643 - loss: 0.1208 - val_accuracy: 0.9675 - val_loss: 0.1074\n",
            "Epoch 17/25\n",
            "\u001b[1m1875/1875\u001b[0m \u001b[32m━━━━━━━━━━━━━━━━━━━━\u001b[0m\u001b[37m\u001b[0m \u001b[1m8s\u001b[0m 4ms/step - accuracy: 0.9659 - loss: 0.1152 - val_accuracy: 0.9704 - val_loss: 0.1007\n",
            "Epoch 18/25\n",
            "\u001b[1m1875/1875\u001b[0m \u001b[32m━━━━━━━━━━━━━━━━━━━━\u001b[0m\u001b[37m\u001b[0m \u001b[1m6s\u001b[0m 3ms/step - accuracy: 0.9673 - loss: 0.1090 - val_accuracy: 0.9698 - val_loss: 0.0993\n",
            "Epoch 19/25\n",
            "\u001b[1m1875/1875\u001b[0m \u001b[32m━━━━━━━━━━━━━━━━━━━━\u001b[0m\u001b[37m\u001b[0m \u001b[1m10s\u001b[0m 3ms/step - accuracy: 0.9693 - loss: 0.1062 - val_accuracy: 0.9716 - val_loss: 0.0962\n",
            "Epoch 20/25\n",
            "\u001b[1m1875/1875\u001b[0m \u001b[32m━━━━━━━━━━━━━━━━━━━━\u001b[0m\u001b[37m\u001b[0m \u001b[1m6s\u001b[0m 3ms/step - accuracy: 0.9701 - loss: 0.1028 - val_accuracy: 0.9720 - val_loss: 0.0888\n",
            "Epoch 21/25\n",
            "\u001b[1m1875/1875\u001b[0m \u001b[32m━━━━━━━━━━━━━━━━━━━━\u001b[0m\u001b[37m\u001b[0m \u001b[1m10s\u001b[0m 3ms/step - accuracy: 0.9696 - loss: 0.1004 - val_accuracy: 0.9727 - val_loss: 0.0883\n",
            "Epoch 22/25\n",
            "\u001b[1m1875/1875\u001b[0m \u001b[32m━━━━━━━━━━━━━━━━━━━━\u001b[0m\u001b[37m\u001b[0m \u001b[1m10s\u001b[0m 3ms/step - accuracy: 0.9714 - loss: 0.0974 - val_accuracy: 0.9739 - val_loss: 0.0873\n",
            "Epoch 23/25\n",
            "\u001b[1m1875/1875\u001b[0m \u001b[32m━━━━━━━━━━━━━━━━━━━━\u001b[0m\u001b[37m\u001b[0m \u001b[1m6s\u001b[0m 3ms/step - accuracy: 0.9723 - loss: 0.0895 - val_accuracy: 0.9755 - val_loss: 0.0841\n",
            "Epoch 24/25\n",
            "\u001b[1m1875/1875\u001b[0m \u001b[32m━━━━━━━━━━━━━━━━━━━━\u001b[0m\u001b[37m\u001b[0m \u001b[1m7s\u001b[0m 3ms/step - accuracy: 0.9734 - loss: 0.0886 - val_accuracy: 0.9758 - val_loss: 0.0788\n",
            "Epoch 25/25\n",
            "\u001b[1m1875/1875\u001b[0m \u001b[32m━━━━━━━━━━━━━━━━━━━━\u001b[0m\u001b[37m\u001b[0m \u001b[1m10s\u001b[0m 3ms/step - accuracy: 0.9729 - loss: 0.0859 - val_accuracy: 0.9762 - val_loss: 0.0777\n",
            "CNN (LR=0.001) - Test Accuracy: 97.62%\n",
            "CNN (LR=0.001) - Training Time: 210.40 seconds\n",
            "\n",
            "Training Base CNN with LR=0.0001 for 25 epochs...\n",
            "Epoch 1/25\n",
            "\u001b[1m1875/1875\u001b[0m \u001b[32m━━━━━━━━━━━━━━━━━━━━\u001b[0m\u001b[37m\u001b[0m \u001b[1m8s\u001b[0m 4ms/step - accuracy: 0.1428 - loss: 2.2890 - val_accuracy: 0.2230 - val_loss: 2.2675\n",
            "Epoch 2/25\n",
            "\u001b[1m1875/1875\u001b[0m \u001b[32m━━━━━━━━━━━━━━━━━━━━\u001b[0m\u001b[37m\u001b[0m \u001b[1m9s\u001b[0m 3ms/step - accuracy: 0.2500 - loss: 2.2627 - val_accuracy: 0.3151 - val_loss: 2.2396\n",
            "Epoch 3/25\n",
            "\u001b[1m1875/1875\u001b[0m \u001b[32m━━━━━━━━━━━━━━━━━━━━\u001b[0m\u001b[37m\u001b[0m \u001b[1m6s\u001b[0m 3ms/step - accuracy: 0.3300 - loss: 2.2347 - val_accuracy: 0.4077 - val_loss: 2.2076\n",
            "Epoch 4/25\n",
            "\u001b[1m1875/1875\u001b[0m \u001b[32m━━━━━━━━━━━━━━━━━━━━\u001b[0m\u001b[37m\u001b[0m \u001b[1m11s\u001b[0m 4ms/step - accuracy: 0.4301 - loss: 2.2020 - val_accuracy: 0.5189 - val_loss: 2.1664\n",
            "Epoch 5/25\n",
            "\u001b[1m1875/1875\u001b[0m \u001b[32m━━━━━━━━━━━━━━━━━━━━\u001b[0m\u001b[37m\u001b[0m \u001b[1m10s\u001b[0m 3ms/step - accuracy: 0.5250 - loss: 2.1597 - val_accuracy: 0.5898 - val_loss: 2.1106\n",
            "Epoch 6/25\n",
            "\u001b[1m1875/1875\u001b[0m \u001b[32m━━━━━━━━━━━━━━━━━━━━\u001b[0m\u001b[37m\u001b[0m \u001b[1m11s\u001b[0m 4ms/step - accuracy: 0.5869 - loss: 2.0997 - val_accuracy: 0.6343 - val_loss: 2.0313\n",
            "Epoch 7/25\n",
            "\u001b[1m1875/1875\u001b[0m \u001b[32m━━━━━━━━━━━━━━━━━━━━\u001b[0m\u001b[37m\u001b[0m \u001b[1m7s\u001b[0m 4ms/step - accuracy: 0.6334 - loss: 2.0119 - val_accuracy: 0.6864 - val_loss: 1.9134\n",
            "Epoch 8/25\n",
            "\u001b[1m1875/1875\u001b[0m \u001b[32m━━━━━━━━━━━━━━━━━━━━\u001b[0m\u001b[37m\u001b[0m \u001b[1m10s\u001b[0m 3ms/step - accuracy: 0.6807 - loss: 1.8840 - val_accuracy: 0.7214 - val_loss: 1.7372\n",
            "Epoch 9/25\n",
            "\u001b[1m1875/1875\u001b[0m \u001b[32m━━━━━━━━━━━━━━━━━━━━\u001b[0m\u001b[37m\u001b[0m \u001b[1m6s\u001b[0m 3ms/step - accuracy: 0.7127 - loss: 1.6952 - val_accuracy: 0.7476 - val_loss: 1.4942\n",
            "Epoch 10/25\n",
            "\u001b[1m1875/1875\u001b[0m \u001b[32m━━━━━━━━━━━━━━━━━━━━\u001b[0m\u001b[37m\u001b[0m \u001b[1m11s\u001b[0m 4ms/step - accuracy: 0.7370 - loss: 1.4426 - val_accuracy: 0.7871 - val_loss: 1.2185\n",
            "Epoch 11/25\n",
            "\u001b[1m1875/1875\u001b[0m \u001b[32m━━━━━━━━━━━━━━━━━━━━\u001b[0m\u001b[37m\u001b[0m \u001b[1m6s\u001b[0m 3ms/step - accuracy: 0.7805 - loss: 1.1755 - val_accuracy: 0.8077 - val_loss: 0.9764\n",
            "Epoch 12/25\n",
            "\u001b[1m1875/1875\u001b[0m \u001b[32m━━━━━━━━━━━━━━━━━━━━\u001b[0m\u001b[37m\u001b[0m \u001b[1m11s\u001b[0m 4ms/step - accuracy: 0.8059 - loss: 0.9554 - val_accuracy: 0.8278 - val_loss: 0.8017\n",
            "Epoch 13/25\n",
            "\u001b[1m1875/1875\u001b[0m \u001b[32m━━━━━━━━━━━━━━━━━━━━\u001b[0m\u001b[37m\u001b[0m \u001b[1m6s\u001b[0m 3ms/step - accuracy: 0.8220 - loss: 0.8000 - val_accuracy: 0.8417 - val_loss: 0.6848\n",
            "Epoch 14/25\n",
            "\u001b[1m1875/1875\u001b[0m \u001b[32m━━━━━━━━━━━━━━━━━━━━\u001b[0m\u001b[37m\u001b[0m \u001b[1m11s\u001b[0m 4ms/step - accuracy: 0.8339 - loss: 0.6883 - val_accuracy: 0.8491 - val_loss: 0.6064\n",
            "Epoch 15/25\n",
            "\u001b[1m1875/1875\u001b[0m \u001b[32m━━━━━━━━━━━━━━━━━━━━\u001b[0m\u001b[37m\u001b[0m \u001b[1m10s\u001b[0m 3ms/step - accuracy: 0.8451 - loss: 0.6188 - val_accuracy: 0.8571 - val_loss: 0.5528\n",
            "Epoch 16/25\n",
            "\u001b[1m1875/1875\u001b[0m \u001b[32m━━━━━━━━━━━━━━━━━━━━\u001b[0m\u001b[37m\u001b[0m \u001b[1m6s\u001b[0m 3ms/step - accuracy: 0.8490 - loss: 0.5725 - val_accuracy: 0.8628 - val_loss: 0.5131\n",
            "Epoch 17/25\n",
            "\u001b[1m1875/1875\u001b[0m \u001b[32m━━━━━━━━━━━━━━━━━━━━\u001b[0m\u001b[37m\u001b[0m \u001b[1m10s\u001b[0m 3ms/step - accuracy: 0.8584 - loss: 0.5310 - val_accuracy: 0.8676 - val_loss: 0.4808\n",
            "Epoch 18/25\n",
            "\u001b[1m1875/1875\u001b[0m \u001b[32m━━━━━━━━━━━━━━━━━━━━\u001b[0m\u001b[37m\u001b[0m \u001b[1m7s\u001b[0m 3ms/step - accuracy: 0.8631 - loss: 0.4991 - val_accuracy: 0.8705 - val_loss: 0.4570\n",
            "Epoch 19/25\n",
            "\u001b[1m1875/1875\u001b[0m \u001b[32m━━━━━━━━━━━━━━━━━━━━\u001b[0m\u001b[37m\u001b[0m \u001b[1m10s\u001b[0m 3ms/step - accuracy: 0.8682 - loss: 0.4756 - val_accuracy: 0.8749 - val_loss: 0.4377\n",
            "Epoch 20/25\n",
            "\u001b[1m1875/1875\u001b[0m \u001b[32m━━━━━━━━━━━━━━━━━━━━\u001b[0m\u001b[37m\u001b[0m \u001b[1m6s\u001b[0m 3ms/step - accuracy: 0.8715 - loss: 0.4609 - val_accuracy: 0.8774 - val_loss: 0.4219\n",
            "Epoch 21/25\n",
            "\u001b[1m1875/1875\u001b[0m \u001b[32m━━━━━━━━━━━━━━━━━━━━\u001b[0m\u001b[37m\u001b[0m \u001b[1m11s\u001b[0m 4ms/step - accuracy: 0.8739 - loss: 0.4437 - val_accuracy: 0.8812 - val_loss: 0.4078\n",
            "Epoch 22/25\n",
            "\u001b[1m1875/1875\u001b[0m \u001b[32m━━━━━━━━━━━━━━━━━━━━\u001b[0m\u001b[37m\u001b[0m \u001b[1m10s\u001b[0m 3ms/step - accuracy: 0.8801 - loss: 0.4226 - val_accuracy: 0.8857 - val_loss: 0.3953\n",
            "Epoch 23/25\n",
            "\u001b[1m1875/1875\u001b[0m \u001b[32m━━━━━━━━━━━━━━━━━━━━\u001b[0m\u001b[37m\u001b[0m \u001b[1m10s\u001b[0m 3ms/step - accuracy: 0.8820 - loss: 0.4153 - val_accuracy: 0.8886 - val_loss: 0.3849\n",
            "Epoch 24/25\n",
            "\u001b[1m1875/1875\u001b[0m \u001b[32m━━━━━━━━━━━━━━━━━━━━\u001b[0m\u001b[37m\u001b[0m \u001b[1m10s\u001b[0m 3ms/step - accuracy: 0.8827 - loss: 0.4050 - val_accuracy: 0.8913 - val_loss: 0.3746\n",
            "Epoch 25/25\n",
            "\u001b[1m1875/1875\u001b[0m \u001b[32m━━━━━━━━━━━━━━━━━━━━\u001b[0m\u001b[37m\u001b[0m \u001b[1m11s\u001b[0m 3ms/step - accuracy: 0.8825 - loss: 0.4059 - val_accuracy: 0.8939 - val_loss: 0.3659\n",
            "CNN (LR=0.0001) - Test Accuracy: 89.39%\n",
            "CNN (LR=0.0001) - Training Time: 227.52 seconds\n",
            "\n",
            "Best learning rate for Base CNN: 0.01 with accuracy: 98.89%\n"
          ]
        }
      ],
      "source": [
        "print(\"\\n--- Step 3: Learning Rate Testing ---\")\n",
        "\n",
        "# Use the best_epoch_cnn from Step 2\n",
        "fixed_epochs_for_lr_testing = best_epoch_cnn\n",
        "print(f\"Using fixed epoch count: {fixed_epochs_for_lr_testing}\")\n",
        "\n",
        "learning_rate_options = [0.01, 0.001, 0.0001]  # As suggested\n",
        "best_lr_cnn = -1\n",
        "best_accuracy_lr_cnn = 0\n",
        "results_cnn_lr_tuning = []\n",
        "\n",
        "\n",
        "def create_cnn_model_for_lr_testing(learning_rate):\n",
        "  model = Sequential([\n",
        "      Conv2D(32, (3, 3), activation='relu', input_shape=(28, 28, 1)),\n",
        "      MaxPooling2D((2, 2)),\n",
        "      Conv2D(64, (3, 3), activation='relu'),\n",
        "      MaxPooling2D((2, 2)),\n",
        "      Conv2D(64, (3, 3), activation='relu'),\n",
        "      Flatten(),\n",
        "      Dense(10, activation='softmax')\n",
        "  ])\n",
        "  optimizer = SGD(learning_rate=learning_rate)\n",
        "  model.compile(optimizer=optimizer,\n",
        "                loss='categorical_crossentropy',\n",
        "                metrics=['accuracy'])\n",
        "  return model\n",
        "\n",
        "\n",
        "print(\"\\nTesting different learning rates for Base CNN:\")\n",
        "for lr in learning_rate_options:\n",
        "  print(\n",
        "      f\"\\nTraining Base CNN with LR={lr} for {fixed_epochs_for_lr_testing} epochs...\")\n",
        "  cnn_lr_model = create_cnn_model_for_lr_testing(learning_rate=lr)\n",
        "  # No need to print summary repeatedly, structure is same as base CNN\n",
        "\n",
        "  start_time_cnn_lr_train = time.time()\n",
        "  history_lr = cnn_lr_model.fit(x_train_cnn, y_train_ann,\n",
        "                                epochs=fixed_epochs_for_lr_testing,\n",
        "                                batch_size=32,\n",
        "                                verbose=1,\n",
        "                                validation_data=(x_test_cnn, y_test_ann)\n",
        "                                )\n",
        "  end_time_cnn_lr_train = time.time()\n",
        "  cnn_lr_train_time = end_time_cnn_lr_train - start_time_cnn_lr_train\n",
        "\n",
        "  loss_cnn_lr, accuracy_cnn_lr = cnn_lr_model.evaluate(\n",
        "      x_test_cnn, y_test_ann, verbose=0)\n",
        "\n",
        "  print(f\"CNN (LR={lr}) - Test Accuracy: {accuracy_cnn_lr*100:.2f}%\")\n",
        "  print(f\"CNN (LR={lr}) - Training Time: {cnn_lr_train_time:.2f} seconds\")\n",
        "\n",
        "  results_cnn_lr_tuning.append({\n",
        "      'learning_rate': lr,\n",
        "      'accuracy': accuracy_cnn_lr,\n",
        "      'train_time': cnn_lr_train_time,\n",
        "      # Params and layers are same as base CNN, so not logged again unless model changes\n",
        "  })\n",
        "\n",
        "  if accuracy_cnn_lr > best_accuracy_lr_cnn:\n",
        "    best_accuracy_lr_cnn = accuracy_cnn_lr\n",
        "    best_lr_cnn = lr\n",
        "\n",
        "print(\n",
        "    f\"\\nBest learning rate for Base CNN: {best_lr_cnn} with accuracy: {best_accuracy_lr_cnn*100:.2f}%\")"
      ]
    },
    {
      "cell_type": "code",
      "source": [
        "learning_rates = [res['learning_rate'] for res in results_cnn_lr_tuning]\n",
        "accuracies = [res['accuracy'] for res in results_cnn_lr_tuning]\n",
        "\n",
        "plt.figure(figsize=(8, 5))\n",
        "plt.plot(learning_rates, accuracies, marker='o')\n",
        "plt.xscale('log')\n",
        "plt.xlabel(\"Learning Rate (log scale)\")\n",
        "plt.ylabel(\"Test Accuracy\")\n",
        "plt.title(\"Learning Rate vs Test Accuracy\")\n",
        "plt.grid(True)\n",
        "plt.show()\n"
      ],
      "metadata": {
        "colab": {
          "base_uri": "https://localhost:8080/",
          "height": 492
        },
        "id": "uWixNvhXoCut",
        "outputId": "eff8b464-fe8c-4623-e161-7ed57f11c5fc"
      },
      "id": "uWixNvhXoCut",
      "execution_count": 29,
      "outputs": [
        {
          "output_type": "display_data",
          "data": {
            "text/plain": [
              "<Figure size 800x500 with 1 Axes>"
            ],
            "image/png": "[encoded data removed]"
          },
          "metadata": {}
        }
      ]
    },
    {
      "cell_type": "markdown",
      "id": "d60309c4",
      "metadata": {
        "id": "d60309c4"
      },
      "source": [
        "## Step 4: Model Architecture Variation\n",
        "- Test models with different Conv/FC layers (3 Conv max, 4 FC max)\n",
        "- Aim for high accuracy with fewer params\n",
        "- Document 4+ different configs\n",
        "- Capture full Segment B data"
      ]
    },
    {
      "cell_type": "code",
      "execution_count": 30,
      "id": "1951e9fb",
      "metadata": {
        "id": "1951e9fb",
        "colab": {
          "base_uri": "https://localhost:8080/"
        },
        "outputId": "e258731a-f713-42d9-e377-1aaad7d4cfd3"
      },
      "outputs": [
        {
          "output_type": "stream",
          "name": "stdout",
          "text": [
            "\n",
            "--- Step 4: Model Architecture Variation ---\n",
            "Using fixed epochs: 25, fixed LR: 0.01\n"
          ]
        }
      ],
      "source": [
        "print(\"\\n--- Step 4: Model Architecture Variation ---\")\n",
        "\n",
        "# Use best settings from Step 2 and 3\n",
        "fixed_epochs_arch = best_epoch_cnn\n",
        "fixed_lr_arch = best_lr_cnn\n",
        "print(f\"Using fixed epochs: {fixed_epochs_arch}, fixed LR: {fixed_lr_arch}\")\n",
        "\n",
        "# Store results for architecture variations\n",
        "arch_variation_results = []\n",
        "\n",
        "\n",
        "def create_variable_cnn_model(conv_layers_config, fc_layers_config, learning_rate):\n",
        "  \"\"\"\n",
        "  Creates a CNN model based on specified convolutional and fully connected layer configurations.\n",
        "  conv_layers_config: list of tuples, e.g., [(filters, kernel_size), ...]\n",
        "                      Kernel size should be (size, size)\n",
        "  fc_layers_config: list of integers, e.g., [neurons_fc1, neurons_fc2, ...]\n",
        "                      Each <= 512 as per constraints.\n",
        "  \"\"\"\n",
        "  model = Sequential()\n",
        "  model.add(Conv2D(conv_layers_config[0][0], conv_layers_config[0]\n",
        "            [1], activation='relu', input_shape=(28, 28, 1)))\n",
        "  model.add(MaxPooling2D((2, 2)))\n",
        "\n",
        "  for i in range(1, len(conv_layers_config)):\n",
        "    if i < 3:  # Max 3 Conv layers including the first one implies 2 more here\n",
        "      model.add(\n",
        "          Conv2D(conv_layers_config[i][0], conv_layers_config[i][1], activation='relu'))\n",
        "      model.add(MaxPooling2D((2, 2)))\n",
        "    else:\n",
        "      # If more conv_layers are specified than allowed, we might add them without pooling or break\n",
        "      # For now, sticking to max 3 conv blocks with pooling\n",
        "      print(f\"Warning: Exceeding 3 Conv layers with pooling. Additional Conv layers ignored in this setup.\")\n",
        "      break\n",
        "\n",
        "  model.add(Flatten())\n",
        "\n",
        "  for i in range(len(fc_layers_config)):\n",
        "    if i < 4:  # Max 4 FC layers (excluding output layer, or including it?)\n",
        "        # Assuming this constraint is for hidden FC layers.\n",
        "      neurons = fc_layers_config[i]\n",
        "      if neurons > 512:\n",
        "        print(\n",
        "            f\"Warning: FC layer {i+1} with {neurons} neurons exceeds 512. Capping to 512.\")\n",
        "        neurons = 512\n",
        "      model.add(Dense(neurons, activation='relu'))\n",
        "    else:\n",
        "      print(f\"Warning: Exceeding 4 FC layers. Additional FC layers ignored.\")\n",
        "      break\n",
        "\n",
        "  model.add(Dense(10, activation='softmax'))  # Output layer\n",
        "\n",
        "  optimizer = SGD(learning_rate=learning_rate)\n",
        "  model.compile(optimizer=optimizer,\n",
        "                loss='categorical_crossentropy',\n",
        "                metrics=['accuracy'])\n",
        "  return model"
      ]
    },
    {
      "cell_type": "code",
      "execution_count": 31,
      "id": "0901161b",
      "metadata": {
        "id": "0901161b"
      },
      "outputs": [],
      "source": [
        "\"\"\"\n",
        "Defining some architectures to test\n",
        "Config format: (conv_layer_specs, fc_layer_specs)\n",
        "conv_layer_spec: list of (filters, (kernel_x, kernel_y))\n",
        "fc_layer_spec: list of (neuron_count)\n",
        "\"\"\"\n",
        "\n",
        "architectures_to_test = [\n",
        "    # Config 1: Base model (3 Conv, 0 hidden FC - already tested, but good baseline here)\n",
        "    {'name': '3Conv_0HiddenFC',\n",
        "     'conv': [(32, (3, 3)), (64, (3, 3)), (64, (3, 3))],\n",
        "     'fc': []},\n",
        "    # Config 2: 2 Conv, 1 Hidden FC (128 neurons)\n",
        "    {'name': '2Conv_1HiddenFC_128',\n",
        "     'conv': [(32, (3, 3)), (64, (3, 3))],\n",
        "     'fc': [128]},\n",
        "    # Config 3: 3 Conv, 1 Hidden FC (64 neurons) - fewer params than base + FC\n",
        "    {'name': '3Conv_1HiddenFC_64',\n",
        "     'conv': [(32, (3, 3)), (64, (3, 3)), (64, (3, 3))],\n",
        "     'fc': [64]},\n",
        "    # Config 4: 2 Conv, 2 Hidden FC (128, 64 neurons)\n",
        "    {'name': '2Conv_2HiddenFC_128_64',\n",
        "     'conv': [(32, (5, 5)), (64, (5, 5))],  # Using 5x5 kernels here\n",
        "     'fc': [128, 64]},\n",
        "    # Config 5: 1 Conv, 1 Hidden FC (256 neurons) - fewer conv, more FC\n",
        "    {'name': '1Conv_1HiddenFC_256',\n",
        "     'conv': [(64, (5, 5))],\n",
        "     'fc': [256]},\n",
        "]"
      ]
    },
    {
      "cell_type": "code",
      "execution_count": 32,
      "id": "531c0120",
      "metadata": {
        "id": "531c0120",
        "colab": {
          "base_uri": "https://localhost:8080/",
          "height": 1000
        },
        "outputId": "c0054cfe-d47f-40e6-9c7d-00fa6a0c695e"
      },
      "outputs": [
        {
          "output_type": "stream",
          "name": "stdout",
          "text": [
            "\n",
            "Testing different CNN architectures:\n",
            "\n",
            "--- Architecture 1: 3Conv_0HiddenFC ---\n"
          ]
        },
        {
          "output_type": "display_data",
          "data": {
            "text/plain": [
              "\u001b[1mModel: \"sequential_9\"\u001b[0m\n"
            ],
            "text/html": [
              "<pre style=\"white-space:pre;overflow-x:auto;line-height:normal;font-family:Menlo,'DejaVu Sans Mono',consolas,'Courier New',monospace\"><span style=\"font-weight: bold\">Model: \"sequential_9\"</span>\n",
              "</pre>\n"
            ]
          },
          "metadata": {}
        },
        {
          "output_type": "display_data",
          "data": {
            "text/plain": [
              "┏━━━━━━━━━━━━━━━━━━━━━━━━━━━━━━━━━┳━━━━━━━━━━━━━━━━━━━━━━━━┳━━━━━━━━━━━━━━━┓\n",
              "┃\u001b[1m \u001b[0m\u001b[1mLayer (type)                   \u001b[0m\u001b[1m \u001b[0m┃\u001b[1m \u001b[0m\u001b[1mOutput Shape          \u001b[0m\u001b[1m \u001b[0m┃\u001b[1m \u001b[0m\u001b[1m      Param #\u001b[0m\u001b[1m \u001b[0m┃\n",
              "┡━━━━━━━━━━━━━━━━━━━━━━━━━━━━━━━━━╇━━━━━━━━━━━━━━━━━━━━━━━━╇━━━━━━━━━━━━━━━┩\n",
              "│ conv2d_21 (\u001b[38;5;33mConv2D\u001b[0m)              │ (\u001b[38;5;45mNone\u001b[0m, \u001b[38;5;34m26\u001b[0m, \u001b[38;5;34m26\u001b[0m, \u001b[38;5;34m32\u001b[0m)     │           \u001b[38;5;34m320\u001b[0m │\n",
              "├─────────────────────────────────┼────────────────────────┼───────────────┤\n",
              "│ max_pooling2d_14 (\u001b[38;5;33mMaxPooling2D\u001b[0m) │ (\u001b[38;5;45mNone\u001b[0m, \u001b[38;5;34m13\u001b[0m, \u001b[38;5;34m13\u001b[0m, \u001b[38;5;34m32\u001b[0m)     │             \u001b[38;5;34m0\u001b[0m │\n",
              "├─────────────────────────────────┼────────────────────────┼───────────────┤\n",
              "│ conv2d_22 (\u001b[38;5;33mConv2D\u001b[0m)              │ (\u001b[38;5;45mNone\u001b[0m, \u001b[38;5;34m11\u001b[0m, \u001b[38;5;34m11\u001b[0m, \u001b[38;5;34m64\u001b[0m)     │        \u001b[38;5;34m18,496\u001b[0m │\n",
              "├─────────────────────────────────┼────────────────────────┼───────────────┤\n",
              "│ max_pooling2d_15 (\u001b[38;5;33mMaxPooling2D\u001b[0m) │ (\u001b[38;5;45mNone\u001b[0m, \u001b[38;5;34m5\u001b[0m, \u001b[38;5;34m5\u001b[0m, \u001b[38;5;34m64\u001b[0m)       │             \u001b[38;5;34m0\u001b[0m │\n",
              "├─────────────────────────────────┼────────────────────────┼───────────────┤\n",
              "│ conv2d_23 (\u001b[38;5;33mConv2D\u001b[0m)              │ (\u001b[38;5;45mNone\u001b[0m, \u001b[38;5;34m3\u001b[0m, \u001b[38;5;34m3\u001b[0m, \u001b[38;5;34m64\u001b[0m)       │        \u001b[38;5;34m36,928\u001b[0m │\n",
              "├─────────────────────────────────┼────────────────────────┼───────────────┤\n",
              "│ max_pooling2d_16 (\u001b[38;5;33mMaxPooling2D\u001b[0m) │ (\u001b[38;5;45mNone\u001b[0m, \u001b[38;5;34m1\u001b[0m, \u001b[38;5;34m1\u001b[0m, \u001b[38;5;34m64\u001b[0m)       │             \u001b[38;5;34m0\u001b[0m │\n",
              "├─────────────────────────────────┼────────────────────────┼───────────────┤\n",
              "│ flatten_9 (\u001b[38;5;33mFlatten\u001b[0m)             │ (\u001b[38;5;45mNone\u001b[0m, \u001b[38;5;34m64\u001b[0m)             │             \u001b[38;5;34m0\u001b[0m │\n",
              "├─────────────────────────────────┼────────────────────────┼───────────────┤\n",
              "│ dense_11 (\u001b[38;5;33mDense\u001b[0m)                │ (\u001b[38;5;45mNone\u001b[0m, \u001b[38;5;34m10\u001b[0m)             │           \u001b[38;5;34m650\u001b[0m │\n",
              "└─────────────────────────────────┴────────────────────────┴───────────────┘\n"
            ],
            "text/html": [
              "<pre style=\"white-space:pre;overflow-x:auto;line-height:normal;font-family:Menlo,'DejaVu Sans Mono',consolas,'Courier New',monospace\">┏━━━━━━━━━━━━━━━━━━━━━━━━━━━━━━━━━┳━━━━━━━━━━━━━━━━━━━━━━━━┳━━━━━━━━━━━━━━━┓\n",
              "┃<span style=\"font-weight: bold\"> Layer (type)                    </span>┃<span style=\"font-weight: bold\"> Output Shape           </span>┃<span style=\"font-weight: bold\">       Param # </span>┃\n",
              "┡━━━━━━━━━━━━━━━━━━━━━━━━━━━━━━━━━╇━━━━━━━━━━━━━━━━━━━━━━━━╇━━━━━━━━━━━━━━━┩\n",
              "│ conv2d_21 (<span style=\"color: #0087ff; text-decoration-color: #0087ff\">Conv2D</span>)              │ (<span style=\"color: #00d7ff; text-decoration-color: #00d7ff\">None</span>, <span style=\"color: #00af00; text-decoration-color: #00af00\">26</span>, <span style=\"color: #00af00; text-decoration-color: #00af00\">26</span>, <span style=\"color: #00af00; text-decoration-color: #00af00\">32</span>)     │           <span style=\"color: #00af00; text-decoration-color: #00af00\">320</span> │\n",
              "├─────────────────────────────────┼────────────────────────┼───────────────┤\n",
              "│ max_pooling2d_14 (<span style=\"color: #0087ff; text-decoration-color: #0087ff\">MaxPooling2D</span>) │ (<span style=\"color: #00d7ff; text-decoration-color: #00d7ff\">None</span>, <span style=\"color: #00af00; text-decoration-color: #00af00\">13</span>, <span style=\"color: #00af00; text-decoration-color: #00af00\">13</span>, <span style=\"color: #00af00; text-decoration-color: #00af00\">32</span>)     │             <span style=\"color: #00af00; text-decoration-color: #00af00\">0</span> │\n",
              "├─────────────────────────────────┼────────────────────────┼───────────────┤\n",
              "│ conv2d_22 (<span style=\"color: #0087ff; text-decoration-color: #0087ff\">Conv2D</span>)              │ (<span style=\"color: #00d7ff; text-decoration-color: #00d7ff\">None</span>, <span style=\"color: #00af00; text-decoration-color: #00af00\">11</span>, <span style=\"color: #00af00; text-decoration-color: #00af00\">11</span>, <span style=\"color: #00af00; text-decoration-color: #00af00\">64</span>)     │        <span style=\"color: #00af00; text-decoration-color: #00af00\">18,496</span> │\n",
              "├─────────────────────────────────┼────────────────────────┼───────────────┤\n",
              "│ max_pooling2d_15 (<span style=\"color: #0087ff; text-decoration-color: #0087ff\">MaxPooling2D</span>) │ (<span style=\"color: #00d7ff; text-decoration-color: #00d7ff\">None</span>, <span style=\"color: #00af00; text-decoration-color: #00af00\">5</span>, <span style=\"color: #00af00; text-decoration-color: #00af00\">5</span>, <span style=\"color: #00af00; text-decoration-color: #00af00\">64</span>)       │             <span style=\"color: #00af00; text-decoration-color: #00af00\">0</span> │\n",
              "├─────────────────────────────────┼────────────────────────┼───────────────┤\n",
              "│ conv2d_23 (<span style=\"color: #0087ff; text-decoration-color: #0087ff\">Conv2D</span>)              │ (<span style=\"color: #00d7ff; text-decoration-color: #00d7ff\">None</span>, <span style=\"color: #00af00; text-decoration-color: #00af00\">3</span>, <span style=\"color: #00af00; text-decoration-color: #00af00\">3</span>, <span style=\"color: #00af00; text-decoration-color: #00af00\">64</span>)       │        <span style=\"color: #00af00; text-decoration-color: #00af00\">36,928</span> │\n",
              "├─────────────────────────────────┼────────────────────────┼───────────────┤\n",
              "│ max_pooling2d_16 (<span style=\"color: #0087ff; text-decoration-color: #0087ff\">MaxPooling2D</span>) │ (<span style=\"color: #00d7ff; text-decoration-color: #00d7ff\">None</span>, <span style=\"color: #00af00; text-decoration-color: #00af00\">1</span>, <span style=\"color: #00af00; text-decoration-color: #00af00\">1</span>, <span style=\"color: #00af00; text-decoration-color: #00af00\">64</span>)       │             <span style=\"color: #00af00; text-decoration-color: #00af00\">0</span> │\n",
              "├─────────────────────────────────┼────────────────────────┼───────────────┤\n",
              "│ flatten_9 (<span style=\"color: #0087ff; text-decoration-color: #0087ff\">Flatten</span>)             │ (<span style=\"color: #00d7ff; text-decoration-color: #00d7ff\">None</span>, <span style=\"color: #00af00; text-decoration-color: #00af00\">64</span>)             │             <span style=\"color: #00af00; text-decoration-color: #00af00\">0</span> │\n",
              "├─────────────────────────────────┼────────────────────────┼───────────────┤\n",
              "│ dense_11 (<span style=\"color: #0087ff; text-decoration-color: #0087ff\">Dense</span>)                │ (<span style=\"color: #00d7ff; text-decoration-color: #00d7ff\">None</span>, <span style=\"color: #00af00; text-decoration-color: #00af00\">10</span>)             │           <span style=\"color: #00af00; text-decoration-color: #00af00\">650</span> │\n",
              "└─────────────────────────────────┴────────────────────────┴───────────────┘\n",
              "</pre>\n"
            ]
          },
          "metadata": {}
        },
        {
          "output_type": "display_data",
          "data": {
            "text/plain": [
              "\u001b[1m Total params: \u001b[0m\u001b[38;5;34m56,394\u001b[0m (220.29 KB)\n"
            ],
            "text/html": [
              "<pre style=\"white-space:pre;overflow-x:auto;line-height:normal;font-family:Menlo,'DejaVu Sans Mono',consolas,'Courier New',monospace\"><span style=\"font-weight: bold\"> Total params: </span><span style=\"color: #00af00; text-decoration-color: #00af00\">56,394</span> (220.29 KB)\n",
              "</pre>\n"
            ]
          },
          "metadata": {}
        },
        {
          "output_type": "display_data",
          "data": {
            "text/plain": [
              "\u001b[1m Trainable params: \u001b[0m\u001b[38;5;34m56,394\u001b[0m (220.29 KB)\n"
            ],
            "text/html": [
              "<pre style=\"white-space:pre;overflow-x:auto;line-height:normal;font-family:Menlo,'DejaVu Sans Mono',consolas,'Courier New',monospace\"><span style=\"font-weight: bold\"> Trainable params: </span><span style=\"color: #00af00; text-decoration-color: #00af00\">56,394</span> (220.29 KB)\n",
              "</pre>\n"
            ]
          },
          "metadata": {}
        },
        {
          "output_type": "display_data",
          "data": {
            "text/plain": [
              "\u001b[1m Non-trainable params: \u001b[0m\u001b[38;5;34m0\u001b[0m (0.00 B)\n"
            ],
            "text/html": [
              "<pre style=\"white-space:pre;overflow-x:auto;line-height:normal;font-family:Menlo,'DejaVu Sans Mono',consolas,'Courier New',monospace\"><span style=\"font-weight: bold\"> Non-trainable params: </span><span style=\"color: #00af00; text-decoration-color: #00af00\">0</span> (0.00 B)\n",
              "</pre>\n"
            ]
          },
          "metadata": {}
        },
        {
          "output_type": "stream",
          "name": "stdout",
          "text": [
            "Epoch 1/25\n",
            "\u001b[1m1875/1875\u001b[0m \u001b[32m━━━━━━━━━━━━━━━━━━━━\u001b[0m\u001b[37m\u001b[0m \u001b[1m9s\u001b[0m 4ms/step - accuracy: 0.5881 - loss: 1.3479 - val_accuracy: 0.9335 - val_loss: 0.2102\n",
            "Epoch 2/25\n",
            "\u001b[1m1875/1875\u001b[0m \u001b[32m━━━━━━━━━━━━━━━━━━━━\u001b[0m\u001b[37m\u001b[0m \u001b[1m7s\u001b[0m 3ms/step - accuracy: 0.9350 - loss: 0.2119 - val_accuracy: 0.9537 - val_loss: 0.1432\n",
            "Epoch 3/25\n",
            "\u001b[1m1875/1875\u001b[0m \u001b[32m━━━━━━━━━━━━━━━━━━━━\u001b[0m\u001b[37m\u001b[0m \u001b[1m6s\u001b[0m 3ms/step - accuracy: 0.9532 - loss: 0.1529 - val_accuracy: 0.9629 - val_loss: 0.1184\n",
            "Epoch 4/25\n",
            "\u001b[1m1875/1875\u001b[0m \u001b[32m━━━━━━━━━━━━━━━━━━━━\u001b[0m\u001b[37m\u001b[0m \u001b[1m7s\u001b[0m 4ms/step - accuracy: 0.9607 - loss: 0.1260 - val_accuracy: 0.9708 - val_loss: 0.0940\n",
            "Epoch 5/25\n",
            "\u001b[1m1875/1875\u001b[0m \u001b[32m━━━━━━━━━━━━━━━━━━━━\u001b[0m\u001b[37m\u001b[0m \u001b[1m7s\u001b[0m 4ms/step - accuracy: 0.9676 - loss: 0.1056 - val_accuracy: 0.9707 - val_loss: 0.0992\n",
            "Epoch 6/25\n",
            "\u001b[1m1875/1875\u001b[0m \u001b[32m━━━━━━━━━━━━━━━━━━━━\u001b[0m\u001b[37m\u001b[0m \u001b[1m10s\u001b[0m 3ms/step - accuracy: 0.9721 - loss: 0.0922 - val_accuracy: 0.9740 - val_loss: 0.0841\n",
            "Epoch 7/25\n",
            "\u001b[1m1875/1875\u001b[0m \u001b[32m━━━━━━━━━━━━━━━━━━━━\u001b[0m\u001b[37m\u001b[0m \u001b[1m6s\u001b[0m 3ms/step - accuracy: 0.9745 - loss: 0.0840 - val_accuracy: 0.9751 - val_loss: 0.0781\n",
            "Epoch 8/25\n",
            "\u001b[1m1875/1875\u001b[0m \u001b[32m━━━━━━━━━━━━━━━━━━━━\u001b[0m\u001b[37m\u001b[0m \u001b[1m11s\u001b[0m 3ms/step - accuracy: 0.9759 - loss: 0.0788 - val_accuracy: 0.9777 - val_loss: 0.0736\n",
            "Epoch 9/25\n",
            "\u001b[1m1875/1875\u001b[0m \u001b[32m━━━━━━━━━━━━━━━━━━━━\u001b[0m\u001b[37m\u001b[0m \u001b[1m10s\u001b[0m 3ms/step - accuracy: 0.9782 - loss: 0.0709 - val_accuracy: 0.9795 - val_loss: 0.0637\n",
            "Epoch 10/25\n",
            "\u001b[1m1875/1875\u001b[0m \u001b[32m━━━━━━━━━━━━━━━━━━━━\u001b[0m\u001b[37m\u001b[0m \u001b[1m6s\u001b[0m 3ms/step - accuracy: 0.9811 - loss: 0.0626 - val_accuracy: 0.9757 - val_loss: 0.0790\n",
            "Epoch 11/25\n",
            "\u001b[1m1875/1875\u001b[0m \u001b[32m━━━━━━━━━━━━━━━━━━━━\u001b[0m\u001b[37m\u001b[0m \u001b[1m11s\u001b[0m 4ms/step - accuracy: 0.9814 - loss: 0.0604 - val_accuracy: 0.9792 - val_loss: 0.0608\n",
            "Epoch 12/25\n",
            "\u001b[1m1875/1875\u001b[0m \u001b[32m━━━━━━━━━━━━━━━━━━━━\u001b[0m\u001b[37m\u001b[0m \u001b[1m9s\u001b[0m 5ms/step - accuracy: 0.9829 - loss: 0.0571 - val_accuracy: 0.9791 - val_loss: 0.0634\n",
            "Epoch 13/25\n",
            "\u001b[1m1875/1875\u001b[0m \u001b[32m━━━━━━━━━━━━━━━━━━━━\u001b[0m\u001b[37m\u001b[0m \u001b[1m8s\u001b[0m 5ms/step - accuracy: 0.9826 - loss: 0.0549 - val_accuracy: 0.9798 - val_loss: 0.0627\n",
            "Epoch 14/25\n",
            "\u001b[1m1875/1875\u001b[0m \u001b[32m━━━━━━━━━━━━━━━━━━━━\u001b[0m\u001b[37m\u001b[0m \u001b[1m8s\u001b[0m 3ms/step - accuracy: 0.9842 - loss: 0.0513 - val_accuracy: 0.9801 - val_loss: 0.0660\n",
            "Epoch 15/25\n",
            "\u001b[1m1875/1875\u001b[0m \u001b[32m━━━━━━━━━━━━━━━━━━━━\u001b[0m\u001b[37m\u001b[0m \u001b[1m6s\u001b[0m 3ms/step - accuracy: 0.9836 - loss: 0.0512 - val_accuracy: 0.9838 - val_loss: 0.0540\n",
            "Epoch 16/25\n",
            "\u001b[1m1875/1875\u001b[0m \u001b[32m━━━━━━━━━━━━━━━━━━━━\u001b[0m\u001b[37m\u001b[0m \u001b[1m7s\u001b[0m 4ms/step - accuracy: 0.9865 - loss: 0.0434 - val_accuracy: 0.9817 - val_loss: 0.0580\n",
            "Epoch 17/25\n",
            "\u001b[1m1875/1875\u001b[0m \u001b[32m━━━━━━━━━━━━━━━━━━━━\u001b[0m\u001b[37m\u001b[0m \u001b[1m10s\u001b[0m 3ms/step - accuracy: 0.9864 - loss: 0.0431 - val_accuracy: 0.9812 - val_loss: 0.0564\n",
            "Epoch 18/25\n",
            "\u001b[1m1875/1875\u001b[0m \u001b[32m━━━━━━━━━━━━━━━━━━━━\u001b[0m\u001b[37m\u001b[0m \u001b[1m7s\u001b[0m 4ms/step - accuracy: 0.9875 - loss: 0.0414 - val_accuracy: 0.9800 - val_loss: 0.0637\n",
            "Epoch 19/25\n",
            "\u001b[1m1875/1875\u001b[0m \u001b[32m━━━━━━━━━━━━━━━━━━━━\u001b[0m\u001b[37m\u001b[0m \u001b[1m10s\u001b[0m 3ms/step - accuracy: 0.9887 - loss: 0.0365 - val_accuracy: 0.9826 - val_loss: 0.0559\n",
            "Epoch 20/25\n",
            "\u001b[1m1875/1875\u001b[0m \u001b[32m━━━━━━━━━━━━━━━━━━━━\u001b[0m\u001b[37m\u001b[0m \u001b[1m10s\u001b[0m 3ms/step - accuracy: 0.9891 - loss: 0.0354 - val_accuracy: 0.9817 - val_loss: 0.0585\n",
            "Epoch 21/25\n",
            "\u001b[1m1875/1875\u001b[0m \u001b[32m━━━━━━━━━━━━━━━━━━━━\u001b[0m\u001b[37m\u001b[0m \u001b[1m10s\u001b[0m 4ms/step - accuracy: 0.9889 - loss: 0.0362 - val_accuracy: 0.9842 - val_loss: 0.0529\n",
            "Epoch 22/25\n",
            "\u001b[1m1875/1875\u001b[0m \u001b[32m━━━━━━━━━━━━━━━━━━━━\u001b[0m\u001b[37m\u001b[0m \u001b[1m6s\u001b[0m 3ms/step - accuracy: 0.9908 - loss: 0.0310 - val_accuracy: 0.9816 - val_loss: 0.0587\n",
            "Epoch 23/25\n",
            "\u001b[1m1875/1875\u001b[0m \u001b[32m━━━━━━━━━━━━━━━━━━━━\u001b[0m\u001b[37m\u001b[0m \u001b[1m7s\u001b[0m 4ms/step - accuracy: 0.9903 - loss: 0.0312 - val_accuracy: 0.9840 - val_loss: 0.0505\n",
            "Epoch 24/25\n",
            "\u001b[1m1875/1875\u001b[0m \u001b[32m━━━━━━━━━━━━━━━━━━━━\u001b[0m\u001b[37m\u001b[0m \u001b[1m10s\u001b[0m 3ms/step - accuracy: 0.9902 - loss: 0.0323 - val_accuracy: 0.9849 - val_loss: 0.0503\n",
            "Epoch 25/25\n",
            "\u001b[1m1875/1875\u001b[0m \u001b[32m━━━━━━━━━━━━━━━━━━━━\u001b[0m\u001b[37m\u001b[0m \u001b[1m10s\u001b[0m 3ms/step - accuracy: 0.9913 - loss: 0.0306 - val_accuracy: 0.9815 - val_loss: 0.0609\n",
            "Architecture 3Conv_0HiddenFC - Test Accuracy: 98.15%\n",
            "Architecture 3Conv_0HiddenFC - Parameters: 56394\n",
            "Architecture 3Conv_0HiddenFC - Training Time: 209.82 seconds\n",
            "\n",
            "--- Architecture 2: 2Conv_1HiddenFC_128 ---\n"
          ]
        },
        {
          "output_type": "display_data",
          "data": {
            "text/plain": [
              "\u001b[1mModel: \"sequential_10\"\u001b[0m\n"
            ],
            "text/html": [
              "<pre style=\"white-space:pre;overflow-x:auto;line-height:normal;font-family:Menlo,'DejaVu Sans Mono',consolas,'Courier New',monospace\"><span style=\"font-weight: bold\">Model: \"sequential_10\"</span>\n",
              "</pre>\n"
            ]
          },
          "metadata": {}
        },
        {
          "output_type": "display_data",
          "data": {
            "text/plain": [
              "┏━━━━━━━━━━━━━━━━━━━━━━━━━━━━━━━━━┳━━━━━━━━━━━━━━━━━━━━━━━━┳━━━━━━━━━━━━━━━┓\n",
              "┃\u001b[1m \u001b[0m\u001b[1mLayer (type)                   \u001b[0m\u001b[1m \u001b[0m┃\u001b[1m \u001b[0m\u001b[1mOutput Shape          \u001b[0m\u001b[1m \u001b[0m┃\u001b[1m \u001b[0m\u001b[1m      Param #\u001b[0m\u001b[1m \u001b[0m┃\n",
              "┡━━━━━━━━━━━━━━━━━━━━━━━━━━━━━━━━━╇━━━━━━━━━━━━━━━━━━━━━━━━╇━━━━━━━━━━━━━━━┩\n",
              "│ conv2d_24 (\u001b[38;5;33mConv2D\u001b[0m)              │ (\u001b[38;5;45mNone\u001b[0m, \u001b[38;5;34m26\u001b[0m, \u001b[38;5;34m26\u001b[0m, \u001b[38;5;34m32\u001b[0m)     │           \u001b[38;5;34m320\u001b[0m │\n",
              "├─────────────────────────────────┼────────────────────────┼───────────────┤\n",
              "│ max_pooling2d_17 (\u001b[38;5;33mMaxPooling2D\u001b[0m) │ (\u001b[38;5;45mNone\u001b[0m, \u001b[38;5;34m13\u001b[0m, \u001b[38;5;34m13\u001b[0m, \u001b[38;5;34m32\u001b[0m)     │             \u001b[38;5;34m0\u001b[0m │\n",
              "├─────────────────────────────────┼────────────────────────┼───────────────┤\n",
              "│ conv2d_25 (\u001b[38;5;33mConv2D\u001b[0m)              │ (\u001b[38;5;45mNone\u001b[0m, \u001b[38;5;34m11\u001b[0m, \u001b[38;5;34m11\u001b[0m, \u001b[38;5;34m64\u001b[0m)     │        \u001b[38;5;34m18,496\u001b[0m │\n",
              "├─────────────────────────────────┼────────────────────────┼───────────────┤\n",
              "│ max_pooling2d_18 (\u001b[38;5;33mMaxPooling2D\u001b[0m) │ (\u001b[38;5;45mNone\u001b[0m, \u001b[38;5;34m5\u001b[0m, \u001b[38;5;34m5\u001b[0m, \u001b[38;5;34m64\u001b[0m)       │             \u001b[38;5;34m0\u001b[0m │\n",
              "├─────────────────────────────────┼────────────────────────┼───────────────┤\n",
              "│ flatten_10 (\u001b[38;5;33mFlatten\u001b[0m)            │ (\u001b[38;5;45mNone\u001b[0m, \u001b[38;5;34m1600\u001b[0m)           │             \u001b[38;5;34m0\u001b[0m │\n",
              "├─────────────────────────────────┼────────────────────────┼───────────────┤\n",
              "│ dense_12 (\u001b[38;5;33mDense\u001b[0m)                │ (\u001b[38;5;45mNone\u001b[0m, \u001b[38;5;34m128\u001b[0m)            │       \u001b[38;5;34m204,928\u001b[0m │\n",
              "├─────────────────────────────────┼────────────────────────┼───────────────┤\n",
              "│ dense_13 (\u001b[38;5;33mDense\u001b[0m)                │ (\u001b[38;5;45mNone\u001b[0m, \u001b[38;5;34m10\u001b[0m)             │         \u001b[38;5;34m1,290\u001b[0m │\n",
              "└─────────────────────────────────┴────────────────────────┴───────────────┘\n"
            ],
            "text/html": [
              "<pre style=\"white-space:pre;overflow-x:auto;line-height:normal;font-family:Menlo,'DejaVu Sans Mono',consolas,'Courier New',monospace\">┏━━━━━━━━━━━━━━━━━━━━━━━━━━━━━━━━━┳━━━━━━━━━━━━━━━━━━━━━━━━┳━━━━━━━━━━━━━━━┓\n",
              "┃<span style=\"font-weight: bold\"> Layer (type)                    </span>┃<span style=\"font-weight: bold\"> Output Shape           </span>┃<span style=\"font-weight: bold\">       Param # </span>┃\n",
              "┡━━━━━━━━━━━━━━━━━━━━━━━━━━━━━━━━━╇━━━━━━━━━━━━━━━━━━━━━━━━╇━━━━━━━━━━━━━━━┩\n",
              "│ conv2d_24 (<span style=\"color: #0087ff; text-decoration-color: #0087ff\">Conv2D</span>)              │ (<span style=\"color: #00d7ff; text-decoration-color: #00d7ff\">None</span>, <span style=\"color: #00af00; text-decoration-color: #00af00\">26</span>, <span style=\"color: #00af00; text-decoration-color: #00af00\">26</span>, <span style=\"color: #00af00; text-decoration-color: #00af00\">32</span>)     │           <span style=\"color: #00af00; text-decoration-color: #00af00\">320</span> │\n",
              "├─────────────────────────────────┼────────────────────────┼───────────────┤\n",
              "│ max_pooling2d_17 (<span style=\"color: #0087ff; text-decoration-color: #0087ff\">MaxPooling2D</span>) │ (<span style=\"color: #00d7ff; text-decoration-color: #00d7ff\">None</span>, <span style=\"color: #00af00; text-decoration-color: #00af00\">13</span>, <span style=\"color: #00af00; text-decoration-color: #00af00\">13</span>, <span style=\"color: #00af00; text-decoration-color: #00af00\">32</span>)     │             <span style=\"color: #00af00; text-decoration-color: #00af00\">0</span> │\n",
              "├─────────────────────────────────┼────────────────────────┼───────────────┤\n",
              "│ conv2d_25 (<span style=\"color: #0087ff; text-decoration-color: #0087ff\">Conv2D</span>)              │ (<span style=\"color: #00d7ff; text-decoration-color: #00d7ff\">None</span>, <span style=\"color: #00af00; text-decoration-color: #00af00\">11</span>, <span style=\"color: #00af00; text-decoration-color: #00af00\">11</span>, <span style=\"color: #00af00; text-decoration-color: #00af00\">64</span>)     │        <span style=\"color: #00af00; text-decoration-color: #00af00\">18,496</span> │\n",
              "├─────────────────────────────────┼────────────────────────┼───────────────┤\n",
              "│ max_pooling2d_18 (<span style=\"color: #0087ff; text-decoration-color: #0087ff\">MaxPooling2D</span>) │ (<span style=\"color: #00d7ff; text-decoration-color: #00d7ff\">None</span>, <span style=\"color: #00af00; text-decoration-color: #00af00\">5</span>, <span style=\"color: #00af00; text-decoration-color: #00af00\">5</span>, <span style=\"color: #00af00; text-decoration-color: #00af00\">64</span>)       │             <span style=\"color: #00af00; text-decoration-color: #00af00\">0</span> │\n",
              "├─────────────────────────────────┼────────────────────────┼───────────────┤\n",
              "│ flatten_10 (<span style=\"color: #0087ff; text-decoration-color: #0087ff\">Flatten</span>)            │ (<span style=\"color: #00d7ff; text-decoration-color: #00d7ff\">None</span>, <span style=\"color: #00af00; text-decoration-color: #00af00\">1600</span>)           │             <span style=\"color: #00af00; text-decoration-color: #00af00\">0</span> │\n",
              "├─────────────────────────────────┼────────────────────────┼───────────────┤\n",
              "│ dense_12 (<span style=\"color: #0087ff; text-decoration-color: #0087ff\">Dense</span>)                │ (<span style=\"color: #00d7ff; text-decoration-color: #00d7ff\">None</span>, <span style=\"color: #00af00; text-decoration-color: #00af00\">128</span>)            │       <span style=\"color: #00af00; text-decoration-color: #00af00\">204,928</span> │\n",
              "├─────────────────────────────────┼────────────────────────┼───────────────┤\n",
              "│ dense_13 (<span style=\"color: #0087ff; text-decoration-color: #0087ff\">Dense</span>)                │ (<span style=\"color: #00d7ff; text-decoration-color: #00d7ff\">None</span>, <span style=\"color: #00af00; text-decoration-color: #00af00\">10</span>)             │         <span style=\"color: #00af00; text-decoration-color: #00af00\">1,290</span> │\n",
              "└─────────────────────────────────┴────────────────────────┴───────────────┘\n",
              "</pre>\n"
            ]
          },
          "metadata": {}
        },
        {
          "output_type": "display_data",
          "data": {
            "text/plain": [
              "\u001b[1m Total params: \u001b[0m\u001b[38;5;34m225,034\u001b[0m (879.04 KB)\n"
            ],
            "text/html": [
              "<pre style=\"white-space:pre;overflow-x:auto;line-height:normal;font-family:Menlo,'DejaVu Sans Mono',consolas,'Courier New',monospace\"><span style=\"font-weight: bold\"> Total params: </span><span style=\"color: #00af00; text-decoration-color: #00af00\">225,034</span> (879.04 KB)\n",
              "</pre>\n"
            ]
          },
          "metadata": {}
        },
        {
          "output_type": "display_data",
          "data": {
            "text/plain": [
              "\u001b[1m Trainable params: \u001b[0m\u001b[38;5;34m225,034\u001b[0m (879.04 KB)\n"
            ],
            "text/html": [
              "<pre style=\"white-space:pre;overflow-x:auto;line-height:normal;font-family:Menlo,'DejaVu Sans Mono',consolas,'Courier New',monospace\"><span style=\"font-weight: bold\"> Trainable params: </span><span style=\"color: #00af00; text-decoration-color: #00af00\">225,034</span> (879.04 KB)\n",
              "</pre>\n"
            ]
          },
          "metadata": {}
        },
        {
          "output_type": "display_data",
          "data": {
            "text/plain": [
              "\u001b[1m Non-trainable params: \u001b[0m\u001b[38;5;34m0\u001b[0m (0.00 B)\n"
            ],
            "text/html": [
              "<pre style=\"white-space:pre;overflow-x:auto;line-height:normal;font-family:Menlo,'DejaVu Sans Mono',consolas,'Courier New',monospace\"><span style=\"font-weight: bold\"> Non-trainable params: </span><span style=\"color: #00af00; text-decoration-color: #00af00\">0</span> (0.00 B)\n",
              "</pre>\n"
            ]
          },
          "metadata": {}
        },
        {
          "output_type": "stream",
          "name": "stdout",
          "text": [
            "Epoch 1/25\n",
            "\u001b[1m1875/1875\u001b[0m \u001b[32m━━━━━━━━━━━━━━━━━━━━\u001b[0m\u001b[37m\u001b[0m \u001b[1m9s\u001b[0m 4ms/step - accuracy: 0.7171 - loss: 0.9600 - val_accuracy: 0.9464 - val_loss: 0.1776\n",
            "Epoch 2/25\n",
            "\u001b[1m1875/1875\u001b[0m \u001b[32m━━━━━━━━━━━━━━━━━━━━\u001b[0m\u001b[37m\u001b[0m \u001b[1m8s\u001b[0m 3ms/step - accuracy: 0.9513 - loss: 0.1586 - val_accuracy: 0.9693 - val_loss: 0.0996\n",
            "Epoch 3/25\n",
            "\u001b[1m1875/1875\u001b[0m \u001b[32m━━━━━━━━━━━━━━━━━━━━\u001b[0m\u001b[37m\u001b[0m \u001b[1m10s\u001b[0m 3ms/step - accuracy: 0.9680 - loss: 0.1043 - val_accuracy: 0.9728 - val_loss: 0.0828\n",
            "Epoch 4/25\n",
            "\u001b[1m1875/1875\u001b[0m \u001b[32m━━━━━━━━━━━━━━━━━━━━\u001b[0m\u001b[37m\u001b[0m \u001b[1m10s\u001b[0m 3ms/step - accuracy: 0.9757 - loss: 0.0802 - val_accuracy: 0.9776 - val_loss: 0.0697\n",
            "Epoch 5/25\n",
            "\u001b[1m1875/1875\u001b[0m \u001b[32m━━━━━━━━━━━━━━━━━━━━\u001b[0m\u001b[37m\u001b[0m \u001b[1m10s\u001b[0m 3ms/step - accuracy: 0.9786 - loss: 0.0692 - val_accuracy: 0.9817 - val_loss: 0.0550\n",
            "Epoch 6/25\n",
            "\u001b[1m1875/1875\u001b[0m \u001b[32m━━━━━━━━━━━━━━━━━━━━\u001b[0m\u001b[37m\u001b[0m \u001b[1m11s\u001b[0m 3ms/step - accuracy: 0.9816 - loss: 0.0586 - val_accuracy: 0.9855 - val_loss: 0.0478\n",
            "Epoch 7/25\n",
            "\u001b[1m1875/1875\u001b[0m \u001b[32m━━━━━━━━━━━━━━━━━━━━\u001b[0m\u001b[37m\u001b[0m \u001b[1m10s\u001b[0m 3ms/step - accuracy: 0.9842 - loss: 0.0502 - val_accuracy: 0.9832 - val_loss: 0.0512\n",
            "Epoch 8/25\n",
            "\u001b[1m1875/1875\u001b[0m \u001b[32m━━━━━━━━━━━━━━━━━━━━\u001b[0m\u001b[37m\u001b[0m \u001b[1m7s\u001b[0m 4ms/step - accuracy: 0.9858 - loss: 0.0467 - val_accuracy: 0.9854 - val_loss: 0.0453\n",
            "Epoch 9/25\n",
            "\u001b[1m1875/1875\u001b[0m \u001b[32m━━━━━━━━━━━━━━━━━━━━\u001b[0m\u001b[37m\u001b[0m \u001b[1m6s\u001b[0m 3ms/step - accuracy: 0.9871 - loss: 0.0414 - val_accuracy: 0.9874 - val_loss: 0.0395\n",
            "Epoch 10/25\n",
            "\u001b[1m1875/1875\u001b[0m \u001b[32m━━━━━━━━━━━━━━━━━━━━\u001b[0m\u001b[37m\u001b[0m \u001b[1m11s\u001b[0m 3ms/step - accuracy: 0.9876 - loss: 0.0417 - val_accuracy: 0.9864 - val_loss: 0.0429\n",
            "Epoch 11/25\n",
            "\u001b[1m1875/1875\u001b[0m \u001b[32m━━━━━━━━━━━━━━━━━━━━\u001b[0m\u001b[37m\u001b[0m \u001b[1m10s\u001b[0m 3ms/step - accuracy: 0.9888 - loss: 0.0366 - val_accuracy: 0.9877 - val_loss: 0.0390\n",
            "Epoch 12/25\n",
            "\u001b[1m1875/1875\u001b[0m \u001b[32m━━━━━━━━━━━━━━━━━━━━\u001b[0m\u001b[37m\u001b[0m \u001b[1m7s\u001b[0m 3ms/step - accuracy: 0.9890 - loss: 0.0340 - val_accuracy: 0.9885 - val_loss: 0.0368\n",
            "Epoch 13/25\n",
            "\u001b[1m1875/1875\u001b[0m \u001b[32m━━━━━━━━━━━━━━━━━━━━\u001b[0m\u001b[37m\u001b[0m \u001b[1m6s\u001b[0m 3ms/step - accuracy: 0.9904 - loss: 0.0308 - val_accuracy: 0.9881 - val_loss: 0.0362\n",
            "Epoch 14/25\n",
            "\u001b[1m1875/1875\u001b[0m \u001b[32m━━━━━━━━━━━━━━━━━━━━\u001b[0m\u001b[37m\u001b[0m \u001b[1m11s\u001b[0m 4ms/step - accuracy: 0.9918 - loss: 0.0278 - val_accuracy: 0.9873 - val_loss: 0.0419\n",
            "Epoch 15/25\n",
            "\u001b[1m1875/1875\u001b[0m \u001b[32m━━━━━━━━━━━━━━━━━━━━\u001b[0m\u001b[37m\u001b[0m \u001b[1m10s\u001b[0m 3ms/step - accuracy: 0.9924 - loss: 0.0255 - val_accuracy: 0.9883 - val_loss: 0.0366\n",
            "Epoch 16/25\n",
            "\u001b[1m1875/1875\u001b[0m \u001b[32m━━━━━━━━━━━━━━━━━━━━\u001b[0m\u001b[37m\u001b[0m \u001b[1m6s\u001b[0m 3ms/step - accuracy: 0.9935 - loss: 0.0236 - val_accuracy: 0.9890 - val_loss: 0.0358\n",
            "Epoch 17/25\n",
            "\u001b[1m1875/1875\u001b[0m \u001b[32m━━━━━━━━━━━━━━━━━━━━\u001b[0m\u001b[37m\u001b[0m \u001b[1m10s\u001b[0m 3ms/step - accuracy: 0.9928 - loss: 0.0234 - val_accuracy: 0.9875 - val_loss: 0.0426\n",
            "Epoch 18/25\n",
            "\u001b[1m1875/1875\u001b[0m \u001b[32m━━━━━━━━━━━━━━━━━━━━\u001b[0m\u001b[37m\u001b[0m \u001b[1m10s\u001b[0m 3ms/step - accuracy: 0.9935 - loss: 0.0207 - val_accuracy: 0.9888 - val_loss: 0.0333\n",
            "Epoch 19/25\n",
            "\u001b[1m1875/1875\u001b[0m \u001b[32m━━━━━━━━━━━━━━━━━━━━\u001b[0m\u001b[37m\u001b[0m \u001b[1m6s\u001b[0m 3ms/step - accuracy: 0.9939 - loss: 0.0194 - val_accuracy: 0.9882 - val_loss: 0.0364\n",
            "Epoch 20/25\n",
            "\u001b[1m1875/1875\u001b[0m \u001b[32m━━━━━━━━━━━━━━━━━━━━\u001b[0m\u001b[37m\u001b[0m \u001b[1m6s\u001b[0m 3ms/step - accuracy: 0.9934 - loss: 0.0209 - val_accuracy: 0.9895 - val_loss: 0.0326\n",
            "Epoch 21/25\n",
            "\u001b[1m1875/1875\u001b[0m \u001b[32m━━━━━━━━━━━━━━━━━━━━\u001b[0m\u001b[37m\u001b[0m \u001b[1m6s\u001b[0m 3ms/step - accuracy: 0.9950 - loss: 0.0172 - val_accuracy: 0.9871 - val_loss: 0.0346\n",
            "Epoch 22/25\n",
            "\u001b[1m1875/1875\u001b[0m \u001b[32m━━━━━━━━━━━━━━━━━━━━\u001b[0m\u001b[37m\u001b[0m \u001b[1m10s\u001b[0m 3ms/step - accuracy: 0.9947 - loss: 0.0174 - val_accuracy: 0.9898 - val_loss: 0.0324\n",
            "Epoch 23/25\n",
            "\u001b[1m1875/1875\u001b[0m \u001b[32m━━━━━━━━━━━━━━━━━━━━\u001b[0m\u001b[37m\u001b[0m \u001b[1m6s\u001b[0m 3ms/step - accuracy: 0.9957 - loss: 0.0156 - val_accuracy: 0.9903 - val_loss: 0.0315\n",
            "Epoch 24/25\n",
            "\u001b[1m1875/1875\u001b[0m \u001b[32m━━━━━━━━━━━━━━━━━━━━\u001b[0m\u001b[37m\u001b[0m \u001b[1m10s\u001b[0m 3ms/step - accuracy: 0.9951 - loss: 0.0157 - val_accuracy: 0.9904 - val_loss: 0.0312\n",
            "Epoch 25/25\n",
            "\u001b[1m1875/1875\u001b[0m \u001b[32m━━━━━━━━━━━━━━━━━━━━\u001b[0m\u001b[37m\u001b[0m \u001b[1m11s\u001b[0m 3ms/step - accuracy: 0.9958 - loss: 0.0155 - val_accuracy: 0.9903 - val_loss: 0.0324\n",
            "Architecture 2Conv_1HiddenFC_128 - Test Accuracy: 99.03%\n",
            "Architecture 2Conv_1HiddenFC_128 - Parameters: 225034\n",
            "Architecture 2Conv_1HiddenFC_128 - Training Time: 219.46 seconds\n",
            "\n",
            "--- Architecture 3: 3Conv_1HiddenFC_64 ---\n"
          ]
        },
        {
          "output_type": "display_data",
          "data": {
            "text/plain": [
              "\u001b[1mModel: \"sequential_11\"\u001b[0m\n"
            ],
            "text/html": [
              "<pre style=\"white-space:pre;overflow-x:auto;line-height:normal;font-family:Menlo,'DejaVu Sans Mono',consolas,'Courier New',monospace\"><span style=\"font-weight: bold\">Model: \"sequential_11\"</span>\n",
              "</pre>\n"
            ]
          },
          "metadata": {}
        },
        {
          "output_type": "display_data",
          "data": {
            "text/plain": [
              "┏━━━━━━━━━━━━━━━━━━━━━━━━━━━━━━━━━┳━━━━━━━━━━━━━━━━━━━━━━━━┳━━━━━━━━━━━━━━━┓\n",
              "┃\u001b[1m \u001b[0m\u001b[1mLayer (type)                   \u001b[0m\u001b[1m \u001b[0m┃\u001b[1m \u001b[0m\u001b[1mOutput Shape          \u001b[0m\u001b[1m \u001b[0m┃\u001b[1m \u001b[0m\u001b[1m      Param #\u001b[0m\u001b[1m \u001b[0m┃\n",
              "┡━━━━━━━━━━━━━━━━━━━━━━━━━━━━━━━━━╇━━━━━━━━━━━━━━━━━━━━━━━━╇━━━━━━━━━━━━━━━┩\n",
              "│ conv2d_26 (\u001b[38;5;33mConv2D\u001b[0m)              │ (\u001b[38;5;45mNone\u001b[0m, \u001b[38;5;34m26\u001b[0m, \u001b[38;5;34m26\u001b[0m, \u001b[38;5;34m32\u001b[0m)     │           \u001b[38;5;34m320\u001b[0m │\n",
              "├─────────────────────────────────┼────────────────────────┼───────────────┤\n",
              "│ max_pooling2d_19 (\u001b[38;5;33mMaxPooling2D\u001b[0m) │ (\u001b[38;5;45mNone\u001b[0m, \u001b[38;5;34m13\u001b[0m, \u001b[38;5;34m13\u001b[0m, \u001b[38;5;34m32\u001b[0m)     │             \u001b[38;5;34m0\u001b[0m │\n",
              "├─────────────────────────────────┼────────────────────────┼───────────────┤\n",
              "│ conv2d_27 (\u001b[38;5;33mConv2D\u001b[0m)              │ (\u001b[38;5;45mNone\u001b[0m, \u001b[38;5;34m11\u001b[0m, \u001b[38;5;34m11\u001b[0m, \u001b[38;5;34m64\u001b[0m)     │        \u001b[38;5;34m18,496\u001b[0m │\n",
              "├─────────────────────────────────┼────────────────────────┼───────────────┤\n",
              "│ max_pooling2d_20 (\u001b[38;5;33mMaxPooling2D\u001b[0m) │ (\u001b[38;5;45mNone\u001b[0m, \u001b[38;5;34m5\u001b[0m, \u001b[38;5;34m5\u001b[0m, \u001b[38;5;34m64\u001b[0m)       │             \u001b[38;5;34m0\u001b[0m │\n",
              "├─────────────────────────────────┼────────────────────────┼───────────────┤\n",
              "│ conv2d_28 (\u001b[38;5;33mConv2D\u001b[0m)              │ (\u001b[38;5;45mNone\u001b[0m, \u001b[38;5;34m3\u001b[0m, \u001b[38;5;34m3\u001b[0m, \u001b[38;5;34m64\u001b[0m)       │        \u001b[38;5;34m36,928\u001b[0m │\n",
              "├─────────────────────────────────┼────────────────────────┼───────────────┤\n",
              "│ max_pooling2d_21 (\u001b[38;5;33mMaxPooling2D\u001b[0m) │ (\u001b[38;5;45mNone\u001b[0m, \u001b[38;5;34m1\u001b[0m, \u001b[38;5;34m1\u001b[0m, \u001b[38;5;34m64\u001b[0m)       │             \u001b[38;5;34m0\u001b[0m │\n",
              "├─────────────────────────────────┼────────────────────────┼───────────────┤\n",
              "│ flatten_11 (\u001b[38;5;33mFlatten\u001b[0m)            │ (\u001b[38;5;45mNone\u001b[0m, \u001b[38;5;34m64\u001b[0m)             │             \u001b[38;5;34m0\u001b[0m │\n",
              "├─────────────────────────────────┼────────────────────────┼───────────────┤\n",
              "│ dense_14 (\u001b[38;5;33mDense\u001b[0m)                │ (\u001b[38;5;45mNone\u001b[0m, \u001b[38;5;34m64\u001b[0m)             │         \u001b[38;5;34m4,160\u001b[0m │\n",
              "├─────────────────────────────────┼────────────────────────┼───────────────┤\n",
              "│ dense_15 (\u001b[38;5;33mDense\u001b[0m)                │ (\u001b[38;5;45mNone\u001b[0m, \u001b[38;5;34m10\u001b[0m)             │           \u001b[38;5;34m650\u001b[0m │\n",
              "└─────────────────────────────────┴────────────────────────┴───────────────┘\n"
            ],
            "text/html": [
              "<pre style=\"white-space:pre;overflow-x:auto;line-height:normal;font-family:Menlo,'DejaVu Sans Mono',consolas,'Courier New',monospace\">┏━━━━━━━━━━━━━━━━━━━━━━━━━━━━━━━━━┳━━━━━━━━━━━━━━━━━━━━━━━━┳━━━━━━━━━━━━━━━┓\n",
              "┃<span style=\"font-weight: bold\"> Layer (type)                    </span>┃<span style=\"font-weight: bold\"> Output Shape           </span>┃<span style=\"font-weight: bold\">       Param # </span>┃\n",
              "┡━━━━━━━━━━━━━━━━━━━━━━━━━━━━━━━━━╇━━━━━━━━━━━━━━━━━━━━━━━━╇━━━━━━━━━━━━━━━┩\n",
              "│ conv2d_26 (<span style=\"color: #0087ff; text-decoration-color: #0087ff\">Conv2D</span>)              │ (<span style=\"color: #00d7ff; text-decoration-color: #00d7ff\">None</span>, <span style=\"color: #00af00; text-decoration-color: #00af00\">26</span>, <span style=\"color: #00af00; text-decoration-color: #00af00\">26</span>, <span style=\"color: #00af00; text-decoration-color: #00af00\">32</span>)     │           <span style=\"color: #00af00; text-decoration-color: #00af00\">320</span> │\n",
              "├─────────────────────────────────┼────────────────────────┼───────────────┤\n",
              "│ max_pooling2d_19 (<span style=\"color: #0087ff; text-decoration-color: #0087ff\">MaxPooling2D</span>) │ (<span style=\"color: #00d7ff; text-decoration-color: #00d7ff\">None</span>, <span style=\"color: #00af00; text-decoration-color: #00af00\">13</span>, <span style=\"color: #00af00; text-decoration-color: #00af00\">13</span>, <span style=\"color: #00af00; text-decoration-color: #00af00\">32</span>)     │             <span style=\"color: #00af00; text-decoration-color: #00af00\">0</span> │\n",
              "├─────────────────────────────────┼────────────────────────┼───────────────┤\n",
              "│ conv2d_27 (<span style=\"color: #0087ff; text-decoration-color: #0087ff\">Conv2D</span>)              │ (<span style=\"color: #00d7ff; text-decoration-color: #00d7ff\">None</span>, <span style=\"color: #00af00; text-decoration-color: #00af00\">11</span>, <span style=\"color: #00af00; text-decoration-color: #00af00\">11</span>, <span style=\"color: #00af00; text-decoration-color: #00af00\">64</span>)     │        <span style=\"color: #00af00; text-decoration-color: #00af00\">18,496</span> │\n",
              "├─────────────────────────────────┼────────────────────────┼───────────────┤\n",
              "│ max_pooling2d_20 (<span style=\"color: #0087ff; text-decoration-color: #0087ff\">MaxPooling2D</span>) │ (<span style=\"color: #00d7ff; text-decoration-color: #00d7ff\">None</span>, <span style=\"color: #00af00; text-decoration-color: #00af00\">5</span>, <span style=\"color: #00af00; text-decoration-color: #00af00\">5</span>, <span style=\"color: #00af00; text-decoration-color: #00af00\">64</span>)       │             <span style=\"color: #00af00; text-decoration-color: #00af00\">0</span> │\n",
              "├─────────────────────────────────┼────────────────────────┼───────────────┤\n",
              "│ conv2d_28 (<span style=\"color: #0087ff; text-decoration-color: #0087ff\">Conv2D</span>)              │ (<span style=\"color: #00d7ff; text-decoration-color: #00d7ff\">None</span>, <span style=\"color: #00af00; text-decoration-color: #00af00\">3</span>, <span style=\"color: #00af00; text-decoration-color: #00af00\">3</span>, <span style=\"color: #00af00; text-decoration-color: #00af00\">64</span>)       │        <span style=\"color: #00af00; text-decoration-color: #00af00\">36,928</span> │\n",
              "├─────────────────────────────────┼────────────────────────┼───────────────┤\n",
              "│ max_pooling2d_21 (<span style=\"color: #0087ff; text-decoration-color: #0087ff\">MaxPooling2D</span>) │ (<span style=\"color: #00d7ff; text-decoration-color: #00d7ff\">None</span>, <span style=\"color: #00af00; text-decoration-color: #00af00\">1</span>, <span style=\"color: #00af00; text-decoration-color: #00af00\">1</span>, <span style=\"color: #00af00; text-decoration-color: #00af00\">64</span>)       │             <span style=\"color: #00af00; text-decoration-color: #00af00\">0</span> │\n",
              "├─────────────────────────────────┼────────────────────────┼───────────────┤\n",
              "│ flatten_11 (<span style=\"color: #0087ff; text-decoration-color: #0087ff\">Flatten</span>)            │ (<span style=\"color: #00d7ff; text-decoration-color: #00d7ff\">None</span>, <span style=\"color: #00af00; text-decoration-color: #00af00\">64</span>)             │             <span style=\"color: #00af00; text-decoration-color: #00af00\">0</span> │\n",
              "├─────────────────────────────────┼────────────────────────┼───────────────┤\n",
              "│ dense_14 (<span style=\"color: #0087ff; text-decoration-color: #0087ff\">Dense</span>)                │ (<span style=\"color: #00d7ff; text-decoration-color: #00d7ff\">None</span>, <span style=\"color: #00af00; text-decoration-color: #00af00\">64</span>)             │         <span style=\"color: #00af00; text-decoration-color: #00af00\">4,160</span> │\n",
              "├─────────────────────────────────┼────────────────────────┼───────────────┤\n",
              "│ dense_15 (<span style=\"color: #0087ff; text-decoration-color: #0087ff\">Dense</span>)                │ (<span style=\"color: #00d7ff; text-decoration-color: #00d7ff\">None</span>, <span style=\"color: #00af00; text-decoration-color: #00af00\">10</span>)             │           <span style=\"color: #00af00; text-decoration-color: #00af00\">650</span> │\n",
              "└─────────────────────────────────┴────────────────────────┴───────────────┘\n",
              "</pre>\n"
            ]
          },
          "metadata": {}
        },
        {
          "output_type": "display_data",
          "data": {
            "text/plain": [
              "\u001b[1m Total params: \u001b[0m\u001b[38;5;34m60,554\u001b[0m (236.54 KB)\n"
            ],
            "text/html": [
              "<pre style=\"white-space:pre;overflow-x:auto;line-height:normal;font-family:Menlo,'DejaVu Sans Mono',consolas,'Courier New',monospace\"><span style=\"font-weight: bold\"> Total params: </span><span style=\"color: #00af00; text-decoration-color: #00af00\">60,554</span> (236.54 KB)\n",
              "</pre>\n"
            ]
          },
          "metadata": {}
        },
        {
          "output_type": "display_data",
          "data": {
            "text/plain": [
              "\u001b[1m Trainable params: \u001b[0m\u001b[38;5;34m60,554\u001b[0m (236.54 KB)\n"
            ],
            "text/html": [
              "<pre style=\"white-space:pre;overflow-x:auto;line-height:normal;font-family:Menlo,'DejaVu Sans Mono',consolas,'Courier New',monospace\"><span style=\"font-weight: bold\"> Trainable params: </span><span style=\"color: #00af00; text-decoration-color: #00af00\">60,554</span> (236.54 KB)\n",
              "</pre>\n"
            ]
          },
          "metadata": {}
        },
        {
          "output_type": "display_data",
          "data": {
            "text/plain": [
              "\u001b[1m Non-trainable params: \u001b[0m\u001b[38;5;34m0\u001b[0m (0.00 B)\n"
            ],
            "text/html": [
              "<pre style=\"white-space:pre;overflow-x:auto;line-height:normal;font-family:Menlo,'DejaVu Sans Mono',consolas,'Courier New',monospace\"><span style=\"font-weight: bold\"> Non-trainable params: </span><span style=\"color: #00af00; text-decoration-color: #00af00\">0</span> (0.00 B)\n",
              "</pre>\n"
            ]
          },
          "metadata": {}
        },
        {
          "output_type": "stream",
          "name": "stdout",
          "text": [
            "Epoch 1/25\n",
            "\u001b[1m1875/1875\u001b[0m \u001b[32m━━━━━━━━━━━━━━━━━━━━\u001b[0m\u001b[37m\u001b[0m \u001b[1m9s\u001b[0m 4ms/step - accuracy: 0.5732 - loss: 1.4307 - val_accuracy: 0.9379 - val_loss: 0.1979\n",
            "Epoch 2/25\n",
            "\u001b[1m1875/1875\u001b[0m \u001b[32m━━━━━━━━━━━━━━━━━━━━\u001b[0m\u001b[37m\u001b[0m \u001b[1m6s\u001b[0m 3ms/step - accuracy: 0.9331 - loss: 0.2175 - val_accuracy: 0.9505 - val_loss: 0.1632\n",
            "Epoch 3/25\n",
            "\u001b[1m1875/1875\u001b[0m \u001b[32m━━━━━━━━━━━━━━━━━━━━\u001b[0m\u001b[37m\u001b[0m \u001b[1m10s\u001b[0m 3ms/step - accuracy: 0.9556 - loss: 0.1435 - val_accuracy: 0.9666 - val_loss: 0.1092\n",
            "Epoch 4/25\n",
            "\u001b[1m1875/1875\u001b[0m \u001b[32m━━━━━━━━━━━━━━━━━━━━\u001b[0m\u001b[37m\u001b[0m \u001b[1m7s\u001b[0m 4ms/step - accuracy: 0.9642 - loss: 0.1156 - val_accuracy: 0.9722 - val_loss: 0.0910\n",
            "Epoch 5/25\n",
            "\u001b[1m1875/1875\u001b[0m \u001b[32m━━━━━━━━━━━━━━━━━━━━\u001b[0m\u001b[37m\u001b[0m \u001b[1m10s\u001b[0m 4ms/step - accuracy: 0.9701 - loss: 0.0995 - val_accuracy: 0.9699 - val_loss: 0.0979\n",
            "Epoch 6/25\n",
            "\u001b[1m1875/1875\u001b[0m \u001b[32m━━━━━━━━━━━━━━━━━━━━\u001b[0m\u001b[37m\u001b[0m \u001b[1m7s\u001b[0m 4ms/step - accuracy: 0.9729 - loss: 0.0876 - val_accuracy: 0.9746 - val_loss: 0.0792\n",
            "Epoch 7/25\n",
            "\u001b[1m1875/1875\u001b[0m \u001b[32m━━━━━━━━━━━━━━━━━━━━\u001b[0m\u001b[37m\u001b[0m \u001b[1m7s\u001b[0m 4ms/step - accuracy: 0.9755 - loss: 0.0803 - val_accuracy: 0.9764 - val_loss: 0.0764\n",
            "Epoch 8/25\n",
            "\u001b[1m1875/1875\u001b[0m \u001b[32m━━━━━━━━━━━━━━━━━━━━\u001b[0m\u001b[37m\u001b[0m \u001b[1m6s\u001b[0m 3ms/step - accuracy: 0.9776 - loss: 0.0723 - val_accuracy: 0.9712 - val_loss: 0.0885\n",
            "Epoch 9/25\n",
            "\u001b[1m1875/1875\u001b[0m \u001b[32m━━━━━━━━━━━━━━━━━━━━\u001b[0m\u001b[37m\u001b[0m \u001b[1m10s\u001b[0m 3ms/step - accuracy: 0.9793 - loss: 0.0667 - val_accuracy: 0.9768 - val_loss: 0.0726\n",
            "Epoch 10/25\n",
            "\u001b[1m1875/1875\u001b[0m \u001b[32m━━━━━━━━━━━━━━━━━━━━\u001b[0m\u001b[37m\u001b[0m \u001b[1m11s\u001b[0m 3ms/step - accuracy: 0.9819 - loss: 0.0591 - val_accuracy: 0.9728 - val_loss: 0.0897\n",
            "Epoch 11/25\n",
            "\u001b[1m1875/1875\u001b[0m \u001b[32m━━━━━━━━━━━━━━━━━━━━\u001b[0m\u001b[37m\u001b[0m \u001b[1m7s\u001b[0m 4ms/step - accuracy: 0.9822 - loss: 0.0580 - val_accuracy: 0.9809 - val_loss: 0.0622\n",
            "Epoch 12/25\n",
            "\u001b[1m1875/1875\u001b[0m \u001b[32m━━━━━━━━━━━━━━━━━━━━\u001b[0m\u001b[37m\u001b[0m \u001b[1m10s\u001b[0m 3ms/step - accuracy: 0.9840 - loss: 0.0521 - val_accuracy: 0.9793 - val_loss: 0.0654\n",
            "Epoch 13/25\n",
            "\u001b[1m1875/1875\u001b[0m \u001b[32m━━━━━━━━━━━━━━━━━━━━\u001b[0m\u001b[37m\u001b[0m \u001b[1m7s\u001b[0m 4ms/step - accuracy: 0.9842 - loss: 0.0509 - val_accuracy: 0.9815 - val_loss: 0.0595\n",
            "Epoch 14/25\n",
            "\u001b[1m1875/1875\u001b[0m \u001b[32m━━━━━━━━━━━━━━━━━━━━\u001b[0m\u001b[37m\u001b[0m \u001b[1m10s\u001b[0m 4ms/step - accuracy: 0.9850 - loss: 0.0473 - val_accuracy: 0.9809 - val_loss: 0.0644\n",
            "Epoch 15/25\n",
            "\u001b[1m1875/1875\u001b[0m \u001b[32m━━━━━━━━━━━━━━━━━━━━\u001b[0m\u001b[37m\u001b[0m \u001b[1m7s\u001b[0m 4ms/step - accuracy: 0.9863 - loss: 0.0461 - val_accuracy: 0.9800 - val_loss: 0.0670\n",
            "Epoch 16/25\n",
            "\u001b[1m1875/1875\u001b[0m \u001b[32m━━━━━━━━━━━━━━━━━━━━\u001b[0m\u001b[37m\u001b[0m \u001b[1m10s\u001b[0m 3ms/step - accuracy: 0.9871 - loss: 0.0411 - val_accuracy: 0.9813 - val_loss: 0.0629\n",
            "Epoch 17/25\n",
            "\u001b[1m1875/1875\u001b[0m \u001b[32m━━━━━━━━━━━━━━━━━━━━\u001b[0m\u001b[37m\u001b[0m \u001b[1m7s\u001b[0m 4ms/step - accuracy: 0.9885 - loss: 0.0388 - val_accuracy: 0.9810 - val_loss: 0.0645\n",
            "Epoch 18/25\n",
            "\u001b[1m1875/1875\u001b[0m \u001b[32m━━━━━━━━━━━━━━━━━━━━\u001b[0m\u001b[37m\u001b[0m \u001b[1m10s\u001b[0m 4ms/step - accuracy: 0.9877 - loss: 0.0389 - val_accuracy: 0.9835 - val_loss: 0.0573\n",
            "Epoch 19/25\n",
            "\u001b[1m1875/1875\u001b[0m \u001b[32m━━━━━━━━━━━━━━━━━━━━\u001b[0m\u001b[37m\u001b[0m \u001b[1m10s\u001b[0m 3ms/step - accuracy: 0.9899 - loss: 0.0354 - val_accuracy: 0.9835 - val_loss: 0.0575\n",
            "Epoch 20/25\n",
            "\u001b[1m1875/1875\u001b[0m \u001b[32m━━━━━━━━━━━━━━━━━━━━\u001b[0m\u001b[37m\u001b[0m \u001b[1m7s\u001b[0m 4ms/step - accuracy: 0.9902 - loss: 0.0322 - val_accuracy: 0.9814 - val_loss: 0.0630\n",
            "Epoch 21/25\n",
            "\u001b[1m1875/1875\u001b[0m \u001b[32m━━━━━━━━━━━━━━━━━━━━\u001b[0m\u001b[37m\u001b[0m \u001b[1m7s\u001b[0m 4ms/step - accuracy: 0.9902 - loss: 0.0326 - val_accuracy: 0.9829 - val_loss: 0.0585\n",
            "Epoch 22/25\n",
            "\u001b[1m1875/1875\u001b[0m \u001b[32m━━━━━━━━━━━━━━━━━━━━\u001b[0m\u001b[37m\u001b[0m \u001b[1m10s\u001b[0m 3ms/step - accuracy: 0.9908 - loss: 0.0297 - val_accuracy: 0.9820 - val_loss: 0.0614\n",
            "Epoch 23/25\n",
            "\u001b[1m1875/1875\u001b[0m \u001b[32m━━━━━━━━━━━━━━━━━━━━\u001b[0m\u001b[37m\u001b[0m \u001b[1m11s\u001b[0m 4ms/step - accuracy: 0.9911 - loss: 0.0290 - val_accuracy: 0.9808 - val_loss: 0.0660\n",
            "Epoch 24/25\n",
            "\u001b[1m1875/1875\u001b[0m \u001b[32m━━━━━━━━━━━━━━━━━━━━\u001b[0m\u001b[37m\u001b[0m \u001b[1m10s\u001b[0m 3ms/step - accuracy: 0.9917 - loss: 0.0278 - val_accuracy: 0.9832 - val_loss: 0.0624\n",
            "Epoch 25/25\n",
            "\u001b[1m1875/1875\u001b[0m \u001b[32m━━━━━━━━━━━━━━━━━━━━\u001b[0m\u001b[37m\u001b[0m \u001b[1m7s\u001b[0m 3ms/step - accuracy: 0.9917 - loss: 0.0268 - val_accuracy: 0.9833 - val_loss: 0.0589\n",
            "Architecture 3Conv_1HiddenFC_64 - Test Accuracy: 98.33%\n",
            "Architecture 3Conv_1HiddenFC_64 - Parameters: 60554\n",
            "Architecture 3Conv_1HiddenFC_64 - Training Time: 209.66 seconds\n",
            "\n",
            "--- Architecture 4: 2Conv_2HiddenFC_128_64 ---\n"
          ]
        },
        {
          "output_type": "display_data",
          "data": {
            "text/plain": [
              "\u001b[1mModel: \"sequential_12\"\u001b[0m\n"
            ],
            "text/html": [
              "<pre style=\"white-space:pre;overflow-x:auto;line-height:normal;font-family:Menlo,'DejaVu Sans Mono',consolas,'Courier New',monospace\"><span style=\"font-weight: bold\">Model: \"sequential_12\"</span>\n",
              "</pre>\n"
            ]
          },
          "metadata": {}
        },
        {
          "output_type": "display_data",
          "data": {
            "text/plain": [
              "┏━━━━━━━━━━━━━━━━━━━━━━━━━━━━━━━━━┳━━━━━━━━━━━━━━━━━━━━━━━━┳━━━━━━━━━━━━━━━┓\n",
              "┃\u001b[1m \u001b[0m\u001b[1mLayer (type)                   \u001b[0m\u001b[1m \u001b[0m┃\u001b[1m \u001b[0m\u001b[1mOutput Shape          \u001b[0m\u001b[1m \u001b[0m┃\u001b[1m \u001b[0m\u001b[1m      Param #\u001b[0m\u001b[1m \u001b[0m┃\n",
              "┡━━━━━━━━━━━━━━━━━━━━━━━━━━━━━━━━━╇━━━━━━━━━━━━━━━━━━━━━━━━╇━━━━━━━━━━━━━━━┩\n",
              "│ conv2d_29 (\u001b[38;5;33mConv2D\u001b[0m)              │ (\u001b[38;5;45mNone\u001b[0m, \u001b[38;5;34m24\u001b[0m, \u001b[38;5;34m24\u001b[0m, \u001b[38;5;34m32\u001b[0m)     │           \u001b[38;5;34m832\u001b[0m │\n",
              "├─────────────────────────────────┼────────────────────────┼───────────────┤\n",
              "│ max_pooling2d_22 (\u001b[38;5;33mMaxPooling2D\u001b[0m) │ (\u001b[38;5;45mNone\u001b[0m, \u001b[38;5;34m12\u001b[0m, \u001b[38;5;34m12\u001b[0m, \u001b[38;5;34m32\u001b[0m)     │             \u001b[38;5;34m0\u001b[0m │\n",
              "├─────────────────────────────────┼────────────────────────┼───────────────┤\n",
              "│ conv2d_30 (\u001b[38;5;33mConv2D\u001b[0m)              │ (\u001b[38;5;45mNone\u001b[0m, \u001b[38;5;34m8\u001b[0m, \u001b[38;5;34m8\u001b[0m, \u001b[38;5;34m64\u001b[0m)       │        \u001b[38;5;34m51,264\u001b[0m │\n",
              "├─────────────────────────────────┼────────────────────────┼───────────────┤\n",
              "│ max_pooling2d_23 (\u001b[38;5;33mMaxPooling2D\u001b[0m) │ (\u001b[38;5;45mNone\u001b[0m, \u001b[38;5;34m4\u001b[0m, \u001b[38;5;34m4\u001b[0m, \u001b[38;5;34m64\u001b[0m)       │             \u001b[38;5;34m0\u001b[0m │\n",
              "├─────────────────────────────────┼────────────────────────┼───────────────┤\n",
              "│ flatten_12 (\u001b[38;5;33mFlatten\u001b[0m)            │ (\u001b[38;5;45mNone\u001b[0m, \u001b[38;5;34m1024\u001b[0m)           │             \u001b[38;5;34m0\u001b[0m │\n",
              "├─────────────────────────────────┼────────────────────────┼───────────────┤\n",
              "│ dense_16 (\u001b[38;5;33mDense\u001b[0m)                │ (\u001b[38;5;45mNone\u001b[0m, \u001b[38;5;34m128\u001b[0m)            │       \u001b[38;5;34m131,200\u001b[0m │\n",
              "├─────────────────────────────────┼────────────────────────┼───────────────┤\n",
              "│ dense_17 (\u001b[38;5;33mDense\u001b[0m)                │ (\u001b[38;5;45mNone\u001b[0m, \u001b[38;5;34m64\u001b[0m)             │         \u001b[38;5;34m8,256\u001b[0m │\n",
              "├─────────────────────────────────┼────────────────────────┼───────────────┤\n",
              "│ dense_18 (\u001b[38;5;33mDense\u001b[0m)                │ (\u001b[38;5;45mNone\u001b[0m, \u001b[38;5;34m10\u001b[0m)             │           \u001b[38;5;34m650\u001b[0m │\n",
              "└─────────────────────────────────┴────────────────────────┴───────────────┘\n"
            ],
            "text/html": [
              "<pre style=\"white-space:pre;overflow-x:auto;line-height:normal;font-family:Menlo,'DejaVu Sans Mono',consolas,'Courier New',monospace\">┏━━━━━━━━━━━━━━━━━━━━━━━━━━━━━━━━━┳━━━━━━━━━━━━━━━━━━━━━━━━┳━━━━━━━━━━━━━━━┓\n",
              "┃<span style=\"font-weight: bold\"> Layer (type)                    </span>┃<span style=\"font-weight: bold\"> Output Shape           </span>┃<span style=\"font-weight: bold\">       Param # </span>┃\n",
              "┡━━━━━━━━━━━━━━━━━━━━━━━━━━━━━━━━━╇━━━━━━━━━━━━━━━━━━━━━━━━╇━━━━━━━━━━━━━━━┩\n",
              "│ conv2d_29 (<span style=\"color: #0087ff; text-decoration-color: #0087ff\">Conv2D</span>)              │ (<span style=\"color: #00d7ff; text-decoration-color: #00d7ff\">None</span>, <span style=\"color: #00af00; text-decoration-color: #00af00\">24</span>, <span style=\"color: #00af00; text-decoration-color: #00af00\">24</span>, <span style=\"color: #00af00; text-decoration-color: #00af00\">32</span>)     │           <span style=\"color: #00af00; text-decoration-color: #00af00\">832</span> │\n",
              "├─────────────────────────────────┼────────────────────────┼───────────────┤\n",
              "│ max_pooling2d_22 (<span style=\"color: #0087ff; text-decoration-color: #0087ff\">MaxPooling2D</span>) │ (<span style=\"color: #00d7ff; text-decoration-color: #00d7ff\">None</span>, <span style=\"color: #00af00; text-decoration-color: #00af00\">12</span>, <span style=\"color: #00af00; text-decoration-color: #00af00\">12</span>, <span style=\"color: #00af00; text-decoration-color: #00af00\">32</span>)     │             <span style=\"color: #00af00; text-decoration-color: #00af00\">0</span> │\n",
              "├─────────────────────────────────┼────────────────────────┼───────────────┤\n",
              "│ conv2d_30 (<span style=\"color: #0087ff; text-decoration-color: #0087ff\">Conv2D</span>)              │ (<span style=\"color: #00d7ff; text-decoration-color: #00d7ff\">None</span>, <span style=\"color: #00af00; text-decoration-color: #00af00\">8</span>, <span style=\"color: #00af00; text-decoration-color: #00af00\">8</span>, <span style=\"color: #00af00; text-decoration-color: #00af00\">64</span>)       │        <span style=\"color: #00af00; text-decoration-color: #00af00\">51,264</span> │\n",
              "├─────────────────────────────────┼────────────────────────┼───────────────┤\n",
              "│ max_pooling2d_23 (<span style=\"color: #0087ff; text-decoration-color: #0087ff\">MaxPooling2D</span>) │ (<span style=\"color: #00d7ff; text-decoration-color: #00d7ff\">None</span>, <span style=\"color: #00af00; text-decoration-color: #00af00\">4</span>, <span style=\"color: #00af00; text-decoration-color: #00af00\">4</span>, <span style=\"color: #00af00; text-decoration-color: #00af00\">64</span>)       │             <span style=\"color: #00af00; text-decoration-color: #00af00\">0</span> │\n",
              "├─────────────────────────────────┼────────────────────────┼───────────────┤\n",
              "│ flatten_12 (<span style=\"color: #0087ff; text-decoration-color: #0087ff\">Flatten</span>)            │ (<span style=\"color: #00d7ff; text-decoration-color: #00d7ff\">None</span>, <span style=\"color: #00af00; text-decoration-color: #00af00\">1024</span>)           │             <span style=\"color: #00af00; text-decoration-color: #00af00\">0</span> │\n",
              "├─────────────────────────────────┼────────────────────────┼───────────────┤\n",
              "│ dense_16 (<span style=\"color: #0087ff; text-decoration-color: #0087ff\">Dense</span>)                │ (<span style=\"color: #00d7ff; text-decoration-color: #00d7ff\">None</span>, <span style=\"color: #00af00; text-decoration-color: #00af00\">128</span>)            │       <span style=\"color: #00af00; text-decoration-color: #00af00\">131,200</span> │\n",
              "├─────────────────────────────────┼────────────────────────┼───────────────┤\n",
              "│ dense_17 (<span style=\"color: #0087ff; text-decoration-color: #0087ff\">Dense</span>)                │ (<span style=\"color: #00d7ff; text-decoration-color: #00d7ff\">None</span>, <span style=\"color: #00af00; text-decoration-color: #00af00\">64</span>)             │         <span style=\"color: #00af00; text-decoration-color: #00af00\">8,256</span> │\n",
              "├─────────────────────────────────┼────────────────────────┼───────────────┤\n",
              "│ dense_18 (<span style=\"color: #0087ff; text-decoration-color: #0087ff\">Dense</span>)                │ (<span style=\"color: #00d7ff; text-decoration-color: #00d7ff\">None</span>, <span style=\"color: #00af00; text-decoration-color: #00af00\">10</span>)             │           <span style=\"color: #00af00; text-decoration-color: #00af00\">650</span> │\n",
              "└─────────────────────────────────┴────────────────────────┴───────────────┘\n",
              "</pre>\n"
            ]
          },
          "metadata": {}
        },
        {
          "output_type": "display_data",
          "data": {
            "text/plain": [
              "\u001b[1m Total params: \u001b[0m\u001b[38;5;34m192,202\u001b[0m (750.79 KB)\n"
            ],
            "text/html": [
              "<pre style=\"white-space:pre;overflow-x:auto;line-height:normal;font-family:Menlo,'DejaVu Sans Mono',consolas,'Courier New',monospace\"><span style=\"font-weight: bold\"> Total params: </span><span style=\"color: #00af00; text-decoration-color: #00af00\">192,202</span> (750.79 KB)\n",
              "</pre>\n"
            ]
          },
          "metadata": {}
        },
        {
          "output_type": "display_data",
          "data": {
            "text/plain": [
              "\u001b[1m Trainable params: \u001b[0m\u001b[38;5;34m192,202\u001b[0m (750.79 KB)\n"
            ],
            "text/html": [
              "<pre style=\"white-space:pre;overflow-x:auto;line-height:normal;font-family:Menlo,'DejaVu Sans Mono',consolas,'Courier New',monospace\"><span style=\"font-weight: bold\"> Trainable params: </span><span style=\"color: #00af00; text-decoration-color: #00af00\">192,202</span> (750.79 KB)\n",
              "</pre>\n"
            ]
          },
          "metadata": {}
        },
        {
          "output_type": "display_data",
          "data": {
            "text/plain": [
              "\u001b[1m Non-trainable params: \u001b[0m\u001b[38;5;34m0\u001b[0m (0.00 B)\n"
            ],
            "text/html": [
              "<pre style=\"white-space:pre;overflow-x:auto;line-height:normal;font-family:Menlo,'DejaVu Sans Mono',consolas,'Courier New',monospace\"><span style=\"font-weight: bold\"> Non-trainable params: </span><span style=\"color: #00af00; text-decoration-color: #00af00\">0</span> (0.00 B)\n",
              "</pre>\n"
            ]
          },
          "metadata": {}
        },
        {
          "output_type": "stream",
          "name": "stdout",
          "text": [
            "Epoch 1/25\n",
            "\u001b[1m1875/1875\u001b[0m \u001b[32m━━━━━━━━━━━━━━━━━━━━\u001b[0m\u001b[37m\u001b[0m \u001b[1m9s\u001b[0m 4ms/step - accuracy: 0.6844 - loss: 1.0062 - val_accuracy: 0.9518 - val_loss: 0.1523\n",
            "Epoch 2/25\n",
            "\u001b[1m1875/1875\u001b[0m \u001b[32m━━━━━━━━━━━━━━━━━━━━\u001b[0m\u001b[37m\u001b[0m \u001b[1m6s\u001b[0m 3ms/step - accuracy: 0.9578 - loss: 0.1340 - val_accuracy: 0.9749 - val_loss: 0.0818\n",
            "Epoch 3/25\n",
            "\u001b[1m1875/1875\u001b[0m \u001b[32m━━━━━━━━━━━━━━━━━━━━\u001b[0m\u001b[37m\u001b[0m \u001b[1m7s\u001b[0m 4ms/step - accuracy: 0.9726 - loss: 0.0914 - val_accuracy: 0.9794 - val_loss: 0.0648\n",
            "Epoch 4/25\n",
            "\u001b[1m1875/1875\u001b[0m \u001b[32m━━━━━━━━━━━━━━━━━━━━\u001b[0m\u001b[37m\u001b[0m \u001b[1m7s\u001b[0m 3ms/step - accuracy: 0.9785 - loss: 0.0696 - val_accuracy: 0.9848 - val_loss: 0.0492\n",
            "Epoch 5/25\n",
            "\u001b[1m1875/1875\u001b[0m \u001b[32m━━━━━━━━━━━━━━━━━━━━\u001b[0m\u001b[37m\u001b[0m \u001b[1m7s\u001b[0m 3ms/step - accuracy: 0.9834 - loss: 0.0563 - val_accuracy: 0.9852 - val_loss: 0.0460\n",
            "Epoch 6/25\n",
            "\u001b[1m1875/1875\u001b[0m \u001b[32m━━━━━━━━━━━━━━━━━━━━\u001b[0m\u001b[37m\u001b[0m \u001b[1m10s\u001b[0m 3ms/step - accuracy: 0.9849 - loss: 0.0489 - val_accuracy: 0.9858 - val_loss: 0.0438\n",
            "Epoch 7/25\n",
            "\u001b[1m1875/1875\u001b[0m \u001b[32m━━━━━━━━━━━━━━━━━━━━\u001b[0m\u001b[37m\u001b[0m \u001b[1m10s\u001b[0m 4ms/step - accuracy: 0.9867 - loss: 0.0423 - val_accuracy: 0.9854 - val_loss: 0.0452\n",
            "Epoch 8/25\n",
            "\u001b[1m1875/1875\u001b[0m \u001b[32m━━━━━━━━━━━━━━━━━━━━\u001b[0m\u001b[37m\u001b[0m \u001b[1m10s\u001b[0m 3ms/step - accuracy: 0.9883 - loss: 0.0389 - val_accuracy: 0.9889 - val_loss: 0.0340\n",
            "Epoch 9/25\n",
            "\u001b[1m1875/1875\u001b[0m \u001b[32m━━━━━━━━━━━━━━━━━━━━\u001b[0m\u001b[37m\u001b[0m \u001b[1m11s\u001b[0m 3ms/step - accuracy: 0.9883 - loss: 0.0356 - val_accuracy: 0.9868 - val_loss: 0.0406\n",
            "Epoch 10/25\n",
            "\u001b[1m1875/1875\u001b[0m \u001b[32m━━━━━━━━━━━━━━━━━━━━\u001b[0m\u001b[37m\u001b[0m \u001b[1m10s\u001b[0m 3ms/step - accuracy: 0.9906 - loss: 0.0307 - val_accuracy: 0.9867 - val_loss: 0.0408\n",
            "Epoch 11/25\n",
            "\u001b[1m1875/1875\u001b[0m \u001b[32m━━━━━━━━━━━━━━━━━━━━\u001b[0m\u001b[37m\u001b[0m \u001b[1m10s\u001b[0m 3ms/step - accuracy: 0.9909 - loss: 0.0289 - val_accuracy: 0.9891 - val_loss: 0.0343\n",
            "Epoch 12/25\n",
            "\u001b[1m1875/1875\u001b[0m \u001b[32m━━━━━━━━━━━━━━━━━━━━\u001b[0m\u001b[37m\u001b[0m \u001b[1m11s\u001b[0m 3ms/step - accuracy: 0.9919 - loss: 0.0236 - val_accuracy: 0.9894 - val_loss: 0.0334\n",
            "Epoch 13/25\n",
            "\u001b[1m1875/1875\u001b[0m \u001b[32m━━━━━━━━━━━━━━━━━━━━\u001b[0m\u001b[37m\u001b[0m \u001b[1m11s\u001b[0m 4ms/step - accuracy: 0.9929 - loss: 0.0224 - val_accuracy: 0.9890 - val_loss: 0.0322\n",
            "Epoch 14/25\n",
            "\u001b[1m1875/1875\u001b[0m \u001b[32m━━━━━━━━━━━━━━━━━━━━\u001b[0m\u001b[37m\u001b[0m \u001b[1m10s\u001b[0m 4ms/step - accuracy: 0.9937 - loss: 0.0208 - val_accuracy: 0.9893 - val_loss: 0.0335\n",
            "Epoch 15/25\n",
            "\u001b[1m1875/1875\u001b[0m \u001b[32m━━━━━━━━━━━━━━━━━━━━\u001b[0m\u001b[37m\u001b[0m \u001b[1m10s\u001b[0m 4ms/step - accuracy: 0.9934 - loss: 0.0201 - val_accuracy: 0.9891 - val_loss: 0.0343\n",
            "Epoch 16/25\n",
            "\u001b[1m1875/1875\u001b[0m \u001b[32m━━━━━━━━━━━━━━━━━━━━\u001b[0m\u001b[37m\u001b[0m \u001b[1m10s\u001b[0m 3ms/step - accuracy: 0.9945 - loss: 0.0181 - val_accuracy: 0.9881 - val_loss: 0.0345\n",
            "Epoch 17/25\n",
            "\u001b[1m1875/1875\u001b[0m \u001b[32m━━━━━━━━━━━━━━━━━━━━\u001b[0m\u001b[37m\u001b[0m \u001b[1m7s\u001b[0m 4ms/step - accuracy: 0.9945 - loss: 0.0166 - val_accuracy: 0.9892 - val_loss: 0.0321\n",
            "Epoch 18/25\n",
            "\u001b[1m1875/1875\u001b[0m \u001b[32m━━━━━━━━━━━━━━━━━━━━\u001b[0m\u001b[37m\u001b[0m \u001b[1m6s\u001b[0m 3ms/step - accuracy: 0.9956 - loss: 0.0154 - val_accuracy: 0.9896 - val_loss: 0.0310\n",
            "Epoch 19/25\n",
            "\u001b[1m1875/1875\u001b[0m \u001b[32m━━━━━━━━━━━━━━━━━━━━\u001b[0m\u001b[37m\u001b[0m \u001b[1m11s\u001b[0m 4ms/step - accuracy: 0.9956 - loss: 0.0135 - val_accuracy: 0.9904 - val_loss: 0.0322\n",
            "Epoch 20/25\n",
            "\u001b[1m1875/1875\u001b[0m \u001b[32m━━━━━━━━━━━━━━━━━━━━\u001b[0m\u001b[37m\u001b[0m \u001b[1m7s\u001b[0m 3ms/step - accuracy: 0.9958 - loss: 0.0137 - val_accuracy: 0.9897 - val_loss: 0.0312\n",
            "Epoch 21/25\n",
            "\u001b[1m1875/1875\u001b[0m \u001b[32m━━━━━━━━━━━━━━━━━━━━\u001b[0m\u001b[37m\u001b[0m \u001b[1m7s\u001b[0m 4ms/step - accuracy: 0.9963 - loss: 0.0121 - val_accuracy: 0.9901 - val_loss: 0.0304\n",
            "Epoch 22/25\n",
            "\u001b[1m1875/1875\u001b[0m \u001b[32m━━━━━━━━━━━━━━━━━━━━\u001b[0m\u001b[37m\u001b[0m \u001b[1m10s\u001b[0m 3ms/step - accuracy: 0.9967 - loss: 0.0118 - val_accuracy: 0.9904 - val_loss: 0.0313\n",
            "Epoch 23/25\n",
            "\u001b[1m1875/1875\u001b[0m \u001b[32m━━━━━━━━━━━━━━━━━━━━\u001b[0m\u001b[37m\u001b[0m \u001b[1m7s\u001b[0m 4ms/step - accuracy: 0.9973 - loss: 0.0093 - val_accuracy: 0.9890 - val_loss: 0.0322\n",
            "Epoch 24/25\n",
            "\u001b[1m1875/1875\u001b[0m \u001b[32m━━━━━━━━━━━━━━━━━━━━\u001b[0m\u001b[37m\u001b[0m \u001b[1m10s\u001b[0m 4ms/step - accuracy: 0.9973 - loss: 0.0087 - val_accuracy: 0.9901 - val_loss: 0.0301\n",
            "Epoch 25/25\n",
            "\u001b[1m1875/1875\u001b[0m \u001b[32m━━━━━━━━━━━━━━━━━━━━\u001b[0m\u001b[37m\u001b[0m \u001b[1m7s\u001b[0m 4ms/step - accuracy: 0.9974 - loss: 0.0084 - val_accuracy: 0.9897 - val_loss: 0.0315\n",
            "Architecture 2Conv_2HiddenFC_128_64 - Test Accuracy: 98.97%\n",
            "Architecture 2Conv_2HiddenFC_128_64 - Parameters: 192202\n",
            "Architecture 2Conv_2HiddenFC_128_64 - Training Time: 217.99 seconds\n",
            "\n",
            "--- Architecture 5: 1Conv_1HiddenFC_256 ---\n"
          ]
        },
        {
          "output_type": "display_data",
          "data": {
            "text/plain": [
              "\u001b[1mModel: \"sequential_13\"\u001b[0m\n"
            ],
            "text/html": [
              "<pre style=\"white-space:pre;overflow-x:auto;line-height:normal;font-family:Menlo,'DejaVu Sans Mono',consolas,'Courier New',monospace\"><span style=\"font-weight: bold\">Model: \"sequential_13\"</span>\n",
              "</pre>\n"
            ]
          },
          "metadata": {}
        },
        {
          "output_type": "display_data",
          "data": {
            "text/plain": [
              "┏━━━━━━━━━━━━━━━━━━━━━━━━━━━━━━━━━┳━━━━━━━━━━━━━━━━━━━━━━━━┳━━━━━━━━━━━━━━━┓\n",
              "┃\u001b[1m \u001b[0m\u001b[1mLayer (type)                   \u001b[0m\u001b[1m \u001b[0m┃\u001b[1m \u001b[0m\u001b[1mOutput Shape          \u001b[0m\u001b[1m \u001b[0m┃\u001b[1m \u001b[0m\u001b[1m      Param #\u001b[0m\u001b[1m \u001b[0m┃\n",
              "┡━━━━━━━━━━━━━━━━━━━━━━━━━━━━━━━━━╇━━━━━━━━━━━━━━━━━━━━━━━━╇━━━━━━━━━━━━━━━┩\n",
              "│ conv2d_31 (\u001b[38;5;33mConv2D\u001b[0m)              │ (\u001b[38;5;45mNone\u001b[0m, \u001b[38;5;34m24\u001b[0m, \u001b[38;5;34m24\u001b[0m, \u001b[38;5;34m64\u001b[0m)     │         \u001b[38;5;34m1,664\u001b[0m │\n",
              "├─────────────────────────────────┼────────────────────────┼───────────────┤\n",
              "│ max_pooling2d_24 (\u001b[38;5;33mMaxPooling2D\u001b[0m) │ (\u001b[38;5;45mNone\u001b[0m, \u001b[38;5;34m12\u001b[0m, \u001b[38;5;34m12\u001b[0m, \u001b[38;5;34m64\u001b[0m)     │             \u001b[38;5;34m0\u001b[0m │\n",
              "├─────────────────────────────────┼────────────────────────┼───────────────┤\n",
              "│ flatten_13 (\u001b[38;5;33mFlatten\u001b[0m)            │ (\u001b[38;5;45mNone\u001b[0m, \u001b[38;5;34m9216\u001b[0m)           │             \u001b[38;5;34m0\u001b[0m │\n",
              "├─────────────────────────────────┼────────────────────────┼───────────────┤\n",
              "│ dense_19 (\u001b[38;5;33mDense\u001b[0m)                │ (\u001b[38;5;45mNone\u001b[0m, \u001b[38;5;34m256\u001b[0m)            │     \u001b[38;5;34m2,359,552\u001b[0m │\n",
              "├─────────────────────────────────┼────────────────────────┼───────────────┤\n",
              "│ dense_20 (\u001b[38;5;33mDense\u001b[0m)                │ (\u001b[38;5;45mNone\u001b[0m, \u001b[38;5;34m10\u001b[0m)             │         \u001b[38;5;34m2,570\u001b[0m │\n",
              "└─────────────────────────────────┴────────────────────────┴───────────────┘\n"
            ],
            "text/html": [
              "<pre style=\"white-space:pre;overflow-x:auto;line-height:normal;font-family:Menlo,'DejaVu Sans Mono',consolas,'Courier New',monospace\">┏━━━━━━━━━━━━━━━━━━━━━━━━━━━━━━━━━┳━━━━━━━━━━━━━━━━━━━━━━━━┳━━━━━━━━━━━━━━━┓\n",
              "┃<span style=\"font-weight: bold\"> Layer (type)                    </span>┃<span style=\"font-weight: bold\"> Output Shape           </span>┃<span style=\"font-weight: bold\">       Param # </span>┃\n",
              "┡━━━━━━━━━━━━━━━━━━━━━━━━━━━━━━━━━╇━━━━━━━━━━━━━━━━━━━━━━━━╇━━━━━━━━━━━━━━━┩\n",
              "│ conv2d_31 (<span style=\"color: #0087ff; text-decoration-color: #0087ff\">Conv2D</span>)              │ (<span style=\"color: #00d7ff; text-decoration-color: #00d7ff\">None</span>, <span style=\"color: #00af00; text-decoration-color: #00af00\">24</span>, <span style=\"color: #00af00; text-decoration-color: #00af00\">24</span>, <span style=\"color: #00af00; text-decoration-color: #00af00\">64</span>)     │         <span style=\"color: #00af00; text-decoration-color: #00af00\">1,664</span> │\n",
              "├─────────────────────────────────┼────────────────────────┼───────────────┤\n",
              "│ max_pooling2d_24 (<span style=\"color: #0087ff; text-decoration-color: #0087ff\">MaxPooling2D</span>) │ (<span style=\"color: #00d7ff; text-decoration-color: #00d7ff\">None</span>, <span style=\"color: #00af00; text-decoration-color: #00af00\">12</span>, <span style=\"color: #00af00; text-decoration-color: #00af00\">12</span>, <span style=\"color: #00af00; text-decoration-color: #00af00\">64</span>)     │             <span style=\"color: #00af00; text-decoration-color: #00af00\">0</span> │\n",
              "├─────────────────────────────────┼────────────────────────┼───────────────┤\n",
              "│ flatten_13 (<span style=\"color: #0087ff; text-decoration-color: #0087ff\">Flatten</span>)            │ (<span style=\"color: #00d7ff; text-decoration-color: #00d7ff\">None</span>, <span style=\"color: #00af00; text-decoration-color: #00af00\">9216</span>)           │             <span style=\"color: #00af00; text-decoration-color: #00af00\">0</span> │\n",
              "├─────────────────────────────────┼────────────────────────┼───────────────┤\n",
              "│ dense_19 (<span style=\"color: #0087ff; text-decoration-color: #0087ff\">Dense</span>)                │ (<span style=\"color: #00d7ff; text-decoration-color: #00d7ff\">None</span>, <span style=\"color: #00af00; text-decoration-color: #00af00\">256</span>)            │     <span style=\"color: #00af00; text-decoration-color: #00af00\">2,359,552</span> │\n",
              "├─────────────────────────────────┼────────────────────────┼───────────────┤\n",
              "│ dense_20 (<span style=\"color: #0087ff; text-decoration-color: #0087ff\">Dense</span>)                │ (<span style=\"color: #00d7ff; text-decoration-color: #00d7ff\">None</span>, <span style=\"color: #00af00; text-decoration-color: #00af00\">10</span>)             │         <span style=\"color: #00af00; text-decoration-color: #00af00\">2,570</span> │\n",
              "└─────────────────────────────────┴────────────────────────┴───────────────┘\n",
              "</pre>\n"
            ]
          },
          "metadata": {}
        },
        {
          "output_type": "display_data",
          "data": {
            "text/plain": [
              "\u001b[1m Total params: \u001b[0m\u001b[38;5;34m2,363,786\u001b[0m (9.02 MB)\n"
            ],
            "text/html": [
              "<pre style=\"white-space:pre;overflow-x:auto;line-height:normal;font-family:Menlo,'DejaVu Sans Mono',consolas,'Courier New',monospace\"><span style=\"font-weight: bold\"> Total params: </span><span style=\"color: #00af00; text-decoration-color: #00af00\">2,363,786</span> (9.02 MB)\n",
              "</pre>\n"
            ]
          },
          "metadata": {}
        },
        {
          "output_type": "display_data",
          "data": {
            "text/plain": [
              "\u001b[1m Trainable params: \u001b[0m\u001b[38;5;34m2,363,786\u001b[0m (9.02 MB)\n"
            ],
            "text/html": [
              "<pre style=\"white-space:pre;overflow-x:auto;line-height:normal;font-family:Menlo,'DejaVu Sans Mono',consolas,'Courier New',monospace\"><span style=\"font-weight: bold\"> Trainable params: </span><span style=\"color: #00af00; text-decoration-color: #00af00\">2,363,786</span> (9.02 MB)\n",
              "</pre>\n"
            ]
          },
          "metadata": {}
        },
        {
          "output_type": "display_data",
          "data": {
            "text/plain": [
              "\u001b[1m Non-trainable params: \u001b[0m\u001b[38;5;34m0\u001b[0m (0.00 B)\n"
            ],
            "text/html": [
              "<pre style=\"white-space:pre;overflow-x:auto;line-height:normal;font-family:Menlo,'DejaVu Sans Mono',consolas,'Courier New',monospace\"><span style=\"font-weight: bold\"> Non-trainable params: </span><span style=\"color: #00af00; text-decoration-color: #00af00\">0</span> (0.00 B)\n",
              "</pre>\n"
            ]
          },
          "metadata": {}
        },
        {
          "output_type": "stream",
          "name": "stdout",
          "text": [
            "Epoch 1/25\n",
            "\u001b[1m1875/1875\u001b[0m \u001b[32m━━━━━━━━━━━━━━━━━━━━\u001b[0m\u001b[37m\u001b[0m \u001b[1m8s\u001b[0m 4ms/step - accuracy: 0.7981 - loss: 0.7870 - val_accuracy: 0.9342 - val_loss: 0.2225\n",
            "Epoch 2/25\n",
            "\u001b[1m1875/1875\u001b[0m \u001b[32m━━━━━━━━━━━━━━━━━━━━\u001b[0m\u001b[37m\u001b[0m \u001b[1m9s\u001b[0m 3ms/step - accuracy: 0.9395 - loss: 0.2045 - val_accuracy: 0.9583 - val_loss: 0.1445\n",
            "Epoch 3/25\n",
            "\u001b[1m1875/1875\u001b[0m \u001b[32m━━━━━━━━━━━━━━━━━━━━\u001b[0m\u001b[37m\u001b[0m \u001b[1m6s\u001b[0m 3ms/step - accuracy: 0.9571 - loss: 0.1449 - val_accuracy: 0.9670 - val_loss: 0.1111\n",
            "Epoch 4/25\n",
            "\u001b[1m1875/1875\u001b[0m \u001b[32m━━━━━━━━━━━━━━━━━━━━\u001b[0m\u001b[37m\u001b[0m \u001b[1m7s\u001b[0m 4ms/step - accuracy: 0.9676 - loss: 0.1099 - val_accuracy: 0.9715 - val_loss: 0.0925\n",
            "Epoch 5/25\n",
            "\u001b[1m1875/1875\u001b[0m \u001b[32m━━━━━━━━━━━━━━━━━━━━\u001b[0m\u001b[37m\u001b[0m \u001b[1m6s\u001b[0m 3ms/step - accuracy: 0.9754 - loss: 0.0858 - val_accuracy: 0.9755 - val_loss: 0.0798\n",
            "Epoch 6/25\n",
            "\u001b[1m1875/1875\u001b[0m \u001b[32m━━━━━━━━━━━━━━━━━━━━\u001b[0m\u001b[37m\u001b[0m \u001b[1m11s\u001b[0m 4ms/step - accuracy: 0.9791 - loss: 0.0702 - val_accuracy: 0.9814 - val_loss: 0.0609\n",
            "Epoch 7/25\n",
            "\u001b[1m1875/1875\u001b[0m \u001b[32m━━━━━━━━━━━━━━━━━━━━\u001b[0m\u001b[37m\u001b[0m \u001b[1m10s\u001b[0m 4ms/step - accuracy: 0.9814 - loss: 0.0627 - val_accuracy: 0.9781 - val_loss: 0.0706\n",
            "Epoch 8/25\n",
            "\u001b[1m1875/1875\u001b[0m \u001b[32m━━━━━━━━━━━━━━━━━━━━\u001b[0m\u001b[37m\u001b[0m \u001b[1m7s\u001b[0m 4ms/step - accuracy: 0.9836 - loss: 0.0556 - val_accuracy: 0.9818 - val_loss: 0.0587\n",
            "Epoch 9/25\n",
            "\u001b[1m1875/1875\u001b[0m \u001b[32m━━━━━━━━━━━━━━━━━━━━\u001b[0m\u001b[37m\u001b[0m \u001b[1m10s\u001b[0m 4ms/step - accuracy: 0.9860 - loss: 0.0477 - val_accuracy: 0.9849 - val_loss: 0.0494\n",
            "Epoch 10/25\n",
            "\u001b[1m1875/1875\u001b[0m \u001b[32m━━━━━━━━━━━━━━━━━━━━\u001b[0m\u001b[37m\u001b[0m \u001b[1m9s\u001b[0m 3ms/step - accuracy: 0.9879 - loss: 0.0425 - val_accuracy: 0.9846 - val_loss: 0.0471\n",
            "Epoch 11/25\n",
            "\u001b[1m1875/1875\u001b[0m \u001b[32m━━━━━━━━━━━━━━━━━━━━\u001b[0m\u001b[37m\u001b[0m \u001b[1m10s\u001b[0m 3ms/step - accuracy: 0.9885 - loss: 0.0389 - val_accuracy: 0.9856 - val_loss: 0.0442\n",
            "Epoch 12/25\n",
            "\u001b[1m1875/1875\u001b[0m \u001b[32m━━━━━━━━━━━━━━━━━━━━\u001b[0m\u001b[37m\u001b[0m \u001b[1m7s\u001b[0m 4ms/step - accuracy: 0.9893 - loss: 0.0354 - val_accuracy: 0.9856 - val_loss: 0.0460\n",
            "Epoch 13/25\n",
            "\u001b[1m1875/1875\u001b[0m \u001b[32m━━━━━━━━━━━━━━━━━━━━\u001b[0m\u001b[37m\u001b[0m \u001b[1m6s\u001b[0m 3ms/step - accuracy: 0.9901 - loss: 0.0343 - val_accuracy: 0.9866 - val_loss: 0.0429\n",
            "Epoch 14/25\n",
            "\u001b[1m1875/1875\u001b[0m \u001b[32m━━━━━━━━━━━━━━━━━━━━\u001b[0m\u001b[37m\u001b[0m \u001b[1m7s\u001b[0m 4ms/step - accuracy: 0.9909 - loss: 0.0307 - val_accuracy: 0.9872 - val_loss: 0.0423\n",
            "Epoch 15/25\n",
            "\u001b[1m1875/1875\u001b[0m \u001b[32m━━━━━━━━━━━━━━━━━━━━\u001b[0m\u001b[37m\u001b[0m \u001b[1m7s\u001b[0m 4ms/step - accuracy: 0.9920 - loss: 0.0278 - val_accuracy: 0.9869 - val_loss: 0.0389\n",
            "Epoch 16/25\n",
            "\u001b[1m1875/1875\u001b[0m \u001b[32m━━━━━━━━━━━━━━━━━━━━\u001b[0m\u001b[37m\u001b[0m \u001b[1m7s\u001b[0m 4ms/step - accuracy: 0.9923 - loss: 0.0258 - val_accuracy: 0.9874 - val_loss: 0.0378\n",
            "Epoch 17/25\n",
            "\u001b[1m1875/1875\u001b[0m \u001b[32m━━━━━━━━━━━━━━━━━━━━\u001b[0m\u001b[37m\u001b[0m \u001b[1m7s\u001b[0m 4ms/step - accuracy: 0.9927 - loss: 0.0251 - val_accuracy: 0.9870 - val_loss: 0.0371\n",
            "Epoch 18/25\n",
            "\u001b[1m1875/1875\u001b[0m \u001b[32m━━━━━━━━━━━━━━━━━━━━\u001b[0m\u001b[37m\u001b[0m \u001b[1m7s\u001b[0m 4ms/step - accuracy: 0.9935 - loss: 0.0224 - val_accuracy: 0.9879 - val_loss: 0.0376\n",
            "Epoch 19/25\n",
            "\u001b[1m1875/1875\u001b[0m \u001b[32m━━━━━━━━━━━━━━━━━━━━\u001b[0m\u001b[37m\u001b[0m \u001b[1m7s\u001b[0m 4ms/step - accuracy: 0.9942 - loss: 0.0215 - val_accuracy: 0.9874 - val_loss: 0.0375\n",
            "Epoch 20/25\n",
            "\u001b[1m1875/1875\u001b[0m \u001b[32m━━━━━━━━━━━━━━━━━━━━\u001b[0m\u001b[37m\u001b[0m \u001b[1m6s\u001b[0m 3ms/step - accuracy: 0.9944 - loss: 0.0202 - val_accuracy: 0.9868 - val_loss: 0.0398\n",
            "Epoch 21/25\n",
            "\u001b[1m1875/1875\u001b[0m \u001b[32m━━━━━━━━━━━━━━━━━━━━\u001b[0m\u001b[37m\u001b[0m \u001b[1m11s\u001b[0m 4ms/step - accuracy: 0.9951 - loss: 0.0179 - val_accuracy: 0.9885 - val_loss: 0.0346\n",
            "Epoch 22/25\n",
            "\u001b[1m1875/1875\u001b[0m \u001b[32m━━━━━━━━━━━━━━━━━━━━\u001b[0m\u001b[37m\u001b[0m \u001b[1m10s\u001b[0m 4ms/step - accuracy: 0.9956 - loss: 0.0176 - val_accuracy: 0.9879 - val_loss: 0.0364\n",
            "Epoch 23/25\n",
            "\u001b[1m1875/1875\u001b[0m \u001b[32m━━━━━━━━━━━━━━━━━━━━\u001b[0m\u001b[37m\u001b[0m \u001b[1m10s\u001b[0m 4ms/step - accuracy: 0.9960 - loss: 0.0173 - val_accuracy: 0.9884 - val_loss: 0.0346\n",
            "Epoch 24/25\n",
            "\u001b[1m1875/1875\u001b[0m \u001b[32m━━━━━━━━━━━━━━━━━━━━\u001b[0m\u001b[37m\u001b[0m \u001b[1m7s\u001b[0m 4ms/step - accuracy: 0.9962 - loss: 0.0148 - val_accuracy: 0.9884 - val_loss: 0.0375\n",
            "Epoch 25/25\n",
            "\u001b[1m1875/1875\u001b[0m \u001b[32m━━━━━━━━━━━━━━━━━━━━\u001b[0m\u001b[37m\u001b[0m \u001b[1m6s\u001b[0m 3ms/step - accuracy: 0.9966 - loss: 0.0138 - val_accuracy: 0.9883 - val_loss: 0.0344\n",
            "Architecture 1Conv_1HiddenFC_256 - Test Accuracy: 98.83%\n",
            "Architecture 1Conv_1HiddenFC_256 - Parameters: 2363786\n",
            "Architecture 1Conv_1HiddenFC_256 - Training Time: 199.01 seconds\n"
          ]
        }
      ],
      "source": [
        "print(\"\\nTesting different CNN architectures:\")\n",
        "for i, arch_config in enumerate(architectures_to_test):\n",
        "  print(f\"\\n--- Architecture {i+1}: {arch_config['name']} ---\")\n",
        "\n",
        "  # Ensure kernel sizes are valid tuples\n",
        "  current_conv_config = []\n",
        "  for filters, kernel_dim in arch_config['conv']:\n",
        "    if isinstance(kernel_dim, int):\n",
        "      kernel_tuple = (kernel_dim, kernel_dim)\n",
        "    else:\n",
        "      kernel_tuple = kernel_dim\n",
        "    if kernel_tuple[0] > 5 or kernel_tuple[1] > 5:\n",
        "      print(\n",
        "          f\"Warning: Kernel {kernel_tuple} for {arch_config['name']} exceeds 5x5. Skipping this config or capping kernel.\")\n",
        "      # For simplicity, we might skip or cap here. Capping:\n",
        "      kernel_tuple = (min(kernel_tuple[0], 5), min(kernel_tuple[1], 5))\n",
        "      print(f\"Capped kernel to: {kernel_tuple}\")\n",
        "    current_conv_config.append((filters, kernel_tuple))\n",
        "\n",
        "  arch_model = create_variable_cnn_model(current_conv_config,\n",
        "                                         arch_config['fc'],\n",
        "                                         learning_rate=fixed_lr_arch)\n",
        "  arch_model.summary()\n",
        "\n",
        "  start_time_arch_train = time.time()\n",
        "  history_arch = arch_model.fit(x_train_cnn, y_train_ann,\n",
        "                                epochs=fixed_epochs_arch,\n",
        "                                batch_size=32,\n",
        "                                verbose=1,\n",
        "                                validation_data=(x_test_cnn, y_test_ann)\n",
        "                                )\n",
        "  end_time_arch_train = time.time()\n",
        "  arch_train_time = end_time_arch_train - start_time_arch_train\n",
        "\n",
        "  loss_arch, accuracy_arch = arch_model.evaluate(\n",
        "      x_test_cnn, y_test_ann, verbose=0)\n",
        "\n",
        "  print(\n",
        "      f\"Architecture {arch_config['name']} - Test Accuracy: {accuracy_arch*100:.2f}%\")\n",
        "  print(\n",
        "      f\"Architecture {arch_config['name']} - Parameters: {arch_model.count_params()}\")\n",
        "  print(\n",
        "      f\"Architecture {arch_config['name']} - Training Time: {arch_train_time:.2f} seconds\")\n",
        "\n",
        "  arch_variation_results.append({\n",
        "      'name': arch_config['name'],\n",
        "      'accuracy': accuracy_arch,\n",
        "      'params': arch_model.count_params(),\n",
        "      'conv_config': current_conv_config,\n",
        "      'fc_config': arch_config['fc'],\n",
        "      'train_time': arch_train_time,\n",
        "      'layers': len(arch_model.layers)  # Number of functional layers\n",
        "  })"
      ]
    },
    {
      "cell_type": "code",
      "execution_count": 33,
      "id": "0947fe5b",
      "metadata": {
        "id": "0947fe5b",
        "colab": {
          "base_uri": "https://localhost:8080/"
        },
        "outputId": "7a4e4426-602c-44ec-f002-952f7fc9eec0"
      },
      "outputs": [
        {
          "output_type": "stream",
          "name": "stdout",
          "text": [
            "\n",
            "--- Architecture Variation Results ---\n",
            "Name: 3Conv_0HiddenFC, Accuracy: 98.15%, Params: 56394, Train Time: 209.82s\n",
            "Name: 2Conv_1HiddenFC_128, Accuracy: 99.03%, Params: 225034, Train Time: 219.46s\n",
            "Name: 3Conv_1HiddenFC_64, Accuracy: 98.33%, Params: 60554, Train Time: 209.66s\n",
            "Name: 2Conv_2HiddenFC_128_64, Accuracy: 98.97%, Params: 192202, Train Time: 217.99s\n",
            "Name: 1Conv_1HiddenFC_256, Accuracy: 98.83%, Params: 2363786, Train Time: 199.01s\n",
            "\n",
            "Selected best architecture for Step 5: 2Conv_1HiddenFC_128 with Acc: 99.03%, Params: 225034\n"
          ]
        }
      ],
      "source": [
        "# Find the best architecture based on accuracy and params (e.g. accuracy/params ratio or a preferred metric)\n",
        "# For now, just printing all results. User can analyze this list.\n",
        "print(\"\\n--- Architecture Variation Results ---\")\n",
        "for res in arch_variation_results:\n",
        "  print(f\"Name: {res['name']}, Accuracy: {res['accuracy']*100:.2f}%, Params: {res['params']}, Train Time: {res['train_time']:.2f}s\")\n",
        "\n",
        "  # Storing the best architecture found so far for next steps\n",
        "# This simple selection prefers highest accuracy, then lowest params\n",
        "best_overall_arch_config = None\n",
        "best_overall_arch_accuracy = 0\n",
        "best_overall_arch_params = float('inf')\n",
        "\n",
        "for res in arch_variation_results:\n",
        "  if res['accuracy'] > best_overall_arch_accuracy:\n",
        "    best_overall_arch_accuracy = res['accuracy']\n",
        "    best_overall_arch_params = res['params']\n",
        "    best_overall_arch_config = res\n",
        "  elif res['accuracy'] == best_overall_arch_accuracy:\n",
        "    if res['params'] < best_overall_arch_params:\n",
        "      best_overall_arch_params = res['params']\n",
        "      best_overall_arch_config = res\n",
        "\n",
        "if best_overall_arch_config:\n",
        "  print(\n",
        "      f\"\\nSelected best architecture for Step 5: {best_overall_arch_config['name']} with Acc: {best_overall_arch_config['accuracy']*100:.2f}%, Params: {best_overall_arch_config['params']}\")\n",
        "  # These will be used by step 5\n",
        "  chosen_conv_config = best_overall_arch_config['conv_config']\n",
        "  chosen_fc_config = best_overall_arch_config['fc_config']\n",
        "else:\n",
        "  print(\"\\nNo architecture configurations were successfully tested or no results available.\")\n",
        "  # Fallback to base model config if none better or tested\n",
        "  chosen_conv_config = [(32, (3, 3)), (64, (3, 3)), (64, (3, 3))]\n",
        "  chosen_fc_config = []"
      ]
    },
    {
      "cell_type": "code",
      "source": [
        "names = [res['name'] for res in arch_variation_results]\n",
        "accuracies = [res['accuracy']*100 for res in arch_variation_results]\n",
        "params = [res['params'] for res in arch_variation_results]\n",
        "\n",
        "plt.figure(figsize=(10, 5))\n",
        "plt.barh(names, accuracies)\n",
        "plt.xlabel(\"Test Accuracy (%)\")\n",
        "plt.title(\"CNN Architecture Comparison - Accuracy\")\n",
        "plt.grid(True)\n",
        "plt.show()\n"
      ],
      "metadata": {
        "colab": {
          "base_uri": "https://localhost:8080/",
          "height": 487
        },
        "id": "_rwAKVCcrQvO",
        "outputId": "5668044f-fa4a-4195-b31a-d57709f11041"
      },
      "id": "_rwAKVCcrQvO",
      "execution_count": 34,
      "outputs": [
        {
          "output_type": "display_data",
          "data": {
            "text/plain": [
              "<Figure size 1000x500 with 1 Axes>"
            ],
            "image/png": "[encoded data removed]"
          },
          "metadata": {}
        }
      ]
    },
    {
      "cell_type": "code",
      "source": [
        "plt.figure(figsize=(8, 5))\n",
        "plt.scatter(params, accuracies)\n",
        "plt.xlabel(\"Number of Parameters\")\n",
        "plt.ylabel(\"Test Accuracy (%)\")\n",
        "plt.title(\"Accuracy vs Parameters\")\n",
        "plt.grid(True)\n",
        "plt.show()\n"
      ],
      "metadata": {
        "colab": {
          "base_uri": "https://localhost:8080/",
          "height": 487
        },
        "id": "PYxTb5BCrUdJ",
        "outputId": "92ae9b93-6c5c-4c02-beff-3ea5d9dbe8d1"
      },
      "id": "PYxTb5BCrUdJ",
      "execution_count": 35,
      "outputs": [
        {
          "output_type": "display_data",
          "data": {
            "text/plain": [
              "<Figure size 800x500 with 1 Axes>"
            ],
            "image/png": "[encoded data removed]"
          },
          "metadata": {}
        }
      ]
    },
    {
      "cell_type": "markdown",
      "id": "e776fc8d",
      "metadata": {
        "id": "e776fc8d"
      },
      "source": [
        "## Step 5: Batch Sizes & Activations\n",
        "- Try 2 new batch sizes (e.g., 128, 192)\n",
        "- Test 3 new activations (include sigmoid)\n",
        "- Compare performance metrics\n",
        "- Finalize best batch size and activation"
      ]
    },
    {
      "cell_type": "code",
      "execution_count": 39,
      "id": "ffc13c9b",
      "metadata": {
        "id": "ffc13c9b",
        "colab": {
          "base_uri": "https://localhost:8080/"
        },
        "outputId": "1869202e-639e-4237-af5d-a840865a6ce2"
      },
      "outputs": [
        {
          "output_type": "stream",
          "name": "stdout",
          "text": [
            "\n",
            "--- Step 5: Batch Sizes & Activations ---\n",
            "Using best arch: Conv-[(32, (3, 3)), (64, (3, 3))], FC-[128], LR-0.01, Epochs-25\n",
            "\n",
            "Testing different batch sizes:\n",
            "\n",
            "Training with Batch Size: 32, Activation: relu...\n",
            "Epoch 1/25\n",
            "\u001b[1m1875/1875\u001b[0m \u001b[32m━━━━━━━━━━━━━━━━━━━━\u001b[0m\u001b[37m\u001b[0m \u001b[1m7s\u001b[0m 3ms/step - accuracy: 0.7003 - loss: 1.0525 - val_accuracy: 0.9483 - val_loss: 0.1634\n",
            "Epoch 2/25\n",
            "\u001b[1m1875/1875\u001b[0m \u001b[32m━━━━━━━━━━━━━━━━━━━━\u001b[0m\u001b[37m\u001b[0m \u001b[1m6s\u001b[0m 3ms/step - accuracy: 0.9530 - loss: 0.1548 - val_accuracy: 0.9710 - val_loss: 0.0952\n",
            "Epoch 3/25\n",
            "\u001b[1m1875/1875\u001b[0m \u001b[32m━━━━━━━━━━━━━━━━━━━━\u001b[0m\u001b[37m\u001b[0m \u001b[1m10s\u001b[0m 3ms/step - accuracy: 0.9713 - loss: 0.0976 - val_accuracy: 0.9777 - val_loss: 0.0716\n",
            "Epoch 4/25\n",
            "\u001b[1m1875/1875\u001b[0m \u001b[32m━━━━━━━━━━━━━━━━━━━━\u001b[0m\u001b[37m\u001b[0m \u001b[1m11s\u001b[0m 3ms/step - accuracy: 0.9771 - loss: 0.0756 - val_accuracy: 0.9782 - val_loss: 0.0663\n",
            "Epoch 5/25\n",
            "\u001b[1m1875/1875\u001b[0m \u001b[32m━━━━━━━━━━━━━━━━━━━━\u001b[0m\u001b[37m\u001b[0m \u001b[1m6s\u001b[0m 3ms/step - accuracy: 0.9800 - loss: 0.0644 - val_accuracy: 0.9820 - val_loss: 0.0547\n",
            "Epoch 6/25\n",
            "\u001b[1m1875/1875\u001b[0m \u001b[32m━━━━━━━━━━━━━━━━━━━━\u001b[0m\u001b[37m\u001b[0m \u001b[1m6s\u001b[0m 3ms/step - accuracy: 0.9828 - loss: 0.0584 - val_accuracy: 0.9830 - val_loss: 0.0494\n",
            "Epoch 7/25\n",
            "\u001b[1m1875/1875\u001b[0m \u001b[32m━━━━━━━━━━━━━━━━━━━━\u001b[0m\u001b[37m\u001b[0m \u001b[1m6s\u001b[0m 3ms/step - accuracy: 0.9840 - loss: 0.0520 - val_accuracy: 0.9837 - val_loss: 0.0528\n",
            "Epoch 8/25\n",
            "\u001b[1m1875/1875\u001b[0m \u001b[32m━━━━━━━━━━━━━━━━━━━━\u001b[0m\u001b[37m\u001b[0m \u001b[1m11s\u001b[0m 3ms/step - accuracy: 0.9868 - loss: 0.0439 - val_accuracy: 0.9849 - val_loss: 0.0478\n",
            "Epoch 9/25\n",
            "\u001b[1m1875/1875\u001b[0m \u001b[32m━━━━━━━━━━━━━━━━━━━━\u001b[0m\u001b[37m\u001b[0m \u001b[1m6s\u001b[0m 3ms/step - accuracy: 0.9874 - loss: 0.0414 - val_accuracy: 0.9868 - val_loss: 0.0400\n",
            "Epoch 10/25\n",
            "\u001b[1m1875/1875\u001b[0m \u001b[32m━━━━━━━━━━━━━━━━━━━━\u001b[0m\u001b[37m\u001b[0m \u001b[1m10s\u001b[0m 3ms/step - accuracy: 0.9886 - loss: 0.0364 - val_accuracy: 0.9850 - val_loss: 0.0450\n",
            "Epoch 11/25\n",
            "\u001b[1m1875/1875\u001b[0m \u001b[32m━━━━━━━━━━━━━━━━━━━━\u001b[0m\u001b[37m\u001b[0m \u001b[1m10s\u001b[0m 3ms/step - accuracy: 0.9894 - loss: 0.0351 - val_accuracy: 0.9876 - val_loss: 0.0355\n",
            "Epoch 12/25\n",
            "\u001b[1m1875/1875\u001b[0m \u001b[32m━━━━━━━━━━━━━━━━━━━━\u001b[0m\u001b[37m\u001b[0m \u001b[1m10s\u001b[0m 3ms/step - accuracy: 0.9900 - loss: 0.0328 - val_accuracy: 0.9888 - val_loss: 0.0356\n",
            "Epoch 13/25\n",
            "\u001b[1m1875/1875\u001b[0m \u001b[32m━━━━━━━━━━━━━━━━━━━━\u001b[0m\u001b[37m\u001b[0m \u001b[1m6s\u001b[0m 3ms/step - accuracy: 0.9906 - loss: 0.0301 - val_accuracy: 0.9887 - val_loss: 0.0339\n",
            "Epoch 14/25\n",
            "\u001b[1m1875/1875\u001b[0m \u001b[32m━━━━━━━━━━━━━━━━━━━━\u001b[0m\u001b[37m\u001b[0m \u001b[1m10s\u001b[0m 3ms/step - accuracy: 0.9918 - loss: 0.0274 - val_accuracy: 0.9889 - val_loss: 0.0315\n",
            "Epoch 15/25\n",
            "\u001b[1m1875/1875\u001b[0m \u001b[32m━━━━━━━━━━━━━━━━━━━━\u001b[0m\u001b[37m\u001b[0m \u001b[1m10s\u001b[0m 3ms/step - accuracy: 0.9917 - loss: 0.0266 - val_accuracy: 0.9896 - val_loss: 0.0308\n",
            "Epoch 16/25\n",
            "\u001b[1m1875/1875\u001b[0m \u001b[32m━━━━━━━━━━━━━━━━━━━━\u001b[0m\u001b[37m\u001b[0m \u001b[1m11s\u001b[0m 3ms/step - accuracy: 0.9925 - loss: 0.0257 - val_accuracy: 0.9898 - val_loss: 0.0313\n",
            "Epoch 17/25\n",
            "\u001b[1m1875/1875\u001b[0m \u001b[32m━━━━━━━━━━━━━━━━━━━━\u001b[0m\u001b[37m\u001b[0m \u001b[1m6s\u001b[0m 3ms/step - accuracy: 0.9925 - loss: 0.0226 - val_accuracy: 0.9878 - val_loss: 0.0372\n",
            "Epoch 18/25\n",
            "\u001b[1m1875/1875\u001b[0m \u001b[32m━━━━━━━━━━━━━━━━━━━━\u001b[0m\u001b[37m\u001b[0m \u001b[1m10s\u001b[0m 3ms/step - accuracy: 0.9935 - loss: 0.0215 - val_accuracy: 0.9890 - val_loss: 0.0331\n",
            "Epoch 19/25\n",
            "\u001b[1m1875/1875\u001b[0m \u001b[32m━━━━━━━━━━━━━━━━━━━━\u001b[0m\u001b[37m\u001b[0m \u001b[1m6s\u001b[0m 3ms/step - accuracy: 0.9943 - loss: 0.0191 - val_accuracy: 0.9883 - val_loss: 0.0317\n",
            "Epoch 20/25\n",
            "\u001b[1m1875/1875\u001b[0m \u001b[32m━━━━━━━━━━━━━━━━━━━━\u001b[0m\u001b[37m\u001b[0m \u001b[1m6s\u001b[0m 3ms/step - accuracy: 0.9947 - loss: 0.0166 - val_accuracy: 0.9883 - val_loss: 0.0361\n",
            "Epoch 21/25\n",
            "\u001b[1m1875/1875\u001b[0m \u001b[32m━━━━━━━━━━━━━━━━━━━━\u001b[0m\u001b[37m\u001b[0m \u001b[1m6s\u001b[0m 3ms/step - accuracy: 0.9954 - loss: 0.0161 - val_accuracy: 0.9889 - val_loss: 0.0308\n",
            "Epoch 22/25\n",
            "\u001b[1m1875/1875\u001b[0m \u001b[32m━━━━━━━━━━━━━━━━━━━━\u001b[0m\u001b[37m\u001b[0m \u001b[1m10s\u001b[0m 3ms/step - accuracy: 0.9943 - loss: 0.0167 - val_accuracy: 0.9886 - val_loss: 0.0319\n",
            "Epoch 23/25\n",
            "\u001b[1m1875/1875\u001b[0m \u001b[32m━━━━━━━━━━━━━━━━━━━━\u001b[0m\u001b[37m\u001b[0m \u001b[1m11s\u001b[0m 3ms/step - accuracy: 0.9954 - loss: 0.0148 - val_accuracy: 0.9893 - val_loss: 0.0304\n",
            "Epoch 24/25\n",
            "\u001b[1m1875/1875\u001b[0m \u001b[32m━━━━━━━━━━━━━━━━━━━━\u001b[0m\u001b[37m\u001b[0m \u001b[1m12s\u001b[0m 4ms/step - accuracy: 0.9955 - loss: 0.0146 - val_accuracy: 0.9895 - val_loss: 0.0313\n",
            "Epoch 25/25\n",
            "\u001b[1m1875/1875\u001b[0m \u001b[32m━━━━━━━━━━━━━━━━━━━━\u001b[0m\u001b[37m\u001b[0m \u001b[1m6s\u001b[0m 3ms/step - accuracy: 0.9965 - loss: 0.0128 - val_accuracy: 0.9890 - val_loss: 0.0309\n",
            "Batch Size 32 - Test Accuracy: 98.90%\n",
            "Batch Size 32 - Training Time: 209.62 seconds\n",
            "\n",
            "Training with Batch Size: 128, Activation: relu...\n",
            "Epoch 1/25\n",
            "\u001b[1m469/469\u001b[0m \u001b[32m━━━━━━━━━━━━━━━━━━━━\u001b[0m\u001b[37m\u001b[0m \u001b[1m6s\u001b[0m 9ms/step - accuracy: 0.3294 - loss: 2.0143 - val_accuracy: 0.8789 - val_loss: 0.4239\n",
            "Epoch 2/25\n",
            "\u001b[1m469/469\u001b[0m \u001b[32m━━━━━━━━━━━━━━━━━━━━\u001b[0m\u001b[37m\u001b[0m \u001b[1m7s\u001b[0m 5ms/step - accuracy: 0.8860 - loss: 0.3804 - val_accuracy: 0.9227 - val_loss: 0.2637\n",
            "Epoch 3/25\n",
            "\u001b[1m469/469\u001b[0m \u001b[32m━━━━━━━━━━━━━━━━━━━━\u001b[0m\u001b[37m\u001b[0m \u001b[1m2s\u001b[0m 5ms/step - accuracy: 0.9227 - loss: 0.2574 - val_accuracy: 0.9402 - val_loss: 0.2009\n",
            "Epoch 4/25\n",
            "\u001b[1m469/469\u001b[0m \u001b[32m━━━━━━━━━━━━━━━━━━━━\u001b[0m\u001b[37m\u001b[0m \u001b[1m2s\u001b[0m 4ms/step - accuracy: 0.9398 - loss: 0.2022 - val_accuracy: 0.9510 - val_loss: 0.1630\n",
            "Epoch 5/25\n",
            "\u001b[1m469/469\u001b[0m \u001b[32m━━━━━━━━━━━━━━━━━━━━\u001b[0m\u001b[37m\u001b[0m \u001b[1m2s\u001b[0m 4ms/step - accuracy: 0.9485 - loss: 0.1671 - val_accuracy: 0.9616 - val_loss: 0.1307\n",
            "Epoch 6/25\n",
            "\u001b[1m469/469\u001b[0m \u001b[32m━━━━━━━━━━━━━━━━━━━━\u001b[0m\u001b[37m\u001b[0m \u001b[1m2s\u001b[0m 4ms/step - accuracy: 0.9577 - loss: 0.1405 - val_accuracy: 0.9660 - val_loss: 0.1173\n",
            "Epoch 7/25\n",
            "\u001b[1m469/469\u001b[0m \u001b[32m━━━━━━━━━━━━━━━━━━━━\u001b[0m\u001b[37m\u001b[0m \u001b[1m2s\u001b[0m 4ms/step - accuracy: 0.9649 - loss: 0.1205 - val_accuracy: 0.9686 - val_loss: 0.1031\n",
            "Epoch 8/25\n",
            "\u001b[1m469/469\u001b[0m \u001b[32m━━━━━━━━━━━━━━━━━━━━\u001b[0m\u001b[37m\u001b[0m \u001b[1m3s\u001b[0m 5ms/step - accuracy: 0.9689 - loss: 0.1065 - val_accuracy: 0.9720 - val_loss: 0.0931\n",
            "Epoch 9/25\n",
            "\u001b[1m469/469\u001b[0m \u001b[32m━━━━━━━━━━━━━━━━━━━━\u001b[0m\u001b[37m\u001b[0m \u001b[1m2s\u001b[0m 4ms/step - accuracy: 0.9701 - loss: 0.1002 - val_accuracy: 0.9758 - val_loss: 0.0839\n",
            "Epoch 10/25\n",
            "\u001b[1m469/469\u001b[0m \u001b[32m━━━━━━━━━━━━━━━━━━━━\u001b[0m\u001b[37m\u001b[0m \u001b[1m2s\u001b[0m 4ms/step - accuracy: 0.9744 - loss: 0.0881 - val_accuracy: 0.9756 - val_loss: 0.0804\n",
            "Epoch 11/25\n",
            "\u001b[1m469/469\u001b[0m \u001b[32m━━━━━━━━━━━━━━━━━━━━\u001b[0m\u001b[37m\u001b[0m \u001b[1m2s\u001b[0m 4ms/step - accuracy: 0.9745 - loss: 0.0834 - val_accuracy: 0.9771 - val_loss: 0.0741\n",
            "Epoch 12/25\n",
            "\u001b[1m469/469\u001b[0m \u001b[32m━━━━━━━━━━━━━━━━━━━━\u001b[0m\u001b[37m\u001b[0m \u001b[1m3s\u001b[0m 4ms/step - accuracy: 0.9755 - loss: 0.0815 - val_accuracy: 0.9775 - val_loss: 0.0725\n",
            "Epoch 13/25\n",
            "\u001b[1m469/469\u001b[0m \u001b[32m━━━━━━━━━━━━━━━━━━━━\u001b[0m\u001b[37m\u001b[0m \u001b[1m2s\u001b[0m 5ms/step - accuracy: 0.9782 - loss: 0.0717 - val_accuracy: 0.9754 - val_loss: 0.0749\n",
            "Epoch 14/25\n",
            "\u001b[1m469/469\u001b[0m \u001b[32m━━━━━━━━━━━━━━━━━━━━\u001b[0m\u001b[37m\u001b[0m \u001b[1m2s\u001b[0m 4ms/step - accuracy: 0.9786 - loss: 0.0705 - val_accuracy: 0.9797 - val_loss: 0.0639\n",
            "Epoch 15/25\n",
            "\u001b[1m469/469\u001b[0m \u001b[32m━━━━━━━━━━━━━━━━━━━━\u001b[0m\u001b[37m\u001b[0m \u001b[1m2s\u001b[0m 4ms/step - accuracy: 0.9795 - loss: 0.0673 - val_accuracy: 0.9793 - val_loss: 0.0671\n",
            "Epoch 16/25\n",
            "\u001b[1m469/469\u001b[0m \u001b[32m━━━━━━━━━━━━━━━━━━━━\u001b[0m\u001b[37m\u001b[0m \u001b[1m2s\u001b[0m 4ms/step - accuracy: 0.9801 - loss: 0.0660 - val_accuracy: 0.9816 - val_loss: 0.0605\n",
            "Epoch 17/25\n",
            "\u001b[1m469/469\u001b[0m \u001b[32m━━━━━━━━━━━━━━━━━━━━\u001b[0m\u001b[37m\u001b[0m \u001b[1m2s\u001b[0m 4ms/step - accuracy: 0.9811 - loss: 0.0621 - val_accuracy: 0.9796 - val_loss: 0.0642\n",
            "Epoch 18/25\n",
            "\u001b[1m469/469\u001b[0m \u001b[32m━━━━━━━━━━━━━━━━━━━━\u001b[0m\u001b[37m\u001b[0m \u001b[1m2s\u001b[0m 4ms/step - accuracy: 0.9829 - loss: 0.0582 - val_accuracy: 0.9818 - val_loss: 0.0573\n",
            "Epoch 19/25\n",
            "\u001b[1m469/469\u001b[0m \u001b[32m━━━━━━━━━━━━━━━━━━━━\u001b[0m\u001b[37m\u001b[0m \u001b[1m3s\u001b[0m 5ms/step - accuracy: 0.9829 - loss: 0.0565 - val_accuracy: 0.9836 - val_loss: 0.0534\n",
            "Epoch 20/25\n",
            "\u001b[1m469/469\u001b[0m \u001b[32m━━━━━━━━━━━━━━━━━━━━\u001b[0m\u001b[37m\u001b[0m \u001b[1m2s\u001b[0m 4ms/step - accuracy: 0.9836 - loss: 0.0535 - val_accuracy: 0.9832 - val_loss: 0.0536\n",
            "Epoch 21/25\n",
            "\u001b[1m469/469\u001b[0m \u001b[32m━━━━━━━━━━━━━━━━━━━━\u001b[0m\u001b[37m\u001b[0m \u001b[1m3s\u001b[0m 4ms/step - accuracy: 0.9842 - loss: 0.0526 - val_accuracy: 0.9826 - val_loss: 0.0554\n",
            "Epoch 22/25\n",
            "\u001b[1m469/469\u001b[0m \u001b[32m━━━━━━━━━━━━━━━━━━━━\u001b[0m\u001b[37m\u001b[0m \u001b[1m2s\u001b[0m 4ms/step - accuracy: 0.9845 - loss: 0.0523 - val_accuracy: 0.9851 - val_loss: 0.0487\n",
            "Epoch 23/25\n",
            "\u001b[1m469/469\u001b[0m \u001b[32m━━━━━━━━━━━━━━━━━━━━\u001b[0m\u001b[37m\u001b[0m \u001b[1m2s\u001b[0m 4ms/step - accuracy: 0.9848 - loss: 0.0507 - val_accuracy: 0.9853 - val_loss: 0.0483\n",
            "Epoch 24/25\n",
            "\u001b[1m469/469\u001b[0m \u001b[32m━━━━━━━━━━━━━━━━━━━━\u001b[0m\u001b[37m\u001b[0m \u001b[1m3s\u001b[0m 4ms/step - accuracy: 0.9861 - loss: 0.0475 - val_accuracy: 0.9842 - val_loss: 0.0504\n",
            "Epoch 25/25\n",
            "\u001b[1m469/469\u001b[0m \u001b[32m━━━━━━━━━━━━━━━━━━━━\u001b[0m\u001b[37m\u001b[0m \u001b[1m2s\u001b[0m 4ms/step - accuracy: 0.9872 - loss: 0.0454 - val_accuracy: 0.9842 - val_loss: 0.0488\n",
            "Batch Size 128 - Test Accuracy: 98.42%\n",
            "Batch Size 128 - Training Time: 65.91 seconds\n",
            "\n",
            "Training with Batch Size: 192, Activation: relu...\n",
            "Epoch 1/25\n",
            "\u001b[1m313/313\u001b[0m \u001b[32m━━━━━━━━━━━━━━━━━━━━\u001b[0m\u001b[37m\u001b[0m \u001b[1m4s\u001b[0m 9ms/step - accuracy: 0.3721 - loss: 2.1028 - val_accuracy: 0.8531 - val_loss: 0.5751\n",
            "Epoch 2/25\n",
            "\u001b[1m313/313\u001b[0m \u001b[32m━━━━━━━━━━━━━━━━━━━━\u001b[0m\u001b[37m\u001b[0m \u001b[1m3s\u001b[0m 6ms/step - accuracy: 0.8654 - loss: 0.4823 - val_accuracy: 0.9079 - val_loss: 0.3129\n",
            "Epoch 3/25\n",
            "\u001b[1m313/313\u001b[0m \u001b[32m━━━━━━━━━━━━━━━━━━━━\u001b[0m\u001b[37m\u001b[0m \u001b[1m2s\u001b[0m 5ms/step - accuracy: 0.9059 - loss: 0.3148 - val_accuracy: 0.9294 - val_loss: 0.2400\n",
            "Epoch 4/25\n",
            "\u001b[1m313/313\u001b[0m \u001b[32m━━━━━━━━━━━━━━━━━━━━\u001b[0m\u001b[37m\u001b[0m \u001b[1m2s\u001b[0m 5ms/step - accuracy: 0.9248 - loss: 0.2545 - val_accuracy: 0.9354 - val_loss: 0.2161\n",
            "Epoch 5/25\n",
            "\u001b[1m313/313\u001b[0m \u001b[32m━━━━━━━━━━━━━━━━━━━━\u001b[0m\u001b[37m\u001b[0m \u001b[1m1s\u001b[0m 5ms/step - accuracy: 0.9362 - loss: 0.2144 - val_accuracy: 0.9360 - val_loss: 0.2051\n",
            "Epoch 6/25\n",
            "\u001b[1m313/313\u001b[0m \u001b[32m━━━━━━━━━━━━━━━━━━━━\u001b[0m\u001b[37m\u001b[0m \u001b[1m1s\u001b[0m 5ms/step - accuracy: 0.9453 - loss: 0.1840 - val_accuracy: 0.9532 - val_loss: 0.1568\n",
            "Epoch 7/25\n",
            "\u001b[1m313/313\u001b[0m \u001b[32m━━━━━━━━━━━━━━━━━━━━\u001b[0m\u001b[37m\u001b[0m \u001b[1m3s\u001b[0m 5ms/step - accuracy: 0.9508 - loss: 0.1652 - val_accuracy: 0.9593 - val_loss: 0.1369\n",
            "Epoch 8/25\n",
            "\u001b[1m313/313\u001b[0m \u001b[32m━━━━━━━━━━━━━━━━━━━━\u001b[0m\u001b[37m\u001b[0m \u001b[1m2s\u001b[0m 5ms/step - accuracy: 0.9574 - loss: 0.1465 - val_accuracy: 0.9560 - val_loss: 0.1503\n",
            "Epoch 9/25\n",
            "\u001b[1m313/313\u001b[0m \u001b[32m━━━━━━━━━━━━━━━━━━━━\u001b[0m\u001b[37m\u001b[0m \u001b[1m2s\u001b[0m 6ms/step - accuracy: 0.9612 - loss: 0.1298 - val_accuracy: 0.9489 - val_loss: 0.1535\n",
            "Epoch 10/25\n",
            "\u001b[1m313/313\u001b[0m \u001b[32m━━━━━━━━━━━━━━━━━━━━\u001b[0m\u001b[37m\u001b[0m \u001b[1m2s\u001b[0m 5ms/step - accuracy: 0.9628 - loss: 0.1253 - val_accuracy: 0.9642 - val_loss: 0.1203\n",
            "Epoch 11/25\n",
            "\u001b[1m313/313\u001b[0m \u001b[32m━━━━━━━━━━━━━━━━━━━━\u001b[0m\u001b[37m\u001b[0m \u001b[1m2s\u001b[0m 5ms/step - accuracy: 0.9662 - loss: 0.1152 - val_accuracy: 0.9688 - val_loss: 0.1062\n",
            "Epoch 12/25\n",
            "\u001b[1m313/313\u001b[0m \u001b[32m━━━━━━━━━━━━━━━━━━━━\u001b[0m\u001b[37m\u001b[0m \u001b[1m2s\u001b[0m 5ms/step - accuracy: 0.9692 - loss: 0.1065 - val_accuracy: 0.9663 - val_loss: 0.1064\n",
            "Epoch 13/25\n",
            "\u001b[1m313/313\u001b[0m \u001b[32m━━━━━━━━━━━━━━━━━━━━\u001b[0m\u001b[37m\u001b[0m \u001b[1m1s\u001b[0m 5ms/step - accuracy: 0.9717 - loss: 0.0971 - val_accuracy: 0.9586 - val_loss: 0.1291\n",
            "Epoch 14/25\n",
            "\u001b[1m313/313\u001b[0m \u001b[32m━━━━━━━━━━━━━━━━━━━━\u001b[0m\u001b[37m\u001b[0m \u001b[1m3s\u001b[0m 5ms/step - accuracy: 0.9734 - loss: 0.0918 - val_accuracy: 0.9740 - val_loss: 0.0881\n",
            "Epoch 15/25\n",
            "\u001b[1m313/313\u001b[0m \u001b[32m━━━━━━━━━━━━━━━━━━━━\u001b[0m\u001b[37m\u001b[0m \u001b[1m2s\u001b[0m 5ms/step - accuracy: 0.9737 - loss: 0.0880 - val_accuracy: 0.9748 - val_loss: 0.0833\n",
            "Epoch 16/25\n",
            "\u001b[1m313/313\u001b[0m \u001b[32m━━━━━━━━━━━━━━━━━━━━\u001b[0m\u001b[37m\u001b[0m \u001b[1m1s\u001b[0m 5ms/step - accuracy: 0.9748 - loss: 0.0862 - val_accuracy: 0.9754 - val_loss: 0.0771\n",
            "Epoch 17/25\n",
            "\u001b[1m313/313\u001b[0m \u001b[32m━━━━━━━━━━━━━━━━━━━━\u001b[0m\u001b[37m\u001b[0m \u001b[1m3s\u001b[0m 5ms/step - accuracy: 0.9758 - loss: 0.0815 - val_accuracy: 0.9779 - val_loss: 0.0736\n",
            "Epoch 18/25\n",
            "\u001b[1m313/313\u001b[0m \u001b[32m━━━━━━━━━━━━━━━━━━━━\u001b[0m\u001b[37m\u001b[0m \u001b[1m1s\u001b[0m 5ms/step - accuracy: 0.9767 - loss: 0.0778 - val_accuracy: 0.9788 - val_loss: 0.0717\n",
            "Epoch 19/25\n",
            "\u001b[1m313/313\u001b[0m \u001b[32m━━━━━━━━━━━━━━━━━━━━\u001b[0m\u001b[37m\u001b[0m \u001b[1m1s\u001b[0m 5ms/step - accuracy: 0.9786 - loss: 0.0740 - val_accuracy: 0.9739 - val_loss: 0.0855\n",
            "Epoch 20/25\n",
            "\u001b[1m313/313\u001b[0m \u001b[32m━━━━━━━━━━━━━━━━━━━━\u001b[0m\u001b[37m\u001b[0m \u001b[1m3s\u001b[0m 6ms/step - accuracy: 0.9791 - loss: 0.0687 - val_accuracy: 0.9775 - val_loss: 0.0697\n",
            "Epoch 21/25\n",
            "\u001b[1m313/313\u001b[0m \u001b[32m━━━━━━━━━━━━━━━━━━━━\u001b[0m\u001b[37m\u001b[0m \u001b[1m2s\u001b[0m 5ms/step - accuracy: 0.9787 - loss: 0.0697 - val_accuracy: 0.9720 - val_loss: 0.0859\n",
            "Epoch 22/25\n",
            "\u001b[1m313/313\u001b[0m \u001b[32m━━━━━━━━━━━━━━━━━━━━\u001b[0m\u001b[37m\u001b[0m \u001b[1m2s\u001b[0m 5ms/step - accuracy: 0.9801 - loss: 0.0674 - val_accuracy: 0.9730 - val_loss: 0.0798\n",
            "Epoch 23/25\n",
            "\u001b[1m313/313\u001b[0m \u001b[32m━━━━━━━━━━━━━━━━━━━━\u001b[0m\u001b[37m\u001b[0m \u001b[1m3s\u001b[0m 5ms/step - accuracy: 0.9805 - loss: 0.0639 - val_accuracy: 0.9704 - val_loss: 0.0886\n",
            "Epoch 24/25\n",
            "\u001b[1m313/313\u001b[0m \u001b[32m━━━━━━━━━━━━━━━━━━━━\u001b[0m\u001b[37m\u001b[0m \u001b[1m1s\u001b[0m 5ms/step - accuracy: 0.9792 - loss: 0.0667 - val_accuracy: 0.9770 - val_loss: 0.0703\n",
            "Epoch 25/25\n",
            "\u001b[1m313/313\u001b[0m \u001b[32m━━━━━━━━━━━━━━━━━━━━\u001b[0m\u001b[37m\u001b[0m \u001b[1m2s\u001b[0m 5ms/step - accuracy: 0.9813 - loss: 0.0631 - val_accuracy: 0.9818 - val_loss: 0.0590\n",
            "Batch Size 192 - Test Accuracy: 98.18%\n",
            "Batch Size 192 - Training Time: 52.02 seconds\n",
            "\n",
            "Best batch size: 32 with accuracy: 98.90%\n"
          ]
        }
      ],
      "source": [
        "print(\"\\n--- Step 5: Batch Sizes & Activations ---\")\n",
        "\n",
        "# Use best settings from previous steps\n",
        "# chosen_conv_config, chosen_fc_config, fixed_lr_arch, fixed_epochs_arch are available\n",
        "print(\n",
        "    f\"Using best arch: Conv-{chosen_conv_config}, FC-{chosen_fc_config}, LR-{fixed_lr_arch}, Epochs-{fixed_epochs_arch}\")\n",
        "\n",
        "# Current (32) and two new ones, all <= 250\n",
        "batch_size_options = [32, 128, 192]\n",
        "best_batch_size = -1\n",
        "best_accuracy_batch = 0\n",
        "results_batch_tuning = []\n",
        "\n",
        "# Modify create_variable_cnn_model to accept activation function\n",
        "def create_cnn_model_for_step5(conv_layers_config, fc_layers_config, learning_rate, activation_func):\n",
        "  model = Sequential()\n",
        "  # First Conv Layer (with input_shape)\n",
        "  model.add(Conv2D(conv_layers_config[0][0], conv_layers_config[0]\n",
        "            [1], activation=activation_func, input_shape=(28, 28, 1)))\n",
        "  model.add(MaxPooling2D((2, 2)))\n",
        "\n",
        "  # Subsequent Conv Layers\n",
        "  for i in range(1, len(conv_layers_config)):\n",
        "    model.add(Conv2D(\n",
        "        conv_layers_config[i][0], conv_layers_config[i][1], activation=activation_func))\n",
        "    model.add(MaxPooling2D((2, 2)))\n",
        "\n",
        "  model.add(Flatten())\n",
        "\n",
        "  # FC Layers\n",
        "  for neurons in fc_layers_config:\n",
        "    model.add(Dense(neurons, activation=activation_func))\n",
        "\n",
        "  model.add(Dense(10, activation='softmax'))  # Output layer\n",
        "\n",
        "  optimizer = SGD(learning_rate=learning_rate)\n",
        "  model.compile(optimizer=optimizer,\n",
        "                loss='categorical_crossentropy',\n",
        "                metrics=['accuracy'])\n",
        "  return model\n",
        "\n",
        "\n",
        "print(\"\\nTesting different batch sizes:\")\n",
        "# Test with 'relu' activation first to find best batch size\n",
        "fixed_activation_for_batch_test = 'relu'\n",
        "\n",
        "for batch_s in batch_size_options:\n",
        "  print(\n",
        "      f\"\\nTraining with Batch Size: {batch_s}, Activation: {fixed_activation_for_batch_test}...\")\n",
        "  model_bs = create_cnn_model_for_step5(chosen_conv_config,\n",
        "                                        chosen_fc_config,\n",
        "                                        fixed_lr_arch,\n",
        "                                        fixed_activation_for_batch_test)\n",
        "  # No need for summary if architecture isn't changing here, just batch size\n",
        "\n",
        "  start_time_bs_train = time.time()\n",
        "  history_bs = model_bs.fit(x_train_cnn, y_train_ann,\n",
        "                            epochs=fixed_epochs_arch,\n",
        "                            batch_size=batch_s,\n",
        "                            verbose=1,\n",
        "                            validation_data=(x_test_cnn, y_test_ann)\n",
        "                            )\n",
        "  end_time_bs_train = time.time()\n",
        "  bs_train_time = end_time_bs_train - start_time_bs_train\n",
        "\n",
        "  loss_bs, accuracy_bs = model_bs.evaluate(x_test_cnn, y_test_ann, verbose=0)\n",
        "\n",
        "  print(f\"Batch Size {batch_s} - Test Accuracy: {accuracy_bs*100:.2f}%\")\n",
        "  print(f\"Batch Size {batch_s} - Training Time: {bs_train_time:.2f} seconds\")\n",
        "\n",
        "  results_batch_tuning.append({\n",
        "      'batch_size': batch_s,\n",
        "      'accuracy': accuracy_bs,\n",
        "      'train_time': bs_train_time\n",
        "  })\n",
        "\n",
        "  if accuracy_bs > best_accuracy_batch:\n",
        "    best_accuracy_batch = accuracy_bs\n",
        "    best_batch_size = batch_s\n",
        "\n",
        "print(\n",
        "    f\"\\nBest batch size: {best_batch_size} with accuracy: {best_accuracy_batch*100:.2f}%\")"
      ]
    },
    {
      "cell_type": "code",
      "execution_count": 40,
      "id": "97473327",
      "metadata": {
        "id": "97473327",
        "colab": {
          "base_uri": "https://localhost:8080/",
          "height": 1000
        },
        "outputId": "e3394ebd-72cd-48b9-8fee-6d7bb9aaba8c"
      },
      "outputs": [
        {
          "output_type": "stream",
          "name": "stdout",
          "text": [
            "\n",
            "Testing different activation functions with Batch Size: 32:\n",
            "\n",
            "Training with Activation: relu, Batch Size: 32...\n"
          ]
        },
        {
          "output_type": "display_data",
          "data": {
            "text/plain": [
              "\u001b[1mModel: \"sequential_17\"\u001b[0m\n"
            ],
            "text/html": [
              "<pre style=\"white-space:pre;overflow-x:auto;line-height:normal;font-family:Menlo,'DejaVu Sans Mono',consolas,'Courier New',monospace\"><span style=\"font-weight: bold\">Model: \"sequential_17\"</span>\n",
              "</pre>\n"
            ]
          },
          "metadata": {}
        },
        {
          "output_type": "display_data",
          "data": {
            "text/plain": [
              "┏━━━━━━━━━━━━━━━━━━━━━━━━━━━━━━━━━┳━━━━━━━━━━━━━━━━━━━━━━━━┳━━━━━━━━━━━━━━━┓\n",
              "┃\u001b[1m \u001b[0m\u001b[1mLayer (type)                   \u001b[0m\u001b[1m \u001b[0m┃\u001b[1m \u001b[0m\u001b[1mOutput Shape          \u001b[0m\u001b[1m \u001b[0m┃\u001b[1m \u001b[0m\u001b[1m      Param #\u001b[0m\u001b[1m \u001b[0m┃\n",
              "┡━━━━━━━━━━━━━━━━━━━━━━━━━━━━━━━━━╇━━━━━━━━━━━━━━━━━━━━━━━━╇━━━━━━━━━━━━━━━┩\n",
              "│ conv2d_38 (\u001b[38;5;33mConv2D\u001b[0m)              │ (\u001b[38;5;45mNone\u001b[0m, \u001b[38;5;34m26\u001b[0m, \u001b[38;5;34m26\u001b[0m, \u001b[38;5;34m32\u001b[0m)     │           \u001b[38;5;34m320\u001b[0m │\n",
              "├─────────────────────────────────┼────────────────────────┼───────────────┤\n",
              "│ max_pooling2d_31 (\u001b[38;5;33mMaxPooling2D\u001b[0m) │ (\u001b[38;5;45mNone\u001b[0m, \u001b[38;5;34m13\u001b[0m, \u001b[38;5;34m13\u001b[0m, \u001b[38;5;34m32\u001b[0m)     │             \u001b[38;5;34m0\u001b[0m │\n",
              "├─────────────────────────────────┼────────────────────────┼───────────────┤\n",
              "│ conv2d_39 (\u001b[38;5;33mConv2D\u001b[0m)              │ (\u001b[38;5;45mNone\u001b[0m, \u001b[38;5;34m11\u001b[0m, \u001b[38;5;34m11\u001b[0m, \u001b[38;5;34m64\u001b[0m)     │        \u001b[38;5;34m18,496\u001b[0m │\n",
              "├─────────────────────────────────┼────────────────────────┼───────────────┤\n",
              "│ max_pooling2d_32 (\u001b[38;5;33mMaxPooling2D\u001b[0m) │ (\u001b[38;5;45mNone\u001b[0m, \u001b[38;5;34m5\u001b[0m, \u001b[38;5;34m5\u001b[0m, \u001b[38;5;34m64\u001b[0m)       │             \u001b[38;5;34m0\u001b[0m │\n",
              "├─────────────────────────────────┼────────────────────────┼───────────────┤\n",
              "│ flatten_17 (\u001b[38;5;33mFlatten\u001b[0m)            │ (\u001b[38;5;45mNone\u001b[0m, \u001b[38;5;34m1600\u001b[0m)           │             \u001b[38;5;34m0\u001b[0m │\n",
              "├─────────────────────────────────┼────────────────────────┼───────────────┤\n",
              "│ dense_27 (\u001b[38;5;33mDense\u001b[0m)                │ (\u001b[38;5;45mNone\u001b[0m, \u001b[38;5;34m128\u001b[0m)            │       \u001b[38;5;34m204,928\u001b[0m │\n",
              "├─────────────────────────────────┼────────────────────────┼───────────────┤\n",
              "│ dense_28 (\u001b[38;5;33mDense\u001b[0m)                │ (\u001b[38;5;45mNone\u001b[0m, \u001b[38;5;34m10\u001b[0m)             │         \u001b[38;5;34m1,290\u001b[0m │\n",
              "└─────────────────────────────────┴────────────────────────┴───────────────┘\n"
            ],
            "text/html": [
              "<pre style=\"white-space:pre;overflow-x:auto;line-height:normal;font-family:Menlo,'DejaVu Sans Mono',consolas,'Courier New',monospace\">┏━━━━━━━━━━━━━━━━━━━━━━━━━━━━━━━━━┳━━━━━━━━━━━━━━━━━━━━━━━━┳━━━━━━━━━━━━━━━┓\n",
              "┃<span style=\"font-weight: bold\"> Layer (type)                    </span>┃<span style=\"font-weight: bold\"> Output Shape           </span>┃<span style=\"font-weight: bold\">       Param # </span>┃\n",
              "┡━━━━━━━━━━━━━━━━━━━━━━━━━━━━━━━━━╇━━━━━━━━━━━━━━━━━━━━━━━━╇━━━━━━━━━━━━━━━┩\n",
              "│ conv2d_38 (<span style=\"color: #0087ff; text-decoration-color: #0087ff\">Conv2D</span>)              │ (<span style=\"color: #00d7ff; text-decoration-color: #00d7ff\">None</span>, <span style=\"color: #00af00; text-decoration-color: #00af00\">26</span>, <span style=\"color: #00af00; text-decoration-color: #00af00\">26</span>, <span style=\"color: #00af00; text-decoration-color: #00af00\">32</span>)     │           <span style=\"color: #00af00; text-decoration-color: #00af00\">320</span> │\n",
              "├─────────────────────────────────┼────────────────────────┼───────────────┤\n",
              "│ max_pooling2d_31 (<span style=\"color: #0087ff; text-decoration-color: #0087ff\">MaxPooling2D</span>) │ (<span style=\"color: #00d7ff; text-decoration-color: #00d7ff\">None</span>, <span style=\"color: #00af00; text-decoration-color: #00af00\">13</span>, <span style=\"color: #00af00; text-decoration-color: #00af00\">13</span>, <span style=\"color: #00af00; text-decoration-color: #00af00\">32</span>)     │             <span style=\"color: #00af00; text-decoration-color: #00af00\">0</span> │\n",
              "├─────────────────────────────────┼────────────────────────┼───────────────┤\n",
              "│ conv2d_39 (<span style=\"color: #0087ff; text-decoration-color: #0087ff\">Conv2D</span>)              │ (<span style=\"color: #00d7ff; text-decoration-color: #00d7ff\">None</span>, <span style=\"color: #00af00; text-decoration-color: #00af00\">11</span>, <span style=\"color: #00af00; text-decoration-color: #00af00\">11</span>, <span style=\"color: #00af00; text-decoration-color: #00af00\">64</span>)     │        <span style=\"color: #00af00; text-decoration-color: #00af00\">18,496</span> │\n",
              "├─────────────────────────────────┼────────────────────────┼───────────────┤\n",
              "│ max_pooling2d_32 (<span style=\"color: #0087ff; text-decoration-color: #0087ff\">MaxPooling2D</span>) │ (<span style=\"color: #00d7ff; text-decoration-color: #00d7ff\">None</span>, <span style=\"color: #00af00; text-decoration-color: #00af00\">5</span>, <span style=\"color: #00af00; text-decoration-color: #00af00\">5</span>, <span style=\"color: #00af00; text-decoration-color: #00af00\">64</span>)       │             <span style=\"color: #00af00; text-decoration-color: #00af00\">0</span> │\n",
              "├─────────────────────────────────┼────────────────────────┼───────────────┤\n",
              "│ flatten_17 (<span style=\"color: #0087ff; text-decoration-color: #0087ff\">Flatten</span>)            │ (<span style=\"color: #00d7ff; text-decoration-color: #00d7ff\">None</span>, <span style=\"color: #00af00; text-decoration-color: #00af00\">1600</span>)           │             <span style=\"color: #00af00; text-decoration-color: #00af00\">0</span> │\n",
              "├─────────────────────────────────┼────────────────────────┼───────────────┤\n",
              "│ dense_27 (<span style=\"color: #0087ff; text-decoration-color: #0087ff\">Dense</span>)                │ (<span style=\"color: #00d7ff; text-decoration-color: #00d7ff\">None</span>, <span style=\"color: #00af00; text-decoration-color: #00af00\">128</span>)            │       <span style=\"color: #00af00; text-decoration-color: #00af00\">204,928</span> │\n",
              "├─────────────────────────────────┼────────────────────────┼───────────────┤\n",
              "│ dense_28 (<span style=\"color: #0087ff; text-decoration-color: #0087ff\">Dense</span>)                │ (<span style=\"color: #00d7ff; text-decoration-color: #00d7ff\">None</span>, <span style=\"color: #00af00; text-decoration-color: #00af00\">10</span>)             │         <span style=\"color: #00af00; text-decoration-color: #00af00\">1,290</span> │\n",
              "└─────────────────────────────────┴────────────────────────┴───────────────┘\n",
              "</pre>\n"
            ]
          },
          "metadata": {}
        },
        {
          "output_type": "display_data",
          "data": {
            "text/plain": [
              "\u001b[1m Total params: \u001b[0m\u001b[38;5;34m225,034\u001b[0m (879.04 KB)\n"
            ],
            "text/html": [
              "<pre style=\"white-space:pre;overflow-x:auto;line-height:normal;font-family:Menlo,'DejaVu Sans Mono',consolas,'Courier New',monospace\"><span style=\"font-weight: bold\"> Total params: </span><span style=\"color: #00af00; text-decoration-color: #00af00\">225,034</span> (879.04 KB)\n",
              "</pre>\n"
            ]
          },
          "metadata": {}
        },
        {
          "output_type": "display_data",
          "data": {
            "text/plain": [
              "\u001b[1m Trainable params: \u001b[0m\u001b[38;5;34m225,034\u001b[0m (879.04 KB)\n"
            ],
            "text/html": [
              "<pre style=\"white-space:pre;overflow-x:auto;line-height:normal;font-family:Menlo,'DejaVu Sans Mono',consolas,'Courier New',monospace\"><span style=\"font-weight: bold\"> Trainable params: </span><span style=\"color: #00af00; text-decoration-color: #00af00\">225,034</span> (879.04 KB)\n",
              "</pre>\n"
            ]
          },
          "metadata": {}
        },
        {
          "output_type": "display_data",
          "data": {
            "text/plain": [
              "\u001b[1m Non-trainable params: \u001b[0m\u001b[38;5;34m0\u001b[0m (0.00 B)\n"
            ],
            "text/html": [
              "<pre style=\"white-space:pre;overflow-x:auto;line-height:normal;font-family:Menlo,'DejaVu Sans Mono',consolas,'Courier New',monospace\"><span style=\"font-weight: bold\"> Non-trainable params: </span><span style=\"color: #00af00; text-decoration-color: #00af00\">0</span> (0.00 B)\n",
              "</pre>\n"
            ]
          },
          "metadata": {}
        },
        {
          "output_type": "stream",
          "name": "stdout",
          "text": [
            "Epoch 1/25\n",
            "\u001b[1m1875/1875\u001b[0m \u001b[32m━━━━━━━━━━━━━━━━━━━━\u001b[0m\u001b[37m\u001b[0m \u001b[1m8s\u001b[0m 4ms/step - accuracy: 0.6869 - loss: 1.0830 - val_accuracy: 0.9509 - val_loss: 0.1627\n",
            "Epoch 2/25\n",
            "\u001b[1m1875/1875\u001b[0m \u001b[32m━━━━━━━━━━━━━━━━━━━━\u001b[0m\u001b[37m\u001b[0m \u001b[1m8s\u001b[0m 3ms/step - accuracy: 0.9515 - loss: 0.1616 - val_accuracy: 0.9661 - val_loss: 0.1114\n",
            "Epoch 3/25\n",
            "\u001b[1m1875/1875\u001b[0m \u001b[32m━━━━━━━━━━━━━━━━━━━━\u001b[0m\u001b[37m\u001b[0m \u001b[1m6s\u001b[0m 3ms/step - accuracy: 0.9663 - loss: 0.1092 - val_accuracy: 0.9777 - val_loss: 0.0694\n",
            "Epoch 4/25\n",
            "\u001b[1m1875/1875\u001b[0m \u001b[32m━━━━━━━━━━━━━━━━━━━━\u001b[0m\u001b[37m\u001b[0m \u001b[1m10s\u001b[0m 3ms/step - accuracy: 0.9755 - loss: 0.0792 - val_accuracy: 0.9801 - val_loss: 0.0654\n",
            "Epoch 5/25\n",
            "\u001b[1m1875/1875\u001b[0m \u001b[32m━━━━━━━━━━━━━━━━━━━━\u001b[0m\u001b[37m\u001b[0m \u001b[1m11s\u001b[0m 4ms/step - accuracy: 0.9800 - loss: 0.0653 - val_accuracy: 0.9817 - val_loss: 0.0606\n",
            "Epoch 6/25\n",
            "\u001b[1m1875/1875\u001b[0m \u001b[32m━━━━━━━━━━━━━━━━━━━━\u001b[0m\u001b[37m\u001b[0m \u001b[1m6s\u001b[0m 3ms/step - accuracy: 0.9819 - loss: 0.0581 - val_accuracy: 0.9812 - val_loss: 0.0575\n",
            "Epoch 7/25\n",
            "\u001b[1m1875/1875\u001b[0m \u001b[32m━━━━━━━━━━━━━━━━━━━━\u001b[0m\u001b[37m\u001b[0m \u001b[1m10s\u001b[0m 3ms/step - accuracy: 0.9830 - loss: 0.0551 - val_accuracy: 0.9850 - val_loss: 0.0447\n",
            "Epoch 8/25\n",
            "\u001b[1m1875/1875\u001b[0m \u001b[32m━━━━━━━━━━━━━━━━━━━━\u001b[0m\u001b[37m\u001b[0m \u001b[1m10s\u001b[0m 3ms/step - accuracy: 0.9856 - loss: 0.0463 - val_accuracy: 0.9857 - val_loss: 0.0497\n",
            "Epoch 9/25\n",
            "\u001b[1m1875/1875\u001b[0m \u001b[32m━━━━━━━━━━━━━━━━━━━━\u001b[0m\u001b[37m\u001b[0m \u001b[1m10s\u001b[0m 3ms/step - accuracy: 0.9872 - loss: 0.0443 - val_accuracy: 0.9881 - val_loss: 0.0390\n",
            "Epoch 10/25\n",
            "\u001b[1m1875/1875\u001b[0m \u001b[32m━━━━━━━━━━━━━━━━━━━━\u001b[0m\u001b[37m\u001b[0m \u001b[1m7s\u001b[0m 3ms/step - accuracy: 0.9873 - loss: 0.0395 - val_accuracy: 0.9867 - val_loss: 0.0395\n",
            "Epoch 11/25\n",
            "\u001b[1m1875/1875\u001b[0m \u001b[32m━━━━━━━━━━━━━━━━━━━━\u001b[0m\u001b[37m\u001b[0m \u001b[1m10s\u001b[0m 3ms/step - accuracy: 0.9897 - loss: 0.0355 - val_accuracy: 0.9883 - val_loss: 0.0373\n",
            "Epoch 12/25\n",
            "\u001b[1m1875/1875\u001b[0m \u001b[32m━━━━━━━━━━━━━━━━━━━━\u001b[0m\u001b[37m\u001b[0m \u001b[1m10s\u001b[0m 3ms/step - accuracy: 0.9900 - loss: 0.0334 - val_accuracy: 0.9879 - val_loss: 0.0367\n",
            "Epoch 13/25\n",
            "\u001b[1m1875/1875\u001b[0m \u001b[32m━━━━━━━━━━━━━━━━━━━━\u001b[0m\u001b[37m\u001b[0m \u001b[1m11s\u001b[0m 3ms/step - accuracy: 0.9909 - loss: 0.0304 - val_accuracy: 0.9862 - val_loss: 0.0430\n",
            "Epoch 14/25\n",
            "\u001b[1m1875/1875\u001b[0m \u001b[32m━━━━━━━━━━━━━━━━━━━━\u001b[0m\u001b[37m\u001b[0m \u001b[1m7s\u001b[0m 4ms/step - accuracy: 0.9918 - loss: 0.0271 - val_accuracy: 0.9864 - val_loss: 0.0400\n",
            "Epoch 15/25\n",
            "\u001b[1m1875/1875\u001b[0m \u001b[32m━━━━━━━━━━━━━━━━━━━━\u001b[0m\u001b[37m\u001b[0m \u001b[1m6s\u001b[0m 3ms/step - accuracy: 0.9919 - loss: 0.0269 - val_accuracy: 0.9872 - val_loss: 0.0406\n",
            "Epoch 16/25\n",
            "\u001b[1m1875/1875\u001b[0m \u001b[32m━━━━━━━━━━━━━━━━━━━━\u001b[0m\u001b[37m\u001b[0m \u001b[1m10s\u001b[0m 3ms/step - accuracy: 0.9928 - loss: 0.0243 - val_accuracy: 0.9891 - val_loss: 0.0346\n",
            "Epoch 17/25\n",
            "\u001b[1m1875/1875\u001b[0m \u001b[32m━━━━━━━━━━━━━━━━━━━━\u001b[0m\u001b[37m\u001b[0m \u001b[1m10s\u001b[0m 3ms/step - accuracy: 0.9931 - loss: 0.0226 - val_accuracy: 0.9884 - val_loss: 0.0348\n",
            "Epoch 18/25\n",
            "\u001b[1m1875/1875\u001b[0m \u001b[32m━━━━━━━━━━━━━━━━━━━━\u001b[0m\u001b[37m\u001b[0m \u001b[1m10s\u001b[0m 3ms/step - accuracy: 0.9943 - loss: 0.0200 - val_accuracy: 0.9888 - val_loss: 0.0328\n",
            "Epoch 19/25\n",
            "\u001b[1m1875/1875\u001b[0m \u001b[32m━━━━━━━━━━━━━━━━━━━━\u001b[0m\u001b[37m\u001b[0m \u001b[1m6s\u001b[0m 3ms/step - accuracy: 0.9941 - loss: 0.0191 - val_accuracy: 0.9892 - val_loss: 0.0345\n",
            "Epoch 20/25\n",
            "\u001b[1m1875/1875\u001b[0m \u001b[32m━━━━━━━━━━━━━━━━━━━━\u001b[0m\u001b[37m\u001b[0m \u001b[1m10s\u001b[0m 3ms/step - accuracy: 0.9952 - loss: 0.0172 - val_accuracy: 0.9887 - val_loss: 0.0337\n",
            "Epoch 21/25\n",
            "\u001b[1m1875/1875\u001b[0m \u001b[32m━━━━━━━━━━━━━━━━━━━━\u001b[0m\u001b[37m\u001b[0m \u001b[1m11s\u001b[0m 3ms/step - accuracy: 0.9947 - loss: 0.0177 - val_accuracy: 0.9897 - val_loss: 0.0330\n",
            "Epoch 22/25\n",
            "\u001b[1m1875/1875\u001b[0m \u001b[32m━━━━━━━━━━━━━━━━━━━━\u001b[0m\u001b[37m\u001b[0m \u001b[1m6s\u001b[0m 3ms/step - accuracy: 0.9951 - loss: 0.0173 - val_accuracy: 0.9900 - val_loss: 0.0353\n",
            "Epoch 23/25\n",
            "\u001b[1m1875/1875\u001b[0m \u001b[32m━━━━━━━━━━━━━━━━━━━━\u001b[0m\u001b[37m\u001b[0m \u001b[1m6s\u001b[0m 3ms/step - accuracy: 0.9952 - loss: 0.0161 - val_accuracy: 0.9898 - val_loss: 0.0337\n",
            "Epoch 24/25\n",
            "\u001b[1m1875/1875\u001b[0m \u001b[32m━━━━━━━━━━━━━━━━━━━━\u001b[0m\u001b[37m\u001b[0m \u001b[1m6s\u001b[0m 3ms/step - accuracy: 0.9950 - loss: 0.0149 - val_accuracy: 0.9899 - val_loss: 0.0330\n",
            "Epoch 25/25\n",
            "\u001b[1m1875/1875\u001b[0m \u001b[32m━━━━━━━━━━━━━━━━━━━━\u001b[0m\u001b[37m\u001b[0m \u001b[1m11s\u001b[0m 4ms/step - accuracy: 0.9969 - loss: 0.0113 - val_accuracy: 0.9870 - val_loss: 0.0381\n",
            "Activation relu - Test Accuracy: 98.70%\n",
            "Activation relu - Training Time: 219.58 seconds\n",
            "\n",
            "Training with Activation: sigmoid, Batch Size: 32...\n",
            "Epoch 1/25\n",
            "\u001b[1m1875/1875\u001b[0m \u001b[32m━━━━━━━━━━━━━━━━━━━━\u001b[0m\u001b[37m\u001b[0m \u001b[1m8s\u001b[0m 4ms/step - accuracy: 0.1041 - loss: 2.3144 - val_accuracy: 0.0958 - val_loss: 2.3049\n",
            "Epoch 2/25\n",
            "\u001b[1m1875/1875\u001b[0m \u001b[32m━━━━━━━━━━━━━━━━━━━━\u001b[0m\u001b[37m\u001b[0m \u001b[1m8s\u001b[0m 3ms/step - accuracy: 0.1099 - loss: 2.3039 - val_accuracy: 0.1010 - val_loss: 2.3016\n",
            "Epoch 3/25\n",
            "\u001b[1m1875/1875\u001b[0m \u001b[32m━━━━━━━━━━━━━━━━━━━━\u001b[0m\u001b[37m\u001b[0m \u001b[1m6s\u001b[0m 3ms/step - accuracy: 0.1137 - loss: 2.3001 - val_accuracy: 0.1028 - val_loss: 2.2995\n",
            "Epoch 4/25\n",
            "\u001b[1m1875/1875\u001b[0m \u001b[32m━━━━━━━━━━━━━━━━━━━━\u001b[0m\u001b[37m\u001b[0m \u001b[1m6s\u001b[0m 3ms/step - accuracy: 0.1301 - loss: 2.2929 - val_accuracy: 0.2310 - val_loss: 2.2763\n",
            "Epoch 5/25\n",
            "\u001b[1m1875/1875\u001b[0m \u001b[32m━━━━━━━━━━━━━━━━━━━━\u001b[0m\u001b[37m\u001b[0m \u001b[1m7s\u001b[0m 4ms/step - accuracy: 0.1935 - loss: 2.2639 - val_accuracy: 0.4047 - val_loss: 2.1723\n",
            "Epoch 6/25\n",
            "\u001b[1m1875/1875\u001b[0m \u001b[32m━━━━━━━━━━━━━━━━━━━━\u001b[0m\u001b[37m\u001b[0m \u001b[1m10s\u001b[0m 4ms/step - accuracy: 0.4230 - loss: 2.0647 - val_accuracy: 0.6544 - val_loss: 1.4078\n",
            "Epoch 7/25\n",
            "\u001b[1m1875/1875\u001b[0m \u001b[32m━━━━━━━━━━━━━━━━━━━━\u001b[0m\u001b[37m\u001b[0m \u001b[1m6s\u001b[0m 3ms/step - accuracy: 0.7168 - loss: 1.1937 - val_accuracy: 0.8161 - val_loss: 0.7281\n",
            "Epoch 8/25\n",
            "\u001b[1m1875/1875\u001b[0m \u001b[32m━━━━━━━━━━━━━━━━━━━━\u001b[0m\u001b[37m\u001b[0m \u001b[1m6s\u001b[0m 3ms/step - accuracy: 0.8178 - loss: 0.6800 - val_accuracy: 0.8564 - val_loss: 0.5276\n",
            "Epoch 9/25\n",
            "\u001b[1m1875/1875\u001b[0m \u001b[32m━━━━━━━━━━━━━━━━━━━━\u001b[0m\u001b[37m\u001b[0m \u001b[1m10s\u001b[0m 3ms/step - accuracy: 0.8530 - loss: 0.5222 - val_accuracy: 0.8749 - val_loss: 0.4372\n",
            "Epoch 10/25\n",
            "\u001b[1m1875/1875\u001b[0m \u001b[32m━━━━━━━━━━━━━━━━━━━━\u001b[0m\u001b[37m\u001b[0m \u001b[1m6s\u001b[0m 3ms/step - accuracy: 0.8747 - loss: 0.4412 - val_accuracy: 0.8902 - val_loss: 0.3840\n",
            "Epoch 11/25\n",
            "\u001b[1m1875/1875\u001b[0m \u001b[32m━━━━━━━━━━━━━━━━━━━━\u001b[0m\u001b[37m\u001b[0m \u001b[1m10s\u001b[0m 3ms/step - accuracy: 0.8880 - loss: 0.3889 - val_accuracy: 0.8991 - val_loss: 0.3462\n",
            "Epoch 12/25\n",
            "\u001b[1m1875/1875\u001b[0m \u001b[32m━━━━━━━━━━━━━━━━━━━━\u001b[0m\u001b[37m\u001b[0m \u001b[1m10s\u001b[0m 3ms/step - accuracy: 0.8963 - loss: 0.3569 - val_accuracy: 0.9100 - val_loss: 0.3200\n",
            "Epoch 13/25\n",
            "\u001b[1m1875/1875\u001b[0m \u001b[32m━━━━━━━━━━━━━━━━━━━━\u001b[0m\u001b[37m\u001b[0m \u001b[1m11s\u001b[0m 4ms/step - accuracy: 0.9030 - loss: 0.3280 - val_accuracy: 0.9157 - val_loss: 0.2919\n",
            "Epoch 14/25\n",
            "\u001b[1m1875/1875\u001b[0m \u001b[32m━━━━━━━━━━━━━━━━━━━━\u001b[0m\u001b[37m\u001b[0m \u001b[1m6s\u001b[0m 3ms/step - accuracy: 0.9083 - loss: 0.3045 - val_accuracy: 0.9204 - val_loss: 0.2701\n",
            "Epoch 15/25\n",
            "\u001b[1m1875/1875\u001b[0m \u001b[32m━━━━━━━━━━━━━━━━━━━━\u001b[0m\u001b[37m\u001b[0m \u001b[1m10s\u001b[0m 3ms/step - accuracy: 0.9171 - loss: 0.2821 - val_accuracy: 0.9268 - val_loss: 0.2559\n",
            "Epoch 16/25\n",
            "\u001b[1m1875/1875\u001b[0m \u001b[32m━━━━━━━━━━━━━━━━━━━━\u001b[0m\u001b[37m\u001b[0m \u001b[1m10s\u001b[0m 3ms/step - accuracy: 0.9214 - loss: 0.2635 - val_accuracy: 0.9333 - val_loss: 0.2356\n",
            "Epoch 17/25\n",
            "\u001b[1m1875/1875\u001b[0m \u001b[32m━━━━━━━━━━━━━━━━━━━━\u001b[0m\u001b[37m\u001b[0m \u001b[1m11s\u001b[0m 3ms/step - accuracy: 0.9286 - loss: 0.2423 - val_accuracy: 0.9357 - val_loss: 0.2220\n",
            "Epoch 18/25\n",
            "\u001b[1m1875/1875\u001b[0m \u001b[32m━━━━━━━━━━━━━━━━━━━━\u001b[0m\u001b[37m\u001b[0m \u001b[1m10s\u001b[0m 3ms/step - accuracy: 0.9318 - loss: 0.2303 - val_accuracy: 0.9391 - val_loss: 0.2096\n",
            "Epoch 19/25\n",
            "\u001b[1m1875/1875\u001b[0m \u001b[32m━━━━━━━━━━━━━━━━━━━━\u001b[0m\u001b[37m\u001b[0m \u001b[1m11s\u001b[0m 3ms/step - accuracy: 0.9355 - loss: 0.2210 - val_accuracy: 0.9433 - val_loss: 0.1968\n",
            "Epoch 20/25\n",
            "\u001b[1m1875/1875\u001b[0m \u001b[32m━━━━━━━━━━━━━━━━━━━━\u001b[0m\u001b[37m\u001b[0m \u001b[1m6s\u001b[0m 3ms/step - accuracy: 0.9400 - loss: 0.2025 - val_accuracy: 0.9462 - val_loss: 0.1846\n",
            "Epoch 21/25\n",
            "\u001b[1m1875/1875\u001b[0m \u001b[32m━━━━━━━━━━━━━━━━━━━━\u001b[0m\u001b[37m\u001b[0m \u001b[1m7s\u001b[0m 3ms/step - accuracy: 0.9424 - loss: 0.1948 - val_accuracy: 0.9494 - val_loss: 0.1769\n",
            "Epoch 22/25\n",
            "\u001b[1m1875/1875\u001b[0m \u001b[32m━━━━━━━━━━━━━━━━━━━━\u001b[0m\u001b[37m\u001b[0m \u001b[1m6s\u001b[0m 3ms/step - accuracy: 0.9458 - loss: 0.1838 - val_accuracy: 0.9515 - val_loss: 0.1679\n",
            "Epoch 23/25\n",
            "\u001b[1m1875/1875\u001b[0m \u001b[32m━━━━━━━━━━━━━━━━━━━━\u001b[0m\u001b[37m\u001b[0m \u001b[1m11s\u001b[0m 3ms/step - accuracy: 0.9504 - loss: 0.1703 - val_accuracy: 0.9554 - val_loss: 0.1576\n",
            "Epoch 24/25\n",
            "\u001b[1m1875/1875\u001b[0m \u001b[32m━━━━━━━━━━━━━━━━━━━━\u001b[0m\u001b[37m\u001b[0m \u001b[1m11s\u001b[0m 4ms/step - accuracy: 0.9522 - loss: 0.1637 - val_accuracy: 0.9567 - val_loss: 0.1512\n",
            "Epoch 25/25\n",
            "\u001b[1m1875/1875\u001b[0m \u001b[32m━━━━━━━━━━━━━━━━━━━━\u001b[0m\u001b[37m\u001b[0m \u001b[1m10s\u001b[0m 3ms/step - accuracy: 0.9527 - loss: 0.1632 - val_accuracy: 0.9580 - val_loss: 0.1457\n",
            "Activation sigmoid - Test Accuracy: 95.80%\n",
            "Activation sigmoid - Training Time: 212.59 seconds\n",
            "\n",
            "Training with Activation: tanh, Batch Size: 32...\n",
            "Epoch 1/25\n",
            "\u001b[1m1875/1875\u001b[0m \u001b[32m━━━━━━━━━━━━━━━━━━━━\u001b[0m\u001b[37m\u001b[0m \u001b[1m9s\u001b[0m 4ms/step - accuracy: 0.7567 - loss: 0.9386 - val_accuracy: 0.9400 - val_loss: 0.2206\n",
            "Epoch 2/25\n",
            "\u001b[1m1875/1875\u001b[0m \u001b[32m━━━━━━━━━━━━━━━━━━━━\u001b[0m\u001b[37m\u001b[0m \u001b[1m7s\u001b[0m 3ms/step - accuracy: 0.9391 - loss: 0.2086 - val_accuracy: 0.9623 - val_loss: 0.1350\n",
            "Epoch 3/25\n",
            "\u001b[1m1875/1875\u001b[0m \u001b[32m━━━━━━━━━━━━━━━━━━━━\u001b[0m\u001b[37m\u001b[0m \u001b[1m10s\u001b[0m 3ms/step - accuracy: 0.9599 - loss: 0.1398 - val_accuracy: 0.9720 - val_loss: 0.1007\n",
            "Epoch 4/25\n",
            "\u001b[1m1875/1875\u001b[0m \u001b[32m━━━━━━━━━━━━━━━━━━━━\u001b[0m\u001b[37m\u001b[0m \u001b[1m11s\u001b[0m 3ms/step - accuracy: 0.9714 - loss: 0.1026 - val_accuracy: 0.9759 - val_loss: 0.0833\n",
            "Epoch 5/25\n",
            "\u001b[1m1875/1875\u001b[0m \u001b[32m━━━━━━━━━━━━━━━━━━━━\u001b[0m\u001b[37m\u001b[0m \u001b[1m11s\u001b[0m 4ms/step - accuracy: 0.9767 - loss: 0.0846 - val_accuracy: 0.9804 - val_loss: 0.0678\n",
            "Epoch 6/25\n",
            "\u001b[1m1875/1875\u001b[0m \u001b[32m━━━━━━━━━━━━━━━━━━━━\u001b[0m\u001b[37m\u001b[0m \u001b[1m10s\u001b[0m 3ms/step - accuracy: 0.9797 - loss: 0.0725 - val_accuracy: 0.9814 - val_loss: 0.0629\n",
            "Epoch 7/25\n",
            "\u001b[1m1875/1875\u001b[0m \u001b[32m━━━━━━━━━━━━━━━━━━━━\u001b[0m\u001b[37m\u001b[0m \u001b[1m10s\u001b[0m 3ms/step - accuracy: 0.9805 - loss: 0.0672 - val_accuracy: 0.9831 - val_loss: 0.0566\n",
            "Epoch 8/25\n",
            "\u001b[1m1875/1875\u001b[0m \u001b[32m━━━━━━━━━━━━━━━━━━━━\u001b[0m\u001b[37m\u001b[0m \u001b[1m10s\u001b[0m 3ms/step - accuracy: 0.9847 - loss: 0.0570 - val_accuracy: 0.9844 - val_loss: 0.0517\n",
            "Epoch 9/25\n",
            "\u001b[1m1875/1875\u001b[0m \u001b[32m━━━━━━━━━━━━━━━━━━━━\u001b[0m\u001b[37m\u001b[0m \u001b[1m10s\u001b[0m 3ms/step - accuracy: 0.9861 - loss: 0.0514 - val_accuracy: 0.9850 - val_loss: 0.0485\n",
            "Epoch 10/25\n",
            "\u001b[1m1875/1875\u001b[0m \u001b[32m━━━━━━━━━━━━━━━━━━━━\u001b[0m\u001b[37m\u001b[0m \u001b[1m10s\u001b[0m 3ms/step - accuracy: 0.9869 - loss: 0.0479 - val_accuracy: 0.9843 - val_loss: 0.0482\n",
            "Epoch 11/25\n",
            "\u001b[1m1875/1875\u001b[0m \u001b[32m━━━━━━━━━━━━━━━━━━━━\u001b[0m\u001b[37m\u001b[0m \u001b[1m15s\u001b[0m 5ms/step - accuracy: 0.9878 - loss: 0.0441 - val_accuracy: 0.9864 - val_loss: 0.0435\n",
            "Epoch 12/25\n",
            "\u001b[1m1875/1875\u001b[0m \u001b[32m━━━━━━━━━━━━━━━━━━━━\u001b[0m\u001b[37m\u001b[0m \u001b[1m8s\u001b[0m 4ms/step - accuracy: 0.9888 - loss: 0.0409 - val_accuracy: 0.9863 - val_loss: 0.0433\n",
            "Epoch 13/25\n",
            "\u001b[1m1875/1875\u001b[0m \u001b[32m━━━━━━━━━━━━━━━━━━━━\u001b[0m\u001b[37m\u001b[0m \u001b[1m11s\u001b[0m 5ms/step - accuracy: 0.9895 - loss: 0.0396 - val_accuracy: 0.9866 - val_loss: 0.0404\n",
            "Epoch 14/25\n",
            "\u001b[1m1875/1875\u001b[0m \u001b[32m━━━━━━━━━━━━━━━━━━━━\u001b[0m\u001b[37m\u001b[0m \u001b[1m6s\u001b[0m 3ms/step - accuracy: 0.9904 - loss: 0.0367 - val_accuracy: 0.9869 - val_loss: 0.0391\n",
            "Epoch 15/25\n",
            "\u001b[1m1875/1875\u001b[0m \u001b[32m━━━━━━━━━━━━━━━━━━━━\u001b[0m\u001b[37m\u001b[0m \u001b[1m6s\u001b[0m 3ms/step - accuracy: 0.9909 - loss: 0.0334 - val_accuracy: 0.9867 - val_loss: 0.0390\n",
            "Epoch 16/25\n",
            "\u001b[1m1875/1875\u001b[0m \u001b[32m━━━━━━━━━━━━━━━━━━━━\u001b[0m\u001b[37m\u001b[0m \u001b[1m11s\u001b[0m 4ms/step - accuracy: 0.9917 - loss: 0.0319 - val_accuracy: 0.9877 - val_loss: 0.0371\n",
            "Epoch 17/25\n",
            "\u001b[1m1875/1875\u001b[0m \u001b[32m━━━━━━━━━━━━━━━━━━━━\u001b[0m\u001b[37m\u001b[0m \u001b[1m6s\u001b[0m 3ms/step - accuracy: 0.9919 - loss: 0.0305 - val_accuracy: 0.9878 - val_loss: 0.0362\n",
            "Epoch 18/25\n",
            "\u001b[1m1875/1875\u001b[0m \u001b[32m━━━━━━━━━━━━━━━━━━━━\u001b[0m\u001b[37m\u001b[0m \u001b[1m10s\u001b[0m 3ms/step - accuracy: 0.9924 - loss: 0.0303 - val_accuracy: 0.9875 - val_loss: 0.0364\n",
            "Epoch 19/25\n",
            "\u001b[1m1875/1875\u001b[0m \u001b[32m━━━━━━━━━━━━━━━━━━━━\u001b[0m\u001b[37m\u001b[0m \u001b[1m11s\u001b[0m 3ms/step - accuracy: 0.9929 - loss: 0.0276 - val_accuracy: 0.9883 - val_loss: 0.0345\n",
            "Epoch 20/25\n",
            "\u001b[1m1875/1875\u001b[0m \u001b[32m━━━━━━━━━━━━━━━━━━━━\u001b[0m\u001b[37m\u001b[0m \u001b[1m11s\u001b[0m 4ms/step - accuracy: 0.9925 - loss: 0.0282 - val_accuracy: 0.9891 - val_loss: 0.0341\n",
            "Epoch 21/25\n",
            "\u001b[1m1875/1875\u001b[0m \u001b[32m━━━━━━━━━━━━━━━━━━━━\u001b[0m\u001b[37m\u001b[0m \u001b[1m6s\u001b[0m 3ms/step - accuracy: 0.9935 - loss: 0.0255 - val_accuracy: 0.9886 - val_loss: 0.0348\n",
            "Epoch 22/25\n",
            "\u001b[1m1875/1875\u001b[0m \u001b[32m━━━━━━━━━━━━━━━━━━━━\u001b[0m\u001b[37m\u001b[0m \u001b[1m11s\u001b[0m 3ms/step - accuracy: 0.9938 - loss: 0.0244 - val_accuracy: 0.9889 - val_loss: 0.0336\n",
            "Epoch 23/25\n",
            "\u001b[1m1875/1875\u001b[0m \u001b[32m━━━━━━━━━━━━━━━━━━━━\u001b[0m\u001b[37m\u001b[0m \u001b[1m10s\u001b[0m 3ms/step - accuracy: 0.9945 - loss: 0.0222 - val_accuracy: 0.9886 - val_loss: 0.0339\n",
            "Epoch 24/25\n",
            "\u001b[1m1875/1875\u001b[0m \u001b[32m━━━━━━━━━━━━━━━━━━━━\u001b[0m\u001b[37m\u001b[0m \u001b[1m11s\u001b[0m 3ms/step - accuracy: 0.9945 - loss: 0.0217 - val_accuracy: 0.9887 - val_loss: 0.0336\n",
            "Epoch 25/25\n",
            "\u001b[1m1875/1875\u001b[0m \u001b[32m━━━━━━━━━━━━━━━━━━━━\u001b[0m\u001b[37m\u001b[0m \u001b[1m10s\u001b[0m 3ms/step - accuracy: 0.9946 - loss: 0.0217 - val_accuracy: 0.9884 - val_loss: 0.0325\n",
            "Activation tanh - Test Accuracy: 98.84%\n",
            "Activation tanh - Training Time: 239.63 seconds\n",
            "\n",
            "Training with Activation: elu, Batch Size: 32...\n",
            "Epoch 1/25\n",
            "\u001b[1m1875/1875\u001b[0m \u001b[32m━━━━━━━━━━━━━━━━━━━━\u001b[0m\u001b[37m\u001b[0m \u001b[1m9s\u001b[0m 4ms/step - accuracy: 0.7706 - loss: 0.8241 - val_accuracy: 0.9579 - val_loss: 0.1450\n",
            "Epoch 2/25\n",
            "\u001b[1m1875/1875\u001b[0m \u001b[32m━━━━━━━━━━━━━━━━━━━━\u001b[0m\u001b[37m\u001b[0m \u001b[1m7s\u001b[0m 3ms/step - accuracy: 0.9555 - loss: 0.1489 - val_accuracy: 0.9733 - val_loss: 0.0914\n",
            "Epoch 3/25\n",
            "\u001b[1m1875/1875\u001b[0m \u001b[32m━━━━━━━━━━━━━━━━━━━━\u001b[0m\u001b[37m\u001b[0m \u001b[1m7s\u001b[0m 4ms/step - accuracy: 0.9708 - loss: 0.0974 - val_accuracy: 0.9759 - val_loss: 0.0764\n",
            "Epoch 4/25\n",
            "\u001b[1m1875/1875\u001b[0m \u001b[32m━━━━━━━━━━━━━━━━━━━━\u001b[0m\u001b[37m\u001b[0m \u001b[1m10s\u001b[0m 3ms/step - accuracy: 0.9770 - loss: 0.0712 - val_accuracy: 0.9798 - val_loss: 0.0612\n",
            "Epoch 5/25\n",
            "\u001b[1m1875/1875\u001b[0m \u001b[32m━━━━━━━━━━━━━━━━━━━━\u001b[0m\u001b[37m\u001b[0m \u001b[1m10s\u001b[0m 3ms/step - accuracy: 0.9804 - loss: 0.0638 - val_accuracy: 0.9839 - val_loss: 0.0506\n",
            "Epoch 6/25\n",
            "\u001b[1m1875/1875\u001b[0m \u001b[32m━━━━━━━━━━━━━━━━━━━━\u001b[0m\u001b[37m\u001b[0m \u001b[1m6s\u001b[0m 3ms/step - accuracy: 0.9843 - loss: 0.0516 - val_accuracy: 0.9821 - val_loss: 0.0547\n",
            "Epoch 7/25\n",
            "\u001b[1m1875/1875\u001b[0m \u001b[32m━━━━━━━━━━━━━━━━━━━━\u001b[0m\u001b[37m\u001b[0m \u001b[1m11s\u001b[0m 3ms/step - accuracy: 0.9859 - loss: 0.0468 - val_accuracy: 0.9866 - val_loss: 0.0425\n",
            "Epoch 8/25\n",
            "\u001b[1m1875/1875\u001b[0m \u001b[32m━━━━━━━━━━━━━━━━━━━━\u001b[0m\u001b[37m\u001b[0m \u001b[1m10s\u001b[0m 3ms/step - accuracy: 0.9877 - loss: 0.0416 - val_accuracy: 0.9871 - val_loss: 0.0415\n",
            "Epoch 9/25\n",
            "\u001b[1m1875/1875\u001b[0m \u001b[32m━━━━━━━━━━━━━━━━━━━━\u001b[0m\u001b[37m\u001b[0m \u001b[1m6s\u001b[0m 3ms/step - accuracy: 0.9878 - loss: 0.0392 - val_accuracy: 0.9886 - val_loss: 0.0366\n",
            "Epoch 10/25\n",
            "\u001b[1m1875/1875\u001b[0m \u001b[32m━━━━━━━━━━━━━━━━━━━━\u001b[0m\u001b[37m\u001b[0m \u001b[1m10s\u001b[0m 3ms/step - accuracy: 0.9894 - loss: 0.0343 - val_accuracy: 0.9876 - val_loss: 0.0394\n",
            "Epoch 11/25\n",
            "\u001b[1m1875/1875\u001b[0m \u001b[32m━━━━━━━━━━━━━━━━━━━━\u001b[0m\u001b[37m\u001b[0m \u001b[1m11s\u001b[0m 3ms/step - accuracy: 0.9905 - loss: 0.0325 - val_accuracy: 0.9889 - val_loss: 0.0348\n",
            "Epoch 12/25\n",
            "\u001b[1m1875/1875\u001b[0m \u001b[32m━━━━━━━━━━━━━━━━━━━━\u001b[0m\u001b[37m\u001b[0m \u001b[1m6s\u001b[0m 3ms/step - accuracy: 0.9907 - loss: 0.0286 - val_accuracy: 0.9889 - val_loss: 0.0347\n",
            "Epoch 13/25\n",
            "\u001b[1m1875/1875\u001b[0m \u001b[32m━━━━━━━━━━━━━━━━━━━━\u001b[0m\u001b[37m\u001b[0m \u001b[1m7s\u001b[0m 4ms/step - accuracy: 0.9923 - loss: 0.0254 - val_accuracy: 0.9887 - val_loss: 0.0360\n",
            "Epoch 14/25\n",
            "\u001b[1m1875/1875\u001b[0m \u001b[32m━━━━━━━━━━━━━━━━━━━━\u001b[0m\u001b[37m\u001b[0m \u001b[1m9s\u001b[0m 3ms/step - accuracy: 0.9924 - loss: 0.0233 - val_accuracy: 0.9887 - val_loss: 0.0345\n",
            "Epoch 15/25\n",
            "\u001b[1m1875/1875\u001b[0m \u001b[32m━━━━━━━━━━━━━━━━━━━━\u001b[0m\u001b[37m\u001b[0m \u001b[1m6s\u001b[0m 3ms/step - accuracy: 0.9929 - loss: 0.0234 - val_accuracy: 0.9891 - val_loss: 0.0323\n",
            "Epoch 16/25\n",
            "\u001b[1m1875/1875\u001b[0m \u001b[32m━━━━━━━━━━━━━━━━━━━━\u001b[0m\u001b[37m\u001b[0m \u001b[1m7s\u001b[0m 4ms/step - accuracy: 0.9936 - loss: 0.0212 - val_accuracy: 0.9890 - val_loss: 0.0317\n",
            "Epoch 17/25\n",
            "\u001b[1m1875/1875\u001b[0m \u001b[32m━━━━━━━━━━━━━━━━━━━━\u001b[0m\u001b[37m\u001b[0m \u001b[1m6s\u001b[0m 3ms/step - accuracy: 0.9938 - loss: 0.0198 - val_accuracy: 0.9888 - val_loss: 0.0344\n",
            "Epoch 18/25\n",
            "\u001b[1m1875/1875\u001b[0m \u001b[32m━━━━━━━━━━━━━━━━━━━━\u001b[0m\u001b[37m\u001b[0m \u001b[1m6s\u001b[0m 3ms/step - accuracy: 0.9946 - loss: 0.0189 - val_accuracy: 0.9879 - val_loss: 0.0347\n",
            "Epoch 19/25\n",
            "\u001b[1m1875/1875\u001b[0m \u001b[32m━━━━━━━━━━━━━━━━━━━━\u001b[0m\u001b[37m\u001b[0m \u001b[1m11s\u001b[0m 4ms/step - accuracy: 0.9948 - loss: 0.0169 - val_accuracy: 0.9899 - val_loss: 0.0312\n",
            "Epoch 20/25\n",
            "\u001b[1m1875/1875\u001b[0m \u001b[32m━━━━━━━━━━━━━━━━━━━━\u001b[0m\u001b[37m\u001b[0m \u001b[1m6s\u001b[0m 3ms/step - accuracy: 0.9954 - loss: 0.0143 - val_accuracy: 0.9891 - val_loss: 0.0315\n",
            "Epoch 21/25\n",
            "\u001b[1m1875/1875\u001b[0m \u001b[32m━━━━━━━━━━━━━━━━━━━━\u001b[0m\u001b[37m\u001b[0m \u001b[1m7s\u001b[0m 4ms/step - accuracy: 0.9957 - loss: 0.0146 - val_accuracy: 0.9889 - val_loss: 0.0312\n",
            "Epoch 22/25\n",
            "\u001b[1m1875/1875\u001b[0m \u001b[32m━━━━━━━━━━━━━━━━━━━━\u001b[0m\u001b[37m\u001b[0m \u001b[1m10s\u001b[0m 3ms/step - accuracy: 0.9967 - loss: 0.0123 - val_accuracy: 0.9896 - val_loss: 0.0293\n",
            "Epoch 23/25\n",
            "\u001b[1m1875/1875\u001b[0m \u001b[32m━━━━━━━━━━━━━━━━━━━━\u001b[0m\u001b[37m\u001b[0m \u001b[1m10s\u001b[0m 3ms/step - accuracy: 0.9967 - loss: 0.0127 - val_accuracy: 0.9892 - val_loss: 0.0343\n",
            "Epoch 24/25\n",
            "\u001b[1m1875/1875\u001b[0m \u001b[32m━━━━━━━━━━━━━━━━━━━━\u001b[0m\u001b[37m\u001b[0m \u001b[1m7s\u001b[0m 4ms/step - accuracy: 0.9967 - loss: 0.0116 - val_accuracy: 0.9896 - val_loss: 0.0311\n",
            "Epoch 25/25\n",
            "\u001b[1m1875/1875\u001b[0m \u001b[32m━━━━━━━━━━━━━━━━━━━━\u001b[0m\u001b[37m\u001b[0m \u001b[1m10s\u001b[0m 3ms/step - accuracy: 0.9971 - loss: 0.0109 - val_accuracy: 0.9896 - val_loss: 0.0343\n",
            "Activation elu - Test Accuracy: 98.96%\n",
            "Activation elu - Training Time: 207.88 seconds\n",
            "\n",
            "Best activation function: 'elu' with accuracy: 98.96%\n",
            "Finalized for Step 5 - Batch Size: 32, Activation: elu\n"
          ]
        }
      ],
      "source": [
        "# Now test activations with the best batch size found\n",
        "activation_options = ['relu', 'sigmoid',\n",
        "                      'tanh', 'elu']  # relu (current) + 3 new\n",
        "best_activation = ''\n",
        "best_accuracy_activation = 0\n",
        "results_activation_tuning = []\n",
        "\n",
        "print(\n",
        "    f\"\\nTesting different activation functions with Batch Size: {best_batch_size}:\")\n",
        "for act_func in activation_options:\n",
        "  print(\n",
        "      f\"\\nTraining with Activation: {act_func}, Batch Size: {best_batch_size}...\")\n",
        "  model_act = create_cnn_model_for_step5(chosen_conv_config,\n",
        "                                         chosen_fc_config,\n",
        "                                         fixed_lr_arch,\n",
        "                                         act_func)\n",
        "  if act_func == activation_options[0]:  # Summary for first activation test\n",
        "    model_act.summary()\n",
        "\n",
        "  start_time_act_train = time.time()\n",
        "  history_act = model_act.fit(x_train_cnn, y_train_ann,\n",
        "                              epochs=fixed_epochs_arch,\n",
        "                              batch_size=best_batch_size,\n",
        "                              verbose=1,\n",
        "                              validation_data=(x_test_cnn, y_test_ann)\n",
        "                              )\n",
        "  end_time_act_train = time.time()\n",
        "  act_train_time = end_time_act_train - start_time_act_train\n",
        "\n",
        "  loss_act, accuracy_act = model_act.evaluate(\n",
        "      x_test_cnn, y_test_ann, verbose=0)\n",
        "\n",
        "  print(f\"Activation {act_func} - Test Accuracy: {accuracy_act*100:.2f}%\")\n",
        "  print(f\"Activation {act_func} - Training Time: {act_train_time:.2f} seconds\")\n",
        "\n",
        "  results_activation_tuning.append({\n",
        "      'activation': act_func,\n",
        "      'accuracy': accuracy_act,\n",
        "      'train_time': act_train_time\n",
        "  })\n",
        "\n",
        "  if accuracy_act > best_accuracy_activation:\n",
        "    best_accuracy_activation = accuracy_act\n",
        "    best_activation = act_func\n",
        "\n",
        "print(\n",
        "    f\"\\nBest activation function: '{best_activation}' with accuracy: {best_accuracy_activation*100:.2f}%\")\n",
        "\n",
        "# Finalized choices for this step\n",
        "final_batch_size = best_batch_size\n",
        "final_activation = best_activation\n",
        "print(\n",
        "    f\"Finalized for Step 5 - Batch Size: {final_batch_size}, Activation: {final_activation}\")"
      ]
    },
    {
      "cell_type": "code",
      "source": [
        "#  Visualization for Batch Sizes\n",
        "batch_sizes = [entry['batch_size'] for entry in results_batch_tuning]\n",
        "batch_accuracies = [entry['accuracy']*100 for entry in results_batch_tuning]\n",
        "\n",
        "plt.figure(figsize=(8, 5))\n",
        "plt.bar([str(b) for b in batch_sizes], batch_accuracies, color='skyblue')\n",
        "plt.xlabel('Batch Size')\n",
        "plt.ylabel('Test Accuracy (%)')\n",
        "plt.title('Batch Size vs Test Accuracy')\n",
        "plt.ylim(90, 100)  # Adjust as needed\n",
        "plt.grid(axis='y', linestyle='--', alpha=0.7)\n",
        "plt.show()\n",
        "\n",
        "#  Visualization for Activation Functions\n",
        "activations = [entry['activation'] for entry in results_activation_tuning]\n",
        "activation_accuracies = [entry['accuracy']*100 for entry in results_activation_tuning]\n",
        "\n",
        "plt.figure(figsize=(8, 5))\n",
        "plt.bar(activations, activation_accuracies, color='lightgreen')\n",
        "plt.xlabel('Activation Function')\n",
        "plt.ylabel('Test Accuracy (%)')\n",
        "plt.title('Activation Function vs Test Accuracy')\n",
        "plt.ylim(90, 100)  # Adjust as needed\n",
        "plt.grid(axis='y', linestyle='--', alpha=0.7)\n",
        "plt.show()\n"
      ],
      "metadata": {
        "colab": {
          "base_uri": "https://localhost:8080/",
          "height": 957
        },
        "id": "QmqM5-tR3KKl",
        "outputId": "2fd171d5-2983-4378-a287-e9ec9bc5ca3a"
      },
      "id": "QmqM5-tR3KKl",
      "execution_count": 41,
      "outputs": [
        {
          "output_type": "display_data",
          "data": {
            "text/plain": [
              "<Figure size 800x500 with 1 Axes>"
            ],
            "image/png": "[encoded data removed]"
          },
          "metadata": {}
        },
        {
          "output_type": "display_data",
          "data": {
            "text/plain": [
              "<Figure size 800x500 with 1 Axes>"
            ],
            "image/png": "[encoded data removed]"
          },
          "metadata": {}
        }
      ]
    },
    {
      "cell_type": "markdown",
      "id": "5de96f73",
      "metadata": {
        "id": "5de96f73"
      },
      "source": [
        "## Step 6: Optimizers + Dropout\n",
        "- Test 2 new optimizers (e.g., Adam, RMSProp)\n",
        "- Add dropout layers in 2 positions\n",
        "- Try 2 rates (e.g., 0.25, 0.5)\n",
        "- Analyze regularization effect"
      ]
    },
    {
      "cell_type": "code",
      "execution_count": 45,
      "id": "d0becbdd",
      "metadata": {
        "id": "d0becbdd",
        "colab": {
          "base_uri": "https://localhost:8080/"
        },
        "outputId": "aafc300a-2f76-4b3c-dc4a-42a1f03dc839"
      },
      "outputs": [
        {
          "output_type": "stream",
          "name": "stdout",
          "text": [
            "\n",
            "--- Step 6: Optimizers + Dropout ---\n",
            "Using: Arch-[(32, (3, 3)), (64, (3, 3))]/[128], Epochs-25, Batch-32, Activation-elu\n"
          ]
        }
      ],
      "source": [
        "print(\"\\n--- Step 6: Optimizers + Dropout ---\")\n",
        "\n",
        "# Use best settings from previous steps\n",
        "# chosen_conv_config, chosen_fc_config, fixed_epochs_arch, final_batch_size, final_activation are available.\n",
        "# fixed_lr_arch was for SGD. New optimizers will use their defaults or specified LRs.\n",
        "print(f\"Using: Arch-{chosen_conv_config}/{chosen_fc_config}, Epochs-{fixed_epochs_arch}, Batch-{final_batch_size}, Activation-{final_activation}\")\n",
        "\n",
        "results_optimizer_tuning = []\n",
        "best_optimizer_name = ''  # Will be 'sgd', 'adam', or 'rmsprop'\n",
        "best_optimizer_accuracy =0\n",
        "\n",
        "def create_cnn_model_for_step6(conv_config, fc_config, activation, optimizer_name, dropout_configs=None):\n",
        "  \"\"\"\n",
        "  dropout_configs: list of tuples (layer_index_to_insert_after, dropout_rate)\n",
        "                   or specific layer types e.g., ('after_conv_pool', rate), ('after_fc', rate)\n",
        "                   For simplicity, let's define specific insertion points:\n",
        "                   dropout_configs = {'after_pool1': 0.0, 'after_fc1': 0.0} (example)\n",
        "  \"\"\"\n",
        "  model = Sequential()\n",
        "\n",
        "  # Conv Block 1\n",
        "  model.add(Conv2D(conv_config[0][0], conv_config[0][1],\n",
        "            activation=activation, input_shape=(28, 28, 1)))\n",
        "  model.add(MaxPooling2D((2, 2)))\n",
        "  if dropout_configs and dropout_configs.get('after_pool1', 0.0) > 0:\n",
        "    model.add(Dropout(dropout_configs['after_pool1']))\n",
        "\n",
        "  # Subsequent Conv Layers (assuming chosen_conv_config might have more than 1)\n",
        "  for i in range(1, len(conv_config)):\n",
        "    model.add(Conv2D(conv_config[i][0],\n",
        "              conv_config[i][1], activation=activation))\n",
        "    model.add(MaxPooling2D((2, 2)))\n",
        "    # Potentially add more specific dropout points here if needed, e.g., 'after_pool2'\n",
        "    # For now, one dropout point after first pool, one after first FC for simplicity of \"2 positions\"\n",
        "\n",
        "  model.add(Flatten())\n",
        "\n",
        "  # FC Layers\n",
        "  if fc_config:  # If there are hidden FC layers\n",
        "    model.add(Dense(fc_config[0], activation=activation))\n",
        "    if dropout_configs and dropout_configs.get('after_fc1', 0.0) > 0:\n",
        "      model.add(Dropout(dropout_configs['after_fc1']))\n",
        "    # For multiple FC layers, this dropout is only after the first one.\n",
        "    # More complex dropout strategies could be implemented if needed.\n",
        "    for i in range(1, len(fc_config)):\n",
        "      model.add(Dense(fc_config[i], activation=activation))\n",
        "\n",
        "  model.add(Dense(10, activation='softmax'))  # Output layer\n",
        "\n",
        "  if optimizer_name == 'sgd':\n",
        "    optimizer = SGD(learning_rate=fixed_lr_arch)  # Use the tuned LR for SGD\n",
        "  elif optimizer_name == 'adam':\n",
        "    optimizer = Adam()  # Default LR for Adam\n",
        "  elif optimizer_name == 'rmsprop':\n",
        "    optimizer = RMSprop()  # Default LR for RMSprop\n",
        "  else:\n",
        "    raise ValueError(f\"Unsupported optimizer: {optimizer_name}\")\n",
        "\n",
        "  model.compile(optimizer=optimizer,\n",
        "                loss='categorical_crossentropy',\n",
        "                metrics=['accuracy'])\n",
        "  return model"
      ]
    },
    {
      "cell_type": "code",
      "execution_count": 46,
      "id": "a08bfa2b",
      "metadata": {
        "id": "a08bfa2b",
        "colab": {
          "base_uri": "https://localhost:8080/",
          "height": 1000
        },
        "outputId": "04fdbe69-014e-4362-bd2f-16334ba6a81b"
      },
      "outputs": [
        {
          "output_type": "stream",
          "name": "stdout",
          "text": [
            "\n",
            "Testing different optimizers (without dropout):\n",
            "\n",
            "Training with Optimizer: sgd...\n"
          ]
        },
        {
          "output_type": "display_data",
          "data": {
            "text/plain": [
              "\u001b[1mModel: \"sequential_21\"\u001b[0m\n"
            ],
            "text/html": [
              "<pre style=\"white-space:pre;overflow-x:auto;line-height:normal;font-family:Menlo,'DejaVu Sans Mono',consolas,'Courier New',monospace\"><span style=\"font-weight: bold\">Model: \"sequential_21\"</span>\n",
              "</pre>\n"
            ]
          },
          "metadata": {}
        },
        {
          "output_type": "display_data",
          "data": {
            "text/plain": [
              "┏━━━━━━━━━━━━━━━━━━━━━━━━━━━━━━━━━┳━━━━━━━━━━━━━━━━━━━━━━━━┳━━━━━━━━━━━━━━━┓\n",
              "┃\u001b[1m \u001b[0m\u001b[1mLayer (type)                   \u001b[0m\u001b[1m \u001b[0m┃\u001b[1m \u001b[0m\u001b[1mOutput Shape          \u001b[0m\u001b[1m \u001b[0m┃\u001b[1m \u001b[0m\u001b[1m      Param #\u001b[0m\u001b[1m \u001b[0m┃\n",
              "┡━━━━━━━━━━━━━━━━━━━━━━━━━━━━━━━━━╇━━━━━━━━━━━━━━━━━━━━━━━━╇━━━━━━━━━━━━━━━┩\n",
              "│ conv2d_46 (\u001b[38;5;33mConv2D\u001b[0m)              │ (\u001b[38;5;45mNone\u001b[0m, \u001b[38;5;34m26\u001b[0m, \u001b[38;5;34m26\u001b[0m, \u001b[38;5;34m32\u001b[0m)     │           \u001b[38;5;34m320\u001b[0m │\n",
              "├─────────────────────────────────┼────────────────────────┼───────────────┤\n",
              "│ max_pooling2d_39 (\u001b[38;5;33mMaxPooling2D\u001b[0m) │ (\u001b[38;5;45mNone\u001b[0m, \u001b[38;5;34m13\u001b[0m, \u001b[38;5;34m13\u001b[0m, \u001b[38;5;34m32\u001b[0m)     │             \u001b[38;5;34m0\u001b[0m │\n",
              "├─────────────────────────────────┼────────────────────────┼───────────────┤\n",
              "│ conv2d_47 (\u001b[38;5;33mConv2D\u001b[0m)              │ (\u001b[38;5;45mNone\u001b[0m, \u001b[38;5;34m11\u001b[0m, \u001b[38;5;34m11\u001b[0m, \u001b[38;5;34m64\u001b[0m)     │        \u001b[38;5;34m18,496\u001b[0m │\n",
              "├─────────────────────────────────┼────────────────────────┼───────────────┤\n",
              "│ max_pooling2d_40 (\u001b[38;5;33mMaxPooling2D\u001b[0m) │ (\u001b[38;5;45mNone\u001b[0m, \u001b[38;5;34m5\u001b[0m, \u001b[38;5;34m5\u001b[0m, \u001b[38;5;34m64\u001b[0m)       │             \u001b[38;5;34m0\u001b[0m │\n",
              "├─────────────────────────────────┼────────────────────────┼───────────────┤\n",
              "│ flatten_21 (\u001b[38;5;33mFlatten\u001b[0m)            │ (\u001b[38;5;45mNone\u001b[0m, \u001b[38;5;34m1600\u001b[0m)           │             \u001b[38;5;34m0\u001b[0m │\n",
              "├─────────────────────────────────┼────────────────────────┼───────────────┤\n",
              "│ dense_35 (\u001b[38;5;33mDense\u001b[0m)                │ (\u001b[38;5;45mNone\u001b[0m, \u001b[38;5;34m128\u001b[0m)            │       \u001b[38;5;34m204,928\u001b[0m │\n",
              "├─────────────────────────────────┼────────────────────────┼───────────────┤\n",
              "│ dense_36 (\u001b[38;5;33mDense\u001b[0m)                │ (\u001b[38;5;45mNone\u001b[0m, \u001b[38;5;34m10\u001b[0m)             │         \u001b[38;5;34m1,290\u001b[0m │\n",
              "└─────────────────────────────────┴────────────────────────┴───────────────┘\n"
            ],
            "text/html": [
              "<pre style=\"white-space:pre;overflow-x:auto;line-height:normal;font-family:Menlo,'DejaVu Sans Mono',consolas,'Courier New',monospace\">┏━━━━━━━━━━━━━━━━━━━━━━━━━━━━━━━━━┳━━━━━━━━━━━━━━━━━━━━━━━━┳━━━━━━━━━━━━━━━┓\n",
              "┃<span style=\"font-weight: bold\"> Layer (type)                    </span>┃<span style=\"font-weight: bold\"> Output Shape           </span>┃<span style=\"font-weight: bold\">       Param # </span>┃\n",
              "┡━━━━━━━━━━━━━━━━━━━━━━━━━━━━━━━━━╇━━━━━━━━━━━━━━━━━━━━━━━━╇━━━━━━━━━━━━━━━┩\n",
              "│ conv2d_46 (<span style=\"color: #0087ff; text-decoration-color: #0087ff\">Conv2D</span>)              │ (<span style=\"color: #00d7ff; text-decoration-color: #00d7ff\">None</span>, <span style=\"color: #00af00; text-decoration-color: #00af00\">26</span>, <span style=\"color: #00af00; text-decoration-color: #00af00\">26</span>, <span style=\"color: #00af00; text-decoration-color: #00af00\">32</span>)     │           <span style=\"color: #00af00; text-decoration-color: #00af00\">320</span> │\n",
              "├─────────────────────────────────┼────────────────────────┼───────────────┤\n",
              "│ max_pooling2d_39 (<span style=\"color: #0087ff; text-decoration-color: #0087ff\">MaxPooling2D</span>) │ (<span style=\"color: #00d7ff; text-decoration-color: #00d7ff\">None</span>, <span style=\"color: #00af00; text-decoration-color: #00af00\">13</span>, <span style=\"color: #00af00; text-decoration-color: #00af00\">13</span>, <span style=\"color: #00af00; text-decoration-color: #00af00\">32</span>)     │             <span style=\"color: #00af00; text-decoration-color: #00af00\">0</span> │\n",
              "├─────────────────────────────────┼────────────────────────┼───────────────┤\n",
              "│ conv2d_47 (<span style=\"color: #0087ff; text-decoration-color: #0087ff\">Conv2D</span>)              │ (<span style=\"color: #00d7ff; text-decoration-color: #00d7ff\">None</span>, <span style=\"color: #00af00; text-decoration-color: #00af00\">11</span>, <span style=\"color: #00af00; text-decoration-color: #00af00\">11</span>, <span style=\"color: #00af00; text-decoration-color: #00af00\">64</span>)     │        <span style=\"color: #00af00; text-decoration-color: #00af00\">18,496</span> │\n",
              "├─────────────────────────────────┼────────────────────────┼───────────────┤\n",
              "│ max_pooling2d_40 (<span style=\"color: #0087ff; text-decoration-color: #0087ff\">MaxPooling2D</span>) │ (<span style=\"color: #00d7ff; text-decoration-color: #00d7ff\">None</span>, <span style=\"color: #00af00; text-decoration-color: #00af00\">5</span>, <span style=\"color: #00af00; text-decoration-color: #00af00\">5</span>, <span style=\"color: #00af00; text-decoration-color: #00af00\">64</span>)       │             <span style=\"color: #00af00; text-decoration-color: #00af00\">0</span> │\n",
              "├─────────────────────────────────┼────────────────────────┼───────────────┤\n",
              "│ flatten_21 (<span style=\"color: #0087ff; text-decoration-color: #0087ff\">Flatten</span>)            │ (<span style=\"color: #00d7ff; text-decoration-color: #00d7ff\">None</span>, <span style=\"color: #00af00; text-decoration-color: #00af00\">1600</span>)           │             <span style=\"color: #00af00; text-decoration-color: #00af00\">0</span> │\n",
              "├─────────────────────────────────┼────────────────────────┼───────────────┤\n",
              "│ dense_35 (<span style=\"color: #0087ff; text-decoration-color: #0087ff\">Dense</span>)                │ (<span style=\"color: #00d7ff; text-decoration-color: #00d7ff\">None</span>, <span style=\"color: #00af00; text-decoration-color: #00af00\">128</span>)            │       <span style=\"color: #00af00; text-decoration-color: #00af00\">204,928</span> │\n",
              "├─────────────────────────────────┼────────────────────────┼───────────────┤\n",
              "│ dense_36 (<span style=\"color: #0087ff; text-decoration-color: #0087ff\">Dense</span>)                │ (<span style=\"color: #00d7ff; text-decoration-color: #00d7ff\">None</span>, <span style=\"color: #00af00; text-decoration-color: #00af00\">10</span>)             │         <span style=\"color: #00af00; text-decoration-color: #00af00\">1,290</span> │\n",
              "└─────────────────────────────────┴────────────────────────┴───────────────┘\n",
              "</pre>\n"
            ]
          },
          "metadata": {}
        },
        {
          "output_type": "display_data",
          "data": {
            "text/plain": [
              "\u001b[1m Total params: \u001b[0m\u001b[38;5;34m225,034\u001b[0m (879.04 KB)\n"
            ],
            "text/html": [
              "<pre style=\"white-space:pre;overflow-x:auto;line-height:normal;font-family:Menlo,'DejaVu Sans Mono',consolas,'Courier New',monospace\"><span style=\"font-weight: bold\"> Total params: </span><span style=\"color: #00af00; text-decoration-color: #00af00\">225,034</span> (879.04 KB)\n",
              "</pre>\n"
            ]
          },
          "metadata": {}
        },
        {
          "output_type": "display_data",
          "data": {
            "text/plain": [
              "\u001b[1m Trainable params: \u001b[0m\u001b[38;5;34m225,034\u001b[0m (879.04 KB)\n"
            ],
            "text/html": [
              "<pre style=\"white-space:pre;overflow-x:auto;line-height:normal;font-family:Menlo,'DejaVu Sans Mono',consolas,'Courier New',monospace\"><span style=\"font-weight: bold\"> Trainable params: </span><span style=\"color: #00af00; text-decoration-color: #00af00\">225,034</span> (879.04 KB)\n",
              "</pre>\n"
            ]
          },
          "metadata": {}
        },
        {
          "output_type": "display_data",
          "data": {
            "text/plain": [
              "\u001b[1m Non-trainable params: \u001b[0m\u001b[38;5;34m0\u001b[0m (0.00 B)\n"
            ],
            "text/html": [
              "<pre style=\"white-space:pre;overflow-x:auto;line-height:normal;font-family:Menlo,'DejaVu Sans Mono',consolas,'Courier New',monospace\"><span style=\"font-weight: bold\"> Non-trainable params: </span><span style=\"color: #00af00; text-decoration-color: #00af00\">0</span> (0.00 B)\n",
              "</pre>\n"
            ]
          },
          "metadata": {}
        },
        {
          "output_type": "stream",
          "name": "stdout",
          "text": [
            "Epoch 1/25\n",
            "\u001b[1m1875/1875\u001b[0m \u001b[32m━━━━━━━━━━━━━━━━━━━━\u001b[0m\u001b[37m\u001b[0m \u001b[1m9s\u001b[0m 4ms/step - accuracy: 0.7510 - loss: 0.8848 - val_accuracy: 0.9563 - val_loss: 0.1518\n",
            "Epoch 2/25\n",
            "\u001b[1m1875/1875\u001b[0m \u001b[32m━━━━━━━━━━━━━━━━━━━━\u001b[0m\u001b[37m\u001b[0m \u001b[1m7s\u001b[0m 3ms/step - accuracy: 0.9551 - loss: 0.1506 - val_accuracy: 0.9715 - val_loss: 0.1023\n",
            "Epoch 3/25\n",
            "\u001b[1m1875/1875\u001b[0m \u001b[32m━━━━━━━━━━━━━━━━━━━━\u001b[0m\u001b[37m\u001b[0m \u001b[1m11s\u001b[0m 3ms/step - accuracy: 0.9701 - loss: 0.1004 - val_accuracy: 0.9771 - val_loss: 0.0744\n",
            "Epoch 4/25\n",
            "\u001b[1m1875/1875\u001b[0m \u001b[32m━━━━━━━━━━━━━━━━━━━━\u001b[0m\u001b[37m\u001b[0m \u001b[1m10s\u001b[0m 3ms/step - accuracy: 0.9758 - loss: 0.0776 - val_accuracy: 0.9818 - val_loss: 0.0626\n",
            "Epoch 5/25\n",
            "\u001b[1m1875/1875\u001b[0m \u001b[32m━━━━━━━━━━━━━━━━━━━━\u001b[0m\u001b[37m\u001b[0m \u001b[1m6s\u001b[0m 3ms/step - accuracy: 0.9802 - loss: 0.0645 - val_accuracy: 0.9833 - val_loss: 0.0549\n",
            "Epoch 6/25\n",
            "\u001b[1m1875/1875\u001b[0m \u001b[32m━━━━━━━━━━━━━━━━━━━━\u001b[0m\u001b[37m\u001b[0m \u001b[1m6s\u001b[0m 3ms/step - accuracy: 0.9834 - loss: 0.0580 - val_accuracy: 0.9845 - val_loss: 0.0471\n",
            "Epoch 7/25\n",
            "\u001b[1m1875/1875\u001b[0m \u001b[32m━━━━━━━━━━━━━━━━━━━━\u001b[0m\u001b[37m\u001b[0m \u001b[1m10s\u001b[0m 3ms/step - accuracy: 0.9850 - loss: 0.0493 - val_accuracy: 0.9868 - val_loss: 0.0431\n",
            "Epoch 8/25\n",
            "\u001b[1m1875/1875\u001b[0m \u001b[32m━━━━━━━━━━━━━━━━━━━━\u001b[0m\u001b[37m\u001b[0m \u001b[1m6s\u001b[0m 3ms/step - accuracy: 0.9862 - loss: 0.0448 - val_accuracy: 0.9870 - val_loss: 0.0436\n",
            "Epoch 9/25\n",
            "\u001b[1m1875/1875\u001b[0m \u001b[32m━━━━━━━━━━━━━━━━━━━━\u001b[0m\u001b[37m\u001b[0m \u001b[1m6s\u001b[0m 3ms/step - accuracy: 0.9872 - loss: 0.0417 - val_accuracy: 0.9877 - val_loss: 0.0411\n",
            "Epoch 10/25\n",
            "\u001b[1m1875/1875\u001b[0m \u001b[32m━━━━━━━━━━━━━━━━━━━━\u001b[0m\u001b[37m\u001b[0m \u001b[1m11s\u001b[0m 4ms/step - accuracy: 0.9892 - loss: 0.0361 - val_accuracy: 0.9883 - val_loss: 0.0382\n",
            "Epoch 11/25\n",
            "\u001b[1m1875/1875\u001b[0m \u001b[32m━━━━━━━━━━━━━━━━━━━━\u001b[0m\u001b[37m\u001b[0m \u001b[1m6s\u001b[0m 3ms/step - accuracy: 0.9899 - loss: 0.0337 - val_accuracy: 0.9883 - val_loss: 0.0382\n",
            "Epoch 12/25\n",
            "\u001b[1m1875/1875\u001b[0m \u001b[32m━━━━━━━━━━━━━━━━━━━━\u001b[0m\u001b[37m\u001b[0m \u001b[1m6s\u001b[0m 3ms/step - accuracy: 0.9905 - loss: 0.0322 - val_accuracy: 0.9876 - val_loss: 0.0413\n",
            "Epoch 13/25\n",
            "\u001b[1m1875/1875\u001b[0m \u001b[32m━━━━━━━━━━━━━━━━━━━━\u001b[0m\u001b[37m\u001b[0m \u001b[1m6s\u001b[0m 3ms/step - accuracy: 0.9914 - loss: 0.0286 - val_accuracy: 0.9874 - val_loss: 0.0400\n",
            "Epoch 14/25\n",
            "\u001b[1m1875/1875\u001b[0m \u001b[32m━━━━━━━━━━━━━━━━━━━━\u001b[0m\u001b[37m\u001b[0m \u001b[1m11s\u001b[0m 3ms/step - accuracy: 0.9915 - loss: 0.0277 - val_accuracy: 0.9882 - val_loss: 0.0385\n",
            "Epoch 15/25\n",
            "\u001b[1m1875/1875\u001b[0m \u001b[32m━━━━━━━━━━━━━━━━━━━━\u001b[0m\u001b[37m\u001b[0m \u001b[1m10s\u001b[0m 3ms/step - accuracy: 0.9926 - loss: 0.0261 - val_accuracy: 0.9895 - val_loss: 0.0340\n",
            "Epoch 16/25\n",
            "\u001b[1m1875/1875\u001b[0m \u001b[32m━━━━━━━━━━━━━━━━━━━━\u001b[0m\u001b[37m\u001b[0m \u001b[1m6s\u001b[0m 3ms/step - accuracy: 0.9924 - loss: 0.0237 - val_accuracy: 0.9898 - val_loss: 0.0352\n",
            "Epoch 17/25\n",
            "\u001b[1m1875/1875\u001b[0m \u001b[32m━━━━━━━━━━━━━━━━━━━━\u001b[0m\u001b[37m\u001b[0m \u001b[1m6s\u001b[0m 3ms/step - accuracy: 0.9936 - loss: 0.0211 - val_accuracy: 0.9872 - val_loss: 0.0389\n",
            "Epoch 18/25\n",
            "\u001b[1m1875/1875\u001b[0m \u001b[32m━━━━━━━━━━━━━━━━━━━━\u001b[0m\u001b[37m\u001b[0m \u001b[1m6s\u001b[0m 3ms/step - accuracy: 0.9942 - loss: 0.0201 - val_accuracy: 0.9881 - val_loss: 0.0347\n",
            "Epoch 19/25\n",
            "\u001b[1m1875/1875\u001b[0m \u001b[32m━━━━━━━━━━━━━━━━━━━━\u001b[0m\u001b[37m\u001b[0m \u001b[1m11s\u001b[0m 4ms/step - accuracy: 0.9946 - loss: 0.0187 - val_accuracy: 0.9890 - val_loss: 0.0350\n",
            "Epoch 20/25\n",
            "\u001b[1m1875/1875\u001b[0m \u001b[32m━━━━━━━━━━━━━━━━━━━━\u001b[0m\u001b[37m\u001b[0m \u001b[1m7s\u001b[0m 4ms/step - accuracy: 0.9951 - loss: 0.0162 - val_accuracy: 0.9886 - val_loss: 0.0349\n",
            "Epoch 21/25\n",
            "\u001b[1m1875/1875\u001b[0m \u001b[32m━━━━━━━━━━━━━━━━━━━━\u001b[0m\u001b[37m\u001b[0m \u001b[1m6s\u001b[0m 3ms/step - accuracy: 0.9950 - loss: 0.0158 - val_accuracy: 0.9899 - val_loss: 0.0329\n",
            "Epoch 22/25\n",
            "\u001b[1m1875/1875\u001b[0m \u001b[32m━━━━━━━━━━━━━━━━━━━━\u001b[0m\u001b[37m\u001b[0m \u001b[1m10s\u001b[0m 3ms/step - accuracy: 0.9957 - loss: 0.0148 - val_accuracy: 0.9891 - val_loss: 0.0340\n",
            "Epoch 23/25\n",
            "\u001b[1m1875/1875\u001b[0m \u001b[32m━━━━━━━━━━━━━━━━━━━━\u001b[0m\u001b[37m\u001b[0m \u001b[1m6s\u001b[0m 3ms/step - accuracy: 0.9956 - loss: 0.0154 - val_accuracy: 0.9901 - val_loss: 0.0335\n",
            "Epoch 24/25\n",
            "\u001b[1m1875/1875\u001b[0m \u001b[32m━━━━━━━━━━━━━━━━━━━━\u001b[0m\u001b[37m\u001b[0m \u001b[1m6s\u001b[0m 3ms/step - accuracy: 0.9959 - loss: 0.0133 - val_accuracy: 0.9892 - val_loss: 0.0336\n",
            "Epoch 25/25\n",
            "\u001b[1m1875/1875\u001b[0m \u001b[32m━━━━━━━━━━━━━━━━━━━━\u001b[0m\u001b[37m\u001b[0m \u001b[1m10s\u001b[0m 3ms/step - accuracy: 0.9963 - loss: 0.0121 - val_accuracy: 0.9899 - val_loss: 0.0318\n",
            "Optimizer sgd - Test Accuracy: 98.99%\n",
            "Optimizer sgd - Training Time: 195.18 seconds\n",
            "\n",
            "Training with Optimizer: adam...\n",
            "Epoch 1/25\n",
            "\u001b[1m1875/1875\u001b[0m \u001b[32m━━━━━━━━━━━━━━━━━━━━\u001b[0m\u001b[37m\u001b[0m \u001b[1m9s\u001b[0m 4ms/step - accuracy: 0.9199 - loss: 0.2617 - val_accuracy: 0.9791 - val_loss: 0.0633\n",
            "Epoch 2/25\n",
            "\u001b[1m1875/1875\u001b[0m \u001b[32m━━━━━━━━━━━━━━━━━━━━\u001b[0m\u001b[37m\u001b[0m \u001b[1m7s\u001b[0m 4ms/step - accuracy: 0.9857 - loss: 0.0473 - val_accuracy: 0.9883 - val_loss: 0.0384\n",
            "Epoch 3/25\n",
            "\u001b[1m1875/1875\u001b[0m \u001b[32m━━━━━━━━━━━━━━━━━━━━\u001b[0m\u001b[37m\u001b[0m \u001b[1m10s\u001b[0m 4ms/step - accuracy: 0.9924 - loss: 0.0240 - val_accuracy: 0.9885 - val_loss: 0.0376\n",
            "Epoch 4/25\n",
            "\u001b[1m1875/1875\u001b[0m \u001b[32m━━━━━━━━━━━━━━━━━━━━\u001b[0m\u001b[37m\u001b[0m \u001b[1m10s\u001b[0m 4ms/step - accuracy: 0.9929 - loss: 0.0217 - val_accuracy: 0.9878 - val_loss: 0.0440\n",
            "Epoch 5/25\n",
            "\u001b[1m1875/1875\u001b[0m \u001b[32m━━━━━━━━━━━━━━━━━━━━\u001b[0m\u001b[37m\u001b[0m \u001b[1m7s\u001b[0m 3ms/step - accuracy: 0.9950 - loss: 0.0146 - val_accuracy: 0.9859 - val_loss: 0.0553\n",
            "Epoch 6/25\n",
            "\u001b[1m1875/1875\u001b[0m \u001b[32m━━━━━━━━━━━━━━━━━━━━\u001b[0m\u001b[37m\u001b[0m \u001b[1m6s\u001b[0m 3ms/step - accuracy: 0.9970 - loss: 0.0100 - val_accuracy: 0.9888 - val_loss: 0.0489\n",
            "Epoch 7/25\n",
            "\u001b[1m1875/1875\u001b[0m \u001b[32m━━━━━━━━━━━━━━━━━━━━\u001b[0m\u001b[37m\u001b[0m \u001b[1m10s\u001b[0m 3ms/step - accuracy: 0.9965 - loss: 0.0111 - val_accuracy: 0.9896 - val_loss: 0.0449\n",
            "Epoch 8/25\n",
            "\u001b[1m1875/1875\u001b[0m \u001b[32m━━━━━━━━━━━━━━━━━━━━\u001b[0m\u001b[37m\u001b[0m \u001b[1m7s\u001b[0m 4ms/step - accuracy: 0.9975 - loss: 0.0074 - val_accuracy: 0.9850 - val_loss: 0.0752\n",
            "Epoch 9/25\n",
            "\u001b[1m1875/1875\u001b[0m \u001b[32m━━━━━━━━━━━━━━━━━━━━\u001b[0m\u001b[37m\u001b[0m \u001b[1m7s\u001b[0m 4ms/step - accuracy: 0.9970 - loss: 0.0089 - val_accuracy: 0.9898 - val_loss: 0.0599\n",
            "Epoch 10/25\n",
            "\u001b[1m1875/1875\u001b[0m \u001b[32m━━━━━━━━━━━━━━━━━━━━\u001b[0m\u001b[37m\u001b[0m \u001b[1m10s\u001b[0m 3ms/step - accuracy: 0.9974 - loss: 0.0090 - val_accuracy: 0.9869 - val_loss: 0.0665\n",
            "Epoch 11/25\n",
            "\u001b[1m1875/1875\u001b[0m \u001b[32m━━━━━━━━━━━━━━━━━━━━\u001b[0m\u001b[37m\u001b[0m \u001b[1m7s\u001b[0m 4ms/step - accuracy: 0.9975 - loss: 0.0090 - val_accuracy: 0.9885 - val_loss: 0.0621\n",
            "Epoch 12/25\n",
            "\u001b[1m1875/1875\u001b[0m \u001b[32m━━━━━━━━━━━━━━━━━━━━\u001b[0m\u001b[37m\u001b[0m \u001b[1m6s\u001b[0m 3ms/step - accuracy: 0.9975 - loss: 0.0080 - val_accuracy: 0.9861 - val_loss: 0.0811\n",
            "Epoch 13/25\n",
            "\u001b[1m1875/1875\u001b[0m \u001b[32m━━━━━━━━━━━━━━━━━━━━\u001b[0m\u001b[37m\u001b[0m \u001b[1m7s\u001b[0m 4ms/step - accuracy: 0.9988 - loss: 0.0047 - val_accuracy: 0.9875 - val_loss: 0.0944\n",
            "Epoch 14/25\n",
            "\u001b[1m1875/1875\u001b[0m \u001b[32m━━━━━━━━━━━━━━━━━━━━\u001b[0m\u001b[37m\u001b[0m \u001b[1m11s\u001b[0m 4ms/step - accuracy: 0.9969 - loss: 0.0116 - val_accuracy: 0.9882 - val_loss: 0.0786\n",
            "Epoch 15/25\n",
            "\u001b[1m1875/1875\u001b[0m \u001b[32m━━━━━━━━━━━━━━━━━━━━\u001b[0m\u001b[37m\u001b[0m \u001b[1m9s\u001b[0m 3ms/step - accuracy: 0.9978 - loss: 0.0073 - val_accuracy: 0.9905 - val_loss: 0.0683\n",
            "Epoch 16/25\n",
            "\u001b[1m1875/1875\u001b[0m \u001b[32m━━━━━━━━━━━━━━━━━━━━\u001b[0m\u001b[37m\u001b[0m \u001b[1m7s\u001b[0m 4ms/step - accuracy: 0.9985 - loss: 0.0064 - val_accuracy: 0.9896 - val_loss: 0.0811\n",
            "Epoch 17/25\n",
            "\u001b[1m1875/1875\u001b[0m \u001b[32m━━━━━━━━━━━━━━━━━━━━\u001b[0m\u001b[37m\u001b[0m \u001b[1m7s\u001b[0m 4ms/step - accuracy: 0.9979 - loss: 0.0092 - val_accuracy: 0.9873 - val_loss: 0.1102\n",
            "Epoch 18/25\n",
            "\u001b[1m1875/1875\u001b[0m \u001b[32m━━━━━━━━━━━━━━━━━━━━\u001b[0m\u001b[37m\u001b[0m \u001b[1m10s\u001b[0m 3ms/step - accuracy: 0.9980 - loss: 0.0074 - val_accuracy: 0.9875 - val_loss: 0.1008\n",
            "Epoch 19/25\n",
            "\u001b[1m1875/1875\u001b[0m \u001b[32m━━━━━━━━━━━━━━━━━━━━\u001b[0m\u001b[37m\u001b[0m \u001b[1m7s\u001b[0m 4ms/step - accuracy: 0.9981 - loss: 0.0078 - val_accuracy: 0.9884 - val_loss: 0.1000\n",
            "Epoch 20/25\n",
            "\u001b[1m1875/1875\u001b[0m \u001b[32m━━━━━━━━━━━━━━━━━━━━\u001b[0m\u001b[37m\u001b[0m \u001b[1m7s\u001b[0m 4ms/step - accuracy: 0.9981 - loss: 0.0078 - val_accuracy: 0.9889 - val_loss: 0.1020\n",
            "Epoch 21/25\n",
            "\u001b[1m1875/1875\u001b[0m \u001b[32m━━━━━━━━━━━━━━━━━━━━\u001b[0m\u001b[37m\u001b[0m \u001b[1m7s\u001b[0m 4ms/step - accuracy: 0.9984 - loss: 0.0081 - val_accuracy: 0.9882 - val_loss: 0.1122\n",
            "Epoch 22/25\n",
            "\u001b[1m1875/1875\u001b[0m \u001b[32m━━━━━━━━━━━━━━━━━━━━\u001b[0m\u001b[37m\u001b[0m \u001b[1m7s\u001b[0m 4ms/step - accuracy: 0.9981 - loss: 0.0078 - val_accuracy: 0.9885 - val_loss: 0.1062\n",
            "Epoch 23/25\n",
            "\u001b[1m1875/1875\u001b[0m \u001b[32m━━━━━━━━━━━━━━━━━━━━\u001b[0m\u001b[37m\u001b[0m \u001b[1m10s\u001b[0m 3ms/step - accuracy: 0.9986 - loss: 0.0067 - val_accuracy: 0.9882 - val_loss: 0.1061\n",
            "Epoch 24/25\n",
            "\u001b[1m1875/1875\u001b[0m \u001b[32m━━━━━━━━━━━━━━━━━━━━\u001b[0m\u001b[37m\u001b[0m \u001b[1m7s\u001b[0m 4ms/step - accuracy: 0.9981 - loss: 0.0096 - val_accuracy: 0.9877 - val_loss: 0.1211\n",
            "Epoch 25/25\n",
            "\u001b[1m1875/1875\u001b[0m \u001b[32m━━━━━━━━━━━━━━━━━━━━\u001b[0m\u001b[37m\u001b[0m \u001b[1m10s\u001b[0m 4ms/step - accuracy: 0.9983 - loss: 0.0075 - val_accuracy: 0.9888 - val_loss: 0.1262\n",
            "Optimizer adam - Test Accuracy: 98.88%\n",
            "Optimizer adam - Training Time: 203.64 seconds\n",
            "\n",
            "Training with Optimizer: rmsprop...\n",
            "Epoch 1/25\n",
            "\u001b[1m1875/1875\u001b[0m \u001b[32m━━━━━━━━━━━━━━━━━━━━\u001b[0m\u001b[37m\u001b[0m \u001b[1m9s\u001b[0m 4ms/step - accuracy: 0.9263 - loss: 0.2400 - val_accuracy: 0.9860 - val_loss: 0.0427\n",
            "Epoch 2/25\n",
            "\u001b[1m1875/1875\u001b[0m \u001b[32m━━━━━━━━━━━━━━━━━━━━\u001b[0m\u001b[37m\u001b[0m \u001b[1m9s\u001b[0m 4ms/step - accuracy: 0.9846 - loss: 0.0484 - val_accuracy: 0.9883 - val_loss: 0.0365\n",
            "Epoch 3/25\n",
            "\u001b[1m1875/1875\u001b[0m \u001b[32m━━━━━━━━━━━━━━━━━━━━\u001b[0m\u001b[37m\u001b[0m \u001b[1m6s\u001b[0m 3ms/step - accuracy: 0.9908 - loss: 0.0292 - val_accuracy: 0.9892 - val_loss: 0.0421\n",
            "Epoch 4/25\n",
            "\u001b[1m1875/1875\u001b[0m \u001b[32m━━━━━━━━━━━━━━━━━━━━\u001b[0m\u001b[37m\u001b[0m \u001b[1m10s\u001b[0m 3ms/step - accuracy: 0.9932 - loss: 0.0250 - val_accuracy: 0.9873 - val_loss: 0.0447\n",
            "Epoch 5/25\n",
            "\u001b[1m1875/1875\u001b[0m \u001b[32m━━━━━━━━━━━━━━━━━━━━\u001b[0m\u001b[37m\u001b[0m \u001b[1m6s\u001b[0m 3ms/step - accuracy: 0.9948 - loss: 0.0170 - val_accuracy: 0.9880 - val_loss: 0.0519\n",
            "Epoch 6/25\n",
            "\u001b[1m1875/1875\u001b[0m \u001b[32m━━━━━━━━━━━━━━━━━━━━\u001b[0m\u001b[37m\u001b[0m \u001b[1m10s\u001b[0m 3ms/step - accuracy: 0.9964 - loss: 0.0125 - val_accuracy: 0.9909 - val_loss: 0.0359\n",
            "Epoch 7/25\n",
            "\u001b[1m1875/1875\u001b[0m \u001b[32m━━━━━━━━━━━━━━━━━━━━\u001b[0m\u001b[37m\u001b[0m \u001b[1m11s\u001b[0m 3ms/step - accuracy: 0.9972 - loss: 0.0086 - val_accuracy: 0.9902 - val_loss: 0.0496\n",
            "Epoch 8/25\n",
            "\u001b[1m1875/1875\u001b[0m \u001b[32m━━━━━━━━━━━━━━━━━━━━\u001b[0m\u001b[37m\u001b[0m \u001b[1m7s\u001b[0m 4ms/step - accuracy: 0.9984 - loss: 0.0058 - val_accuracy: 0.9890 - val_loss: 0.0623\n",
            "Epoch 9/25\n",
            "\u001b[1m1875/1875\u001b[0m \u001b[32m━━━━━━━━━━━━━━━━━━━━\u001b[0m\u001b[37m\u001b[0m \u001b[1m11s\u001b[0m 6ms/step - accuracy: 0.9986 - loss: 0.0049 - val_accuracy: 0.9895 - val_loss: 0.0563\n",
            "Epoch 10/25\n",
            "\u001b[1m1875/1875\u001b[0m \u001b[32m━━━━━━━━━━━━━━━━━━━━\u001b[0m\u001b[37m\u001b[0m \u001b[1m17s\u001b[0m 4ms/step - accuracy: 0.9989 - loss: 0.0034 - val_accuracy: 0.9904 - val_loss: 0.0634\n",
            "Epoch 11/25\n",
            "\u001b[1m1875/1875\u001b[0m \u001b[32m━━━━━━━━━━━━━━━━━━━━\u001b[0m\u001b[37m\u001b[0m \u001b[1m7s\u001b[0m 4ms/step - accuracy: 0.9994 - loss: 0.0027 - val_accuracy: 0.9892 - val_loss: 0.0861\n",
            "Epoch 12/25\n",
            "\u001b[1m1875/1875\u001b[0m \u001b[32m━━━━━━━━━━━━━━━━━━━━\u001b[0m\u001b[37m\u001b[0m \u001b[1m7s\u001b[0m 3ms/step - accuracy: 0.9994 - loss: 0.0019 - val_accuracy: 0.9905 - val_loss: 0.0716\n",
            "Epoch 13/25\n",
            "\u001b[1m1875/1875\u001b[0m \u001b[32m━━━━━━━━━━━━━━━━━━━━\u001b[0m\u001b[37m\u001b[0m \u001b[1m10s\u001b[0m 3ms/step - accuracy: 0.9996 - loss: 0.0011 - val_accuracy: 0.9920 - val_loss: 0.0693\n",
            "Epoch 14/25\n",
            "\u001b[1m1875/1875\u001b[0m \u001b[32m━━━━━━━━━━━━━━━━━━━━\u001b[0m\u001b[37m\u001b[0m \u001b[1m11s\u001b[0m 4ms/step - accuracy: 0.9997 - loss: 0.0011 - val_accuracy: 0.9902 - val_loss: 0.0881\n",
            "Epoch 15/25\n",
            "\u001b[1m1875/1875\u001b[0m \u001b[32m━━━━━━━━━━━━━━━━━━━━\u001b[0m\u001b[37m\u001b[0m \u001b[1m6s\u001b[0m 3ms/step - accuracy: 0.9995 - loss: 0.0014 - val_accuracy: 0.9907 - val_loss: 0.0793\n",
            "Epoch 16/25\n",
            "\u001b[1m1875/1875\u001b[0m \u001b[32m━━━━━━━━━━━━━━━━━━━━\u001b[0m\u001b[37m\u001b[0m \u001b[1m7s\u001b[0m 3ms/step - accuracy: 1.0000 - loss: 2.0686e-04 - val_accuracy: 0.9901 - val_loss: 0.0954\n",
            "Epoch 17/25\n",
            "\u001b[1m1875/1875\u001b[0m \u001b[32m━━━━━━━━━━━━━━━━━━━━\u001b[0m\u001b[37m\u001b[0m \u001b[1m7s\u001b[0m 3ms/step - accuracy: 1.0000 - loss: 2.5986e-05 - val_accuracy: 0.9912 - val_loss: 0.0925\n",
            "Epoch 18/25\n",
            "\u001b[1m1875/1875\u001b[0m \u001b[32m━━━━━━━━━━━━━━━━━━━━\u001b[0m\u001b[37m\u001b[0m \u001b[1m10s\u001b[0m 4ms/step - accuracy: 1.0000 - loss: 8.4220e-06 - val_accuracy: 0.9918 - val_loss: 0.0845\n",
            "Epoch 19/25\n",
            "\u001b[1m1875/1875\u001b[0m \u001b[32m━━━━━━━━━━━━━━━━━━━━\u001b[0m\u001b[37m\u001b[0m \u001b[1m7s\u001b[0m 3ms/step - accuracy: 1.0000 - loss: 2.0376e-06 - val_accuracy: 0.9920 - val_loss: 0.0821\n",
            "Epoch 20/25\n",
            "\u001b[1m1875/1875\u001b[0m \u001b[32m━━━━━━━━━━━━━━━━━━━━\u001b[0m\u001b[37m\u001b[0m \u001b[1m11s\u001b[0m 4ms/step - accuracy: 1.0000 - loss: 7.0535e-07 - val_accuracy: 0.9917 - val_loss: 0.0846\n",
            "Epoch 21/25\n",
            "\u001b[1m1875/1875\u001b[0m \u001b[32m━━━━━━━━━━━━━━━━━━━━\u001b[0m\u001b[37m\u001b[0m \u001b[1m6s\u001b[0m 3ms/step - accuracy: 1.0000 - loss: 4.0687e-07 - val_accuracy: 0.9918 - val_loss: 0.0857\n",
            "Epoch 22/25\n",
            "\u001b[1m1875/1875\u001b[0m \u001b[32m━━━━━━━━━━━━━━━━━━━━\u001b[0m\u001b[37m\u001b[0m \u001b[1m10s\u001b[0m 3ms/step - accuracy: 1.0000 - loss: 2.8362e-07 - val_accuracy: 0.9919 - val_loss: 0.0858\n",
            "Epoch 23/25\n",
            "\u001b[1m1875/1875\u001b[0m \u001b[32m━━━━━━━━━━━━━━━━━━━━\u001b[0m\u001b[37m\u001b[0m \u001b[1m7s\u001b[0m 3ms/step - accuracy: 1.0000 - loss: 3.0501e-07 - val_accuracy: 0.9919 - val_loss: 0.0858\n",
            "Epoch 24/25\n",
            "\u001b[1m1875/1875\u001b[0m \u001b[32m━━━━━━━━━━━━━━━━━━━━\u001b[0m\u001b[37m\u001b[0m \u001b[1m10s\u001b[0m 3ms/step - accuracy: 1.0000 - loss: 3.0499e-07 - val_accuracy: 0.9919 - val_loss: 0.0862\n",
            "Epoch 25/25\n",
            "\u001b[1m1875/1875\u001b[0m \u001b[32m━━━━━━━━━━━━━━━━━━━━\u001b[0m\u001b[37m\u001b[0m \u001b[1m10s\u001b[0m 4ms/step - accuracy: 1.0000 - loss: 2.4492e-07 - val_accuracy: 0.9918 - val_loss: 0.0864\n",
            "Optimizer rmsprop - Test Accuracy: 99.18%\n",
            "Optimizer rmsprop - Training Time: 222.28 seconds\n",
            "\n",
            "Best optimizer (without dropout): 'rmsprop' with accuracy: 99.18%\n"
          ]
        }
      ],
      "source": [
        "# Part 1: Test Optimizers (without dropout initially)\n",
        "optimizer_options = ['sgd', 'adam', 'rmsprop']\n",
        "print(\"\\nTesting different optimizers (without dropout):\")\n",
        "\n",
        "for opt_name in optimizer_options:\n",
        "  print(f\"\\nTraining with Optimizer: {opt_name}...\")\n",
        "  model_opt = create_cnn_model_for_step6(chosen_conv_config,\n",
        "                                         chosen_fc_config,\n",
        "                                         final_activation,\n",
        "                                         opt_name,\n",
        "                                         dropout_configs=None)  # No dropout yet\n",
        "  if opt_name == optimizer_options[0]:\n",
        "    model_opt.summary()  # Show summary for the first optimizer tested in this step\n",
        "\n",
        "  start_time_opt_train = time.time()\n",
        "  history_opt = model_opt.fit(x_train_cnn, y_train_ann,\n",
        "                              epochs=fixed_epochs_arch,\n",
        "                              batch_size=final_batch_size,\n",
        "                              verbose=1,\n",
        "                              validation_data=(x_test_cnn, y_test_ann)\n",
        "                              )\n",
        "  end_time_opt_train = time.time()\n",
        "  opt_train_time = end_time_opt_train - start_time_opt_train\n",
        "\n",
        "  loss_opt, accuracy_opt = model_opt.evaluate(\n",
        "      x_test_cnn, y_test_ann, verbose=0)\n",
        "\n",
        "  print(f\"Optimizer {opt_name} - Test Accuracy: {accuracy_opt*100:.2f}%\")\n",
        "  print(f\"Optimizer {opt_name} - Training Time: {opt_train_time:.2f} seconds\")\n",
        "\n",
        "  results_optimizer_tuning.append({\n",
        "      'optimizer': opt_name,\n",
        "      'accuracy': accuracy_opt,\n",
        "      'train_time': opt_train_time\n",
        "  })\n",
        "\n",
        "  if accuracy_opt > best_optimizer_accuracy:\n",
        "    best_optimizer_accuracy = accuracy_opt\n",
        "    best_optimizer_name = opt_name\n",
        "\n",
        "print(\n",
        "    f\"\\nBest optimizer (without dropout): '{best_optimizer_name}' with accuracy: {best_optimizer_accuracy*100:.2f}%\")"
      ]
    },
    {
      "cell_type": "code",
      "execution_count": 47,
      "id": "64b8d763",
      "metadata": {
        "id": "64b8d763",
        "colab": {
          "base_uri": "https://localhost:8080/"
        },
        "outputId": "9942a2bb-9c3e-4a75-da86-255ac18c78de"
      },
      "outputs": [
        {
          "output_type": "stream",
          "name": "stdout",
          "text": [
            "\n",
            "Testing Dropout with Optimizer: rmsprop\n",
            "\n",
            "Training with Dropout Config: Pool1_Only_Rate0.25, Rate: 0.25, Positions: {'after_pool1': 0.25, 'after_fc1': 0.0}\n",
            "Epoch 1/25\n",
            "\u001b[1m1875/1875\u001b[0m \u001b[32m━━━━━━━━━━━━━━━━━━━━\u001b[0m\u001b[37m\u001b[0m \u001b[1m9s\u001b[0m 4ms/step - accuracy: 0.9136 - loss: 0.2786 - val_accuracy: 0.9819 - val_loss: 0.0538\n",
            "Epoch 2/25\n",
            "\u001b[1m1875/1875\u001b[0m \u001b[32m━━━━━━━━━━━━━━━━━━━━\u001b[0m\u001b[37m\u001b[0m \u001b[1m9s\u001b[0m 3ms/step - accuracy: 0.9832 - loss: 0.0576 - val_accuracy: 0.9882 - val_loss: 0.0388\n",
            "Epoch 3/25\n",
            "\u001b[1m1875/1875\u001b[0m \u001b[32m━━━━━━━━━━━━━━━━━━━━\u001b[0m\u001b[37m\u001b[0m \u001b[1m7s\u001b[0m 3ms/step - accuracy: 0.9883 - loss: 0.0372 - val_accuracy: 0.9880 - val_loss: 0.0378\n",
            "Epoch 4/25\n",
            "\u001b[1m1875/1875\u001b[0m \u001b[32m━━━━━━━━━━━━━━━━━━━━\u001b[0m\u001b[37m\u001b[0m \u001b[1m10s\u001b[0m 4ms/step - accuracy: 0.9912 - loss: 0.0276 - val_accuracy: 0.9887 - val_loss: 0.0388\n",
            "Epoch 5/25\n",
            "\u001b[1m1875/1875\u001b[0m \u001b[32m━━━━━━━━━━━━━━━━━━━━\u001b[0m\u001b[37m\u001b[0m \u001b[1m10s\u001b[0m 4ms/step - accuracy: 0.9928 - loss: 0.0242 - val_accuracy: 0.9908 - val_loss: 0.0392\n",
            "Epoch 6/25\n",
            "\u001b[1m1875/1875\u001b[0m \u001b[32m━━━━━━━━━━━━━━━━━━━━\u001b[0m\u001b[37m\u001b[0m \u001b[1m10s\u001b[0m 3ms/step - accuracy: 0.9950 - loss: 0.0184 - val_accuracy: 0.9918 - val_loss: 0.0373\n",
            "Epoch 7/25\n",
            "\u001b[1m1875/1875\u001b[0m \u001b[32m━━━━━━━━━━━━━━━━━━━━\u001b[0m\u001b[37m\u001b[0m \u001b[1m7s\u001b[0m 4ms/step - accuracy: 0.9953 - loss: 0.0137 - val_accuracy: 0.9896 - val_loss: 0.0498\n",
            "Epoch 8/25\n",
            "\u001b[1m1875/1875\u001b[0m \u001b[32m━━━━━━━━━━━━━━━━━━━━\u001b[0m\u001b[37m\u001b[0m \u001b[1m10s\u001b[0m 4ms/step - accuracy: 0.9957 - loss: 0.0143 - val_accuracy: 0.9889 - val_loss: 0.0501\n",
            "Epoch 9/25\n",
            "\u001b[1m1875/1875\u001b[0m \u001b[32m━━━━━━━━━━━━━━━━━━━━\u001b[0m\u001b[37m\u001b[0m \u001b[1m10s\u001b[0m 4ms/step - accuracy: 0.9968 - loss: 0.0115 - val_accuracy: 0.9911 - val_loss: 0.0536\n",
            "Epoch 10/25\n",
            "\u001b[1m1875/1875\u001b[0m \u001b[32m━━━━━━━━━━━━━━━━━━━━\u001b[0m\u001b[37m\u001b[0m \u001b[1m7s\u001b[0m 4ms/step - accuracy: 0.9974 - loss: 0.0086 - val_accuracy: 0.9896 - val_loss: 0.0695\n",
            "Epoch 11/25\n",
            "\u001b[1m1875/1875\u001b[0m \u001b[32m━━━━━━━━━━━━━━━━━━━━\u001b[0m\u001b[37m\u001b[0m \u001b[1m7s\u001b[0m 4ms/step - accuracy: 0.9968 - loss: 0.0109 - val_accuracy: 0.9922 - val_loss: 0.0552\n",
            "Epoch 12/25\n",
            "\u001b[1m1875/1875\u001b[0m \u001b[32m━━━━━━━━━━━━━━━━━━━━\u001b[0m\u001b[37m\u001b[0m \u001b[1m10s\u001b[0m 3ms/step - accuracy: 0.9979 - loss: 0.0069 - val_accuracy: 0.9913 - val_loss: 0.0514\n",
            "Epoch 13/25\n",
            "\u001b[1m1875/1875\u001b[0m \u001b[32m━━━━━━━━━━━━━━━━━━━━\u001b[0m\u001b[37m\u001b[0m \u001b[1m7s\u001b[0m 4ms/step - accuracy: 0.9982 - loss: 0.0062 - val_accuracy: 0.9912 - val_loss: 0.0555\n",
            "Epoch 14/25\n",
            "\u001b[1m1875/1875\u001b[0m \u001b[32m━━━━━━━━━━━━━━━━━━━━\u001b[0m\u001b[37m\u001b[0m \u001b[1m11s\u001b[0m 4ms/step - accuracy: 0.9985 - loss: 0.0056 - val_accuracy: 0.9900 - val_loss: 0.0655\n",
            "Epoch 15/25\n",
            "\u001b[1m1875/1875\u001b[0m \u001b[32m━━━━━━━━━━━━━━━━━━━━\u001b[0m\u001b[37m\u001b[0m \u001b[1m6s\u001b[0m 3ms/step - accuracy: 0.9986 - loss: 0.0047 - val_accuracy: 0.9901 - val_loss: 0.0718\n",
            "Epoch 16/25\n",
            "\u001b[1m1875/1875\u001b[0m \u001b[32m━━━━━━━━━━━━━━━━━━━━\u001b[0m\u001b[37m\u001b[0m \u001b[1m10s\u001b[0m 3ms/step - accuracy: 0.9985 - loss: 0.0059 - val_accuracy: 0.9912 - val_loss: 0.0730\n",
            "Epoch 17/25\n",
            "\u001b[1m1875/1875\u001b[0m \u001b[32m━━━━━━━━━━━━━━━━━━━━\u001b[0m\u001b[37m\u001b[0m \u001b[1m7s\u001b[0m 4ms/step - accuracy: 0.9989 - loss: 0.0045 - val_accuracy: 0.9917 - val_loss: 0.0800\n",
            "Epoch 18/25\n",
            "\u001b[1m1875/1875\u001b[0m \u001b[32m━━━━━━━━━━━━━━━━━━━━\u001b[0m\u001b[37m\u001b[0m \u001b[1m6s\u001b[0m 3ms/step - accuracy: 0.9988 - loss: 0.0041 - val_accuracy: 0.9905 - val_loss: 0.0938\n",
            "Epoch 19/25\n",
            "\u001b[1m1875/1875\u001b[0m \u001b[32m━━━━━━━━━━━━━━━━━━━━\u001b[0m\u001b[37m\u001b[0m \u001b[1m11s\u001b[0m 4ms/step - accuracy: 0.9988 - loss: 0.0047 - val_accuracy: 0.9914 - val_loss: 0.0765\n",
            "Epoch 20/25\n",
            "\u001b[1m1875/1875\u001b[0m \u001b[32m━━━━━━━━━━━━━━━━━━━━\u001b[0m\u001b[37m\u001b[0m \u001b[1m10s\u001b[0m 4ms/step - accuracy: 0.9991 - loss: 0.0036 - val_accuracy: 0.9902 - val_loss: 0.0888\n",
            "Epoch 21/25\n",
            "\u001b[1m1875/1875\u001b[0m \u001b[32m━━━━━━━━━━━━━━━━━━━━\u001b[0m\u001b[37m\u001b[0m \u001b[1m10s\u001b[0m 3ms/step - accuracy: 0.9990 - loss: 0.0031 - val_accuracy: 0.9906 - val_loss: 0.0928\n",
            "Epoch 22/25\n",
            "\u001b[1m1875/1875\u001b[0m \u001b[32m━━━━━━━━━━━━━━━━━━━━\u001b[0m\u001b[37m\u001b[0m \u001b[1m7s\u001b[0m 4ms/step - accuracy: 0.9990 - loss: 0.0032 - val_accuracy: 0.9903 - val_loss: 0.0960\n",
            "Epoch 23/25\n",
            "\u001b[1m1875/1875\u001b[0m \u001b[32m━━━━━━━━━━━━━━━━━━━━\u001b[0m\u001b[37m\u001b[0m \u001b[1m10s\u001b[0m 4ms/step - accuracy: 0.9992 - loss: 0.0037 - val_accuracy: 0.9908 - val_loss: 0.0911\n",
            "Epoch 24/25\n",
            "\u001b[1m1875/1875\u001b[0m \u001b[32m━━━━━━━━━━━━━━━━━━━━\u001b[0m\u001b[37m\u001b[0m \u001b[1m10s\u001b[0m 3ms/step - accuracy: 0.9990 - loss: 0.0034 - val_accuracy: 0.9880 - val_loss: 0.1237\n",
            "Epoch 25/25\n",
            "\u001b[1m1875/1875\u001b[0m \u001b[32m━━━━━━━━━━━━━━━━━━━━\u001b[0m\u001b[37m\u001b[0m \u001b[1m10s\u001b[0m 3ms/step - accuracy: 0.9992 - loss: 0.0039 - val_accuracy: 0.9902 - val_loss: 0.1019\n",
            "Dropout (Pool1_Only_Rate0.25) - Test Accuracy: 99.02%\n",
            "Dropout (Pool1_Only_Rate0.25) - Training Time: 224.43 seconds\n",
            "\n",
            "Training with Dropout Config: FC1_Only_Rate0.25, Rate: 0.25, Positions: {'after_pool1': 0.0, 'after_fc1': 0.25}\n",
            "Epoch 1/25\n",
            "\u001b[1m1875/1875\u001b[0m \u001b[32m━━━━━━━━━━━━━━━━━━━━\u001b[0m\u001b[37m\u001b[0m \u001b[1m10s\u001b[0m 4ms/step - accuracy: 0.9219 - loss: 0.2604 - val_accuracy: 0.9814 - val_loss: 0.0562\n",
            "Epoch 2/25\n",
            "\u001b[1m1875/1875\u001b[0m \u001b[32m━━━━━━━━━━━━━━━━━━━━\u001b[0m\u001b[37m\u001b[0m \u001b[1m7s\u001b[0m 3ms/step - accuracy: 0.9824 - loss: 0.0599 - val_accuracy: 0.9853 - val_loss: 0.0410\n",
            "Epoch 3/25\n",
            "\u001b[1m1875/1875\u001b[0m \u001b[32m━━━━━━━━━━━━━━━━━━━━\u001b[0m\u001b[37m\u001b[0m \u001b[1m7s\u001b[0m 4ms/step - accuracy: 0.9872 - loss: 0.0441 - val_accuracy: 0.9812 - val_loss: 0.0617\n",
            "Epoch 4/25\n",
            "\u001b[1m1875/1875\u001b[0m \u001b[32m━━━━━━━━━━━━━━━━━━━━\u001b[0m\u001b[37m\u001b[0m \u001b[1m10s\u001b[0m 3ms/step - accuracy: 0.9901 - loss: 0.0317 - val_accuracy: 0.9873 - val_loss: 0.0440\n",
            "Epoch 5/25\n",
            "\u001b[1m1875/1875\u001b[0m \u001b[32m━━━━━━━━━━━━━━━━━━━━\u001b[0m\u001b[37m\u001b[0m \u001b[1m7s\u001b[0m 4ms/step - accuracy: 0.9915 - loss: 0.0301 - val_accuracy: 0.9900 - val_loss: 0.0411\n",
            "Epoch 6/25\n",
            "\u001b[1m1875/1875\u001b[0m \u001b[32m━━━━━━━━━━━━━━━━━━━━\u001b[0m\u001b[37m\u001b[0m \u001b[1m8s\u001b[0m 4ms/step - accuracy: 0.9938 - loss: 0.0216 - val_accuracy: 0.9906 - val_loss: 0.0388\n",
            "Epoch 7/25\n",
            "\u001b[1m1875/1875\u001b[0m \u001b[32m━━━━━━━━━━━━━━━━━━━━\u001b[0m\u001b[37m\u001b[0m \u001b[1m9s\u001b[0m 4ms/step - accuracy: 0.9946 - loss: 0.0172 - val_accuracy: 0.9889 - val_loss: 0.0496\n",
            "Epoch 8/25\n",
            "\u001b[1m1875/1875\u001b[0m \u001b[32m━━━━━━━━━━━━━━━━━━━━\u001b[0m\u001b[37m\u001b[0m \u001b[1m10s\u001b[0m 3ms/step - accuracy: 0.9958 - loss: 0.0138 - val_accuracy: 0.9904 - val_loss: 0.0431\n",
            "Epoch 9/25\n",
            "\u001b[1m1875/1875\u001b[0m \u001b[32m━━━━━━━━━━━━━━━━━━━━\u001b[0m\u001b[37m\u001b[0m \u001b[1m7s\u001b[0m 4ms/step - accuracy: 0.9957 - loss: 0.0135 - val_accuracy: 0.9905 - val_loss: 0.0550\n",
            "Epoch 10/25\n",
            "\u001b[1m1875/1875\u001b[0m \u001b[32m━━━━━━━━━━━━━━━━━━━━\u001b[0m\u001b[37m\u001b[0m \u001b[1m12s\u001b[0m 5ms/step - accuracy: 0.9964 - loss: 0.0112 - val_accuracy: 0.9909 - val_loss: 0.0509\n",
            "Epoch 11/25\n",
            "\u001b[1m1875/1875\u001b[0m \u001b[32m━━━━━━━━━━━━━━━━━━━━\u001b[0m\u001b[37m\u001b[0m \u001b[1m7s\u001b[0m 4ms/step - accuracy: 0.9970 - loss: 0.0113 - val_accuracy: 0.9895 - val_loss: 0.0502\n",
            "Epoch 12/25\n",
            "\u001b[1m1875/1875\u001b[0m \u001b[32m━━━━━━━━━━━━━━━━━━━━\u001b[0m\u001b[37m\u001b[0m \u001b[1m7s\u001b[0m 4ms/step - accuracy: 0.9973 - loss: 0.0102 - val_accuracy: 0.9918 - val_loss: 0.0458\n",
            "Epoch 13/25\n",
            "\u001b[1m1875/1875\u001b[0m \u001b[32m━━━━━━━━━━━━━━━━━━━━\u001b[0m\u001b[37m\u001b[0m \u001b[1m6s\u001b[0m 3ms/step - accuracy: 0.9975 - loss: 0.0088 - val_accuracy: 0.9904 - val_loss: 0.0614\n",
            "Epoch 14/25\n",
            "\u001b[1m1875/1875\u001b[0m \u001b[32m━━━━━━━━━━━━━━━━━━━━\u001b[0m\u001b[37m\u001b[0m \u001b[1m7s\u001b[0m 4ms/step - accuracy: 0.9971 - loss: 0.0090 - val_accuracy: 0.9913 - val_loss: 0.0608\n",
            "Epoch 15/25\n",
            "\u001b[1m1875/1875\u001b[0m \u001b[32m━━━━━━━━━━━━━━━━━━━━\u001b[0m\u001b[37m\u001b[0m \u001b[1m11s\u001b[0m 4ms/step - accuracy: 0.9985 - loss: 0.0059 - val_accuracy: 0.9897 - val_loss: 0.0664\n",
            "Epoch 16/25\n",
            "\u001b[1m1875/1875\u001b[0m \u001b[32m━━━━━━━━━━━━━━━━━━━━\u001b[0m\u001b[37m\u001b[0m \u001b[1m6s\u001b[0m 3ms/step - accuracy: 0.9977 - loss: 0.0074 - val_accuracy: 0.9893 - val_loss: 0.0850\n",
            "Epoch 17/25\n",
            "\u001b[1m1875/1875\u001b[0m \u001b[32m━━━━━━━━━━━━━━━━━━━━\u001b[0m\u001b[37m\u001b[0m \u001b[1m10s\u001b[0m 3ms/step - accuracy: 0.9986 - loss: 0.0066 - val_accuracy: 0.9916 - val_loss: 0.0599\n",
            "Epoch 18/25\n",
            "\u001b[1m1875/1875\u001b[0m \u001b[32m━━━━━━━━━━━━━━━━━━━━\u001b[0m\u001b[37m\u001b[0m \u001b[1m7s\u001b[0m 4ms/step - accuracy: 0.9980 - loss: 0.0064 - val_accuracy: 0.9907 - val_loss: 0.0766\n",
            "Epoch 19/25\n",
            "\u001b[1m1875/1875\u001b[0m \u001b[32m━━━━━━━━━━━━━━━━━━━━\u001b[0m\u001b[37m\u001b[0m \u001b[1m7s\u001b[0m 4ms/step - accuracy: 0.9985 - loss: 0.0063 - val_accuracy: 0.9912 - val_loss: 0.0698\n",
            "Epoch 20/25\n",
            "\u001b[1m1875/1875\u001b[0m \u001b[32m━━━━━━━━━━━━━━━━━━━━\u001b[0m\u001b[37m\u001b[0m \u001b[1m10s\u001b[0m 4ms/step - accuracy: 0.9984 - loss: 0.0059 - val_accuracy: 0.9908 - val_loss: 0.0981\n",
            "Epoch 21/25\n",
            "\u001b[1m1875/1875\u001b[0m \u001b[32m━━━━━━━━━━━━━━━━━━━━\u001b[0m\u001b[37m\u001b[0m \u001b[1m10s\u001b[0m 4ms/step - accuracy: 0.9983 - loss: 0.0053 - val_accuracy: 0.9908 - val_loss: 0.0826\n",
            "Epoch 22/25\n",
            "\u001b[1m1875/1875\u001b[0m \u001b[32m━━━━━━━━━━━━━━━━━━━━\u001b[0m\u001b[37m\u001b[0m \u001b[1m10s\u001b[0m 3ms/step - accuracy: 0.9991 - loss: 0.0033 - val_accuracy: 0.9919 - val_loss: 0.0735\n",
            "Epoch 23/25\n",
            "\u001b[1m1875/1875\u001b[0m \u001b[32m━━━━━━━━━━━━━━━━━━━━\u001b[0m\u001b[37m\u001b[0m \u001b[1m7s\u001b[0m 4ms/step - accuracy: 0.9985 - loss: 0.0050 - val_accuracy: 0.9900 - val_loss: 0.0750\n",
            "Epoch 24/25\n",
            "\u001b[1m1875/1875\u001b[0m \u001b[32m━━━━━━━━━━━━━━━━━━━━\u001b[0m\u001b[37m\u001b[0m \u001b[1m10s\u001b[0m 4ms/step - accuracy: 0.9988 - loss: 0.0046 - val_accuracy: 0.9907 - val_loss: 0.0755\n",
            "Epoch 25/25\n",
            "\u001b[1m1875/1875\u001b[0m \u001b[32m━━━━━━━━━━━━━━━━━━━━\u001b[0m\u001b[37m\u001b[0m \u001b[1m10s\u001b[0m 3ms/step - accuracy: 0.9991 - loss: 0.0030 - val_accuracy: 0.9896 - val_loss: 0.1005\n",
            "Dropout (FC1_Only_Rate0.25) - Test Accuracy: 98.96%\n",
            "Dropout (FC1_Only_Rate0.25) - Training Time: 215.39 seconds\n",
            "\n",
            "Training with Dropout Config: Pool1_and_FC1_Rate0.25, Rate: 0.25, Positions: {'after_pool1': 0.25, 'after_fc1': 0.25}\n",
            "Epoch 1/25\n",
            "\u001b[1m1875/1875\u001b[0m \u001b[32m━━━━━━━━━━━━━━━━━━━━\u001b[0m\u001b[37m\u001b[0m \u001b[1m11s\u001b[0m 5ms/step - accuracy: 0.9157 - loss: 0.2736 - val_accuracy: 0.9846 - val_loss: 0.0456\n",
            "Epoch 2/25\n",
            "\u001b[1m1875/1875\u001b[0m \u001b[32m━━━━━━━━━━━━━━━━━━━━\u001b[0m\u001b[37m\u001b[0m \u001b[1m16s\u001b[0m 3ms/step - accuracy: 0.9799 - loss: 0.0669 - val_accuracy: 0.9866 - val_loss: 0.0455\n",
            "Epoch 3/25\n",
            "\u001b[1m1875/1875\u001b[0m \u001b[32m━━━━━━━━━━━━━━━━━━━━\u001b[0m\u001b[37m\u001b[0m \u001b[1m7s\u001b[0m 4ms/step - accuracy: 0.9849 - loss: 0.0516 - val_accuracy: 0.9860 - val_loss: 0.0430\n",
            "Epoch 4/25\n",
            "\u001b[1m1875/1875\u001b[0m \u001b[32m━━━━━━━━━━━━━━━━━━━━\u001b[0m\u001b[37m\u001b[0m \u001b[1m10s\u001b[0m 3ms/step - accuracy: 0.9873 - loss: 0.0427 - val_accuracy: 0.9902 - val_loss: 0.0316\n",
            "Epoch 5/25\n",
            "\u001b[1m1875/1875\u001b[0m \u001b[32m━━━━━━━━━━━━━━━━━━━━\u001b[0m\u001b[37m\u001b[0m \u001b[1m10s\u001b[0m 3ms/step - accuracy: 0.9885 - loss: 0.0369 - val_accuracy: 0.9903 - val_loss: 0.0348\n",
            "Epoch 6/25\n",
            "\u001b[1m1875/1875\u001b[0m \u001b[32m━━━━━━━━━━━━━━━━━━━━\u001b[0m\u001b[37m\u001b[0m \u001b[1m11s\u001b[0m 4ms/step - accuracy: 0.9911 - loss: 0.0304 - val_accuracy: 0.9877 - val_loss: 0.0438\n",
            "Epoch 7/25\n",
            "\u001b[1m1875/1875\u001b[0m \u001b[32m━━━━━━━━━━━━━━━━━━━━\u001b[0m\u001b[37m\u001b[0m \u001b[1m10s\u001b[0m 3ms/step - accuracy: 0.9913 - loss: 0.0291 - val_accuracy: 0.9917 - val_loss: 0.0305\n",
            "Epoch 8/25\n",
            "\u001b[1m1875/1875\u001b[0m \u001b[32m━━━━━━━━━━━━━━━━━━━━\u001b[0m\u001b[37m\u001b[0m \u001b[1m7s\u001b[0m 4ms/step - accuracy: 0.9929 - loss: 0.0250 - val_accuracy: 0.9917 - val_loss: 0.0311\n",
            "Epoch 9/25\n",
            "\u001b[1m1875/1875\u001b[0m \u001b[32m━━━━━━━━━━━━━━━━━━━━\u001b[0m\u001b[37m\u001b[0m \u001b[1m10s\u001b[0m 3ms/step - accuracy: 0.9938 - loss: 0.0213 - val_accuracy: 0.9890 - val_loss: 0.0456\n",
            "Epoch 10/25\n",
            "\u001b[1m1875/1875\u001b[0m \u001b[32m━━━━━━━━━━━━━━━━━━━━\u001b[0m\u001b[37m\u001b[0m \u001b[1m10s\u001b[0m 3ms/step - accuracy: 0.9945 - loss: 0.0184 - val_accuracy: 0.9919 - val_loss: 0.0330\n",
            "Epoch 11/25\n",
            "\u001b[1m1875/1875\u001b[0m \u001b[32m━━━━━━━━━━━━━━━━━━━━\u001b[0m\u001b[37m\u001b[0m \u001b[1m7s\u001b[0m 4ms/step - accuracy: 0.9946 - loss: 0.0189 - val_accuracy: 0.9917 - val_loss: 0.0414\n",
            "Epoch 12/25\n",
            "\u001b[1m1875/1875\u001b[0m \u001b[32m━━━━━━━━━━━━━━━━━━━━\u001b[0m\u001b[37m\u001b[0m \u001b[1m10s\u001b[0m 4ms/step - accuracy: 0.9953 - loss: 0.0177 - val_accuracy: 0.9909 - val_loss: 0.0401\n",
            "Epoch 13/25\n",
            "\u001b[1m1875/1875\u001b[0m \u001b[32m━━━━━━━━━━━━━━━━━━━━\u001b[0m\u001b[37m\u001b[0m \u001b[1m11s\u001b[0m 4ms/step - accuracy: 0.9957 - loss: 0.0139 - val_accuracy: 0.9909 - val_loss: 0.0484\n",
            "Epoch 14/25\n",
            "\u001b[1m1875/1875\u001b[0m \u001b[32m━━━━━━━━━━━━━━━━━━━━\u001b[0m\u001b[37m\u001b[0m \u001b[1m10s\u001b[0m 4ms/step - accuracy: 0.9954 - loss: 0.0144 - val_accuracy: 0.9902 - val_loss: 0.0493\n",
            "Epoch 15/25\n",
            "\u001b[1m1875/1875\u001b[0m \u001b[32m━━━━━━━━━━━━━━━━━━━━\u001b[0m\u001b[37m\u001b[0m \u001b[1m10s\u001b[0m 4ms/step - accuracy: 0.9957 - loss: 0.0129 - val_accuracy: 0.9916 - val_loss: 0.0376\n",
            "Epoch 16/25\n",
            "\u001b[1m1875/1875\u001b[0m \u001b[32m━━━━━━━━━━━━━━━━━━━━\u001b[0m\u001b[37m\u001b[0m \u001b[1m10s\u001b[0m 4ms/step - accuracy: 0.9966 - loss: 0.0126 - val_accuracy: 0.9918 - val_loss: 0.0480\n",
            "Epoch 17/25\n",
            "\u001b[1m1875/1875\u001b[0m \u001b[32m━━━━━━━━━━━━━━━━━━━━\u001b[0m\u001b[37m\u001b[0m \u001b[1m10s\u001b[0m 4ms/step - accuracy: 0.9963 - loss: 0.0116 - val_accuracy: 0.9919 - val_loss: 0.0437\n",
            "Epoch 18/25\n",
            "\u001b[1m1875/1875\u001b[0m \u001b[32m━━━━━━━━━━━━━━━━━━━━\u001b[0m\u001b[37m\u001b[0m \u001b[1m7s\u001b[0m 4ms/step - accuracy: 0.9967 - loss: 0.0109 - val_accuracy: 0.9924 - val_loss: 0.0468\n",
            "Epoch 19/25\n",
            "\u001b[1m1875/1875\u001b[0m \u001b[32m━━━━━━━━━━━━━━━━━━━━\u001b[0m\u001b[37m\u001b[0m \u001b[1m10s\u001b[0m 4ms/step - accuracy: 0.9962 - loss: 0.0139 - val_accuracy: 0.9920 - val_loss: 0.0505\n",
            "Epoch 20/25\n",
            "\u001b[1m1875/1875\u001b[0m \u001b[32m━━━━━━━━━━━━━━━━━━━━\u001b[0m\u001b[37m\u001b[0m \u001b[1m10s\u001b[0m 4ms/step - accuracy: 0.9973 - loss: 0.0097 - val_accuracy: 0.9910 - val_loss: 0.0523\n",
            "Epoch 21/25\n",
            "\u001b[1m1875/1875\u001b[0m \u001b[32m━━━━━━━━━━━━━━━━━━━━\u001b[0m\u001b[37m\u001b[0m \u001b[1m7s\u001b[0m 4ms/step - accuracy: 0.9973 - loss: 0.0101 - val_accuracy: 0.9918 - val_loss: 0.0473\n",
            "Epoch 22/25\n",
            "\u001b[1m1875/1875\u001b[0m \u001b[32m━━━━━━━━━━━━━━━━━━━━\u001b[0m\u001b[37m\u001b[0m \u001b[1m10s\u001b[0m 4ms/step - accuracy: 0.9966 - loss: 0.0113 - val_accuracy: 0.9930 - val_loss: 0.0479\n",
            "Epoch 23/25\n",
            "\u001b[1m1875/1875\u001b[0m \u001b[32m━━━━━━━━━━━━━━━━━━━━\u001b[0m\u001b[37m\u001b[0m \u001b[1m7s\u001b[0m 4ms/step - accuracy: 0.9966 - loss: 0.0149 - val_accuracy: 0.9914 - val_loss: 0.0560\n",
            "Epoch 24/25\n",
            "\u001b[1m1875/1875\u001b[0m \u001b[32m━━━━━━━━━━━━━━━━━━━━\u001b[0m\u001b[37m\u001b[0m \u001b[1m10s\u001b[0m 4ms/step - accuracy: 0.9971 - loss: 0.0116 - val_accuracy: 0.9925 - val_loss: 0.0612\n",
            "Epoch 25/25\n",
            "\u001b[1m1875/1875\u001b[0m \u001b[32m━━━━━━━━━━━━━━━━━━━━\u001b[0m\u001b[37m\u001b[0m \u001b[1m7s\u001b[0m 4ms/step - accuracy: 0.9973 - loss: 0.0097 - val_accuracy: 0.9916 - val_loss: 0.0575\n",
            "Dropout (Pool1_and_FC1_Rate0.25) - Test Accuracy: 99.16%\n",
            "Dropout (Pool1_and_FC1_Rate0.25) - Training Time: 237.30 seconds\n",
            "\n",
            "Training with Dropout Config: Pool1_Only_Rate0.5, Rate: 0.5, Positions: {'after_pool1': 0.5, 'after_fc1': 0.0}\n",
            "Epoch 1/25\n",
            "\u001b[1m1875/1875\u001b[0m \u001b[32m━━━━━━━━━━━━━━━━━━━━\u001b[0m\u001b[37m\u001b[0m \u001b[1m9s\u001b[0m 4ms/step - accuracy: 0.9085 - loss: 0.2950 - val_accuracy: 0.9829 - val_loss: 0.0495\n",
            "Epoch 2/25\n",
            "\u001b[1m1875/1875\u001b[0m \u001b[32m━━━━━━━━━━━━━━━━━━━━\u001b[0m\u001b[37m\u001b[0m \u001b[1m7s\u001b[0m 3ms/step - accuracy: 0.9806 - loss: 0.0641 - val_accuracy: 0.9844 - val_loss: 0.0488\n",
            "Epoch 3/25\n",
            "\u001b[1m1875/1875\u001b[0m \u001b[32m━━━━━━━━━━━━━━━━━━━━\u001b[0m\u001b[37m\u001b[0m \u001b[1m11s\u001b[0m 4ms/step - accuracy: 0.9858 - loss: 0.0477 - val_accuracy: 0.9886 - val_loss: 0.0395\n",
            "Epoch 4/25\n",
            "\u001b[1m1875/1875\u001b[0m \u001b[32m━━━━━━━━━━━━━━━━━━━━\u001b[0m\u001b[37m\u001b[0m \u001b[1m9s\u001b[0m 3ms/step - accuracy: 0.9897 - loss: 0.0346 - val_accuracy: 0.9894 - val_loss: 0.0359\n",
            "Epoch 5/25\n",
            "\u001b[1m1875/1875\u001b[0m \u001b[32m━━━━━━━━━━━━━━━━━━━━\u001b[0m\u001b[37m\u001b[0m \u001b[1m7s\u001b[0m 4ms/step - accuracy: 0.9913 - loss: 0.0288 - val_accuracy: 0.9891 - val_loss: 0.0372\n",
            "Epoch 6/25\n",
            "\u001b[1m1875/1875\u001b[0m \u001b[32m━━━━━━━━━━━━━━━━━━━━\u001b[0m\u001b[37m\u001b[0m \u001b[1m7s\u001b[0m 4ms/step - accuracy: 0.9923 - loss: 0.0256 - val_accuracy: 0.9895 - val_loss: 0.0412\n",
            "Epoch 7/25\n",
            "\u001b[1m1875/1875\u001b[0m \u001b[32m━━━━━━━━━━━━━━━━━━━━\u001b[0m\u001b[37m\u001b[0m \u001b[1m7s\u001b[0m 3ms/step - accuracy: 0.9934 - loss: 0.0222 - val_accuracy: 0.9912 - val_loss: 0.0346\n",
            "Epoch 8/25\n",
            "\u001b[1m1875/1875\u001b[0m \u001b[32m━━━━━━━━━━━━━━━━━━━━\u001b[0m\u001b[37m\u001b[0m \u001b[1m11s\u001b[0m 4ms/step - accuracy: 0.9936 - loss: 0.0203 - val_accuracy: 0.9900 - val_loss: 0.0401\n",
            "Epoch 9/25\n",
            "\u001b[1m1875/1875\u001b[0m \u001b[32m━━━━━━━━━━━━━━━━━━━━\u001b[0m\u001b[37m\u001b[0m \u001b[1m7s\u001b[0m 3ms/step - accuracy: 0.9944 - loss: 0.0174 - val_accuracy: 0.9907 - val_loss: 0.0449\n",
            "Epoch 10/25\n",
            "\u001b[1m1875/1875\u001b[0m \u001b[32m━━━━━━━━━━━━━━━━━━━━\u001b[0m\u001b[37m\u001b[0m \u001b[1m7s\u001b[0m 3ms/step - accuracy: 0.9944 - loss: 0.0183 - val_accuracy: 0.9910 - val_loss: 0.0429\n",
            "Epoch 11/25\n",
            "\u001b[1m1875/1875\u001b[0m \u001b[32m━━━━━━━━━━━━━━━━━━━━\u001b[0m\u001b[37m\u001b[0m \u001b[1m10s\u001b[0m 3ms/step - accuracy: 0.9962 - loss: 0.0137 - val_accuracy: 0.9909 - val_loss: 0.0443\n",
            "Epoch 12/25\n",
            "\u001b[1m1875/1875\u001b[0m \u001b[32m━━━━━━━━━━━━━━━━━━━━\u001b[0m\u001b[37m\u001b[0m \u001b[1m10s\u001b[0m 3ms/step - accuracy: 0.9965 - loss: 0.0143 - val_accuracy: 0.9909 - val_loss: 0.0530\n",
            "Epoch 13/25\n",
            "\u001b[1m1875/1875\u001b[0m \u001b[32m━━━━━━━━━━━━━━━━━━━━\u001b[0m\u001b[37m\u001b[0m \u001b[1m6s\u001b[0m 3ms/step - accuracy: 0.9966 - loss: 0.0120 - val_accuracy: 0.9891 - val_loss: 0.0559\n",
            "Epoch 14/25\n",
            "\u001b[1m1875/1875\u001b[0m \u001b[32m━━━━━━━━━━━━━━━━━━━━\u001b[0m\u001b[37m\u001b[0m \u001b[1m7s\u001b[0m 3ms/step - accuracy: 0.9964 - loss: 0.0118 - val_accuracy: 0.9897 - val_loss: 0.0615\n",
            "Epoch 15/25\n",
            "\u001b[1m1875/1875\u001b[0m \u001b[32m━━━━━━━━━━━━━━━━━━━━\u001b[0m\u001b[37m\u001b[0m \u001b[1m7s\u001b[0m 4ms/step - accuracy: 0.9965 - loss: 0.0128 - val_accuracy: 0.9915 - val_loss: 0.0477\n",
            "Epoch 16/25\n",
            "\u001b[1m1875/1875\u001b[0m \u001b[32m━━━━━━━━━━━━━━━━━━━━\u001b[0m\u001b[37m\u001b[0m \u001b[1m7s\u001b[0m 4ms/step - accuracy: 0.9975 - loss: 0.0102 - val_accuracy: 0.9905 - val_loss: 0.0584\n",
            "Epoch 17/25\n",
            "\u001b[1m1875/1875\u001b[0m \u001b[32m━━━━━━━━━━━━━━━━━━━━\u001b[0m\u001b[37m\u001b[0m \u001b[1m7s\u001b[0m 4ms/step - accuracy: 0.9970 - loss: 0.0108 - val_accuracy: 0.9908 - val_loss: 0.0569\n",
            "Epoch 18/25\n",
            "\u001b[1m1875/1875\u001b[0m \u001b[32m━━━━━━━━━━━━━━━━━━━━\u001b[0m\u001b[37m\u001b[0m \u001b[1m7s\u001b[0m 4ms/step - accuracy: 0.9977 - loss: 0.0077 - val_accuracy: 0.9908 - val_loss: 0.0559\n",
            "Epoch 19/25\n",
            "\u001b[1m1875/1875\u001b[0m \u001b[32m━━━━━━━━━━━━━━━━━━━━\u001b[0m\u001b[37m\u001b[0m \u001b[1m6s\u001b[0m 3ms/step - accuracy: 0.9973 - loss: 0.0091 - val_accuracy: 0.9906 - val_loss: 0.0668\n",
            "Epoch 20/25\n",
            "\u001b[1m1875/1875\u001b[0m \u001b[32m━━━━━━━━━━━━━━━━━━━━\u001b[0m\u001b[37m\u001b[0m \u001b[1m7s\u001b[0m 4ms/step - accuracy: 0.9974 - loss: 0.0092 - val_accuracy: 0.9893 - val_loss: 0.0705\n",
            "Epoch 21/25\n",
            "\u001b[1m1875/1875\u001b[0m \u001b[32m━━━━━━━━━━━━━━━━━━━━\u001b[0m\u001b[37m\u001b[0m \u001b[1m6s\u001b[0m 3ms/step - accuracy: 0.9969 - loss: 0.0110 - val_accuracy: 0.9893 - val_loss: 0.0581\n",
            "Epoch 22/25\n",
            "\u001b[1m1875/1875\u001b[0m \u001b[32m━━━━━━━━━━━━━━━━━━━━\u001b[0m\u001b[37m\u001b[0m \u001b[1m11s\u001b[0m 4ms/step - accuracy: 0.9980 - loss: 0.0068 - val_accuracy: 0.9896 - val_loss: 0.0722\n",
            "Epoch 23/25\n",
            "\u001b[1m1875/1875\u001b[0m \u001b[32m━━━━━━━━━━━━━━━━━━━━\u001b[0m\u001b[37m\u001b[0m \u001b[1m10s\u001b[0m 3ms/step - accuracy: 0.9977 - loss: 0.0084 - val_accuracy: 0.9906 - val_loss: 0.0623\n",
            "Epoch 24/25\n",
            "\u001b[1m1875/1875\u001b[0m \u001b[32m━━━━━━━━━━━━━━━━━━━━\u001b[0m\u001b[37m\u001b[0m \u001b[1m7s\u001b[0m 4ms/step - accuracy: 0.9985 - loss: 0.0055 - val_accuracy: 0.9919 - val_loss: 0.0646\n",
            "Epoch 25/25\n",
            "\u001b[1m1875/1875\u001b[0m \u001b[32m━━━━━━━━━━━━━━━━━━━━\u001b[0m\u001b[37m\u001b[0m \u001b[1m7s\u001b[0m 4ms/step - accuracy: 0.9985 - loss: 0.0057 - val_accuracy: 0.9906 - val_loss: 0.0673\n",
            "Dropout (Pool1_Only_Rate0.5) - Test Accuracy: 99.06%\n",
            "Dropout (Pool1_Only_Rate0.5) - Training Time: 195.71 seconds\n",
            "\n",
            "Training with Dropout Config: FC1_Only_Rate0.5, Rate: 0.5, Positions: {'after_pool1': 0.0, 'after_fc1': 0.5}\n",
            "Epoch 1/25\n",
            "\u001b[1m1875/1875\u001b[0m \u001b[32m━━━━━━━━━━━━━━━━━━━━\u001b[0m\u001b[37m\u001b[0m \u001b[1m9s\u001b[0m 4ms/step - accuracy: 0.9105 - loss: 0.2961 - val_accuracy: 0.9831 - val_loss: 0.0534\n",
            "Epoch 2/25\n",
            "\u001b[1m1875/1875\u001b[0m \u001b[32m━━━━━━━━━━━━━━━━━━━━\u001b[0m\u001b[37m\u001b[0m \u001b[1m8s\u001b[0m 3ms/step - accuracy: 0.9788 - loss: 0.0747 - val_accuracy: 0.9862 - val_loss: 0.0420\n",
            "Epoch 3/25\n",
            "\u001b[1m1875/1875\u001b[0m \u001b[32m━━━━━━━━━━━━━━━━━━━━\u001b[0m\u001b[37m\u001b[0m \u001b[1m7s\u001b[0m 4ms/step - accuracy: 0.9819 - loss: 0.0590 - val_accuracy: 0.9879 - val_loss: 0.0377\n",
            "Epoch 4/25\n",
            "\u001b[1m1875/1875\u001b[0m \u001b[32m━━━━━━━━━━━━━━━━━━━━\u001b[0m\u001b[37m\u001b[0m \u001b[1m7s\u001b[0m 4ms/step - accuracy: 0.9854 - loss: 0.0487 - val_accuracy: 0.9889 - val_loss: 0.0392\n",
            "Epoch 5/25\n",
            "\u001b[1m1875/1875\u001b[0m \u001b[32m━━━━━━━━━━━━━━━━━━━━\u001b[0m\u001b[37m\u001b[0m \u001b[1m11s\u001b[0m 4ms/step - accuracy: 0.9877 - loss: 0.0415 - val_accuracy: 0.9902 - val_loss: 0.0333\n",
            "Epoch 6/25\n",
            "\u001b[1m1875/1875\u001b[0m \u001b[32m━━━━━━━━━━━━━━━━━━━━\u001b[0m\u001b[37m\u001b[0m \u001b[1m9s\u001b[0m 3ms/step - accuracy: 0.9895 - loss: 0.0369 - val_accuracy: 0.9905 - val_loss: 0.0345\n",
            "Epoch 7/25\n",
            "\u001b[1m1875/1875\u001b[0m \u001b[32m━━━━━━━━━━━━━━━━━━━━\u001b[0m\u001b[37m\u001b[0m \u001b[1m6s\u001b[0m 3ms/step - accuracy: 0.9895 - loss: 0.0351 - val_accuracy: 0.9887 - val_loss: 0.0471\n",
            "Epoch 8/25\n",
            "\u001b[1m1875/1875\u001b[0m \u001b[32m━━━━━━━━━━━━━━━━━━━━\u001b[0m\u001b[37m\u001b[0m \u001b[1m11s\u001b[0m 4ms/step - accuracy: 0.9920 - loss: 0.0273 - val_accuracy: 0.9907 - val_loss: 0.0370\n",
            "Epoch 9/25\n",
            "\u001b[1m1875/1875\u001b[0m \u001b[32m━━━━━━━━━━━━━━━━━━━━\u001b[0m\u001b[37m\u001b[0m \u001b[1m7s\u001b[0m 4ms/step - accuracy: 0.9923 - loss: 0.0251 - val_accuracy: 0.9884 - val_loss: 0.0458\n",
            "Epoch 10/25\n",
            "\u001b[1m1875/1875\u001b[0m \u001b[32m━━━━━━━━━━━━━━━━━━━━\u001b[0m\u001b[37m\u001b[0m \u001b[1m7s\u001b[0m 4ms/step - accuracy: 0.9930 - loss: 0.0241 - val_accuracy: 0.9901 - val_loss: 0.0435\n",
            "Epoch 11/25\n",
            "\u001b[1m1875/1875\u001b[0m \u001b[32m━━━━━━━━━━━━━━━━━━━━\u001b[0m\u001b[37m\u001b[0m \u001b[1m10s\u001b[0m 4ms/step - accuracy: 0.9923 - loss: 0.0269 - val_accuracy: 0.9898 - val_loss: 0.0523\n",
            "Epoch 12/25\n",
            "\u001b[1m1875/1875\u001b[0m \u001b[32m━━━━━━━━━━━━━━━━━━━━\u001b[0m\u001b[37m\u001b[0m \u001b[1m10s\u001b[0m 4ms/step - accuracy: 0.9941 - loss: 0.0209 - val_accuracy: 0.9899 - val_loss: 0.0546\n",
            "Epoch 13/25\n",
            "\u001b[1m1875/1875\u001b[0m \u001b[32m━━━━━━━━━━━━━━━━━━━━\u001b[0m\u001b[37m\u001b[0m \u001b[1m10s\u001b[0m 3ms/step - accuracy: 0.9942 - loss: 0.0214 - val_accuracy: 0.9902 - val_loss: 0.0516\n",
            "Epoch 14/25\n",
            "\u001b[1m1875/1875\u001b[0m \u001b[32m━━━━━━━━━━━━━━━━━━━━\u001b[0m\u001b[37m\u001b[0m \u001b[1m10s\u001b[0m 3ms/step - accuracy: 0.9948 - loss: 0.0203 - val_accuracy: 0.9897 - val_loss: 0.0551\n",
            "Epoch 15/25\n",
            "\u001b[1m1875/1875\u001b[0m \u001b[32m━━━━━━━━━━━━━━━━━━━━\u001b[0m\u001b[37m\u001b[0m \u001b[1m10s\u001b[0m 3ms/step - accuracy: 0.9952 - loss: 0.0165 - val_accuracy: 0.9911 - val_loss: 0.0477\n",
            "Epoch 16/25\n",
            "\u001b[1m1875/1875\u001b[0m \u001b[32m━━━━━━━━━━━━━━━━━━━━\u001b[0m\u001b[37m\u001b[0m \u001b[1m10s\u001b[0m 3ms/step - accuracy: 0.9945 - loss: 0.0193 - val_accuracy: 0.9880 - val_loss: 0.0598\n",
            "Epoch 17/25\n",
            "\u001b[1m1875/1875\u001b[0m \u001b[32m━━━━━━━━━━━━━━━━━━━━\u001b[0m\u001b[37m\u001b[0m \u001b[1m7s\u001b[0m 4ms/step - accuracy: 0.9955 - loss: 0.0159 - val_accuracy: 0.9904 - val_loss: 0.0574\n",
            "Epoch 18/25\n",
            "\u001b[1m1875/1875\u001b[0m \u001b[32m━━━━━━━━━━━━━━━━━━━━\u001b[0m\u001b[37m\u001b[0m \u001b[1m10s\u001b[0m 4ms/step - accuracy: 0.9962 - loss: 0.0139 - val_accuracy: 0.9896 - val_loss: 0.0572\n",
            "Epoch 19/25\n",
            "\u001b[1m1875/1875\u001b[0m \u001b[32m━━━━━━━━━━━━━━━━━━━━\u001b[0m\u001b[37m\u001b[0m \u001b[1m10s\u001b[0m 3ms/step - accuracy: 0.9963 - loss: 0.0135 - val_accuracy: 0.9895 - val_loss: 0.0570\n",
            "Epoch 20/25\n",
            "\u001b[1m1875/1875\u001b[0m \u001b[32m━━━━━━━━━━━━━━━━━━━━\u001b[0m\u001b[37m\u001b[0m \u001b[1m10s\u001b[0m 3ms/step - accuracy: 0.9966 - loss: 0.0123 - val_accuracy: 0.9913 - val_loss: 0.0526\n",
            "Epoch 21/25\n",
            "\u001b[1m1875/1875\u001b[0m \u001b[32m━━━━━━━━━━━━━━━━━━━━\u001b[0m\u001b[37m\u001b[0m \u001b[1m7s\u001b[0m 4ms/step - accuracy: 0.9965 - loss: 0.0135 - val_accuracy: 0.9914 - val_loss: 0.0604\n",
            "Epoch 22/25\n",
            "\u001b[1m1875/1875\u001b[0m \u001b[32m━━━━━━━━━━━━━━━━━━━━\u001b[0m\u001b[37m\u001b[0m \u001b[1m10s\u001b[0m 4ms/step - accuracy: 0.9968 - loss: 0.0117 - val_accuracy: 0.9913 - val_loss: 0.0646\n",
            "Epoch 23/25\n",
            "\u001b[1m1875/1875\u001b[0m \u001b[32m━━━━━━━━━━━━━━━━━━━━\u001b[0m\u001b[37m\u001b[0m \u001b[1m10s\u001b[0m 4ms/step - accuracy: 0.9970 - loss: 0.0113 - val_accuracy: 0.9905 - val_loss: 0.0615\n",
            "Epoch 24/25\n",
            "\u001b[1m1875/1875\u001b[0m \u001b[32m━━━━━━━━━━━━━━━━━━━━\u001b[0m\u001b[37m\u001b[0m \u001b[1m7s\u001b[0m 4ms/step - accuracy: 0.9964 - loss: 0.0128 - val_accuracy: 0.9906 - val_loss: 0.0682\n",
            "Epoch 25/25\n",
            "\u001b[1m1875/1875\u001b[0m \u001b[32m━━━━━━━━━━━━━━━━━━━━\u001b[0m\u001b[37m\u001b[0m \u001b[1m7s\u001b[0m 4ms/step - accuracy: 0.9969 - loss: 0.0104 - val_accuracy: 0.9904 - val_loss: 0.0733\n",
            "Dropout (FC1_Only_Rate0.5) - Test Accuracy: 99.04%\n",
            "Dropout (FC1_Only_Rate0.5) - Training Time: 224.09 seconds\n",
            "\n",
            "Training with Dropout Config: Pool1_and_FC1_Rate0.5, Rate: 0.5, Positions: {'after_pool1': 0.5, 'after_fc1': 0.5}\n",
            "Epoch 1/25\n",
            "\u001b[1m1875/1875\u001b[0m \u001b[32m━━━━━━━━━━━━━━━━━━━━\u001b[0m\u001b[37m\u001b[0m \u001b[1m10s\u001b[0m 4ms/step - accuracy: 0.8861 - loss: 0.3654 - val_accuracy: 0.9793 - val_loss: 0.0632\n",
            "Epoch 2/25\n",
            "\u001b[1m1875/1875\u001b[0m \u001b[32m━━━━━━━━━━━━━━━━━━━━\u001b[0m\u001b[37m\u001b[0m \u001b[1m7s\u001b[0m 3ms/step - accuracy: 0.9689 - loss: 0.1036 - val_accuracy: 0.9845 - val_loss: 0.0479\n",
            "Epoch 3/25\n",
            "\u001b[1m1875/1875\u001b[0m \u001b[32m━━━━━━━━━━━━━━━━━━━━\u001b[0m\u001b[37m\u001b[0m \u001b[1m7s\u001b[0m 4ms/step - accuracy: 0.9749 - loss: 0.0826 - val_accuracy: 0.9833 - val_loss: 0.0517\n",
            "Epoch 4/25\n",
            "\u001b[1m1875/1875\u001b[0m \u001b[32m━━━━━━━━━━━━━━━━━━━━\u001b[0m\u001b[37m\u001b[0m \u001b[1m10s\u001b[0m 4ms/step - accuracy: 0.9782 - loss: 0.0738 - val_accuracy: 0.9879 - val_loss: 0.0403\n",
            "Epoch 5/25\n",
            "\u001b[1m1875/1875\u001b[0m \u001b[32m━━━━━━━━━━━━━━━━━━━━\u001b[0m\u001b[37m\u001b[0m \u001b[1m6s\u001b[0m 3ms/step - accuracy: 0.9777 - loss: 0.0751 - val_accuracy: 0.9852 - val_loss: 0.0501\n",
            "Epoch 6/25\n",
            "\u001b[1m1875/1875\u001b[0m \u001b[32m━━━━━━━━━━━━━━━━━━━━\u001b[0m\u001b[37m\u001b[0m \u001b[1m11s\u001b[0m 4ms/step - accuracy: 0.9808 - loss: 0.0640 - val_accuracy: 0.9899 - val_loss: 0.0334\n",
            "Epoch 7/25\n",
            "\u001b[1m1875/1875\u001b[0m \u001b[32m━━━━━━━━━━━━━━━━━━━━\u001b[0m\u001b[37m\u001b[0m \u001b[1m10s\u001b[0m 3ms/step - accuracy: 0.9831 - loss: 0.0580 - val_accuracy: 0.9894 - val_loss: 0.0352\n",
            "Epoch 8/25\n",
            "\u001b[1m1875/1875\u001b[0m \u001b[32m━━━━━━━━━━━━━━━━━━━━\u001b[0m\u001b[37m\u001b[0m \u001b[1m13s\u001b[0m 5ms/step - accuracy: 0.9830 - loss: 0.0584 - val_accuracy: 0.9879 - val_loss: 0.0415\n",
            "Epoch 9/25\n",
            "\u001b[1m1875/1875\u001b[0m \u001b[32m━━━━━━━━━━━━━━━━━━━━\u001b[0m\u001b[37m\u001b[0m \u001b[1m7s\u001b[0m 4ms/step - accuracy: 0.9840 - loss: 0.0523 - val_accuracy: 0.9885 - val_loss: 0.0373\n",
            "Epoch 10/25\n",
            "\u001b[1m1875/1875\u001b[0m \u001b[32m━━━━━━━━━━━━━━━━━━━━\u001b[0m\u001b[37m\u001b[0m \u001b[1m10s\u001b[0m 4ms/step - accuracy: 0.9845 - loss: 0.0548 - val_accuracy: 0.9896 - val_loss: 0.0327\n",
            "Epoch 11/25\n",
            "\u001b[1m1875/1875\u001b[0m \u001b[32m━━━━━━━━━━━━━━━━━━━━\u001b[0m\u001b[37m\u001b[0m \u001b[1m13s\u001b[0m 5ms/step - accuracy: 0.9843 - loss: 0.0549 - val_accuracy: 0.9887 - val_loss: 0.0387\n",
            "Epoch 12/25\n",
            "\u001b[1m1875/1875\u001b[0m \u001b[32m━━━━━━━━━━━━━━━━━━━━\u001b[0m\u001b[37m\u001b[0m \u001b[1m6s\u001b[0m 3ms/step - accuracy: 0.9855 - loss: 0.0501 - val_accuracy: 0.9893 - val_loss: 0.0356\n",
            "Epoch 13/25\n",
            "\u001b[1m1875/1875\u001b[0m \u001b[32m━━━━━━━━━━━━━━━━━━━━\u001b[0m\u001b[37m\u001b[0m \u001b[1m11s\u001b[0m 4ms/step - accuracy: 0.9864 - loss: 0.0488 - val_accuracy: 0.9908 - val_loss: 0.0352\n",
            "Epoch 14/25\n",
            "\u001b[1m1875/1875\u001b[0m \u001b[32m━━━━━━━━━━━━━━━━━━━━\u001b[0m\u001b[37m\u001b[0m \u001b[1m7s\u001b[0m 4ms/step - accuracy: 0.9859 - loss: 0.0479 - val_accuracy: 0.9906 - val_loss: 0.0331\n",
            "Epoch 15/25\n",
            "\u001b[1m1875/1875\u001b[0m \u001b[32m━━━━━━━━━━━━━━━━━━━━\u001b[0m\u001b[37m\u001b[0m \u001b[1m10s\u001b[0m 3ms/step - accuracy: 0.9862 - loss: 0.0500 - val_accuracy: 0.9902 - val_loss: 0.0364\n",
            "Epoch 16/25\n",
            "\u001b[1m1875/1875\u001b[0m \u001b[32m━━━━━━━━━━━━━━━━━━━━\u001b[0m\u001b[37m\u001b[0m \u001b[1m11s\u001b[0m 4ms/step - accuracy: 0.9879 - loss: 0.0448 - val_accuracy: 0.9905 - val_loss: 0.0367\n",
            "Epoch 17/25\n",
            "\u001b[1m1875/1875\u001b[0m \u001b[32m━━━━━━━━━━━━━━━━━━━━\u001b[0m\u001b[37m\u001b[0m \u001b[1m7s\u001b[0m 4ms/step - accuracy: 0.9872 - loss: 0.0423 - val_accuracy: 0.9901 - val_loss: 0.0361\n",
            "Epoch 18/25\n",
            "\u001b[1m1875/1875\u001b[0m \u001b[32m━━━━━━━━━━━━━━━━━━━━\u001b[0m\u001b[37m\u001b[0m \u001b[1m10s\u001b[0m 4ms/step - accuracy: 0.9871 - loss: 0.0448 - val_accuracy: 0.9904 - val_loss: 0.0336\n",
            "Epoch 19/25\n",
            "\u001b[1m1875/1875\u001b[0m \u001b[32m━━━━━━━━━━━━━━━━━━━━\u001b[0m\u001b[37m\u001b[0m \u001b[1m9s\u001b[0m 3ms/step - accuracy: 0.9878 - loss: 0.0441 - val_accuracy: 0.9904 - val_loss: 0.0360\n",
            "Epoch 20/25\n",
            "\u001b[1m1875/1875\u001b[0m \u001b[32m━━━━━━━━━━━━━━━━━━━━\u001b[0m\u001b[37m\u001b[0m \u001b[1m10s\u001b[0m 3ms/step - accuracy: 0.9887 - loss: 0.0430 - val_accuracy: 0.9871 - val_loss: 0.0551\n",
            "Epoch 21/25\n",
            "\u001b[1m1875/1875\u001b[0m \u001b[32m━━━━━━━━━━━━━━━━━━━━\u001b[0m\u001b[37m\u001b[0m \u001b[1m10s\u001b[0m 3ms/step - accuracy: 0.9885 - loss: 0.0405 - val_accuracy: 0.9900 - val_loss: 0.0394\n",
            "Epoch 22/25\n",
            "\u001b[1m1875/1875\u001b[0m \u001b[32m━━━━━━━━━━━━━━━━━━━━\u001b[0m\u001b[37m\u001b[0m \u001b[1m7s\u001b[0m 4ms/step - accuracy: 0.9885 - loss: 0.0403 - val_accuracy: 0.9910 - val_loss: 0.0360\n",
            "Epoch 23/25\n",
            "\u001b[1m1875/1875\u001b[0m \u001b[32m━━━━━━━━━━━━━━━━━━━━\u001b[0m\u001b[37m\u001b[0m \u001b[1m10s\u001b[0m 4ms/step - accuracy: 0.9899 - loss: 0.0367 - val_accuracy: 0.9907 - val_loss: 0.0387\n",
            "Epoch 24/25\n",
            "\u001b[1m1875/1875\u001b[0m \u001b[32m━━━━━━━━━━━━━━━━━━━━\u001b[0m\u001b[37m\u001b[0m \u001b[1m6s\u001b[0m 3ms/step - accuracy: 0.9887 - loss: 0.0423 - val_accuracy: 0.9894 - val_loss: 0.0396\n",
            "Epoch 25/25\n",
            "\u001b[1m1875/1875\u001b[0m \u001b[32m━━━━━━━━━━━━━━━━━━━━\u001b[0m\u001b[37m\u001b[0m \u001b[1m7s\u001b[0m 4ms/step - accuracy: 0.9897 - loss: 0.0368 - val_accuracy: 0.9911 - val_loss: 0.0389\n",
            "Dropout (Pool1_and_FC1_Rate0.5) - Test Accuracy: 99.11%\n",
            "Dropout (Pool1_and_FC1_Rate0.5) - Training Time: 226.63 seconds\n"
          ]
        }
      ],
      "source": [
        "# Part 2: Test Dropout with the best optimizer\n",
        "print(f\"\\nTesting Dropout with Optimizer: {best_optimizer_name}\")\n",
        "\n",
        "dropout_rate_options = [0.25, 0.5]  # Try 2 rates < 0.85\n",
        "# Define 2 positions: e.g., after first max pooling, and after first (if any) hidden dense layer.\n",
        "# If no hidden FC layer in chosen_fc_config, dropout 'after_fc1' won't apply or needs adjustment.\n",
        "\n",
        "dropout_position_configs_to_test = []\n",
        "# Config 1: Dropout after Pool1 only\n",
        "dropout_position_configs_to_test.append(\n",
        "    # Placeholder for rates\n",
        "    ('Pool1_Only', {'after_pool1': 0.0, 'after_fc1': 0.0}))\n",
        "# Config 2: Dropout after FC1 only (if FC1 exists)\n",
        "if chosen_fc_config:  # Only if there is a hidden FC layer\n",
        "  dropout_position_configs_to_test.append(\n",
        "      ('FC1_Only', {'after_pool1': 0.0, 'after_fc1': 0.0}))\n",
        "# Config 3: Dropout at both positions (if FC1 exists)\n",
        "if chosen_fc_config:\n",
        "  dropout_position_configs_to_test.append(\n",
        "      ('Pool1_and_FC1', {'after_pool1': 0.0, 'after_fc1': 0.0}))\n",
        "\n",
        "if not chosen_fc_config and not any('FC1' in name for name, _ in dropout_position_configs_to_test):\n",
        "  print(\"No hidden FC layers in the chosen architecture. Dropout will only be tested after pooling.\")\n",
        "  # If chosen_fc_config is empty, FC1_Only and Pool1_and_FC1 might not be applicable in the current simple setup.\n",
        "  # We ensure at least one dropout strategy is tested. If only pool dropout is possible:\n",
        "  if not dropout_position_configs_to_test:\n",
        "    dropout_position_configs_to_test.append(\n",
        "        ('Pool1_Only', {'after_pool1': 0.0, 'after_fc1': 0.0}))\n",
        "\n",
        "results_dropout_tuning = []\n",
        "best_dropout_config_name = 'None'\n",
        "# Initialize with no-dropout accuracy\n",
        "best_dropout_accuracy = best_optimizer_accuracy\n",
        "final_dropout_config_for_model = None\n",
        "\n",
        "for rate in dropout_rate_options:\n",
        "  for config_name, base_config_template in dropout_position_configs_to_test:\n",
        "    current_dropout_config = {}\n",
        "    full_config_name = f\"{config_name}_Rate{rate}\"\n",
        "\n",
        "    if 'Pool1' in config_name:  # Apply rate to after_pool1 if this config name suggests it\n",
        "      current_dropout_config['after_pool1'] = rate\n",
        "    else:\n",
        "      # Default to no dropout if not specified for this position\n",
        "      current_dropout_config['after_pool1'] = 0.0\n",
        "\n",
        "    if 'FC1' in config_name and chosen_fc_config:  # Apply rate to after_fc1 if specified and FC layer exists\n",
        "      current_dropout_config['after_fc1'] = rate\n",
        "    else:\n",
        "      # Default to no dropout or if no FC layer\n",
        "      current_dropout_config['after_fc1'] = 0.0\n",
        "\n",
        "    # Skip if this combination results in no dropout, unless it's the baseline to compare against\n",
        "    if current_dropout_config.get('after_pool1', 0.0) == 0.0 and current_dropout_config.get('after_fc1', 0.0) == 0.0:\n",
        "      print(f\"Skipping {full_config_name} as it results in no dropout layers.\")\n",
        "      continue\n",
        "\n",
        "    print(\n",
        "        f\"\\nTraining with Dropout Config: {full_config_name}, Rate: {rate}, Positions: {current_dropout_config}\")\n",
        "    model_dropout = create_cnn_model_for_step6(chosen_conv_config,\n",
        "                                               chosen_fc_config,\n",
        "                                               final_activation,\n",
        "                                               best_optimizer_name,\n",
        "                                               dropout_configs=current_dropout_config)\n",
        "\n",
        "    # model_dropout.summary() # Optional: view summary for each dropout config\n",
        "\n",
        "    start_time_dropout_train = time.time()\n",
        "    history_dropout = model_dropout.fit(x_train_cnn, y_train_ann,\n",
        "                                        epochs=fixed_epochs_arch,\n",
        "                                        batch_size=final_batch_size,\n",
        "                                        verbose=1,\n",
        "                                        validation_data=(\n",
        "                                            x_test_cnn, y_test_ann)\n",
        "                                        )\n",
        "    end_time_dropout_train = time.time()\n",
        "    dropout_train_time = end_time_dropout_train - start_time_dropout_train\n",
        "\n",
        "    loss_dropout, accuracy_dropout = model_dropout.evaluate(\n",
        "        x_test_cnn, y_test_ann, verbose=0)\n",
        "\n",
        "    print(\n",
        "        f\"Dropout ({full_config_name}) - Test Accuracy: {accuracy_dropout*100:.2f}%\")\n",
        "    print(\n",
        "        f\"Dropout ({full_config_name}) - Training Time: {dropout_train_time:.2f} seconds\")\n",
        "\n",
        "    # Analyze regularization: Compare train/val accuracy if history_dropout.history has 'val_accuracy' and 'accuracy'\n",
        "    # For now, just logging test accuracy.\n",
        "\n",
        "    results_dropout_tuning.append({\n",
        "        'config_name': full_config_name,\n",
        "        'dropout_map': current_dropout_config,\n",
        "        'accuracy': accuracy_dropout,\n",
        "        'train_time': dropout_train_time\n",
        "    })\n",
        "\n",
        "    if accuracy_dropout > best_dropout_accuracy:\n",
        "      best_dropout_accuracy = accuracy_dropout\n",
        "      best_dropout_config_name = full_config_name\n",
        "      final_dropout_config_for_model = current_dropout_config"
      ]
    },
    {
      "cell_type": "code",
      "execution_count": 48,
      "id": "4bf5c9f1",
      "metadata": {
        "id": "4bf5c9f1",
        "colab": {
          "base_uri": "https://localhost:8080/"
        },
        "outputId": "af63468d-8e44-41c0-8810-579cc74fa977"
      },
      "outputs": [
        {
          "output_type": "stream",
          "name": "stdout",
          "text": [
            "\n",
            "Best Dropout configuration: 'None' with accuracy: 99.18%\n",
            "No dropout configuration improved accuracy over the baseline optimizer.\n",
            "Finalized for Step 6 - Optimizer: rmsprop, Dropout Config: None\n"
          ]
        }
      ],
      "source": [
        "print(\n",
        "    f\"\\nBest Dropout configuration: '{best_dropout_config_name}' with accuracy: {best_dropout_accuracy*100:.2f}%\")\n",
        "if final_dropout_config_for_model:\n",
        "  print(f\"Selected dropout parameters: {final_dropout_config_for_model}\")\n",
        "else:\n",
        "  print(\"No dropout configuration improved accuracy over the baseline optimizer.\")\n",
        "\n",
        "# Final choices for this step\n",
        "final_optimizer_name = best_optimizer_name\n",
        "# This *will be None if no dropout was better\n",
        "final_dropout_settings = final_dropout_config_for_model\n",
        "\n",
        "print(\n",
        "    f\"Finalized for Step 6 - Optimizer: {final_optimizer_name}, Dropout Config: {final_dropout_settings}\")"
      ]
    },
    {
      "cell_type": "code",
      "source": [
        "# 1. Visualization for Optimizers - Test Accuracy and Training Time\n",
        "optimizer_names = ['sgd', 'adam', 'rmsprop']\n",
        "optimizer_accuracies = [result['accuracy'] for result in results_optimizer_tuning]\n",
        "optimizer_train_times = [result['train_time'] for result in results_optimizer_tuning]\n",
        "\n",
        "plt.figure(figsize=(12, 6))\n",
        "\n",
        "plt.subplot(1, 2, 1)\n",
        "plt.bar(optimizer_names, optimizer_accuracies, color=['blue', 'green', 'red'])\n",
        "plt.xlabel('Optimizer')\n",
        "plt.ylabel('Test Accuracy (%)')\n",
        "plt.title('Comparison of Test Accuracy with Different Optimizers')\n",
        "\n",
        "plt.subplot(1, 2, 2)\n",
        "plt.bar(optimizer_names, optimizer_train_times, color=['blue', 'green', 'red'])\n",
        "plt.xlabel('Optimizer')\n",
        "plt.ylabel('Training Time (seconds)')\n",
        "plt.title('Comparison of Training Time with Different Optimizers')\n",
        "\n",
        "plt.tight_layout()\n",
        "plt.show()\n",
        "\n",
        "\n",
        "# 2. Visualization for Dropout Configurations - Test Accuracy and Training Time\n",
        "dropout_configs = [result['config_name'] for result in results_dropout_tuning]\n",
        "dropout_accuracies = [result['accuracy'] for result in results_dropout_tuning]\n",
        "dropout_train_times = [result['train_time'] for result in results_dropout_tuning]\n",
        "\n",
        "plt.figure(figsize=(12, 6))\n",
        "\n",
        "plt.subplot(1, 2, 1)\n",
        "plt.bar(dropout_configs, dropout_accuracies, color=['purple', 'orange', 'cyan'])\n",
        "plt.xlabel('Dropout Configuration')\n",
        "plt.ylabel('Test Accuracy (%)')\n",
        "plt.title('Comparison of Test Accuracy with Different Dropout Configurations')\n",
        "\n",
        "plt.subplot(1, 2, 2)\n",
        "plt.bar(dropout_configs, dropout_train_times, color=['purple', 'orange', 'cyan'])\n",
        "plt.xlabel('Dropout Configuration')\n",
        "plt.ylabel('Training Time (seconds)')\n",
        "plt.title('Comparison of Training Time with Different Dropout Configurations')\n",
        "\n",
        "plt.tight_layout()\n",
        "plt.show()\n"
      ],
      "metadata": {
        "colab": {
          "base_uri": "https://localhost:8080/",
          "height": 1000
        },
        "id": "cuFfRwIQ7MCP",
        "outputId": "b99cccf9-d6e1-4c70-bcbe-27fe85c4b6c3"
      },
      "id": "cuFfRwIQ7MCP",
      "execution_count": 49,
      "outputs": [
        {
          "output_type": "display_data",
          "data": {
            "text/plain": [
              "<Figure size 1200x600 with 2 Axes>"
            ],
            "image/png": "[encoded data removed]"
          },
          "metadata": {}
        },
        {
          "output_type": "display_data",
          "data": {
            "text/plain": [
              "<Figure size 1200x600 with 2 Axes>"
            ],
            "image/png": "[encoded data removed]"
          },
          "metadata": {}
        }
      ]
    },
    {
      "cell_type": "markdown",
      "id": "5ef3d480",
      "metadata": {
        "id": "5ef3d480"
      },
      "source": [
        "## Step 7: Final Model & Report Writing\n",
        "- Choose best overall model\n",
        "- Document why it's best (final analysis)\n",
        "- Start report (Word format first)\n",
        "- Add graphs, stats, insights\n",
        "- Ensure all members can run the notebook independently"
      ]
    },
    {
      "cell_type": "code",
      "execution_count": 50,
      "id": "3aa339a5",
      "metadata": {
        "id": "3aa339a5",
        "colab": {
          "base_uri": "https://localhost:8080/",
          "height": 1000
        },
        "outputId": "3730f76a-ee0a-42c9-a4a0-b11d6c1cae05"
      },
      "outputs": [
        {
          "output_type": "stream",
          "name": "stdout",
          "text": [
            "\n",
            "--- Step 7: Final Model & Report Writing ---\n",
            "\n",
            "--- Final Model Configuration --- \n",
            "Convolutional Layers Config: [(32, (3, 3)), (64, (3, 3))]\n",
            "Fully Connected Layers Config: [128]\n",
            "Epochs: 25\n",
            "Batch Size: 32\n",
            "Activation Function: elu\n",
            "Optimizer: rmsprop\n",
            "Dropout Configuration: No Dropout\n",
            "\n",
            "Building and training the final model...\n"
          ]
        },
        {
          "output_type": "display_data",
          "data": {
            "text/plain": [
              "\u001b[1mModel: \"sequential_30\"\u001b[0m\n"
            ],
            "text/html": [
              "<pre style=\"white-space:pre;overflow-x:auto;line-height:normal;font-family:Menlo,'DejaVu Sans Mono',consolas,'Courier New',monospace\"><span style=\"font-weight: bold\">Model: \"sequential_30\"</span>\n",
              "</pre>\n"
            ]
          },
          "metadata": {}
        },
        {
          "output_type": "display_data",
          "data": {
            "text/plain": [
              "┏━━━━━━━━━━━━━━━━━━━━━━━━━━━━━━━━━┳━━━━━━━━━━━━━━━━━━━━━━━━┳━━━━━━━━━━━━━━━┓\n",
              "┃\u001b[1m \u001b[0m\u001b[1mLayer (type)                   \u001b[0m\u001b[1m \u001b[0m┃\u001b[1m \u001b[0m\u001b[1mOutput Shape          \u001b[0m\u001b[1m \u001b[0m┃\u001b[1m \u001b[0m\u001b[1m      Param #\u001b[0m\u001b[1m \u001b[0m┃\n",
              "┡━━━━━━━━━━━━━━━━━━━━━━━━━━━━━━━━━╇━━━━━━━━━━━━━━━━━━━━━━━━╇━━━━━━━━━━━━━━━┩\n",
              "│ conv2d_64 (\u001b[38;5;33mConv2D\u001b[0m)              │ (\u001b[38;5;45mNone\u001b[0m, \u001b[38;5;34m26\u001b[0m, \u001b[38;5;34m26\u001b[0m, \u001b[38;5;34m32\u001b[0m)     │           \u001b[38;5;34m320\u001b[0m │\n",
              "├─────────────────────────────────┼────────────────────────┼───────────────┤\n",
              "│ max_pooling2d_57 (\u001b[38;5;33mMaxPooling2D\u001b[0m) │ (\u001b[38;5;45mNone\u001b[0m, \u001b[38;5;34m13\u001b[0m, \u001b[38;5;34m13\u001b[0m, \u001b[38;5;34m32\u001b[0m)     │             \u001b[38;5;34m0\u001b[0m │\n",
              "├─────────────────────────────────┼────────────────────────┼───────────────┤\n",
              "│ conv2d_65 (\u001b[38;5;33mConv2D\u001b[0m)              │ (\u001b[38;5;45mNone\u001b[0m, \u001b[38;5;34m11\u001b[0m, \u001b[38;5;34m11\u001b[0m, \u001b[38;5;34m64\u001b[0m)     │        \u001b[38;5;34m18,496\u001b[0m │\n",
              "├─────────────────────────────────┼────────────────────────┼───────────────┤\n",
              "│ max_pooling2d_58 (\u001b[38;5;33mMaxPooling2D\u001b[0m) │ (\u001b[38;5;45mNone\u001b[0m, \u001b[38;5;34m5\u001b[0m, \u001b[38;5;34m5\u001b[0m, \u001b[38;5;34m64\u001b[0m)       │             \u001b[38;5;34m0\u001b[0m │\n",
              "├─────────────────────────────────┼────────────────────────┼───────────────┤\n",
              "│ flatten_30 (\u001b[38;5;33mFlatten\u001b[0m)            │ (\u001b[38;5;45mNone\u001b[0m, \u001b[38;5;34m1600\u001b[0m)           │             \u001b[38;5;34m0\u001b[0m │\n",
              "├─────────────────────────────────┼────────────────────────┼───────────────┤\n",
              "│ dense_53 (\u001b[38;5;33mDense\u001b[0m)                │ (\u001b[38;5;45mNone\u001b[0m, \u001b[38;5;34m128\u001b[0m)            │       \u001b[38;5;34m204,928\u001b[0m │\n",
              "├─────────────────────────────────┼────────────────────────┼───────────────┤\n",
              "│ dense_54 (\u001b[38;5;33mDense\u001b[0m)                │ (\u001b[38;5;45mNone\u001b[0m, \u001b[38;5;34m10\u001b[0m)             │         \u001b[38;5;34m1,290\u001b[0m │\n",
              "└─────────────────────────────────┴────────────────────────┴───────────────┘\n"
            ],
            "text/html": [
              "<pre style=\"white-space:pre;overflow-x:auto;line-height:normal;font-family:Menlo,'DejaVu Sans Mono',consolas,'Courier New',monospace\">┏━━━━━━━━━━━━━━━━━━━━━━━━━━━━━━━━━┳━━━━━━━━━━━━━━━━━━━━━━━━┳━━━━━━━━━━━━━━━┓\n",
              "┃<span style=\"font-weight: bold\"> Layer (type)                    </span>┃<span style=\"font-weight: bold\"> Output Shape           </span>┃<span style=\"font-weight: bold\">       Param # </span>┃\n",
              "┡━━━━━━━━━━━━━━━━━━━━━━━━━━━━━━━━━╇━━━━━━━━━━━━━━━━━━━━━━━━╇━━━━━━━━━━━━━━━┩\n",
              "│ conv2d_64 (<span style=\"color: #0087ff; text-decoration-color: #0087ff\">Conv2D</span>)              │ (<span style=\"color: #00d7ff; text-decoration-color: #00d7ff\">None</span>, <span style=\"color: #00af00; text-decoration-color: #00af00\">26</span>, <span style=\"color: #00af00; text-decoration-color: #00af00\">26</span>, <span style=\"color: #00af00; text-decoration-color: #00af00\">32</span>)     │           <span style=\"color: #00af00; text-decoration-color: #00af00\">320</span> │\n",
              "├─────────────────────────────────┼────────────────────────┼───────────────┤\n",
              "│ max_pooling2d_57 (<span style=\"color: #0087ff; text-decoration-color: #0087ff\">MaxPooling2D</span>) │ (<span style=\"color: #00d7ff; text-decoration-color: #00d7ff\">None</span>, <span style=\"color: #00af00; text-decoration-color: #00af00\">13</span>, <span style=\"color: #00af00; text-decoration-color: #00af00\">13</span>, <span style=\"color: #00af00; text-decoration-color: #00af00\">32</span>)     │             <span style=\"color: #00af00; text-decoration-color: #00af00\">0</span> │\n",
              "├─────────────────────────────────┼────────────────────────┼───────────────┤\n",
              "│ conv2d_65 (<span style=\"color: #0087ff; text-decoration-color: #0087ff\">Conv2D</span>)              │ (<span style=\"color: #00d7ff; text-decoration-color: #00d7ff\">None</span>, <span style=\"color: #00af00; text-decoration-color: #00af00\">11</span>, <span style=\"color: #00af00; text-decoration-color: #00af00\">11</span>, <span style=\"color: #00af00; text-decoration-color: #00af00\">64</span>)     │        <span style=\"color: #00af00; text-decoration-color: #00af00\">18,496</span> │\n",
              "├─────────────────────────────────┼────────────────────────┼───────────────┤\n",
              "│ max_pooling2d_58 (<span style=\"color: #0087ff; text-decoration-color: #0087ff\">MaxPooling2D</span>) │ (<span style=\"color: #00d7ff; text-decoration-color: #00d7ff\">None</span>, <span style=\"color: #00af00; text-decoration-color: #00af00\">5</span>, <span style=\"color: #00af00; text-decoration-color: #00af00\">5</span>, <span style=\"color: #00af00; text-decoration-color: #00af00\">64</span>)       │             <span style=\"color: #00af00; text-decoration-color: #00af00\">0</span> │\n",
              "├─────────────────────────────────┼────────────────────────┼───────────────┤\n",
              "│ flatten_30 (<span style=\"color: #0087ff; text-decoration-color: #0087ff\">Flatten</span>)            │ (<span style=\"color: #00d7ff; text-decoration-color: #00d7ff\">None</span>, <span style=\"color: #00af00; text-decoration-color: #00af00\">1600</span>)           │             <span style=\"color: #00af00; text-decoration-color: #00af00\">0</span> │\n",
              "├─────────────────────────────────┼────────────────────────┼───────────────┤\n",
              "│ dense_53 (<span style=\"color: #0087ff; text-decoration-color: #0087ff\">Dense</span>)                │ (<span style=\"color: #00d7ff; text-decoration-color: #00d7ff\">None</span>, <span style=\"color: #00af00; text-decoration-color: #00af00\">128</span>)            │       <span style=\"color: #00af00; text-decoration-color: #00af00\">204,928</span> │\n",
              "├─────────────────────────────────┼────────────────────────┼───────────────┤\n",
              "│ dense_54 (<span style=\"color: #0087ff; text-decoration-color: #0087ff\">Dense</span>)                │ (<span style=\"color: #00d7ff; text-decoration-color: #00d7ff\">None</span>, <span style=\"color: #00af00; text-decoration-color: #00af00\">10</span>)             │         <span style=\"color: #00af00; text-decoration-color: #00af00\">1,290</span> │\n",
              "└─────────────────────────────────┴────────────────────────┴───────────────┘\n",
              "</pre>\n"
            ]
          },
          "metadata": {}
        },
        {
          "output_type": "display_data",
          "data": {
            "text/plain": [
              "\u001b[1m Total params: \u001b[0m\u001b[38;5;34m225,034\u001b[0m (879.04 KB)\n"
            ],
            "text/html": [
              "<pre style=\"white-space:pre;overflow-x:auto;line-height:normal;font-family:Menlo,'DejaVu Sans Mono',consolas,'Courier New',monospace\"><span style=\"font-weight: bold\"> Total params: </span><span style=\"color: #00af00; text-decoration-color: #00af00\">225,034</span> (879.04 KB)\n",
              "</pre>\n"
            ]
          },
          "metadata": {}
        },
        {
          "output_type": "display_data",
          "data": {
            "text/plain": [
              "\u001b[1m Trainable params: \u001b[0m\u001b[38;5;34m225,034\u001b[0m (879.04 KB)\n"
            ],
            "text/html": [
              "<pre style=\"white-space:pre;overflow-x:auto;line-height:normal;font-family:Menlo,'DejaVu Sans Mono',consolas,'Courier New',monospace\"><span style=\"font-weight: bold\"> Trainable params: </span><span style=\"color: #00af00; text-decoration-color: #00af00\">225,034</span> (879.04 KB)\n",
              "</pre>\n"
            ]
          },
          "metadata": {}
        },
        {
          "output_type": "display_data",
          "data": {
            "text/plain": [
              "\u001b[1m Non-trainable params: \u001b[0m\u001b[38;5;34m0\u001b[0m (0.00 B)\n"
            ],
            "text/html": [
              "<pre style=\"white-space:pre;overflow-x:auto;line-height:normal;font-family:Menlo,'DejaVu Sans Mono',consolas,'Courier New',monospace\"><span style=\"font-weight: bold\"> Non-trainable params: </span><span style=\"color: #00af00; text-decoration-color: #00af00\">0</span> (0.00 B)\n",
              "</pre>\n"
            ]
          },
          "metadata": {}
        },
        {
          "output_type": "stream",
          "name": "stdout",
          "text": [
            "Epoch 1/25\n",
            "\u001b[1m1875/1875\u001b[0m \u001b[32m━━━━━━━━━━━━━━━━━━━━\u001b[0m\u001b[37m\u001b[0m \u001b[1m8s\u001b[0m 4ms/step - accuracy: 0.9286 - loss: 0.2322 - val_accuracy: 0.9841 - val_loss: 0.0476\n",
            "Epoch 2/25\n",
            "\u001b[1m1875/1875\u001b[0m \u001b[32m━━━━━━━━━━━━━━━━━━━━\u001b[0m\u001b[37m\u001b[0m \u001b[1m9s\u001b[0m 3ms/step - accuracy: 0.9854 - loss: 0.0505 - val_accuracy: 0.9844 - val_loss: 0.0523\n",
            "Epoch 3/25\n",
            "\u001b[1m1875/1875\u001b[0m \u001b[32m━━━━━━━━━━━━━━━━━━━━\u001b[0m\u001b[37m\u001b[0m \u001b[1m10s\u001b[0m 3ms/step - accuracy: 0.9913 - loss: 0.0288 - val_accuracy: 0.9887 - val_loss: 0.0409\n",
            "Epoch 4/25\n",
            "\u001b[1m1875/1875\u001b[0m \u001b[32m━━━━━━━━━━━━━━━━━━━━\u001b[0m\u001b[37m\u001b[0m \u001b[1m10s\u001b[0m 3ms/step - accuracy: 0.9932 - loss: 0.0226 - val_accuracy: 0.9900 - val_loss: 0.0360\n",
            "Epoch 5/25\n",
            "\u001b[1m1875/1875\u001b[0m \u001b[32m━━━━━━━━━━━━━━━━━━━━\u001b[0m\u001b[37m\u001b[0m \u001b[1m6s\u001b[0m 3ms/step - accuracy: 0.9952 - loss: 0.0157 - val_accuracy: 0.9889 - val_loss: 0.0495\n",
            "Epoch 6/25\n",
            "\u001b[1m1875/1875\u001b[0m \u001b[32m━━━━━━━━━━━━━━━━━━━━\u001b[0m\u001b[37m\u001b[0m \u001b[1m6s\u001b[0m 3ms/step - accuracy: 0.9962 - loss: 0.0136 - val_accuracy: 0.9893 - val_loss: 0.0484\n",
            "Epoch 7/25\n",
            "\u001b[1m1875/1875\u001b[0m \u001b[32m━━━━━━━━━━━━━━━━━━━━\u001b[0m\u001b[37m\u001b[0m \u001b[1m11s\u001b[0m 3ms/step - accuracy: 0.9974 - loss: 0.0074 - val_accuracy: 0.9876 - val_loss: 0.0628\n",
            "Epoch 8/25\n",
            "\u001b[1m1875/1875\u001b[0m \u001b[32m━━━━━━━━━━━━━━━━━━━━\u001b[0m\u001b[37m\u001b[0m \u001b[1m7s\u001b[0m 4ms/step - accuracy: 0.9978 - loss: 0.0074 - val_accuracy: 0.9903 - val_loss: 0.0533\n",
            "Epoch 9/25\n",
            "\u001b[1m1875/1875\u001b[0m \u001b[32m━━━━━━━━━━━━━━━━━━━━\u001b[0m\u001b[37m\u001b[0m \u001b[1m6s\u001b[0m 3ms/step - accuracy: 0.9984 - loss: 0.0051 - val_accuracy: 0.9919 - val_loss: 0.0538\n",
            "Epoch 10/25\n",
            "\u001b[1m1875/1875\u001b[0m \u001b[32m━━━━━━━━━━━━━━━━━━━━\u001b[0m\u001b[37m\u001b[0m \u001b[1m6s\u001b[0m 3ms/step - accuracy: 0.9988 - loss: 0.0037 - val_accuracy: 0.9890 - val_loss: 0.0708\n",
            "Epoch 11/25\n",
            "\u001b[1m1875/1875\u001b[0m \u001b[32m━━━━━━━━━━━━━━━━━━━━\u001b[0m\u001b[37m\u001b[0m \u001b[1m6s\u001b[0m 3ms/step - accuracy: 0.9987 - loss: 0.0036 - val_accuracy: 0.9901 - val_loss: 0.0776\n",
            "Epoch 12/25\n",
            "\u001b[1m1875/1875\u001b[0m \u001b[32m━━━━━━━━━━━━━━━━━━━━\u001b[0m\u001b[37m\u001b[0m \u001b[1m11s\u001b[0m 3ms/step - accuracy: 0.9992 - loss: 0.0030 - val_accuracy: 0.9899 - val_loss: 0.0776\n",
            "Epoch 13/25\n",
            "\u001b[1m1875/1875\u001b[0m \u001b[32m━━━━━━━━━━━━━━━━━━━━\u001b[0m\u001b[37m\u001b[0m \u001b[1m6s\u001b[0m 3ms/step - accuracy: 0.9995 - loss: 0.0016 - val_accuracy: 0.9908 - val_loss: 0.0787\n",
            "Epoch 14/25\n",
            "\u001b[1m1875/1875\u001b[0m \u001b[32m━━━━━━━━━━━━━━━━━━━━\u001b[0m\u001b[37m\u001b[0m \u001b[1m7s\u001b[0m 3ms/step - accuracy: 0.9997 - loss: 0.0011 - val_accuracy: 0.9912 - val_loss: 0.0795\n",
            "Epoch 15/25\n",
            "\u001b[1m1875/1875\u001b[0m \u001b[32m━━━━━━━━━━━━━━━━━━━━\u001b[0m\u001b[37m\u001b[0m \u001b[1m6s\u001b[0m 3ms/step - accuracy: 0.9996 - loss: 0.0015 - val_accuracy: 0.9921 - val_loss: 0.0685\n",
            "Epoch 16/25\n",
            "\u001b[1m1875/1875\u001b[0m \u001b[32m━━━━━━━━━━━━━━━━━━━━\u001b[0m\u001b[37m\u001b[0m \u001b[1m10s\u001b[0m 3ms/step - accuracy: 0.9996 - loss: 6.3145e-04 - val_accuracy: 0.9913 - val_loss: 0.0768\n",
            "Epoch 17/25\n",
            "\u001b[1m1875/1875\u001b[0m \u001b[32m━━━━━━━━━━━━━━━━━━━━\u001b[0m\u001b[37m\u001b[0m \u001b[1m7s\u001b[0m 4ms/step - accuracy: 0.9999 - loss: 3.5831e-04 - val_accuracy: 0.9922 - val_loss: 0.0779\n",
            "Epoch 18/25\n",
            "\u001b[1m1875/1875\u001b[0m \u001b[32m━━━━━━━━━━━━━━━━━━━━\u001b[0m\u001b[37m\u001b[0m \u001b[1m10s\u001b[0m 3ms/step - accuracy: 1.0000 - loss: 1.4301e-05 - val_accuracy: 0.9915 - val_loss: 0.0809\n",
            "Epoch 19/25\n",
            "\u001b[1m1875/1875\u001b[0m \u001b[32m━━━━━━━━━━━━━━━━━━━━\u001b[0m\u001b[37m\u001b[0m \u001b[1m6s\u001b[0m 3ms/step - accuracy: 1.0000 - loss: 9.3659e-06 - val_accuracy: 0.9920 - val_loss: 0.0799\n",
            "Epoch 20/25\n",
            "\u001b[1m1875/1875\u001b[0m \u001b[32m━━━━━━━━━━━━━━━━━━━━\u001b[0m\u001b[37m\u001b[0m \u001b[1m7s\u001b[0m 4ms/step - accuracy: 1.0000 - loss: 2.2712e-06 - val_accuracy: 0.9921 - val_loss: 0.0809\n",
            "Epoch 21/25\n",
            "\u001b[1m1875/1875\u001b[0m \u001b[32m━━━━━━━━━━━━━━━━━━━━\u001b[0m\u001b[37m\u001b[0m \u001b[1m6s\u001b[0m 3ms/step - accuracy: 1.0000 - loss: 4.8446e-07 - val_accuracy: 0.9920 - val_loss: 0.0822\n",
            "Epoch 22/25\n",
            "\u001b[1m1875/1875\u001b[0m \u001b[32m━━━━━━━━━━━━━━━━━━━━\u001b[0m\u001b[37m\u001b[0m \u001b[1m7s\u001b[0m 4ms/step - accuracy: 1.0000 - loss: 2.6284e-07 - val_accuracy: 0.9923 - val_loss: 0.0828\n",
            "Epoch 23/25\n",
            "\u001b[1m1875/1875\u001b[0m \u001b[32m━━━━━━━━━━━━━━━━━━━━\u001b[0m\u001b[37m\u001b[0m \u001b[1m10s\u001b[0m 3ms/step - accuracy: 1.0000 - loss: 2.6311e-07 - val_accuracy: 0.9923 - val_loss: 0.0835\n",
            "Epoch 24/25\n",
            "\u001b[1m1875/1875\u001b[0m \u001b[32m━━━━━━━━━━━━━━━━━━━━\u001b[0m\u001b[37m\u001b[0m \u001b[1m11s\u001b[0m 4ms/step - accuracy: 1.0000 - loss: 2.2985e-07 - val_accuracy: 0.9923 - val_loss: 0.0838\n",
            "Epoch 25/25\n",
            "\u001b[1m1875/1875\u001b[0m \u001b[32m━━━━━━━━━━━━━━━━━━━━\u001b[0m\u001b[37m\u001b[0m \u001b[1m10s\u001b[0m 3ms/step - accuracy: 1.0000 - loss: 2.2552e-07 - val_accuracy: 0.9922 - val_loss: 0.0839\n",
            "\n",
            "--- Final Model Performance --- \n",
            "Test Accuracy: 99.22%\n",
            "Test Loss: 0.0839\n",
            "Parameters: 225034\n",
            "Training Time: 203.19 seconds\n"
          ]
        }
      ],
      "source": [
        "print(\"\\n--- Step 7: Final Model & Report Writing ---\")\n",
        "\n",
        "# Consolidate all best parameters found:\n",
        "final_model_conv_config = chosen_conv_config\n",
        "final_model_fc_config = chosen_fc_config\n",
        "final_model_epochs = fixed_epochs_arch\n",
        "final_model_lr_sgd = fixed_lr_arch  # Relevant if SGD is the final optimizer\n",
        "final_model_batch_size = final_batch_size\n",
        "final_model_activation = final_activation\n",
        "final_model_optimizer_name = final_optimizer_name\n",
        "final_model_dropout_config = final_dropout_settings  # This can be None\n",
        "\n",
        "print(\"\\n--- Final Model Configuration --- \")\n",
        "print(f\"Convolutional Layers Config: {final_model_conv_config}\")\n",
        "print(f\"Fully Connected Layers Config: {final_model_fc_config}\")\n",
        "print(f\"Epochs: {final_model_epochs}\")\n",
        "print(f\"Batch Size: {final_model_batch_size}\")\n",
        "print(f\"Activation Function: {final_model_activation}\")\n",
        "print(f\"Optimizer: {final_model_optimizer_name}\")\n",
        "if final_model_optimizer_name == 'sgd':\n",
        "  print(f\"  SGD Learning Rate: {final_model_lr_sgd}\")\n",
        "print(\n",
        "    f\"Dropout Configuration: {final_model_dropout_config if final_model_dropout_config else 'No Dropout'}\")\n",
        "\n",
        "# Build the final model using the function from Step 6 (or a dedicated one if needed)\n",
        "# create_cnn_model_for_step6 can be reused as it handles all these parameters.\n",
        "print(\"\\nBuilding and training the final model...\")\n",
        "final_model = create_cnn_model_for_step6(conv_config=final_model_conv_config,\n",
        "                                         fc_config=final_model_fc_config,\n",
        "                                         activation=final_model_activation,\n",
        "                                         optimizer_name=final_model_optimizer_name,\n",
        "                                         dropout_configs=final_model_dropout_config)\n",
        "\n",
        "final_model.summary()\n",
        "\n",
        "start_time_final_train = time.time()\n",
        "final_history = final_model.fit(x_train_cnn, y_train_ann,\n",
        "                                epochs=final_model_epochs,\n",
        "                                batch_size=final_model_batch_size,\n",
        "                                verbose=1,\n",
        "                                # Good to see validation performance\n",
        "                                validation_data=(x_test_cnn, y_test_ann)\n",
        "                                )\n",
        "end_time_final_train = time.time()\n",
        "final_train_time = end_time_final_train - start_time_final_train\n",
        "\n",
        "final_loss, final_accuracy = final_model.evaluate(\n",
        "    x_test_cnn, y_test_ann, verbose=0)\n",
        "\n",
        "print(\"\\n--- Final Model Performance --- \")\n",
        "print(f\"Test Accuracy: {final_accuracy*100:.2f}%\")\n",
        "print(f\"Test Loss: {final_loss:.4f}\")\n",
        "print(f\"Parameters: {final_model.count_params()}\")\n",
        "print(f\"Training Time: {final_train_time:.2f} seconds\")"
      ]
    },
    {
      "cell_type": "code",
      "execution_count": 51,
      "id": "e4f4dffe",
      "metadata": {
        "id": "e4f4dffe",
        "colab": {
          "base_uri": "https://localhost:8080/"
        },
        "outputId": "221e17b7-f338-4dbb-b2ca-b551408ae91c"
      },
      "outputs": [
        {
          "output_type": "stream",
          "name": "stdout",
          "text": [
            "\n",
            "--- Final Analysis (Summary of Choices) --- \n",
            "The final model configuration was determined through a step-by-step tuning process:\n",
            "1. Baseline models (ANN & SVM) established initial performance benchmarks.\n",
            "2. Epoch Tuning (Step 2): A base CNN was trained for [10, 15, 20, 25] epochs, and 25 epochs was chosen.\n",
            "3. Learning Rate Testing (Step 3): For SGD, LRs [0.01, 0.001, 0.0001] were tested; 0.01 was chosen.\n",
            "4. Model Architecture Variation (Step 4): Various Conv/FC layer combinations were tested. \n",
            "   The chosen architecture (2Conv_1HiddenFC_128) aimed for high accuracy with reasonable parameters.\n",
            "5. Batch Sizes & Activations (Step 5): Batch sizes [32, 128, 192] were tested, leading to 32. \n",
            "   Activations ['relu', 'sigmoid', 'tanh', 'elu'] were tested, leading to 'elu'.\n",
            "6. Optimizers & Dropout (Step 6): Optimizers ['sgd', 'adam', 'rmsprop'] were tested. 'rmsprop' was chosen.\n",
            "   Dropout was tested but did not yield improvement over the model without it for the chosen optimizer.\n",
            "This systematic approach helps in isolating the impact of each hyperparameter set.\n",
            "The final model represents the best configuration found through this specific sequence of tests.\n",
            "Further improvements could potentially be found with more extensive grid searches, different parameter ranges, or more advanced techniques.\n",
            "\n",
            "--- End of MNIST Exeploration Project Implementation ---\n"
          ]
        }
      ],
      "source": [
        "print(\"\\n--- Final Analysis (Summary of Choices) --- \")\n",
        "print(\"The final model configuration was determined through a step-by-step tuning process:\")\n",
        "print(f\"1. Baseline models (ANN & SVM) established initial performance benchmarks.\")\n",
        "print(\n",
        "    f\"2. Epoch Tuning (Step 2): A base CNN was trained for {epoch_options} epochs, and {best_epoch_cnn} epochs was chosen.\")\n",
        "print(\n",
        "    f\"3. Learning Rate Testing (Step 3): For SGD, LRs {learning_rate_options} were tested; {best_lr_cnn} was chosen.\")\n",
        "print(f\"4. Model Architecture Variation (Step 4): Various Conv/FC layer combinations were tested. \")\n",
        "print(\n",
        "    f\"   The chosen architecture ({best_overall_arch_config['name'] if best_overall_arch_config else 'Default/Base'}) aimed for high accuracy with reasonable parameters.\")\n",
        "print(\n",
        "    f\"5. Batch Sizes & Activations (Step 5): Batch sizes {batch_size_options} were tested, leading to {final_model_batch_size}. \")\n",
        "print(\n",
        "    f\"   Activations {activation_options} were tested, leading to '{final_model_activation}'.\")\n",
        "print(\n",
        "    f\"6. Optimizers & Dropout (Step 6): Optimizers {optimizer_options} were tested. '{final_model_optimizer_name}' was chosen.\")\n",
        "if final_model_dropout_config:\n",
        "  print(\n",
        "      f\"   Dropout was then applied ({final_model_dropout_config}), achieving the reported accuracy.\")\n",
        "else:\n",
        "  print(\"   Dropout was tested but did not yield improvement over the model without it for the chosen optimizer.\")\n",
        "print(\"This systematic approach helps in isolating the impact of each hyperparameter set.\")\n",
        "print(\"The final model represents the best configuration found through this specific sequence of tests.\")\n",
        "print(\"Further improvements could potentially be found with more extensive grid searches, different parameter ranges, or more advanced techniques.\")\n",
        "\n",
        "print(\"\\n--- End of MNIST Exeploration Project Implementation ---\")"
      ]
    },
    {
      "cell_type": "code",
      "source": [
        "import matplotlib.pyplot as plt\n",
        "\n",
        "# Accuracy plot\n",
        "plt.figure(figsize=(10, 4))\n",
        "plt.subplot(1, 2, 1)\n",
        "plt.plot(final_history.history['accuracy'], label='Train Accuracy')\n",
        "plt.plot(final_history.history['val_accuracy'], label='Val Accuracy')\n",
        "plt.title('Final Model Accuracy')\n",
        "plt.xlabel('Epochs')\n",
        "plt.ylabel('Accuracy')\n",
        "plt.legend()\n",
        "plt.grid(True)\n",
        "\n",
        "# Loss plot\n",
        "plt.subplot(1, 2, 2)\n",
        "plt.plot(final_history.history['loss'], label='Train Loss')\n",
        "plt.plot(final_history.history['val_loss'], label='Val Loss')\n",
        "plt.title('Final Model Loss')\n",
        "plt.xlabel('Epochs')\n",
        "plt.ylabel('Loss')\n",
        "plt.legend()\n",
        "plt.grid(True)\n",
        "\n",
        "plt.tight_layout()\n",
        "plt.show()\n"
      ],
      "metadata": {
        "colab": {
          "base_uri": "https://localhost:8080/",
          "height": 407
        },
        "id": "Wt6AmTtvHz22",
        "outputId": "77fc7a47-53a9-4d66-98bf-73c17532c946"
      },
      "id": "Wt6AmTtvHz22",
      "execution_count": 52,
      "outputs": [
        {
          "output_type": "display_data",
          "data": {
            "text/plain": [
              "<Figure size 1000x400 with 2 Axes>"
            ],
            "image/png": "[encoded data removed]"
          },
          "metadata": {}
        }
      ]
    }
  ],
  "metadata": {
    "jupytext": {
      "cell_metadata_filter": "-all",
      "encoding": "# -*- coding: utf-8 -*-",
      "main_language": "python",
      "notebook_metadata_filter": "-all"
    },
    "language_info": {
      "name": "python"
    },
    "colab": {
      "provenance": [],
      "gpuType": "T4",
      "include_colab_link": true
    },
    "kernelspec": {
      "name": "python3",
      "display_name": "Python 3"
    },
    "accelerator": "GPU"
  },
  "nbformat": 4,
  "nbformat_minor": 5
}